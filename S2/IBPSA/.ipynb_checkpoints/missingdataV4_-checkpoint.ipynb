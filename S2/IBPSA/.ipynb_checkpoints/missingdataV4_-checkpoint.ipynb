{
 "cells": [
  {
   "cell_type": "markdown",
   "id": "67ea5a62-939b-4608-acbc-149252663e5b",
   "metadata": {},
   "source": [
    "## read data from files netatmo"
   ]
  },
  {
   "cell_type": "code",
   "execution_count": 45,
   "id": "b9cf5b9a-5cd2-45c1-a0b3-d837ccd70323",
   "metadata": {},
   "outputs": [],
   "source": [
    "import numpy as np\n",
    "#import tensorflow as tf\n",
    "#from tensorflow import keras\n",
    "import pandas as pd\n",
    "import seaborn as sns\n",
    "from pylab import rcParams\n",
    "import matplotlib.pyplot as plt\n",
    "from matplotlib import rc\n",
    "from pandas.plotting import register_matplotlib_converters\n",
    "\n",
    "\n",
    "#!pip install wget \n",
    "import wget\n",
    "#wget.download('https://raw.githubusercontent.com/BorisMuzellec/MissingDataOT/master/utils.py')\n",
    "\n",
    "import numpy as np\n",
    "import pandas as pd\n",
    "from utils import *\n",
    "import torch\n",
    "import seaborn as sns\n",
    "\n",
    "from sklearn.model_selection import cross_val_score\n",
    "\n",
    "%matplotlib inline\n",
    "%config InlineBackend.figure_format='retina'\n",
    "\n",
    "register_matplotlib_converters()\n",
    "sns.set(style='whitegrid', palette='muted', font_scale=1.5)\n",
    "\n",
    "rcParams['figure.figsize'] = 22, 10\n",
    "\n",
    "RANDOM_SEED = 42"
   ]
  },
  {
   "cell_type": "code",
   "execution_count": 46,
   "id": "687e0074-3c00-4171-8591-f2f16fba2b66",
   "metadata": {},
   "outputs": [],
   "source": [
    "# supprimer d'abord les deux lignes dans le fichier d'export Neatatmo\n",
    "index_col=\"time\"\n",
    "data=pd.read_csv('dataCompletAvrilto18Juin.csv', sep=\";\", encoding = \"ISO-8859-1\", index_col=index_col)\n",
    "#df.to_csv('MCAR25.csv')\n",
    "# supprimer d'abord les deux lignes dans le fichier d'export Neatatmo\n",
    "index_col=\"time\"\n",
    "p=\"40.csv\"\n",
    "\n",
    "df=pd.read_csv('MCAR'+p, sep=\",\", encoding = \"ISO-8859-1\", index_col=index_col)\n",
    "mask=pd.read_csv('mask'+p, sep=\",\", encoding = \"ISO-8859-1\", index_col=index_col)\n",
    "mask=mask.values\n",
    "\n"
   ]
  },
  {
   "cell_type": "code",
   "execution_count": null,
   "id": "411e08af-6601-4055-8dc6-8599a6d09eb4",
   "metadata": {},
   "outputs": [],
   "source": [
    "X_kalman=pd.read_csv('MCAR'+p, sep=\",\", encoding = \"ISO-8859-1\")\n",
    "X_kalmanArimaImputed=pd.read_csv('kalmanArima_TRUE_MCAR'+p, sep=\",\", encoding = \"ISO-8859-1\")\n",
    "X_kalmanStructTsImputed=pd.read_csv('kalmanStructTS_TRUE_MCAR'+p, sep=\",\", encoding = \"ISO-8859-1\")\n",
    "X_kalmanArimaImputed=X_kalmanArimaImputed.set_index('time')\n",
    "X_kalmanStructTsImputed=X_kalmanStructTsImputed.set_index('time')"
   ]
  },
  {
   "cell_type": "code",
   "execution_count": 176,
   "id": "1e97bf8f-31d1-40a6-8032-c7d02ebb4eb4",
   "metadata": {},
   "outputs": [],
   "source": [
    "# Fix the seed ------------------------------------------------------\n",
    "np.random.seed(0)"
   ]
  },
  {
   "cell_type": "code",
   "execution_count": 47,
   "id": "99a4b44a-ee14-4ccf-8541-f169481388d4",
   "metadata": {},
   "outputs": [],
   "source": [
    "X = data.copy()\n",
    "X = X.drop([\"activity\"], axis=1)\n",
    "X = X.values\n"
   ]
  },
  {
   "cell_type": "code",
   "execution_count": 48,
   "id": "497d1c55-e135-4ea9-b627-cc594fa998f0",
   "metadata": {},
   "outputs": [],
   "source": [
    "from sklearn.preprocessing import StandardScaler\n",
    "scaler = StandardScaler()\n",
    "datascaler=scaler.fit(X)\n",
    "X= datascaler.transform(X)"
   ]
  },
  {
   "cell_type": "markdown",
   "id": "1b943a2d-34c3-4731-8932-3bb13bcde046",
   "metadata": {},
   "source": [
    "## Time Series Imputation Techniques"
   ]
  },
  {
   "cell_type": "code",
   "execution_count": 203,
   "id": "1d111f6a-e495-4837-8577-20289d323859",
   "metadata": {},
   "outputs": [],
   "source": [
    "### Forward Fill\n",
    "# Impute airquality DataFrame with ffill method\n",
    "\n",
    "### Forward Fill\n",
    "# Impute airquality DataFrame with ffill method\n",
    "import numpy as np\n",
    "from sklearn.impute import KNNImputer\n",
    "X1 = df.copy()\n",
    "# add time \"timpstame\" as variable \n",
    "X1[\"time\"]=X1.index\n",
    "k=2\n",
    "imputer = KNNImputer(n_neighbors=k)\n",
    "KNNimputed = imputer.fit_transform(X1)\n",
    "KNNimputed=KNNimputed[:,0:-1].copy()\n",
    "KNNimputed= pd.DataFrame(data=KNNimputed, columns=df.columns)\n",
    "KNNimputed.index = df.index\n",
    "\n",
    "ffill_imputed = df.copy(deep=True)\n",
    "ffill_imputed.fillna(method='ffill',inplace=True)\n",
    "ffill_imputed.fillna(method='bfill',inplace=True)\n",
    "\n",
    "bfill_imputed = df.copy(deep=True)\n",
    "bfill_imputed.fillna(method='bfill',inplace=True)\n",
    "bfill_imputed.fillna(method='ffill',inplace=True)\n",
    "\n",
    "quadratic_imput = df.copy(deep=True)\n",
    "quadratic_imput.interpolate(method='quadratic', inplace=True)\n",
    "quadratic_imput.fillna(method='ffill',inplace=True)\n",
    "quadratic_imput.fillna(method='bfill',inplace=True)\n",
    "\n",
    "\n",
    "nearest_imput = df.copy(deep=True)\n",
    "nearest_imput.interpolate(method='nearest', inplace=True)\n",
    "nearest_imput.fillna(method='ffill',inplace=True)\n",
    "nearest_imput.fillna(method='bfill',inplace=True)\n",
    "\n",
    "\n",
    "linear_imput=df.copy(deep=True)\n",
    "linear_imput.interpolate(method='linear', inplace=True)\n",
    "linear_imput.fillna(method='ffill',inplace=True)\n",
    "linear_imput.fillna(method='bfill',inplace=True)\n",
    "\n",
    "poly_imput=df.copy(deep=True)\n",
    "poly_imput= poly_imput.interpolate(method='polynomial', order=3)\n",
    "poly_imput.fillna(method='ffill',inplace=True)\n",
    "poly_imput.fillna(method='bfill',inplace=True)\n"
   ]
  },
  {
   "cell_type": "markdown",
   "id": "90ead8ac-2922-44ca-a54c-a4e0d39ff178",
   "metadata": {},
   "source": [
    "# Save dataFrame Imputed"
   ]
  },
  {
   "cell_type": "code",
   "execution_count": 204,
   "id": "ac5a89d9-9bc7-496a-93b8-dfec25c3c598",
   "metadata": {},
   "outputs": [
    {
     "name": "stdout",
     "output_type": "stream",
     "text": [
      "Back_fill5.csv <class 'pandas.core.frame.DataFrame'>\n",
      "Forward_fill5.csv <class 'pandas.core.frame.DataFrame'>\n",
      "Linear_Interpolation5.csv <class 'pandas.core.frame.DataFrame'>\n",
      "Quadratic_Interpolation5.csv <class 'pandas.core.frame.DataFrame'>\n",
      "Nearest_imput5.csv <class 'pandas.core.frame.DataFrame'>\n",
      "polynomial_interpolation5.csv <class 'pandas.core.frame.DataFrame'>\n",
      "KNN5.csv <class 'pandas.core.frame.DataFrame'>\n"
     ]
    }
   ],
   "source": [
    "# Create a dictionary of interpolations\n",
    "interpolations = {'Back_fill':bfill_imputed, 'Forward_fill':ffill_imputed,\n",
    "                  'Linear_Interpolation': linear_imput, 'Quadratic_Interpolation': quadratic_imput,\"Nearest_imput\":nearest_imput, \"polynomial_interpolation\":poly_imput, 'KNN': KNNimputed}\n",
    "# enregistrer les données imputéés par chaque méthode dans le dossier dataImputed\n",
    "for df_key in  interpolations:\n",
    "    print(df_key+p,type(interpolations[df_key]))\n",
    "    #interpolations[df_key].to_csv('dataImputed/'+df_key+p)\n",
    "            \n",
    "\n",
    "    "
   ]
  },
  {
   "cell_type": "code",
   "execution_count": 4,
   "id": "8cb8163d-738b-4e4b-980c-cb8f948f626c",
   "metadata": {},
   "outputs": [
    {
     "data": {
      "text/plain": [
       "(22523, 5)"
      ]
     },
     "execution_count": 4,
     "metadata": {},
     "output_type": "execute_result"
    }
   ],
   "source": [
    "df.shape"
   ]
  },
  {
   "cell_type": "code",
   "execution_count": 6,
   "id": "7f41140a-6f65-478b-b267-925f7a620ca0",
   "metadata": {},
   "outputs": [],
   "source": [
    "df2=df.copy()"
   ]
  },
  {
   "cell_type": "code",
   "execution_count": 16,
   "id": "266b4f57-9f9b-4dbe-9118-a1e9862e2ad2",
   "metadata": {},
   "outputs": [],
   "source": [
    "ff,a=lagged(df2,3)"
   ]
  },
  {
   "cell_type": "code",
   "execution_count": null,
   "id": "ec6cc5e5-ba70-494c-8833-a865dffb3d56",
   "metadata": {},
   "outputs": [],
   "source": [
    "ff"
   ]
  },
  {
   "cell_type": "code",
   "execution_count": 29,
   "id": "29ddadd7-f6d6-4c4a-b478-f98e9a003fa5",
   "metadata": {},
   "outputs": [
    {
     "name": "stdout",
     "output_type": "stream",
     "text": [
      "Index(['Temperature', 'Humidity', 'CO2', 'Noise', 'Pressure',\n",
      "       'Temperature_t-1', 'Humidity_t-1', 'CO2_t-1', 'Noise_t-1',\n",
      "       'Pressure_t-1', 'Temperature_t-2', 'Humidity_t-2', 'CO2_t-2',\n",
      "       'Noise_t-2', 'Pressure_t-2', 'Temperature_t-3', 'Humidity_t-3',\n",
      "       'CO2_t-3', 'Noise_t-3', 'Pressure_t-3'],\n",
      "      dtype='object')\n",
      "k =  1\n",
      "KNN   Temperature 0.9857066606721139\n",
      "KNN   Humidity 1.015123860497411\n",
      "KNN   CO2 0.9827315903226197\n",
      "KNN   Noise 0.9862226883888946\n",
      "KNN   Pressure 1.1208998743801555\n",
      "KNN  all  1.0195495652905011\n",
      "k =  2\n",
      "KNN   Temperature 0.8155473136958591\n",
      "KNN   Humidity 0.8405290345183061\n",
      "KNN   CO2 0.8081676025300966\n",
      "KNN   Noise 0.8672090348308141\n",
      "KNN   Pressure 0.9173167533196265\n",
      "KNN  all  0.8507701516598669\n",
      "k =  3\n",
      "KNN   Temperature 0.7249600091785547\n",
      "KNN   Humidity 0.7528745041152956\n",
      "KNN   CO2 0.7332298207725649\n",
      "KNN   Noise 0.81970585276836\n",
      "KNN   Pressure 0.8092325870988671\n",
      "KNN  all  0.7691043774698918\n",
      "k =  4\n",
      "KNN   Temperature 0.6098188907463865\n",
      "KNN   Humidity 0.6288445763090585\n",
      "KNN   CO2 0.6825471306430714\n",
      "KNN   Noise 0.797239687943719\n",
      "KNN   Pressure 0.7172101228289555\n",
      "KNN  all  0.6905039160277356\n",
      "k =  5\n",
      "KNN   Temperature 0.5715105787041279\n",
      "KNN   Humidity 0.5908408710991097\n",
      "KNN   CO2 0.6500826007365132\n",
      "KNN   Noise 0.7785191080493131\n",
      "KNN   Pressure 0.6764848680829559\n",
      "KNN  all  0.6577070689342963\n",
      "k =  6\n",
      "KNN   Temperature 0.5428526865378759\n",
      "KNN   Humidity 0.5661747318642976\n",
      "KNN   CO2 0.6282427825234348\n",
      "KNN   Noise 0.7710463753816029\n",
      "KNN   Pressure 0.6476968840258334\n",
      "KNN  all  0.6363738477323072\n",
      "k =  7\n",
      "KNN   Temperature 0.5214856659698247\n",
      "KNN   Humidity 0.5447127634799208\n",
      "KNN   CO2 0.6078575736246025\n",
      "KNN   Noise 0.7636438620104323\n",
      "KNN   Pressure 0.6251118445626578\n",
      "KNN  all  0.6185520326466297\n",
      "k =  8\n",
      "KNN   Temperature 0.5054413466588372\n",
      "KNN   Humidity 0.5290763141761661\n",
      "KNN   CO2 0.5945505058035615\n",
      "KNN   Noise 0.7600726904712585\n",
      "KNN   Pressure 0.6058944704526745\n",
      "KNN  all  0.6057567140632243\n",
      "k =  9\n",
      "KNN   Temperature 0.4920168757444635\n",
      "KNN   Humidity 0.5141907705182415\n",
      "KNN   CO2 0.5820053091229324\n",
      "KNN   Noise 0.7586876820976871\n",
      "KNN   Pressure 0.5925077052191453\n",
      "KNN  all  0.59547293469058\n"
     ]
    }
   ],
   "source": [
    "import numpy as np\n",
    "from sklearn.impute import KNNImputer\n",
    "X1 = ff.copy()\n",
    "#X1[\"time\"]=X1.index\n",
    "print(X1.columns)\n",
    "for k in range(1,10):\n",
    "    imputer = KNNImputer(n_neighbors=k)\n",
    "    KNNimputed = imputer.fit_transform(X1)\n",
    "    Ximp= KNNimputed    \n",
    "    Ximp = Ximp[:,0:-1]\n",
    "    print(\"k = \",k)\n",
    "    for i in range(5):\n",
    "        print(\"KNN\", \"  \"+str(df.columns[i]), RMSE(Ximp[:,i], X[:,i], mask[:,i]))\n",
    "    print(\"KNN\", \" all \", RMSE(Ximp[:,0:5], X,mask))"
   ]
  },
  {
   "cell_type": "code",
   "execution_count": 49,
   "id": "8cdeffc3-cf29-42c1-b146-c21451d9c83c",
   "metadata": {},
   "outputs": [
    {
     "name": "stdout",
     "output_type": "stream",
     "text": [
      "KNN 0.27809514720825185\n",
      "KNN 0.2854281387273822\n",
      "KNN 0.36124353048883373\n",
      "KNN 0.6350879480508422\n",
      "KNN 0.27973015647711974\n",
      "KNN  all  0.3929547402021163\n"
     ]
    }
   ],
   "source": [
    "Ximp=Xtrans.copy()\n",
    "for i in range(5):\n",
    "    print(\"KNN\", RMSE(Ximp[:,i], X[:,i], mask[:,i]))\n",
    "print(\"KNN\", \" all \", RMSE(Ximp[:,0:5], X,mask))"
   ]
  },
  {
   "cell_type": "code",
   "execution_count": 50,
   "id": "f02799a5-1774-45cb-8caf-8266bcc40ea8",
   "metadata": {},
   "outputs": [
    {
     "ename": "AttributeError",
     "evalue": "'numpy.ndarray' object has no attribute 'columns'",
     "output_type": "error",
     "traceback": [
      "\u001b[1;31m---------------------------------------------------------------------------\u001b[0m",
      "\u001b[1;31mAttributeError\u001b[0m                            Traceback (most recent call last)",
      "\u001b[1;32m<ipython-input-50-74460ec7535a>\u001b[0m in \u001b[0;36m<module>\u001b[1;34m\u001b[0m\n\u001b[1;32m----> 1\u001b[1;33m \u001b[0mXimp\u001b[0m\u001b[1;33m.\u001b[0m\u001b[0mcolumns\u001b[0m\u001b[1;33m\u001b[0m\u001b[1;33m\u001b[0m\u001b[0m\n\u001b[0m",
      "\u001b[1;31mAttributeError\u001b[0m: 'numpy.ndarray' object has no attribute 'columns'"
     ]
    }
   ],
   "source": [
    "Ximp.columns"
   ]
  },
  {
   "cell_type": "code",
   "execution_count": null,
   "id": "669736fc-24dc-4f91-97c9-5439bfb7c815",
   "metadata": {},
   "outputs": [],
   "source": [
    "Ximp"
   ]
  },
  {
   "cell_type": "code",
   "execution_count": 180,
   "id": "e057558c-9448-4091-a761-4f0be2a47cf2",
   "metadata": {},
   "outputs": [],
   "source": [
    "import numpy as np\n",
    "from sklearn.impute import KNNImputer\n",
    "X1 = df.copy()\n",
    "k=1100\n",
    "imputer = KNNImputer(n_neighbors=k)\n",
    "KNNimputed = imputer.fit_transform(X1)\n"
   ]
  },
  {
   "cell_type": "code",
   "execution_count": 15,
   "id": "f0d1c295-6665-4aa7-b667-61149a34f67e",
   "metadata": {},
   "outputs": [],
   "source": [
    "def lagged(df,lag=2):\n",
    "    #df=df.set_index('time')    \n",
    "    Df=[]\n",
    "    a=[]\n",
    "    for i in range(lag):\n",
    "        a.append(i)\n",
    "        df1=df.shift(i+1).copy()\n",
    "        df1=df1.add_suffix('_t-'+str(i+1))\n",
    "        Df.append(df1)\n",
    "    for base in Df:\n",
    "        df=pd.concat([df,base], axis=1)\n",
    "    \n",
    "    #df=df.drop(df.index[a])\n",
    "    return df, a "
   ]
  },
  {
   "cell_type": "code",
   "execution_count": 38,
   "id": "199477f1-0038-4eb6-94e8-02a5f288c1e5",
   "metadata": {},
   "outputs": [
    {
     "name": "stdout",
     "output_type": "stream",
     "text": [
      "Missing: 1605\n",
      "Missing: 0\n"
     ]
    }
   ],
   "source": [
    "# iterative imputation transform for the horse colic dataset\n",
    "from numpy import isnan\n",
    "from pandas import read_csv\n",
    "from sklearn.experimental import enable_iterative_imputer\n",
    "from sklearn.impute import IterativeImputer\n",
    "# load dataset\n",
    "url = 'https://raw.githubusercontent.com/jbrownlee/Datasets/master/horse-colic.csv'\n",
    "dataframe = read_csv(url, header=None, na_values='?')\n",
    "# split into input and output elements\n",
    "data = dataframe.values\n",
    "ix = [i for i in range(data.shape[1]) if i != 23]\n",
    "X, y = data[:, ix], data[:, 23]\n",
    "# print total missing\n",
    "print('Missing: %d' % sum(isnan(X).flatten()))\n",
    "# define imputer\n",
    "imputer = IterativeImputer()\n",
    "# fit on the dataset\n",
    "imputer.fit(ff)\n",
    "# transform the dataset\n",
    "Xtrans = imputer.transform(ff)\n",
    "# print total missing\n",
    "print('Missing: %d' % sum(isnan(Xtrans).flatten()))"
   ]
  },
  {
   "cell_type": "code",
   "execution_count": 54,
   "id": "ccf21ba5-4987-49b3-b3c2-368b905a67a7",
   "metadata": {},
   "outputs": [],
   "source": [
    "#!pip install autoimpute"
   ]
  },
  {
   "cell_type": "code",
   "execution_count": 58,
   "id": "7fb72022-ac48-4ff9-b9e7-407e0ca5fdf5",
   "metadata": {},
   "outputs": [
    {
     "data": {
      "text/plain": [
       "<generator object MiceImputer.transform.<locals>.<genexpr> at 0x00000207E3557270>"
      ]
     },
     "execution_count": 58,
     "metadata": {},
     "output_type": "execute_result"
    }
   ],
   "source": [
    "a"
   ]
  },
  {
   "cell_type": "code",
   "execution_count": null,
   "id": "655b90d1-75ec-4e16-ae71-7d9776114956",
   "metadata": {},
   "outputs": [],
   "source": []
  }
 ],
 "metadata": {
  "kernelspec": {
   "display_name": "Python 3",
   "language": "python",
   "name": "python3"
  },
  "language_info": {
   "codemirror_mode": {
    "name": "ipython",
    "version": 3
   },
   "file_extension": ".py",
   "mimetype": "text/x-python",
   "name": "python",
   "nbconvert_exporter": "python",
   "pygments_lexer": "ipython3",
   "version": "3.8.8"
  }
 },
 "nbformat": 4,
 "nbformat_minor": 5
}
