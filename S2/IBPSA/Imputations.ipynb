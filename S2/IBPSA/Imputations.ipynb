{
 "cells": [
  {
   "cell_type": "markdown",
   "id": "67ea5a62-939b-4608-acbc-149252663e5b",
   "metadata": {},
   "source": [
    "## Appliquer des méthodes d'imputation et enregister les dataframes imputéés"
   ]
  },
  {
   "cell_type": "code",
   "execution_count": 4,
   "id": "b9cf5b9a-5cd2-45c1-a0b3-d837ccd70323",
   "metadata": {},
   "outputs": [],
   "source": [
    "import numpy as np\n",
    "#import tensorflow as tf\n",
    "#from tensorflow import keras\n",
    "import pandas as pd\n",
    "import seaborn as sns\n",
    "from pylab import rcParams\n",
    "import matplotlib.pyplot as plt\n",
    "from matplotlib import rc\n",
    "from pandas.plotting import register_matplotlib_converters\n",
    "\n",
    "\n",
    "#!pip install wget \n",
    "import wget\n",
    "#wget.download('https://raw.githubusercontent.com/BorisMuzellec/MissingDataOT/master/utils.py')\n",
    "\n",
    "import numpy as np\n",
    "import pandas as pd\n",
    "from utils import *\n",
    "import torch\n",
    "import seaborn as sns\n",
    "\n",
    "from sklearn.model_selection import cross_val_score\n",
    "\n",
    "%matplotlib inline\n",
    "%config InlineBackend.figure_format='retina'\n",
    "\n",
    "register_matplotlib_converters()\n",
    "sns.set(style='whitegrid', palette='muted', font_scale=1.5)\n",
    "\n",
    "rcParams['figure.figsize'] = 22, 10\n",
    "\n",
    "RANDOM_SEED = 42"
   ]
  },
  {
   "cell_type": "code",
   "execution_count": 19,
   "id": "687e0074-3c00-4171-8591-f2f16fba2b66",
   "metadata": {},
   "outputs": [],
   "source": [
    "# # supprimer d'abord les deux lignes dans le fichier d'export Neatatmo\n",
    "# index_col=\"time\"\n",
    "# data=pd.read_csv('dataCompletAvrilto18Juin.csv', sep=\";\", encoding = \"ISO-8859-1\", index_col=index_col)\n",
    "# #df.to_csv('MCAR25.csv')\n",
    "# supprimer d'abord les deux lignes dans le fichier d'export Neatatmo\n",
    "index_col=\"time\"\n",
    "p=\"5.csv\"\n",
    "\n",
    "df=pd.read_csv('MCAR'+p, sep=\",\", encoding = \"ISO-8859-1\", index_col=index_col)\n",
    "mask=pd.read_csv('mask'+p, sep=\",\", encoding = \"ISO-8859-1\", index_col=index_col)\n",
    "mask=mask.values\n",
    "\n"
   ]
  },
  {
   "cell_type": "markdown",
   "id": "1b943a2d-34c3-4731-8932-3bb13bcde046",
   "metadata": {},
   "source": [
    "## Time Series Imputation Techniques"
   ]
  },
  {
   "cell_type": "code",
   "execution_count": 20,
   "id": "1d111f6a-e495-4837-8577-20289d323859",
   "metadata": {},
   "outputs": [],
   "source": [
    "### Forward Fill\n",
    "# Impute airquality DataFrame with ffill method\n",
    "\n",
    "### Forward Fill\n",
    "# Impute airquality DataFrame with ffill method\n",
    "import numpy as np\n",
    "from sklearn.impute import KNNImputer\n",
    "X1 = df.copy()\n",
    "# add time \"timpstame\" as variable \n",
    "X1[\"time\"]=X1.index\n",
    "k=2\n",
    "imputer = KNNImputer(n_neighbors=k)\n",
    "KNNimputed = imputer.fit_transform(X1)\n",
    "KNNimputed=KNNimputed[:,0:-1].copy() # supprimer la colonne time\n",
    "KNNimputed= pd.DataFrame(data=KNNimputed, columns=df.columns)\n",
    "KNNimputed.index = df.index\n",
    "\n",
    "ffill_imputed = df.copy(deep=True)\n",
    "ffill_imputed.fillna(method='ffill',inplace=True)\n",
    "ffill_imputed.fillna(method='bfill',inplace=True)\n",
    "\n",
    "bfill_imputed = df.copy(deep=True)\n",
    "bfill_imputed.fillna(method='bfill',inplace=True)\n",
    "bfill_imputed.fillna(method='ffill',inplace=True)\n",
    "\n",
    "quadratic_imput = df.copy(deep=True)\n",
    "quadratic_imput.interpolate(method='quadratic', inplace=True)\n",
    "quadratic_imput.fillna(method='ffill',inplace=True)\n",
    "quadratic_imput.fillna(method='bfill',inplace=True)\n",
    "\n",
    "\n",
    "nearest_imput = df.copy(deep=True)\n",
    "nearest_imput.interpolate(method='nearest', inplace=True)\n",
    "nearest_imput.fillna(method='ffill',inplace=True)\n",
    "nearest_imput.fillna(method='bfill',inplace=True)\n",
    "\n",
    "\n",
    "linear_imput=df.copy(deep=True)\n",
    "linear_imput.interpolate(method='linear', inplace=True)\n",
    "linear_imput.fillna(method='ffill',inplace=True)\n",
    "linear_imput.fillna(method='bfill',inplace=True)\n",
    "\n",
    "poly_imput=df.copy(deep=True)\n",
    "poly_imput= poly_imput.interpolate(method='polynomial', order=3)\n",
    "poly_imput.fillna(method='ffill',inplace=True)\n",
    "poly_imput.fillna(method='bfill',inplace=True)\n",
    "\n",
    "mean_imput = df.copy(deep=True)\n",
    "mean_imput =mean_imput.fillna(mean_imput.mean())\n",
    "\n",
    "\n",
    "\n"
   ]
  },
  {
   "cell_type": "markdown",
   "id": "90ead8ac-2922-44ca-a54c-a4e0d39ff178",
   "metadata": {},
   "source": [
    "# Save dataFrame Imputed"
   ]
  },
  {
   "cell_type": "code",
   "execution_count": 21,
   "id": "ac5a89d9-9bc7-496a-93b8-dfec25c3c598",
   "metadata": {},
   "outputs": [],
   "source": [
    "#Create a dictionary of interpolations\n",
    "interpolations = {'Back_fill':bfill_imputed, \n",
    "                  'Forward_fill':ffill_imputed,\n",
    "                  'Linear_Interpolation': linear_imput, \n",
    "                  'Quadratic_Interpolation': quadratic_imput,\n",
    "                  \"Nearest_imput\":nearest_imput, \n",
    "                  \"polynomial_interpolation\":poly_imput,\n",
    "                  'meanImputation':mean_imput,\n",
    "                  'KNN': KNNimputed}\n",
    "# enregistrer les données imputéés par chaque méthode dans le dossier dataImputed\n",
    "# interpolations = {'meanImputation':mean_imput}\n",
    "for df_key in  interpolations:\n",
    "    #print(interpolations[df_key].head(2))\n",
    "    interpolations[df_key].to_csv('dataImputed/'+df_key+p)\n",
    "            \n",
    "\n",
    "    "
   ]
  },
  {
   "cell_type": "code",
   "execution_count": 121,
   "id": "fd7187d1-7c36-42b0-b350-9583b2bb1310",
   "metadata": {},
   "outputs": [
    {
     "name": "stdout",
     "output_type": "stream",
     "text": [
      "mean   0 1.0280782741512864\n",
      "mean   1 1.0039951888402086\n",
      "mean   2 0.9988984776443648\n",
      "mean   3 1.0438501895091625\n",
      "mean   4 1.0267607456125483\n",
      "mean  all  1.0203231350042317\n"
     ]
    }
   ],
   "source": [
    "\n",
    "Ximp= mean_imput.values   \n",
    "#Ximp = Ximp[:,0:-1]\n",
    "for i in range(5):\n",
    "    print(\"mean\", \"  \"+str(i), RMSE(Ximp[:,i], X[:,i], mask[:,i]))\n",
    "print(\"mean\", \" all \", RMSE(Ximp, X,mask))"
   ]
  },
  {
   "cell_type": "code",
   "execution_count": 15,
   "id": "f0d1c295-6665-4aa7-b667-61149a34f67e",
   "metadata": {},
   "outputs": [],
   "source": [
    "def lagged(df,lag=2):\n",
    "    #df=df.set_index('time')    \n",
    "    Df=[]\n",
    "    a=[]\n",
    "    for i in range(lag):\n",
    "        a.append(i)\n",
    "        df1=df.shift(i+1).copy()\n",
    "        df1=df1.add_suffix('_t-'+str(i+1))\n",
    "        Df.append(df1)\n",
    "    for base in Df:\n",
    "        df=pd.concat([df,base], axis=1)\n",
    "    \n",
    "    #df=df.drop(df.index[a])\n",
    "    return df, a "
   ]
  }
 ],
 "metadata": {
  "kernelspec": {
   "display_name": "Python 3 (ipykernel)",
   "language": "python",
   "name": "python3"
  },
  "language_info": {
   "codemirror_mode": {
    "name": "ipython",
    "version": 3
   },
   "file_extension": ".py",
   "mimetype": "text/x-python",
   "name": "python",
   "nbconvert_exporter": "python",
   "pygments_lexer": "ipython3",
   "version": "3.9.12"
  }
 },
 "nbformat": 4,
 "nbformat_minor": 5
}
