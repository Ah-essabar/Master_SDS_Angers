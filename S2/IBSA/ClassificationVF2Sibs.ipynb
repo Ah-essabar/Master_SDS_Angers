{
 "cells": [
  {
   "cell_type": "code",
   "execution_count": 161,
   "id": "baking-ownership",
   "metadata": {},
   "outputs": [],
   "source": [
    "import numpy as np\n",
    "#import tensorflow as tf\n",
    "#from tensorflow import keras\n",
    "import pandas as pd\n",
    "import seaborn as sns\n",
    "from pylab import rcParams\n",
    "import matplotlib.pyplot as plt\n",
    "from matplotlib import rc\n",
    "from pandas.plotting import register_matplotlib_converters\n",
    "\n",
    "from sklearn.model_selection import cross_val_score\n",
    "\n",
    "%matplotlib inline\n",
    "%config InlineBackend.figure_format='retina'\n",
    "\n",
    "register_matplotlib_converters()\n",
    "sns.set(style='whitegrid', palette='muted', font_scale=1.5)\n",
    "\n",
    "rcParams['figure.figsize'] = 22, 10\n",
    "\n",
    "RANDOM_SEED = 42\n"
   ]
  },
  {
   "cell_type": "code",
   "execution_count": 162,
   "id": "accompanied-outreach",
   "metadata": {},
   "outputs": [],
   "source": [
    "data=pd.read_csv('dataCompletAvrilto18Juin.csv', sep=\";\", encoding = \"ISO-8859-1\")\n",
    "#Linky=pd.read_csv('Enedis_Conso_Heure_20210325-20210427_09311432680380.csv', sep=\";\", encoding = \"ISO-8859-1\")"
   ]
  },
  {
   "cell_type": "code",
   "execution_count": 163,
   "id": "eb0d0951-0ed5-4cf0-ac5a-1c3d3c5f44d3",
   "metadata": {},
   "outputs": [],
   "source": [
    "# Création de jour de semaine (d.isoweekday()) et l'heure de la journée (d.hour+d.minute/60) à partire de timestamp\n",
    "import datetime\n",
    "i=0\n",
    "a=[]\n",
    "Jsemaine =[]\n",
    "heure=[]\n",
    "for t in data.time:\n",
    "    d=datetime.datetime.fromtimestamp(t)\n",
    "    Jsemaine.append(d.isoweekday())\n",
    "    heure.append(d.hour+d.minute/60)"
   ]
  },
  {
   "cell_type": "code",
   "execution_count": 177,
   "id": "32bfa055-18da-4ad8-928e-252df012703f",
   "metadata": {},
   "outputs": [
    {
     "name": "stdout",
     "output_type": "stream",
     "text": [
      "Back_fill10.csv ; 0.9893443836021903 ; 0.9893418030892461\n",
      "Back_fill25.csv ; 0.9880124315524641 ; 0.9880045155604495\n",
      "Back_fill40.csv ; 0.9890483942578068 ; 0.9890353605452918\n",
      "Back_fill5.csv ; 0.9880124315524641 ; 0.9879978865029917\n",
      "Forward_fill10.csv ; 0.9894923782743821 ; 0.9894832293471373\n",
      "Forward_fill25.csv ; 0.9890483942578068 ; 0.9890437081063502\n",
      "Forward_fill40.csv ; 0.9878644368802723 ; 0.9878497858132362\n",
      "Forward_fill5.csv ; 0.9889003995856149 ; 0.9888888495057218\n",
      "kalmanArima_TRUE_MCAR10.csv ; 0.987420452863697 ; 0.9874042001029926\n",
      "kalmanArima_TRUE_MCAR25.csv ; 0.9871244635193133 ; 0.9871072208657992\n",
      "kalmanArima_TRUE_MCAR40.csv ; 0.9893443836021903 ; 0.9893322774585771\n",
      "kalmanArima_TRUE_MCAR5.csv ; 0.9880124315524641 ; 0.9880017761703663\n",
      "kalmanStructTS_TRUE_MCAR10.csv ; 0.9886044102412314 ; 0.9885981639054658\n",
      "kalmanStructTS_TRUE_MCAR25.csv ; 0.9871244635193133 ; 0.9871119449578263\n",
      "kalmanStructTS_TRUE_MCAR40.csv ; 0.9889003995856149 ; 0.9888820533267657\n",
      "kalmanStructTS_TRUE_MCAR5.csv ; 0.9884564155690395 ; 0.9884505560505287\n",
      "KNN10.csv ; 0.9865324848305461 ; 0.9865153987074294\n",
      "KNN25.csv ; 0.9872724581915051 ; 0.9872637666797714\n",
      "KNN40.csv ; 0.9894923782743821 ; 0.9894768516906558\n",
      "KNN5.csv ; 0.9872724581915051 ; 0.9872582442435343\n",
      "Linear_Interpolation10.csv ; 0.9886044102412314 ; 0.9885910980632003\n",
      "Linear_Interpolation25.csv ; 0.9866804795027379 ; 0.9866545983931875\n",
      "Linear_Interpolation40.csv ; 0.9893443836021903 ; 0.9893304018859638\n",
      "Linear_Interpolation5.csv ; 0.9894923782743821 ; 0.9894848270981127\n",
      "Nearest_imput10.csv ; 0.9862364954861625 ; 0.986218481523247\n",
      "Nearest_imput25.csv ; 0.9893443836021903 ; 0.9893349092078425\n",
      "Nearest_imput40.csv ; 0.9896403729465739 ; 0.9896349309735768\n",
      "Nearest_imput5.csv ; 0.987420452863697 ; 0.9874072267485149\n",
      "polynomial_interpolation10.csv ; 0.9859405061417789 ; 0.9859122849440299\n",
      "polynomial_interpolation25.csv ; 0.9877164422080805 ; 0.9877001587132035\n",
      "polynomial_interpolation40.csv ; 0.9846085540920527 ; 0.9845703934597426\n",
      "polynomial_interpolation5.csv ; 0.9868284741749297 ; 0.9868173740169922\n",
      "Quadratic_Interpolation10.csv ; 0.9869764688471215 ; 0.9869621823269624\n",
      "Quadratic_Interpolation25.csv ; 0.9840165754032855 ; 0.9839798733981907\n",
      "Quadratic_Interpolation40.csv ; 0.9854965221252034 ; 0.9854727649163073\n",
      "Quadratic_Interpolation5.csv ; 0.9853485274530117 ; 0.9853312301796499\n",
      "CompletData ; 0.9890483942578068 ; 0.9890445348319112\n"
     ]
    }
   ],
   "source": [
    "import os\n",
    "from sklearn.metrics import f1_score\n",
    "from sklearn.model_selection import train_test_split\n",
    "from sklearn.ensemble import RandomForestClassifier\n",
    "from sklearn.preprocessing import StandardScaler\n",
    "\n",
    "test_size=0.3\n",
    "\n",
    "scaler = StandardScaler()\n",
    "datascaler=scaler.fit(data.values[:,1:-1])\n",
    "\n",
    "list = os.listdir('dataImputed')\n",
    "for fichier in list:\n",
    "    df = pd.read_csv('dataImputed/'+fichier, sep=\",\", encoding = \"ISO-8859-1\")\n",
    "    \n",
    "    df= pd.DataFrame(datascaler.inverse_transform(df.values[:,1:]),columns=df.columns[1:])\n",
    "    \n",
    "    df[\"activity\"] = data.activity\n",
    "    df['activity'].replace(['Absent','Present'],[0,1], inplace=True)\n",
    "    df[\"JourSemaine\"]=Jsemaine\n",
    "    df[\"heureday\"]=heure\n",
    "    db2=df.copy()\n",
    "    #X=db2.drop('time', axis=1).copy()\n",
    "    X=db2.copy()\n",
    "    X=X.drop('activity', axis=1)\n",
    "    y=db2['activity']\n",
    "    X_train,X_test,y_train,y_test=train_test_split(X,y,test_size=test_size)\n",
    "    # importation de la bibiothèque RandomForestClassifier   \n",
    "    rf_model=RandomForestClassifier(max_features='log2', n_estimators= 300, max_depth=500, criterion='entropy')\n",
    "    rf_model.fit(X_train,y_train)   \n",
    "    \n",
    "    y_true = y_test\n",
    "    y_pred = rf_model.predict(X_test)\n",
    "    f1macro=f1_score(y_true, y_pred, average='macro')\n",
    "    f1micro=f1_score(y_true, y_pred, average='micro')\n",
    "    f1weighted=f1_score(y_true, y_pred, average='weighted')\n",
    "    print(fichier,\";\",rf_model.score(X_test,y_test),\";\",f1weighted)\n",
    "####\n",
    "df=data.copy()\n",
    "df['activity'].replace(['Absent','Present'],[0,1], inplace=True)\n",
    "df[\"JourSemaine\"]=Jsemaine\n",
    "df[\"heureday\"]=heure\n",
    "db2=df.copy()\n",
    "#X=db2.drop('time', axis=1).copy()\n",
    "X=db2.copy()\n",
    "X=X.drop('time', axis=1).copy()\n",
    "X=X.drop('activity', axis=1)\n",
    "y=db2['activity']\n",
    "X_train,X_test,y_train,y_test=train_test_split(X,y,test_size=test_size)\n",
    "# importation de la bibiothèque RandomForestClassifier   \n",
    "rf_model=RandomForestClassifier(max_features='log2', n_estimators= 300, max_depth=500, criterion='entropy')\n",
    "rf_model.fit(X_train,y_train)   \n",
    "    \n",
    "y_true = y_test\n",
    "y_pred = rf_model.predict(X_test)\n",
    "f1macro=f1_score(y_true, y_pred, average='macro')\n",
    "f1micro=f1_score(y_true, y_pred, average='micro')\n",
    "f1weighted=f1_score(y_true, y_pred, average='weighted')\n",
    "print(\"CompletData\",\";\",rf_model.score(X_test,y_test),\";\",f1weighted) \n",
    "       \n",
    "    "
   ]
  },
  {
   "cell_type": "code",
   "execution_count": null,
   "id": "778e5020",
   "metadata": {},
   "outputs": [],
   "source": []
  },
  {
   "cell_type": "markdown",
   "id": "infinite-moderator",
   "metadata": {},
   "source": [
    "# RandomForestClassifier"
   ]
  },
  {
   "cell_type": "code",
   "execution_count": 134,
   "id": "broke-continuity",
   "metadata": {},
   "outputs": [
    {
     "data": {
      "text/plain": [
       "RandomForestClassifier(criterion='entropy', max_depth=500, max_features='log2',\n",
       "                       n_estimators=300)"
      ]
     },
     "execution_count": 134,
     "metadata": {},
     "output_type": "execute_result"
    }
   ],
   "source": [
    "# importation de la bibiothèque RandomForestClassifier\n",
    "from sklearn.ensemble import RandomForestClassifier\n",
    "# construire un model random forest\n",
    "# Instanciation du modèle\n",
    "rf_model=RandomForestClassifier(max_features='log2', n_estimators= 300, max_depth=500, criterion='entropy') \n",
    "# entrainement du model\n",
    "rf_model.fit(X_train,y_train)"
   ]
  },
  {
   "cell_type": "code",
   "execution_count": 136,
   "id": "critical-patrick",
   "metadata": {},
   "outputs": [
    {
     "data": {
      "text/plain": [
       "0.9757288737605446"
      ]
     },
     "execution_count": 136,
     "metadata": {},
     "output_type": "execute_result"
    }
   ],
   "source": [
    "# afficher le score du modele sur les données de test\n",
    "rf_model.score(X_test,y_test)"
   ]
  },
  {
   "cell_type": "code",
   "execution_count": 137,
   "id": "scheduled-twenty",
   "metadata": {},
   "outputs": [
    {
     "data": {
      "text/html": [
       "<div><div id=a8662e96-8775-40fb-8387-9bbfe1252fd1 style=\"display:none; background-color:#9D6CFF; color:white; width:200px; height:30px; padding-left:5px; border-radius:4px; flex-direction:row; justify-content:space-around; align-items:center;\" onmouseover=\"this.style.backgroundColor='#BA9BF8'\" onmouseout=\"this.style.backgroundColor='#9D6CFF'\" onclick=\"window.commands?.execute('create-mitosheet-from-dataframe-output');\">See Full Dataframe in Mito</div> <script> if (window.commands.hasCommand('create-mitosheet-from-dataframe-output')) document.getElementById('a8662e96-8775-40fb-8387-9bbfe1252fd1').style.display = 'flex' </script> <table border=\"1\" class=\"dataframe\">\n",
       "  <thead>\n",
       "    <tr style=\"text-align: right;\">\n",
       "      <th></th>\n",
       "      <th>importance</th>\n",
       "    </tr>\n",
       "  </thead>\n",
       "  <tbody>\n",
       "    <tr>\n",
       "      <th>CO2</th>\n",
       "      <td>0.507727</td>\n",
       "    </tr>\n",
       "    <tr>\n",
       "      <th>Temperature</th>\n",
       "      <td>0.189898</td>\n",
       "    </tr>\n",
       "    <tr>\n",
       "      <th>Pressure</th>\n",
       "      <td>0.130526</td>\n",
       "    </tr>\n",
       "    <tr>\n",
       "      <th>Humidity</th>\n",
       "      <td>0.102656</td>\n",
       "    </tr>\n",
       "    <tr>\n",
       "      <th>Noise</th>\n",
       "      <td>0.069192</td>\n",
       "    </tr>\n",
       "  </tbody>\n",
       "</table></div>"
      ],
      "text/plain": [
       "             importance\n",
       "CO2            0.507727\n",
       "Temperature    0.189898\n",
       "Pressure       0.130526\n",
       "Humidity       0.102656\n",
       "Noise          0.069192"
      ]
     },
     "execution_count": 137,
     "metadata": {},
     "output_type": "execute_result"
    }
   ],
   "source": [
    "# afficher l’importance des variables de notre modèle de forêt aléatoire\n",
    "pd.DataFrame(rf_model.feature_importances_,\n",
    "              index = X_train.columns, \n",
    "              columns = [\"importance\"]).sort_values(\n",
    "     \"importance\", \n",
    "     ascending = False)"
   ]
  },
  {
   "cell_type": "markdown",
   "id": "accompanied-conditions",
   "metadata": {},
   "source": [
    "# Matrice de confusion"
   ]
  },
  {
   "cell_type": "code",
   "execution_count": 138,
   "id": "arbitrary-technique",
   "metadata": {
    "tags": []
   },
   "outputs": [
    {
     "data": {
      "text/html": [
       "<div><div id=e8423a16-06e6-4b96-a4c4-d965008ee41f style=\"display:none; background-color:#9D6CFF; color:white; width:200px; height:30px; padding-left:5px; border-radius:4px; flex-direction:row; justify-content:space-around; align-items:center;\" onmouseover=\"this.style.backgroundColor='#BA9BF8'\" onmouseout=\"this.style.backgroundColor='#9D6CFF'\" onclick=\"window.commands?.execute('create-mitosheet-from-dataframe-output');\">See Full Dataframe in Mito</div> <script> if (window.commands.hasCommand('create-mitosheet-from-dataframe-output')) document.getElementById('e8423a16-06e6-4b96-a4c4-d965008ee41f').style.display = 'flex' </script> <table border=\"1\" class=\"dataframe\">\n",
       "  <thead>\n",
       "    <tr style=\"text-align: right;\">\n",
       "      <th></th>\n",
       "      <th>Present_predit</th>\n",
       "      <th>Abscent_predit</th>\n",
       "    </tr>\n",
       "  </thead>\n",
       "  <tbody>\n",
       "    <tr>\n",
       "      <th>Present_data</th>\n",
       "      <td>2335</td>\n",
       "      <td>123</td>\n",
       "    </tr>\n",
       "    <tr>\n",
       "      <th>Abscent_data</th>\n",
       "      <td>41</td>\n",
       "      <td>4258</td>\n",
       "    </tr>\n",
       "  </tbody>\n",
       "</table></div>"
      ],
      "text/plain": [
       "              Present_predit  Abscent_predit\n",
       "Present_data            2335             123\n",
       "Abscent_data              41            4258"
      ]
     },
     "execution_count": 138,
     "metadata": {},
     "output_type": "execute_result"
    }
   ],
   "source": [
    "from sklearn.metrics import confusion_matrix\n",
    "pd.DataFrame(confusion_matrix(y_test, rf_model.predict(X_test)),\n",
    "             index = [\"Present_data\", \"Abscent_data\"],\n",
    "             columns = [\"Present_predit\", \"Abscent_predit\"])"
   ]
  },
  {
   "cell_type": "code",
   "execution_count": 139,
   "id": "3e3a9382",
   "metadata": {},
   "outputs": [
    {
     "data": {
      "text/plain": [
       "(array([0.98274411, 0.97192422]),\n",
       " array([0.94995932, 0.9904629 ]),\n",
       " array([0.96607365, 0.98110599]),\n",
       " array([2458, 4299], dtype=int64))"
      ]
     },
     "execution_count": 139,
     "metadata": {},
     "output_type": "execute_result"
    }
   ],
   "source": [
    "from sklearn import metrics\n",
    "\n",
    "y_pred = rf_model.predict(X_test)\n",
    "y_true = y_test\n",
    "metrics.precision_recall_fscore_support(y_true, y_pred, beta=1)"
   ]
  },
  {
   "cell_type": "code",
   "execution_count": 140,
   "id": "copyrighted-strap",
   "metadata": {},
   "outputs": [],
   "source": [
    "#db2['Activity_Pred']=model.predict(X)"
   ]
  },
  {
   "cell_type": "code",
   "execution_count": 147,
   "id": "c8d0aad1",
   "metadata": {},
   "outputs": [],
   "source": [
    "## SVM"
   ]
  },
  {
   "cell_type": "code",
   "execution_count": 148,
   "id": "46fe620f",
   "metadata": {},
   "outputs": [
    {
     "data": {
      "text/plain": [
       "Pipeline(steps=[('standardscaler', StandardScaler()),\n",
       "                ('svc', SVC(C=10, gamma=1))])"
      ]
     },
     "execution_count": 148,
     "metadata": {},
     "output_type": "execute_result"
    }
   ],
   "source": [
    "from sklearn.pipeline import make_pipeline\n",
    "from sklearn.preprocessing import StandardScaler\n",
    "from sklearn.svm import SVC\n",
    "\n",
    "svc_model = make_pipeline(StandardScaler(), SVC(C=10, gamma=1))\n",
    "svc_model.fit(X_train,y_train)"
   ]
  },
  {
   "cell_type": "code",
   "execution_count": 149,
   "id": "236259d1",
   "metadata": {},
   "outputs": [],
   "source": [
    "from sklearn.preprocessing import StandardScaler\n",
    "scaler = StandardScaler()\n",
    "X_train_sc=scaler.fit_transform(X_train)"
   ]
  },
  {
   "cell_type": "code",
   "execution_count": 150,
   "id": "a648eb64",
   "metadata": {},
   "outputs": [
    {
     "data": {
      "text/html": [
       "<div><div id=ce81ab3f-6ea9-400e-aa7d-22c3ed620535 style=\"display:none; background-color:#9D6CFF; color:white; width:200px; height:30px; padding-left:5px; border-radius:4px; flex-direction:row; justify-content:space-around; align-items:center;\" onmouseover=\"this.style.backgroundColor='#BA9BF8'\" onmouseout=\"this.style.backgroundColor='#9D6CFF'\" onclick=\"window.commands?.execute('create-mitosheet-from-dataframe-output');\">See Full Dataframe in Mito</div> <script> if (window.commands.hasCommand('create-mitosheet-from-dataframe-output')) document.getElementById('ce81ab3f-6ea9-400e-aa7d-22c3ed620535').style.display = 'flex' </script> <table border=\"1\" class=\"dataframe\">\n",
       "  <thead>\n",
       "    <tr style=\"text-align: right;\">\n",
       "      <th></th>\n",
       "      <th>Present_predit</th>\n",
       "      <th>Abscent_predit</th>\n",
       "    </tr>\n",
       "  </thead>\n",
       "  <tbody>\n",
       "    <tr>\n",
       "      <th>Present_data</th>\n",
       "      <td>2253</td>\n",
       "      <td>205</td>\n",
       "    </tr>\n",
       "    <tr>\n",
       "      <th>Abscent_data</th>\n",
       "      <td>113</td>\n",
       "      <td>4186</td>\n",
       "    </tr>\n",
       "  </tbody>\n",
       "</table></div>"
      ],
      "text/plain": [
       "              Present_predit  Abscent_predit\n",
       "Present_data            2253             205\n",
       "Abscent_data             113            4186"
      ]
     },
     "execution_count": 150,
     "metadata": {},
     "output_type": "execute_result"
    }
   ],
   "source": [
    "from sklearn.metrics import confusion_matrix\n",
    "pd.DataFrame(confusion_matrix(y_test, svc_model.predict(X_test)),\n",
    "             index = [\"Present_data\", \"Abscent_data\"],\n",
    "             columns = [\"Present_predit\", \"Abscent_predit\"])"
   ]
  },
  {
   "cell_type": "code",
   "execution_count": 151,
   "id": "483794a2",
   "metadata": {},
   "outputs": [
    {
     "data": {
      "text/plain": [
       "(array([0.95224007, 0.9533136 ]),\n",
       " array([0.91659886, 0.97371482]),\n",
       " array([0.9340796 , 0.96340621]),\n",
       " array([2458, 4299], dtype=int64))"
      ]
     },
     "execution_count": 151,
     "metadata": {},
     "output_type": "execute_result"
    }
   ],
   "source": [
    "from sklearn import metrics\n",
    "\n",
    "y_pred = svc_model.predict(X_test)\n",
    "y_true = y_test\n",
    "metrics.precision_recall_fscore_support(y_true, y_pred, beta=1)"
   ]
  },
  {
   "cell_type": "markdown",
   "id": "8c78a2d8",
   "metadata": {},
   "source": [
    "# KNN"
   ]
  },
  {
   "cell_type": "code",
   "execution_count": 152,
   "id": "0be6ae10",
   "metadata": {},
   "outputs": [
    {
     "data": {
      "text/plain": [
       "KNeighborsClassifier(metric='manhattan', n_neighbors=1)"
      ]
     },
     "execution_count": 152,
     "metadata": {},
     "output_type": "execute_result"
    }
   ],
   "source": [
    "from sklearn.neighbors import KNeighborsClassifier\n",
    "KNN_model=KNeighborsClassifier(n_neighbors=1,metric='manhattan')\n",
    "KNN_model.fit(X_train,y_train)"
   ]
  },
  {
   "cell_type": "code",
   "execution_count": 153,
   "id": "e1f9c84d",
   "metadata": {},
   "outputs": [
    {
     "data": {
      "text/plain": [
       "0.9711410389225987"
      ]
     },
     "execution_count": 153,
     "metadata": {},
     "output_type": "execute_result"
    }
   ],
   "source": [
    "KNN_model.score(X_test,y_test)"
   ]
  },
  {
   "cell_type": "code",
   "execution_count": 154,
   "id": "4f3471ee",
   "metadata": {},
   "outputs": [
    {
     "data": {
      "text/html": [
       "<div><div id=e20e877f-77f8-4416-aff1-8cf1a33a3d50 style=\"display:none; background-color:#9D6CFF; color:white; width:200px; height:30px; padding-left:5px; border-radius:4px; flex-direction:row; justify-content:space-around; align-items:center;\" onmouseover=\"this.style.backgroundColor='#BA9BF8'\" onmouseout=\"this.style.backgroundColor='#9D6CFF'\" onclick=\"window.commands?.execute('create-mitosheet-from-dataframe-output');\">See Full Dataframe in Mito</div> <script> if (window.commands.hasCommand('create-mitosheet-from-dataframe-output')) document.getElementById('e20e877f-77f8-4416-aff1-8cf1a33a3d50').style.display = 'flex' </script> <table border=\"1\" class=\"dataframe\">\n",
       "  <thead>\n",
       "    <tr style=\"text-align: right;\">\n",
       "      <th></th>\n",
       "      <th>Present_predit</th>\n",
       "      <th>Abscent_predit</th>\n",
       "    </tr>\n",
       "  </thead>\n",
       "  <tbody>\n",
       "    <tr>\n",
       "      <th>Present_data</th>\n",
       "      <td>2350</td>\n",
       "      <td>108</td>\n",
       "    </tr>\n",
       "    <tr>\n",
       "      <th>Abscent_data</th>\n",
       "      <td>87</td>\n",
       "      <td>4212</td>\n",
       "    </tr>\n",
       "  </tbody>\n",
       "</table></div>"
      ],
      "text/plain": [
       "              Present_predit  Abscent_predit\n",
       "Present_data            2350             108\n",
       "Abscent_data              87            4212"
      ]
     },
     "execution_count": 154,
     "metadata": {},
     "output_type": "execute_result"
    }
   ],
   "source": [
    "from sklearn.metrics import confusion_matrix\n",
    "pd.DataFrame(confusion_matrix(y_test, KNN_model.predict(X_test)),\n",
    "             index = [\"Present_data\", \"Abscent_data\"],\n",
    "             columns = [\"Present_predit\", \"Abscent_predit\"])"
   ]
  },
  {
   "cell_type": "code",
   "execution_count": 155,
   "id": "21ef90ea",
   "metadata": {},
   "outputs": [
    {
     "data": {
      "text/plain": [
       "(array([0.96430037, 0.975     ]),\n",
       " array([0.95606184, 0.97976274]),\n",
       " array([0.96016343, 0.97737557]),\n",
       " array([2458, 4299], dtype=int64))"
      ]
     },
     "execution_count": 155,
     "metadata": {},
     "output_type": "execute_result"
    }
   ],
   "source": [
    "from sklearn import metrics\n",
    "\n",
    "y_pred = KNN_model.predict(X_test)\n",
    "y_true = y_test\n",
    "metrics.precision_recall_fscore_support(y_true, y_pred, beta=1)"
   ]
  },
  {
   "cell_type": "code",
   "execution_count": null,
   "id": "085b46df-bc8b-4f55-bb5e-c24d64df34c4",
   "metadata": {},
   "outputs": [],
   "source": []
  },
  {
   "cell_type": "code",
   "execution_count": 147,
   "id": "f140c044-dc04-4fab-8e78-e1d84c309088",
   "metadata": {},
   "outputs": [],
   "source": [
    "from datetime import datetime "
   ]
  },
  {
   "cell_type": "code",
   "execution_count": 148,
   "id": "6e68f1cf-7b9c-4f99-bff7-3ae5246b5f7c",
   "metadata": {},
   "outputs": [],
   "source": [
    "d1 = datetime.now()"
   ]
  },
  {
   "cell_type": "code",
   "execution_count": 131,
   "id": "81cfcd0a-16f1-4c23-bf4f-1b3ce763e263",
   "metadata": {},
   "outputs": [
    {
     "data": {
      "text/plain": [
       "10.6"
      ]
     },
     "execution_count": 131,
     "metadata": {},
     "output_type": "execute_result"
    }
   ],
   "source": [
    "d1.hour+d1.minute/60"
   ]
  },
  {
   "cell_type": "code",
   "execution_count": 174,
   "id": "a9313760-6776-4ddd-aef5-1e57967e3215",
   "metadata": {},
   "outputs": [
    {
     "data": {
      "text/plain": [
       "[<matplotlib.lines.Line2D at 0x1f7f88effa0>]"
      ]
     },
     "execution_count": 174,
     "metadata": {},
     "output_type": "execute_result"
    },
    {
     "data": {
      "image/png": "[encoded data removed]",
      "text/plain": [
       "<Figure size 1584x720 with 1 Axes>"
      ]
     },
     "metadata": {
      "image/png": {
       "height": 583,
       "width": 1260
      }
     },
     "output_type": "display_data"
    }
   ],
   "source": [
    "plt.plot(Jsemaine)\n"
   ]
  },
  {
   "cell_type": "code",
   "execution_count": 158,
   "id": "d8d23263-3d11-4230-a625-40bd674c468d",
   "metadata": {},
   "outputs": [
    {
     "data": {
      "text/plain": [
       "22523"
      ]
     },
     "execution_count": 158,
     "metadata": {},
     "output_type": "execute_result"
    }
   ],
   "source": []
  },
  {
   "cell_type": "code",
   "execution_count": null,
   "id": "8281655c-6b33-4499-bdc8-04dafc9fba08",
   "metadata": {},
   "outputs": [],
   "source": []
  }
 ],
 "metadata": {
  "kernelspec": {
   "display_name": "Python 3",
   "language": "python",
   "name": "python3"
  },
  "language_info": {
   "codemirror_mode": {
    "name": "ipython",
    "version": 3
   },
   "file_extension": ".py",
   "mimetype": "text/x-python",
   "name": "python",
   "nbconvert_exporter": "python",
   "pygments_lexer": "ipython3",
   "version": "3.8.8"
  }
 },
 "nbformat": 4,
 "nbformat_minor": 5
}
