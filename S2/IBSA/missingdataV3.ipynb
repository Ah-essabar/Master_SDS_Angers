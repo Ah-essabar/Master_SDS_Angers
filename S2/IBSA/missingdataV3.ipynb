{
 "cells": [
  {
   "cell_type": "markdown",
   "id": "67ea5a62-939b-4608-acbc-149252663e5b",
   "metadata": {},
   "source": [
    "## read data from files netatmo"
   ]
  },
  {
   "cell_type": "code",
   "execution_count": 6,
   "id": "b9cf5b9a-5cd2-45c1-a0b3-d837ccd70323",
   "metadata": {},
   "outputs": [],
   "source": [
    "import numpy as np\n",
    "#import tensorflow as tf\n",
    "#from tensorflow import keras\n",
    "import pandas as pd\n",
    "import seaborn as sns\n",
    "from pylab import rcParams\n",
    "import matplotlib.pyplot as plt\n",
    "from matplotlib import rc\n",
    "from pandas.plotting import register_matplotlib_converters\n",
    "\n",
    "from sklearn.model_selection import cross_val_score\n",
    "        \n",
    "%matplotlib inline\n",
    "%config InlineBackend.figure_format='retina'\n",
    "\n",
    "register_matplotlib_converters()\n",
    "sns.set(style='whitegrid', palette='muted', font_scale=1.5)\n",
    "\n",
    "rcParams['figure.figsize'] = 22, 10\n",
    "\n",
    "RANDOM_SEED = 42"
   ]
  },
  {
   "cell_type": "code",
   "execution_count": 7,
   "id": "687e0074-3c00-4171-8591-f2f16fba2b66",
   "metadata": {},
   "outputs": [],
   "source": [
    "# supprimer d'abord les deux lignes dans le fichier d'export Neatatmo\n",
    "index_col=\"time\"\n",
    "data=pd.read_csv('dataCompletAvrilto18Juin.csv', sep=\";\", encoding = \"ISO-8859-1\", index_col=index_col)\n",
    "\n",
    "data=data.iloc[0:14400,:]"
   ]
  },
  {
   "cell_type": "code",
   "execution_count": 8,
   "id": "cc6d38a5-1657-48b3-a65e-e66b8fe8b2d4",
   "metadata": {},
   "outputs": [
    {
     "data": {
      "text/plain": [
       "(14400, 6)"
      ]
     },
     "execution_count": 8,
     "metadata": {},
     "output_type": "execute_result"
    }
   ],
   "source": [
    "data.shape"
   ]
  },
  {
   "cell_type": "code",
   "execution_count": 5,
   "id": "c9b5b498-322f-4a12-a93c-9ff047d91875",
   "metadata": {},
   "outputs": [],
   "source": [
    "#data.to_csv('dataCompletTo20mai.csv') "
   ]
  },
  {
   "cell_type": "code",
   "execution_count": 9,
   "id": "7146ebc8-b0f2-4b25-9783-88f3dd8672b2",
   "metadata": {},
   "outputs": [
    {
     "data": {
      "text/plain": [
       "Temperature    0\n",
       "Humidity       0\n",
       "CO2            0\n",
       "Noise          0\n",
       "Pressure       0\n",
       "activity       0\n",
       "dtype: int64"
      ]
     },
     "execution_count": 9,
     "metadata": {},
     "output_type": "execute_result"
    }
   ],
   "source": [
    "import pandas as pd\n",
    "bear_family_df = pd.DataFrame(data)\n",
    "bear_family_df.isna().sum()"
   ]
  },
  {
   "cell_type": "code",
   "execution_count": null,
   "id": "5421701c-2817-4412-bcdb-6850e95777bc",
   "metadata": {},
   "outputs": [],
   "source": []
  },
  {
   "cell_type": "code",
   "execution_count": 17,
   "id": "4adaf714-73e1-4e71-9753-d9b3b279c8c0",
   "metadata": {},
   "outputs": [],
   "source": [
    "#data.to_csv('data.csv') "
   ]
  },
  {
   "cell_type": "markdown",
   "id": "9f611f06-8a30-41dd-8b1c-a58d9a632af5",
   "metadata": {},
   "source": [
    "## Missing data generation"
   ]
  },
  {
   "cell_type": "code",
   "execution_count": 18,
   "id": "26806b79-103f-4d9d-8ee6-c734c340bf00",
   "metadata": {},
   "outputs": [],
   "source": [
    "\n",
    "#!pip install wget \n",
    "import wget\n",
    "#wget.download('https://raw.githubusercontent.com/BorisMuzellec/MissingDataOT/master/utils.py')\n",
    "\n",
    "import numpy as np\n",
    "import pandas as pd\n",
    "from utils import *\n",
    "import torch\n",
    "import seaborn as sns"
   ]
  },
  {
   "cell_type": "code",
   "execution_count": 19,
   "id": "1e97bf8f-31d1-40a6-8032-c7d02ebb4eb4",
   "metadata": {},
   "outputs": [],
   "source": [
    "# Fix the seed ------------------------------------------------------\n",
    "np.random.seed(0)"
   ]
  },
  {
   "cell_type": "code",
   "execution_count": 20,
   "id": "700d2a3f-097e-4ecd-a712-15df64a2ace1",
   "metadata": {},
   "outputs": [],
   "source": [
    "X = data.copy()\n",
    "X = X.drop([\"activity\"], axis=1)\n",
    "X = X.values\n",
    "from sklearn.preprocessing import StandardScaler\n",
    "scaler = StandardScaler()\n",
    "datascaler=scaler.fit(X)\n",
    "X= datascaler.transform(X)"
   ]
  },
  {
   "cell_type": "code",
   "execution_count": 22,
   "id": "cb020514-b7c1-4d73-a2fc-6ee7e39b21e7",
   "metadata": {},
   "outputs": [],
   "source": [
    "#df.to_csv('MCAR25.csv')\n",
    "# supprimer d'abord les deux lignes dans le fichier d'export Neatatmo\n",
    "index_col=\"time\"\n",
    "df=pd.read_csv('MCAR40.csv', sep=\",\", encoding = \"ISO-8859-1\", index_col=index_col)\n",
    "mask=pd.read_csv('mask40.csv', sep=\",\", encoding = \"ISO-8859-1\", index_col=index_col)\n",
    "mask=mask.values\n"
   ]
  },
  {
   "cell_type": "code",
   "execution_count": 23,
   "id": "2273a398-dea3-4734-9219-5e0fac351056",
   "metadata": {},
   "outputs": [
    {
     "data": {
      "text/plain": [
       "array([[1., 1., 0., 0., 0.],\n",
       "       [0., 0., 0., 0., 0.],\n",
       "       [0., 0., 0., 1., 0.],\n",
       "       ...,\n",
       "       [0., 0., 1., 0., 1.],\n",
       "       [1., 1., 1., 1., 1.],\n",
       "       [1., 0., 0., 1., 0.]])"
      ]
     },
     "execution_count": 23,
     "metadata": {},
     "output_type": "execute_result"
    }
   ],
   "source": [
    "mask"
   ]
  },
  {
   "cell_type": "markdown",
   "id": "1b943a2d-34c3-4731-8932-3bb13bcde046",
   "metadata": {},
   "source": [
    "## Time Series Imputation Techniques"
   ]
  },
  {
   "cell_type": "code",
   "execution_count": 24,
   "id": "1d111f6a-e495-4837-8577-20289d323859",
   "metadata": {},
   "outputs": [],
   "source": [
    "### Forward Fill\n",
    "# Impute airquality DataFrame with ffill method\n",
    "import numpy as np\n",
    "from sklearn.impute import KNNImputer\n",
    "X1 = df.copy()\n",
    "# add time \"timpstame\" as variable \n",
    "X1[\"time\"]=X1.index\n",
    "k=2\n",
    "imputer = KNNImputer(n_neighbors=k)\n",
    "KNNimputed = imputer.fit_transform(X1)\n",
    "KNNimputed=KNNimputed[:,0:-1].copy()\n",
    "KNNimputed= pd.DataFrame(data=KNNimputed, columns=df.columns)\n",
    "KNNimputed.index = df.index\n",
    "\n",
    "ffill_imputed = df.copy(deep=True)\n",
    "ffill_imputed.fillna(method='ffill',inplace=True)\n",
    "ffill_imputed.fillna(method='bfill',inplace=True)\n",
    "\n",
    "\n",
    "bfill_imputed = df.copy(deep=True)\n",
    "bfill_imputed.fillna(method='bfill',inplace=True)\n",
    "bfill_imputed.fillna(method='ffill',inplace=True)\n",
    "\n",
    "\n",
    "quadratic_imput = df.copy(deep=True)\n",
    "quadratic_imput.interpolate(method='quadratic', inplace=True)\n",
    "quadratic_imput.fillna(method='ffill',inplace=True)\n",
    "quadratic_imput.fillna(method='bfill',inplace=True)\n",
    "\n",
    "\n",
    "nearest_imput = df.copy(deep=True)\n",
    "nearest_imput.interpolate(method='nearest', inplace=True)\n",
    "nearest_imput.fillna(method='ffill',inplace=True)\n",
    "nearest_imput.fillna(method='bfill',inplace=True)\n",
    "\n",
    "\n",
    "linear_imput=df.copy(deep=True)\n",
    "linear_imput.interpolate(method='linear', inplace=True)\n",
    "linear_imput.fillna(method='ffill',inplace=True)\n",
    "linear_imput.fillna(method='bfill',inplace=True)\n",
    "\n",
    "\n",
    "poly_imput=df.copy(deep=True)\n",
    "poly_imput= poly_imput.interpolate(method='polynomial', order=3)\n",
    "poly_imput.fillna(method='ffill',inplace=True)\n",
    "poly_imput.fillna(method='bfill',inplace=True)\n"
   ]
  },
  {
   "cell_type": "markdown",
   "id": "04bb4aaa-e67a-46be-a1c0-fd7c8dac3df2",
   "metadata": {},
   "source": [
    "# Save dataFrame Imputed"
   ]
  },
  {
   "cell_type": "code",
   "execution_count": 25,
   "id": "36ab9a9f-0269-461c-a861-3c166fa22dfd",
   "metadata": {},
   "outputs": [
    {
     "name": "stdout",
     "output_type": "stream",
     "text": [
      "Back_fill   Temperature 0.057794405024306994\n",
      "Back_fill   Humidity 0.04517357034102688\n",
      "Back_fill   CO2 0.16530767405289135\n",
      "Back_fill   Noise 0.650338799598682\n",
      "Back_fill   Pressure 0.014407929937218376\n",
      "Back_fill  all  0.30314973974593346\n",
      "Forward_fill   Temperature 0.0567944637893074\n",
      "Forward_fill   Humidity 0.04614515685668797\n",
      "Forward_fill   CO2 0.16566224255446002\n",
      "Forward_fill   Noise 0.6430073403370705\n",
      "Forward_fill   Pressure 0.014378275796837939\n",
      "Forward_fill  all  0.30000940274939325\n",
      "Linear_Interpolation   Temperature 0.03105969547966727\n",
      "Linear_Interpolation   Humidity 0.028688778325488717\n",
      "Linear_Interpolation   CO2 0.10276781307047578\n",
      "Linear_Interpolation   Noise 0.49417355092200527\n",
      "Linear_Interpolation   Pressure 0.009007733792601464\n",
      "Linear_Interpolation  all  0.22748299105764333\n",
      "Quadratic_Interpolation   Temperature 0.03843520494285436\n",
      "Quadratic_Interpolation   Humidity 0.03423625180167006\n",
      "Quadratic_Interpolation   CO2 0.1459111144206467\n",
      "Quadratic_Interpolation   Noise 1.4813633168718905\n",
      "Quadratic_Interpolation   Pressure 0.011319555931836832\n",
      "Quadratic_Interpolation  all  0.6689300666817708\n",
      "Nearest_imput   Temperature 0.04587504333722236\n",
      "Nearest_imput   Humidity 0.036639218832023646\n",
      "Nearest_imput   CO2 0.1391208357017918\n",
      "Nearest_imput   Noise 0.5816193558074769\n",
      "Nearest_imput   Pressure 0.012068062732563483\n",
      "Nearest_imput  all  0.2698683297140088\n",
      "polynomial_interpolation   Temperature 0.04060722216487369\n",
      "polynomial_interpolation   Humidity 0.03505166119844637\n",
      "polynomial_interpolation   CO2 0.15007178252845488\n",
      "polynomial_interpolation   Noise 1.5179836093727452\n",
      "polynomial_interpolation   Pressure 0.011660251734362952\n",
      "polynomial_interpolation  all  0.6855046506060253\n"
     ]
    },
    {
     "ename": "TypeError",
     "evalue": "'(slice(None, None, None), 0)' is an invalid key",
     "output_type": "error",
     "traceback": [
      "\u001b[1;31m---------------------------------------------------------------------------\u001b[0m",
      "\u001b[1;31mTypeError\u001b[0m                                 Traceback (most recent call last)",
      "\u001b[1;32m<ipython-input-25-db3d9f7b736b>\u001b[0m in \u001b[0;36m<module>\u001b[1;34m\u001b[0m\n\u001b[0;32m     17\u001b[0m \u001b[1;33m\u001b[0m\u001b[0m\n\u001b[0;32m     18\u001b[0m     \u001b[1;32mfor\u001b[0m \u001b[0mi\u001b[0m \u001b[1;32min\u001b[0m \u001b[0mrange\u001b[0m\u001b[1;33m(\u001b[0m\u001b[1;36m5\u001b[0m\u001b[1;33m)\u001b[0m\u001b[1;33m:\u001b[0m\u001b[1;33m\u001b[0m\u001b[1;33m\u001b[0m\u001b[0m\n\u001b[1;32m---> 19\u001b[1;33m         \u001b[0mprint\u001b[0m\u001b[1;33m(\u001b[0m\u001b[0mdf_key\u001b[0m\u001b[1;33m,\u001b[0m \u001b[1;34m\"  \"\u001b[0m\u001b[1;33m+\u001b[0m\u001b[0mstr\u001b[0m\u001b[1;33m(\u001b[0m\u001b[0mdf\u001b[0m\u001b[1;33m.\u001b[0m\u001b[0mcolumns\u001b[0m\u001b[1;33m[\u001b[0m\u001b[0mi\u001b[0m\u001b[1;33m]\u001b[0m\u001b[1;33m)\u001b[0m\u001b[1;33m,\u001b[0m \u001b[0mRMSE\u001b[0m\u001b[1;33m(\u001b[0m\u001b[0mXimp\u001b[0m\u001b[1;33m[\u001b[0m\u001b[1;33m:\u001b[0m\u001b[1;33m,\u001b[0m\u001b[0mi\u001b[0m\u001b[1;33m]\u001b[0m\u001b[1;33m,\u001b[0m \u001b[0mX\u001b[0m\u001b[1;33m[\u001b[0m\u001b[1;33m:\u001b[0m\u001b[1;33m,\u001b[0m\u001b[0mi\u001b[0m\u001b[1;33m]\u001b[0m\u001b[1;33m,\u001b[0m \u001b[0mmask\u001b[0m\u001b[1;33m[\u001b[0m\u001b[1;33m:\u001b[0m\u001b[1;33m,\u001b[0m\u001b[0mi\u001b[0m\u001b[1;33m]\u001b[0m\u001b[1;33m)\u001b[0m\u001b[1;33m)\u001b[0m\u001b[1;33m\u001b[0m\u001b[1;33m\u001b[0m\u001b[0m\n\u001b[0m\u001b[0;32m     20\u001b[0m \u001b[1;33m\u001b[0m\u001b[0m\n\u001b[0;32m     21\u001b[0m     \u001b[0mprint\u001b[0m\u001b[1;33m(\u001b[0m\u001b[0mdf_key\u001b[0m\u001b[1;33m,\u001b[0m \u001b[1;34m\" all \"\u001b[0m\u001b[1;33m,\u001b[0m \u001b[0mRMSE\u001b[0m\u001b[1;33m(\u001b[0m\u001b[0mXimp\u001b[0m\u001b[1;33m,\u001b[0m \u001b[0mX\u001b[0m\u001b[1;33m,\u001b[0m \u001b[0mmask\u001b[0m\u001b[1;33m)\u001b[0m\u001b[1;33m)\u001b[0m\u001b[1;33m\u001b[0m\u001b[1;33m\u001b[0m\u001b[0m\n",
      "\u001b[1;32m~\\anaconda3\\lib\\site-packages\\pandas\\core\\frame.py\u001b[0m in \u001b[0;36m__getitem__\u001b[1;34m(self, key)\u001b[0m\n\u001b[0;32m   3022\u001b[0m             \u001b[1;32mif\u001b[0m \u001b[0mself\u001b[0m\u001b[1;33m.\u001b[0m\u001b[0mcolumns\u001b[0m\u001b[1;33m.\u001b[0m\u001b[0mnlevels\u001b[0m \u001b[1;33m>\u001b[0m \u001b[1;36m1\u001b[0m\u001b[1;33m:\u001b[0m\u001b[1;33m\u001b[0m\u001b[1;33m\u001b[0m\u001b[0m\n\u001b[0;32m   3023\u001b[0m                 \u001b[1;32mreturn\u001b[0m \u001b[0mself\u001b[0m\u001b[1;33m.\u001b[0m\u001b[0m_getitem_multilevel\u001b[0m\u001b[1;33m(\u001b[0m\u001b[0mkey\u001b[0m\u001b[1;33m)\u001b[0m\u001b[1;33m\u001b[0m\u001b[1;33m\u001b[0m\u001b[0m\n\u001b[1;32m-> 3024\u001b[1;33m             \u001b[0mindexer\u001b[0m \u001b[1;33m=\u001b[0m \u001b[0mself\u001b[0m\u001b[1;33m.\u001b[0m\u001b[0mcolumns\u001b[0m\u001b[1;33m.\u001b[0m\u001b[0mget_loc\u001b[0m\u001b[1;33m(\u001b[0m\u001b[0mkey\u001b[0m\u001b[1;33m)\u001b[0m\u001b[1;33m\u001b[0m\u001b[1;33m\u001b[0m\u001b[0m\n\u001b[0m\u001b[0;32m   3025\u001b[0m             \u001b[1;32mif\u001b[0m \u001b[0mis_integer\u001b[0m\u001b[1;33m(\u001b[0m\u001b[0mindexer\u001b[0m\u001b[1;33m)\u001b[0m\u001b[1;33m:\u001b[0m\u001b[1;33m\u001b[0m\u001b[1;33m\u001b[0m\u001b[0m\n\u001b[0;32m   3026\u001b[0m                 \u001b[0mindexer\u001b[0m \u001b[1;33m=\u001b[0m \u001b[1;33m[\u001b[0m\u001b[0mindexer\u001b[0m\u001b[1;33m]\u001b[0m\u001b[1;33m\u001b[0m\u001b[1;33m\u001b[0m\u001b[0m\n",
      "\u001b[1;32m~\\anaconda3\\lib\\site-packages\\pandas\\core\\indexes\\base.py\u001b[0m in \u001b[0;36mget_loc\u001b[1;34m(self, key, method, tolerance)\u001b[0m\n\u001b[0;32m   3078\u001b[0m             \u001b[0mcasted_key\u001b[0m \u001b[1;33m=\u001b[0m \u001b[0mself\u001b[0m\u001b[1;33m.\u001b[0m\u001b[0m_maybe_cast_indexer\u001b[0m\u001b[1;33m(\u001b[0m\u001b[0mkey\u001b[0m\u001b[1;33m)\u001b[0m\u001b[1;33m\u001b[0m\u001b[1;33m\u001b[0m\u001b[0m\n\u001b[0;32m   3079\u001b[0m             \u001b[1;32mtry\u001b[0m\u001b[1;33m:\u001b[0m\u001b[1;33m\u001b[0m\u001b[1;33m\u001b[0m\u001b[0m\n\u001b[1;32m-> 3080\u001b[1;33m                 \u001b[1;32mreturn\u001b[0m \u001b[0mself\u001b[0m\u001b[1;33m.\u001b[0m\u001b[0m_engine\u001b[0m\u001b[1;33m.\u001b[0m\u001b[0mget_loc\u001b[0m\u001b[1;33m(\u001b[0m\u001b[0mcasted_key\u001b[0m\u001b[1;33m)\u001b[0m\u001b[1;33m\u001b[0m\u001b[1;33m\u001b[0m\u001b[0m\n\u001b[0m\u001b[0;32m   3081\u001b[0m             \u001b[1;32mexcept\u001b[0m \u001b[0mKeyError\u001b[0m \u001b[1;32mas\u001b[0m \u001b[0merr\u001b[0m\u001b[1;33m:\u001b[0m\u001b[1;33m\u001b[0m\u001b[1;33m\u001b[0m\u001b[0m\n\u001b[0;32m   3082\u001b[0m                 \u001b[1;32mraise\u001b[0m \u001b[0mKeyError\u001b[0m\u001b[1;33m(\u001b[0m\u001b[0mkey\u001b[0m\u001b[1;33m)\u001b[0m \u001b[1;32mfrom\u001b[0m \u001b[0merr\u001b[0m\u001b[1;33m\u001b[0m\u001b[1;33m\u001b[0m\u001b[0m\n",
      "\u001b[1;32mpandas\\_libs\\index.pyx\u001b[0m in \u001b[0;36mpandas._libs.index.IndexEngine.get_loc\u001b[1;34m()\u001b[0m\n",
      "\u001b[1;32mpandas\\_libs\\index.pyx\u001b[0m in \u001b[0;36mpandas._libs.index.IndexEngine.get_loc\u001b[1;34m()\u001b[0m\n",
      "\u001b[1;31mTypeError\u001b[0m: '(slice(None, None, None), 0)' is an invalid key"
     ]
    }
   ],
   "source": [
    "# Create a dictionary of interpolations\n",
    "interpolations = {'Back_fill':bfill_imputed,\n",
    "                  'Forward_fill':ffill_imputed,\n",
    "                  'Linear_Interpolation': linear_imput,\n",
    "                  'Quadratic_Interpolation':quadratic_imput,\n",
    "                  \"Nearest_imput\":nearest_imput, \n",
    "                  \"polynomial_interpolation\":poly_imput,\n",
    "                  'KNN': KNNimputed}\n",
    "\n",
    "# for df_key in  interpolations:\n",
    "#     print(df_key,type(interpolations[df_key]))\n",
    "    \n",
    "        \n",
    "\n",
    "    \n",
    "\n",
    "for df_key in  interpolations:\n",
    "    if df_key == 'KNN' :\n",
    "        Ximp = interpolations[df_key]\n",
    "    else :\n",
    "        Ximp = interpolations[df_key].values\n",
    "        \n",
    "    for i in range(5):\n",
    "        print(df_key, \"  \"+str(df.columns[i]), RMSE(Ximp[:,i], X[:,i], mask[:,i]))\n",
    "        \n",
    "    print(df_key, \" all \", RMSE(Ximp, X, mask))\n",
    "    \n",
    "\n",
    "\n",
    "    "
   ]
  },
  {
   "cell_type": "code",
   "execution_count": 114,
   "id": "0b33f4fe-74f5-4d55-81c4-7e1e002cd985",
   "metadata": {},
   "outputs": [
    {
     "ename": "NameError",
     "evalue": "name 'p' is not defined",
     "output_type": "error",
     "traceback": [
      "\u001b[1;31m---------------------------------------------------------------------------\u001b[0m",
      "\u001b[1;31mNameError\u001b[0m                                 Traceback (most recent call last)",
      "\u001b[1;32m<ipython-input-114-6c10289a8da7>\u001b[0m in \u001b[0;36m<module>\u001b[1;34m\u001b[0m\n\u001b[1;32m----> 1\u001b[1;33m \u001b[0mp\u001b[0m\u001b[1;33m\u001b[0m\u001b[1;33m\u001b[0m\u001b[0m\n\u001b[0m",
      "\u001b[1;31mNameError\u001b[0m: name 'p' is not defined"
     ]
    }
   ],
   "source": [
    "p"
   ]
  },
  {
   "cell_type": "code",
   "execution_count": 145,
   "id": "bfa4fa3f-0801-42f2-8c6e-84b9479fff8d",
   "metadata": {},
   "outputs": [
    {
     "data": {
      "text/plain": [
       "Index(['Temperature', 'Humidity', 'CO2', 'Noise', 'Pressure'], dtype='object')"
      ]
     },
     "execution_count": 145,
     "metadata": {},
     "output_type": "execute_result"
    }
   ],
   "source": [
    "#quadratic_imput\n",
    "df.columns\n"
   ]
  },
  {
   "cell_type": "code",
   "execution_count": 28,
   "id": "20915ca8-1352-4b61-8fb8-53d3fde39497",
   "metadata": {},
   "outputs": [],
   "source": [
    "X_kalman=pd.read_csv('MCAR40.csv', sep=\",\", encoding = \"ISO-8859-1\")\n",
    "X_kalmanArimaImputed=pd.read_csv('./dataImputed/kalmanArima_TRUE_MCAR40.csv', sep=\",\", encoding = \"ISO-8859-1\")\n",
    "X_kalmanStructTsImputed=pd.read_csv('./dataImputed/kalmanStructTS_TRUE_MCAR40.csv', sep=\",\", encoding = \"ISO-8859-1\")"
   ]
  },
  {
   "cell_type": "code",
   "execution_count": 29,
   "id": "103dc72a-1864-40f8-9f91-bd79a03f93cf",
   "metadata": {},
   "outputs": [],
   "source": [
    "X_kalmanArimaImputed=X_kalmanArimaImputed.set_index('time')\n",
    "X_kalmanStructTsImputed=X_kalmanStructTsImputed.set_index('time')"
   ]
  },
  {
   "cell_type": "code",
   "execution_count": null,
   "id": "bdb1b2a2-3bc3-4cf2-89f7-5c51b4e0485d",
   "metadata": {},
   "outputs": [],
   "source": [
    "X_kalmanStructTsImputed"
   ]
  },
  {
   "cell_type": "code",
   "execution_count": 30,
   "id": "1449e796-7dbc-4f10-a362-0805cfa4df64",
   "metadata": {},
   "outputs": [
    {
     "name": "stdout",
     "output_type": "stream",
     "text": [
      "kalmanArima_TRUE_MCAR5   Temperature 0.03105969547972639\n",
      "kalmanArima_TRUE_MCAR5   Humidity 0.028874161294569902\n",
      "kalmanArima_TRUE_MCAR5   CO2 0.1027678130704758\n",
      "kalmanArima_TRUE_MCAR5   Noise 0.49453465273458225\n",
      "kalmanArima_TRUE_MCAR5   Pressure 0.009036438228566712\n",
      "kalmanArima_TRUE_MCAR5  all  0.22764614025624014\n"
     ]
    }
   ],
   "source": [
    "Ximp= X_kalmanArimaImputed.values\n",
    "\n",
    "model_kalman =\"kalmanArima_TRUE_MCAR5\"\n",
    "#print(model_kalman)\n",
    "for i in range(5):\n",
    "    print(model_kalman, \"  \"+str(df.columns[i]), RMSE(Ximp[:,i], X[:,i], mask[:,i]))\n",
    "print(model_kalman, \" all \", RMSE(Ximp, X, mask))\n",
    "   "
   ]
  },
  {
   "cell_type": "code",
   "execution_count": 16,
   "id": "c7f974e1-4928-40a6-a83b-0ed55c8ecb36",
   "metadata": {},
   "outputs": [
    {
     "data": {
      "text/html": [
       "<div><div id=16b1714b-bf26-4f41-a1a6-4a9ef2030998 style=\"display:none; background-color:#9D6CFF; color:white; width:200px; height:30px; padding-left:5px; border-radius:4px; flex-direction:row; justify-content:space-around; align-items:center;\" onmouseover=\"this.style.backgroundColor='#BA9BF8'\" onmouseout=\"this.style.backgroundColor='#9D6CFF'\" onclick=\"window.commands?.execute('create-mitosheet-from-dataframe-output');\">See Full Dataframe in Mito</div> <script> if (window.commands.hasCommand('create-mitosheet-from-dataframe-output')) document.getElementById('16b1714b-bf26-4f41-a1a6-4a9ef2030998').style.display = 'flex' </script> <table border=\"1\" class=\"dataframe\">\n",
       "  <thead>\n",
       "    <tr style=\"text-align: right;\">\n",
       "      <th></th>\n",
       "      <th>Temperature</th>\n",
       "      <th>Humidity</th>\n",
       "      <th>CO2</th>\n",
       "      <th>Noise</th>\n",
       "      <th>Pressure</th>\n",
       "    </tr>\n",
       "    <tr>\n",
       "      <th>time</th>\n",
       "      <th></th>\n",
       "      <th></th>\n",
       "      <th></th>\n",
       "      <th></th>\n",
       "      <th></th>\n",
       "    </tr>\n",
       "  </thead>\n",
       "  <tbody>\n",
       "    <tr>\n",
       "      <th>1617235589</th>\n",
       "      <td>NaN</td>\n",
       "      <td>0.369908</td>\n",
       "      <td>-0.071631</td>\n",
       "      <td>-0.531945</td>\n",
       "      <td>0.195873</td>\n",
       "    </tr>\n",
       "    <tr>\n",
       "      <th>1617235891</th>\n",
       "      <td>0.293575</td>\n",
       "      <td>NaN</td>\n",
       "      <td>NaN</td>\n",
       "      <td>NaN</td>\n",
       "      <td>0.195873</td>\n",
       "    </tr>\n",
       "    <tr>\n",
       "      <th>1617236194</th>\n",
       "      <td>0.293575</td>\n",
       "      <td>0.369908</td>\n",
       "      <td>NaN</td>\n",
       "      <td>-0.531945</td>\n",
       "      <td>NaN</td>\n",
       "    </tr>\n",
       "    <tr>\n",
       "      <th>1617236497</th>\n",
       "      <td>0.293575</td>\n",
       "      <td>NaN</td>\n",
       "      <td>NaN</td>\n",
       "      <td>NaN</td>\n",
       "      <td>0.195873</td>\n",
       "    </tr>\n",
       "    <tr>\n",
       "      <th>1617236799</th>\n",
       "      <td>NaN</td>\n",
       "      <td>0.369908</td>\n",
       "      <td>NaN</td>\n",
       "      <td>NaN</td>\n",
       "      <td>0.195873</td>\n",
       "    </tr>\n",
       "    <tr>\n",
       "      <th>1617237102</th>\n",
       "      <td>0.251304</td>\n",
       "      <td>0.239908</td>\n",
       "      <td>-0.272994</td>\n",
       "      <td>-0.531945</td>\n",
       "      <td>0.195873</td>\n",
       "    </tr>\n",
       "    <tr>\n",
       "      <th>1617237405</th>\n",
       "      <td>0.251304</td>\n",
       "      <td>0.239908</td>\n",
       "      <td>NaN</td>\n",
       "      <td>-0.531945</td>\n",
       "      <td>NaN</td>\n",
       "    </tr>\n",
       "    <tr>\n",
       "      <th>1617237707</th>\n",
       "      <td>0.251304</td>\n",
       "      <td>0.239908</td>\n",
       "      <td>NaN</td>\n",
       "      <td>NaN</td>\n",
       "      <td>0.195873</td>\n",
       "    </tr>\n",
       "    <tr>\n",
       "      <th>1617238010</th>\n",
       "      <td>NaN</td>\n",
       "      <td>NaN</td>\n",
       "      <td>-0.223772</td>\n",
       "      <td>-0.531945</td>\n",
       "      <td>NaN</td>\n",
       "    </tr>\n",
       "    <tr>\n",
       "      <th>1617238313</th>\n",
       "      <td>0.251304</td>\n",
       "      <td>NaN</td>\n",
       "      <td>-0.272994</td>\n",
       "      <td>-0.531945</td>\n",
       "      <td>0.181232</td>\n",
       "    </tr>\n",
       "  </tbody>\n",
       "</table></div>"
      ],
      "text/plain": [
       "            Temperature  Humidity       CO2     Noise  Pressure\n",
       "time                                                           \n",
       "1617235589          NaN  0.369908 -0.071631 -0.531945  0.195873\n",
       "1617235891     0.293575       NaN       NaN       NaN  0.195873\n",
       "1617236194     0.293575  0.369908       NaN -0.531945       NaN\n",
       "1617236497     0.293575       NaN       NaN       NaN  0.195873\n",
       "1617236799          NaN  0.369908       NaN       NaN  0.195873\n",
       "1617237102     0.251304  0.239908 -0.272994 -0.531945  0.195873\n",
       "1617237405     0.251304  0.239908       NaN -0.531945       NaN\n",
       "1617237707     0.251304  0.239908       NaN       NaN  0.195873\n",
       "1617238010          NaN       NaN -0.223772 -0.531945       NaN\n",
       "1617238313     0.251304       NaN -0.272994 -0.531945  0.181232"
      ]
     },
     "execution_count": 16,
     "metadata": {},
     "output_type": "execute_result"
    }
   ],
   "source": [
    "df.head(10)"
   ]
  },
  {
   "cell_type": "code",
   "execution_count": 151,
   "id": "4340deee-48af-4f0a-88b6-9bf09263e352",
   "metadata": {},
   "outputs": [
    {
     "name": "stdout",
     "output_type": "stream",
     "text": [
      "KNN K=  20\n",
      "Back-fill   Temperature 0.023779007725629266\n",
      "Back-fill   Humidity 0.028236604870544846\n",
      "Back-fill   CO2 0.11158811684864746\n",
      "Back-fill   Noise 0.42607945846866513\n",
      "Back-fill   Pressure 0.012309376731082636\n",
      "Back-fill  all  0.19437012695215714\n",
      "Forward-fill   Temperature 0.02424206318450242\n",
      "Forward-fill   Humidity 0.03374919760850409\n",
      "Forward-fill   CO2 0.12573825182153567\n",
      "Forward-fill   Noise 0.4876529728991461\n",
      "Forward-fill   Pressure 0.012861433045138692\n",
      "Forward-fill  all  0.22219328378225472\n",
      "Linear Interpolation   Temperature 0.017268022613511704\n",
      "Linear Interpolation   Humidity 0.02202424240047725\n",
      "Linear Interpolation   CO2 0.07521173994273728\n",
      "Linear Interpolation   Noise 0.34330267242793633\n",
      "Linear Interpolation   Pressure 0.009244767261754673\n",
      "Linear Interpolation  all  0.15496362862629107\n",
      "Quadratic Interpolation   Temperature 0.021043107204542305\n",
      "Quadratic Interpolation   Humidity 0.03150192524658523\n",
      "Quadratic Interpolation   CO2 0.09403220969187376\n",
      "Quadratic Interpolation   Noise 1.269592359549754\n",
      "Quadratic Interpolation   Pressure 0.01083876861833893\n",
      "Quadratic Interpolation  all  0.5590092297883994\n",
      "nearest_imput   Temperature 0.02387898888291761\n",
      "nearest_imput   Humidity 0.030421115372725994\n",
      "nearest_imput   CO2 0.12327786574505445\n",
      "nearest_imput   Noise 0.41491202454346704\n",
      "nearest_imput   Pressure 0.012262895659481356\n",
      "nearest_imput  all  0.1911873130877353\n",
      "polynomial interpolation   Temperature 0.02183177952379636\n",
      "polynomial interpolation   Humidity 0.03306611178302917\n",
      "polynomial interpolation   CO2 0.09788191752763586\n",
      "polynomial interpolation   Noise 1.2800287993780335\n",
      "polynomial interpolation   Pressure 0.011234516812897706\n",
      "polynomial interpolation  all  0.5637320942912649\n",
      "KNN   Temperature 0.6405687101846652\n",
      "KNN   Humidity 0.741664567162399\n",
      "KNN   CO2 0.7587113365152264\n",
      "KNN   Noise 0.9711339664574618\n",
      "KNN   Pressure 0.7985815136630878\n",
      "KNN  all  0.7877850349669877\n"
     ]
    }
   ],
   "source": [
    "# Create a dictionary of interpolations\n",
    "interpolations = {'Back-fill':bfill_imputed, 'Forward-fill':ffill_imputed,\n",
    "                  'Linear Interpolation': linear_imput, 'Quadratic Interpolation': quadratic_imput,\"nearest_imput\":nearest_imput, \"polynomial interpolation\":poly_imput, 'KNN': KNNimputed}\n",
    "#mask = R_mcar\n",
    "\n",
    "n_neighbors=20\n",
    "\n",
    "# Loop over axes and interpolations\n",
    "print(\"KNN K= \", n_neighbors)\n",
    "for df_key in  interpolations:\n",
    "    if df_key == 'KNN' :\n",
    "        Ximp = interpolations[df_key]\n",
    "    else :\n",
    "        Ximp = interpolations[df_key].values\n",
    "        \n",
    "    for i in range(5):\n",
    "        print(df_key, \"  \"+str(df.columns[i]), RMSE(Ximp[:,i], X[:,i], mask[:,i]))\n",
    "        \n",
    "    print(df_key, \" all \", RMSE(Ximp, X, mask))  \n"
   ]
  },
  {
   "cell_type": "code",
   "execution_count": null,
   "id": "35bc432a-cd8c-47aa-bd8d-be238664b1d9",
   "metadata": {},
   "outputs": [],
   "source": [
    "\n",
    "datascaler.inverse_transform(quadratic_imput)"
   ]
  },
  {
   "cell_type": "code",
   "execution_count": 29,
   "id": "5a74a991-0ff2-41ce-803e-72ce37fb5cc8",
   "metadata": {},
   "outputs": [],
   "source": [
    "from sklearn.preprocessing import StandardScaler\n",
    "X1 = df.copy()\n",
    "X1[\"time\"]=X1.index\n",
    "scaler_time = StandardScaler()\n",
    "indexscaler=scaler_time.fit(X1)\n",
    "X2 = indexscaler.transform(X1)"
   ]
  },
  {
   "cell_type": "code",
   "execution_count": 33,
   "id": "80d810d5-24ef-480f-9f92-561e7e36d17a",
   "metadata": {},
   "outputs": [
    {
     "data": {
      "text/plain": [
       "array([-1.73756519, -1.73741153, -1.73725737, ...,  1.73486047,\n",
       "        1.73501413,  1.73516779])"
      ]
     },
     "execution_count": 33,
     "metadata": {},
     "output_type": "execute_result"
    }
   ],
   "source": [
    "X2[:,5]"
   ]
  },
  {
   "cell_type": "code",
   "execution_count": null,
   "id": "e057558c-9448-4091-a761-4f0be2a47cf2",
   "metadata": {},
   "outputs": [],
   "source": [
    "import numpy as np\n",
    "from sklearn.impute import KNNImputer\n",
    "X1 = df.copy()\n",
    "X1[\"time\"]=X1.index\n",
    "print(X1.columns)\n",
    "for k in range(1,10):\n",
    "    imputer = KNNImputer(n_neighbors=k)\n",
    "    KNNimputed = imputer.fit_transform(X1)\n",
    "    Ximp= KNNimputed    \n",
    "    Ximp = Ximp[:,0:-1]\n",
    "    print(\"k = \",k)\n",
    "    for i in range(5):\n",
    "        print(\"KNN\", \"  \"+str(df.columns[i]), RMSE(Ximp[:,i], X[:,i], mask[:,i]))\n",
    "    print(\"KNN\", \" all \", RMSE(Ximp, X,mask))"
   ]
  },
  {
   "cell_type": "code",
   "execution_count": 54,
   "id": "e8baa360-24ff-469e-8ce9-dbf7cf740aaf",
   "metadata": {},
   "outputs": [
    {
     "ename": "NameError",
     "evalue": "name 'MissForest' is not defined",
     "output_type": "error",
     "traceback": [
      "\u001b[1;31m---------------------------------------------------------------------------\u001b[0m",
      "\u001b[1;31mNameError\u001b[0m                                 Traceback (most recent call last)",
      "\u001b[1;32m<ipython-input-54-709d44f3ca39>\u001b[0m in \u001b[0;36m<module>\u001b[1;34m\u001b[0m\n\u001b[1;32m----> 1\u001b[1;33m \u001b[0mimputer\u001b[0m \u001b[1;33m=\u001b[0m \u001b[0mMissForest\u001b[0m\u001b[1;33m(\u001b[0m\u001b[0mmax_iter\u001b[0m\u001b[1;33m=\u001b[0m\u001b[1;36m12\u001b[0m\u001b[1;33m,\u001b[0m \u001b[0mn_jobs\u001b[0m\u001b[1;33m=\u001b[0m\u001b[1;33m-\u001b[0m\u001b[1;36m1\u001b[0m\u001b[1;33m)\u001b[0m\u001b[1;33m\u001b[0m\u001b[1;33m\u001b[0m\u001b[0m\n\u001b[0m\u001b[0;32m      2\u001b[0m \u001b[0mX_imputed\u001b[0m \u001b[1;33m=\u001b[0m \u001b[0mimputer\u001b[0m\u001b[1;33m.\u001b[0m\u001b[0mfit_transform\u001b[0m\u001b[1;33m(\u001b[0m\u001b[0mdf\u001b[0m\u001b[1;33m)\u001b[0m\u001b[1;33m\u001b[0m\u001b[1;33m\u001b[0m\u001b[0m\n\u001b[0;32m      3\u001b[0m \u001b[0mdf1\u001b[0m \u001b[1;33m=\u001b[0m \u001b[0mpd\u001b[0m\u001b[1;33m.\u001b[0m\u001b[0mDataFrame\u001b[0m\u001b[1;33m(\u001b[0m\u001b[0mX_imputed\u001b[0m\u001b[1;33m)\u001b[0m\u001b[1;33m\u001b[0m\u001b[1;33m\u001b[0m\u001b[0m\n\u001b[0;32m      4\u001b[0m \u001b[0mdf1\u001b[0m\u001b[1;33m.\u001b[0m\u001b[0mhead\u001b[0m\u001b[1;33m(\u001b[0m\u001b[1;33m)\u001b[0m\u001b[1;33m\u001b[0m\u001b[1;33m\u001b[0m\u001b[0m\n",
      "\u001b[1;31mNameError\u001b[0m: name 'MissForest' is not defined"
     ]
    }
   ],
   "source": [
    "imputer = MissForest(max_iter=12, n_jobs=-1)\n",
    "X_imputed = imputer.fit_transform(df)\n",
    "df1 = pd.DataFrame(X_imputed)\n",
    "df1.head()"
   ]
  },
  {
   "cell_type": "code",
   "execution_count": null,
   "id": "cdde41ca-09f7-4472-8a70-dd76b68298cc",
   "metadata": {},
   "outputs": [],
   "source": [
    "from sklearn.experimental import enable_iterative_imputer\n",
    "from sklearn.impute import IterativeImputer\n",
    "# Setting the random_state argument for reproducibility\n",
    "imputer = IterativeImputer(random_state=42)\n",
    "imputed = imputer.fit_transform(df)\n",
    "df_imputed = pd.DataFrame(imputed, columns=df.columns)\n",
    "df_key=\"IterativeImputer\"\n",
    "round(df_imputed, 2)\n"
   ]
  },
  {
   "cell_type": "code",
   "execution_count": null,
   "id": "25484b1e-4b41-4e3a-836b-09aad54a0d25",
   "metadata": {},
   "outputs": [],
   "source": [
    "Ximp= y_hat.values\n",
    "print(\"k = \",k)\n",
    "for i in range(5):\n",
    "    print(df_key, \"  \"+str(df.columns[i]), RMSE(Ximp[:,i], X[:,i], mask[:,i]))\n",
    "print(df_key, \" all \", RMSE(Ximp, X, mask))    "
   ]
  },
  {
   "cell_type": "code",
   "execution_count": null,
   "id": "ed965e9c-51d7-473c-ac99-1cd44f559565",
   "metadata": {},
   "outputs": [],
   "source": [
    "y.shape"
   ]
  },
  {
   "cell_type": "code",
   "execution_count": null,
   "id": "1774feed-d7f8-4715-85ce-07e8591d0059",
   "metadata": {},
   "outputs": [],
   "source": [
    "data.shape"
   ]
  },
  {
   "cell_type": "code",
   "execution_count": null,
   "id": "79a97d04-d1ce-42fe-9a07-c131d757e0eb",
   "metadata": {},
   "outputs": [],
   "source": [
    "from sktime.transformations.series.impute import Imputer\n",
    "from sktime.datasets import load_airline\n",
    "y = df.copy()\n",
    "print(y.shape)\n",
    "import datetime\n",
    "\n",
    "# current date and time\n",
    "\n",
    "i=0\n",
    "a=[]\n",
    "\n",
    "for t in y.index:\n",
    "    a.append(datetime.datetime.fromtimestamp(t))\n",
    "    \n",
    "y.index=a\n",
    "print(y.shape)\n",
    "y = y.sort_index()\n",
    "print(y.shape)\n",
    "y=y.resample(\"300S\").mean()\n",
    "print(y.shape)\n",
    "transformer = Imputer(method=\"drift\")\n",
    "y_hat = transformer.fit_transform(y)"
   ]
  },
  {
   "cell_type": "code",
   "execution_count": null,
   "id": "99227e12-f9ca-4557-9fd0-27b7c2fe8f6b",
   "metadata": {},
   "outputs": [],
   "source": [
    "a=[]\n",
    "for t in data.index:\n",
    "    a.append(datetime.datetime.fromtimestamp(t))\n",
    "    \n",
    "data.index=a"
   ]
  },
  {
   "cell_type": "code",
   "execution_count": null,
   "id": "600af634-4a3e-4f3d-89b8-3f20264882f6",
   "metadata": {},
   "outputs": [],
   "source": [
    "y"
   ]
  },
  {
   "cell_type": "code",
   "execution_count": null,
   "id": "ee747581-fa91-4ed7-a704-ab93873f8d01",
   "metadata": {},
   "outputs": [],
   "source": [
    "db"
   ]
  },
  {
   "cell_type": "code",
   "execution_count": null,
   "id": "59a965e8-4b54-4266-bf0b-6af27edd1cfc",
   "metadata": {},
   "outputs": [],
   "source": [
    "df.index"
   ]
  },
  {
   "cell_type": "code",
   "execution_count": null,
   "id": "0fc7928a-c103-4e29-9f76-06e417412443",
   "metadata": {},
   "outputs": [],
   "source": [
    "import datetime\n",
    "\n",
    "# current date and time\n",
    "\n",
    "i=0\n",
    "a=[]\n",
    "\n",
    "for t in y.index:\n",
    "    a.append(datetime.datetime.fromtimestamp(t))     \n"
   ]
  },
  {
   "cell_type": "code",
   "execution_count": null,
   "id": "40d98e9b-876f-4369-9c85-de12a752b730",
   "metadata": {},
   "outputs": [],
   "source": [
    "y=y.resample(\"5T\").mean()"
   ]
  },
  {
   "cell_type": "code",
   "execution_count": null,
   "id": "f9d251ed-48d1-4e44-9ef7-1deded44d93f",
   "metadata": {},
   "outputs": [],
   "source": [
    "plt.plot(y.index)"
   ]
  }
 ],
 "metadata": {
  "kernelspec": {
   "display_name": "Python 3",
   "language": "python",
   "name": "python3"
  },
  "language_info": {
   "codemirror_mode": {
    "name": "ipython",
    "version": 3
   },
   "file_extension": ".py",
   "mimetype": "text/x-python",
   "name": "python",
   "nbconvert_exporter": "python",
   "pygments_lexer": "ipython3",
   "version": "3.8.8"
  }
 },
 "nbformat": 4,
 "nbformat_minor": 5
}
