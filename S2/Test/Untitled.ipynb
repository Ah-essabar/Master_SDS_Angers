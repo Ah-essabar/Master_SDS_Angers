{
 "cells": [
  {
   "cell_type": "code",
   "execution_count": 1,
   "id": "e1efe241-19a1-49fe-ba80-467287541033",
   "metadata": {},
   "outputs": [
    {
     "name": "stderr",
     "output_type": "stream",
     "text": [
      "C:\\Users\\ahmed\\AppData\\Roaming\\Python\\Python38\\site-packages\\sktime\\utils\\data_io.py:63: FutureWarning: This function has moved to datasets/_data_io, this version will be removed in V0.10\n",
      "  warn(\n",
      "C:\\Users\\ahmed\\anaconda3\\lib\\site-packages\\sklearn\\metrics\\pairwise.py:1403: UserWarning: Cython DTW is deprecated from V0.10\n",
      "  out[i, j] = metric(X[i], Y[j], **kwds)\n"
     ]
    }
   ],
   "source": [
    "from sktime.classification.distance_based import KNeighborsTimeSeriesClassifier\n",
    "from sktime.datasets import load_unit_test\n",
    "X_train, y_train = load_unit_test(return_X_y=True, split=\"train\")\n",
    "X_test, y_test = load_unit_test(return_X_y=True, split=\"test\")\n",
    "classifier = KNeighborsTimeSeriesClassifier()\n",
    "classifier.fit(X_train, y_train)\n",
    "\n",
    "y_pred = classifier.predict(X_test)"
   ]
  },
  {
   "cell_type": "code",
   "execution_count": 40,
   "id": "b0aab848-804c-465d-9738-2d30b0501416",
   "metadata": {},
   "outputs": [
    {
     "name": "stdout",
     "output_type": "stream",
     "text": [
      "Collecting tsfresh\n",
      "  Using cached tsfresh-0.19.0-py2.py3-none-any.whl (97 kB)\n",
      "Requirement already satisfied: numpy>=1.15.1 in c:\\users\\ahmed\\appdata\\roaming\\python\\python38\\site-packages (from tsfresh) (1.18.5)\n",
      "Requirement already satisfied: distributed>=2.11.0 in c:\\users\\ahmed\\anaconda3\\lib\\site-packages (from tsfresh) (2021.4.0)\n",
      "Requirement already satisfied: scikit-learn>=0.22.0 in c:\\users\\ahmed\\anaconda3\\lib\\site-packages (from tsfresh) (0.24.1)\n",
      "Requirement already satisfied: pandas>=0.25.0 in c:\\users\\ahmed\\anaconda3\\lib\\site-packages (from tsfresh) (1.2.4)\n",
      "Requirement already satisfied: patsy>=0.4.1 in c:\\users\\ahmed\\anaconda3\\lib\\site-packages (from tsfresh) (0.5.1)\n",
      "Collecting statsmodels>=0.13\n",
      "  Using cached statsmodels-0.13.2-cp38-cp38-win_amd64.whl (9.1 MB)\n",
      "Requirement already satisfied: scipy>=1.2.0 in c:\\users\\ahmed\\anaconda3\\lib\\site-packages (from tsfresh) (1.8.0)\n",
      "Collecting matrixprofile<2.0.0,>=1.1.10\n",
      "  Using cached matrixprofile-1.1.10-cp38-cp38-win_amd64.whl (515 kB)\n",
      "Requirement already satisfied: cloudpickle in c:\\users\\ahmed\\anaconda3\\lib\\site-packages (from tsfresh) (1.6.0)\n",
      "Requirement already satisfied: tqdm>=4.10.0 in c:\\users\\ahmed\\anaconda3\\lib\\site-packages (from tsfresh) (4.59.0)\n",
      "Requirement already satisfied: dask[dataframe]>=2.9.0 in c:\\users\\ahmed\\anaconda3\\lib\\site-packages (from tsfresh) (2021.4.0)\n",
      "Requirement already satisfied: requests>=2.9.1 in c:\\users\\ahmed\\anaconda3\\lib\\site-packages (from tsfresh) (2.25.1)\n",
      "Collecting stumpy>=1.7.2\n",
      "  Using cached stumpy-1.10.2-py3-none-any.whl (119 kB)\n",
      "Requirement already satisfied: partd>=0.3.10 in c:\\users\\ahmed\\anaconda3\\lib\\site-packages (from dask[dataframe]>=2.9.0->tsfresh) (1.2.0)\n",
      "Requirement already satisfied: toolz>=0.8.2 in c:\\users\\ahmed\\anaconda3\\lib\\site-packages (from dask[dataframe]>=2.9.0->tsfresh) (0.11.1)\n",
      "Requirement already satisfied: fsspec>=0.6.0 in c:\\users\\ahmed\\anaconda3\\lib\\site-packages (from dask[dataframe]>=2.9.0->tsfresh) (0.9.0)\n",
      "Requirement already satisfied: pyyaml in c:\\users\\ahmed\\anaconda3\\lib\\site-packages (from dask[dataframe]>=2.9.0->tsfresh) (5.4.1)\n",
      "Requirement already satisfied: tornado>=6.0.3 in c:\\users\\ahmed\\anaconda3\\lib\\site-packages (from distributed>=2.11.0->tsfresh) (6.1)\n",
      "Requirement already satisfied: click>=6.6 in c:\\users\\ahmed\\anaconda3\\lib\\site-packages (from distributed>=2.11.0->tsfresh) (7.1.2)\n",
      "Requirement already satisfied: setuptools in c:\\users\\ahmed\\anaconda3\\lib\\site-packages (from distributed>=2.11.0->tsfresh) (52.0.0.post20210125)\n",
      "Requirement already satisfied: psutil>=5.0 in c:\\users\\ahmed\\anaconda3\\lib\\site-packages (from distributed>=2.11.0->tsfresh) (5.8.0)\n",
      "Requirement already satisfied: tblib>=1.6.0 in c:\\users\\ahmed\\anaconda3\\lib\\site-packages (from distributed>=2.11.0->tsfresh) (1.7.0)\n",
      "Requirement already satisfied: sortedcontainers!=2.0.0,!=2.0.1 in c:\\users\\ahmed\\anaconda3\\lib\\site-packages (from distributed>=2.11.0->tsfresh) (2.3.0)\n",
      "Requirement already satisfied: zict>=0.1.3 in c:\\users\\ahmed\\anaconda3\\lib\\site-packages (from distributed>=2.11.0->tsfresh) (2.0.0)\n",
      "Requirement already satisfied: msgpack>=0.6.0 in c:\\users\\ahmed\\anaconda3\\lib\\site-packages (from distributed>=2.11.0->tsfresh) (1.0.2)\n",
      "Requirement already satisfied: matplotlib>=3.0.3 in c:\\users\\ahmed\\anaconda3\\lib\\site-packages (from matrixprofile<2.0.0,>=1.1.10->tsfresh) (3.3.4)\n",
      "Collecting protobuf==3.11.2\n",
      "  Using cached protobuf-3.11.2-py2.py3-none-any.whl (434 kB)\n",
      "Requirement already satisfied: six>=1.9 in c:\\users\\ahmed\\anaconda3\\lib\\site-packages (from protobuf==3.11.2->matrixprofile<2.0.0,>=1.1.10->tsfresh) (1.15.0)\n",
      "Requirement already satisfied: python-dateutil>=2.7.3 in c:\\users\\ahmed\\anaconda3\\lib\\site-packages (from pandas>=0.25.0->tsfresh) (2.8.1)\n",
      "Requirement already satisfied: pytz>=2017.3 in c:\\users\\ahmed\\anaconda3\\lib\\site-packages (from pandas>=0.25.0->tsfresh) (2021.1)\n",
      "Requirement already satisfied: chardet<5,>=3.0.2 in c:\\users\\ahmed\\anaconda3\\lib\\site-packages (from requests>=2.9.1->tsfresh) (4.0.0)\n",
      "Requirement already satisfied: certifi>=2017.4.17 in c:\\users\\ahmed\\anaconda3\\lib\\site-packages (from requests>=2.9.1->tsfresh) (2021.10.8)\n",
      "Requirement already satisfied: urllib3<1.27,>=1.21.1 in c:\\users\\ahmed\\anaconda3\\lib\\site-packages (from requests>=2.9.1->tsfresh) (1.26.4)\n",
      "Requirement already satisfied: idna<3,>=2.5 in c:\\users\\ahmed\\anaconda3\\lib\\site-packages (from requests>=2.9.1->tsfresh) (2.10)\n",
      "Requirement already satisfied: joblib>=0.11 in c:\\users\\ahmed\\anaconda3\\lib\\site-packages (from scikit-learn>=0.22.0->tsfresh) (1.0.1)\n",
      "Requirement already satisfied: threadpoolctl>=2.0.0 in c:\\users\\ahmed\\anaconda3\\lib\\site-packages (from scikit-learn>=0.22.0->tsfresh) (2.1.0)\n",
      "Collecting packaging>=21.3\n",
      "  Using cached packaging-21.3-py3-none-any.whl (40 kB)\n",
      "Collecting patsy>=0.4.1\n",
      "  Using cached patsy-0.5.2-py2.py3-none-any.whl (233 kB)\n",
      "Requirement already satisfied: numba>=0.48 in c:\\users\\ahmed\\anaconda3\\lib\\site-packages (from stumpy>=1.7.2->tsfresh) (0.53.1)\n",
      "Requirement already satisfied: pillow>=6.2.0 in c:\\users\\ahmed\\anaconda3\\lib\\site-packages (from matplotlib>=3.0.3->matrixprofile<2.0.0,>=1.1.10->tsfresh) (8.2.0)\n",
      "Requirement already satisfied: pyparsing!=2.0.4,!=2.1.2,!=2.1.6,>=2.0.3 in c:\\users\\ahmed\\anaconda3\\lib\\site-packages (from matplotlib>=3.0.3->matrixprofile<2.0.0,>=1.1.10->tsfresh) (2.4.7)\n",
      "Requirement already satisfied: cycler>=0.10 in c:\\users\\ahmed\\anaconda3\\lib\\site-packages (from matplotlib>=3.0.3->matrixprofile<2.0.0,>=1.1.10->tsfresh) (0.10.0)\n",
      "Requirement already satisfied: kiwisolver>=1.0.1 in c:\\users\\ahmed\\anaconda3\\lib\\site-packages (from matplotlib>=3.0.3->matrixprofile<2.0.0,>=1.1.10->tsfresh) (1.3.1)\n",
      "Requirement already satisfied: llvmlite<0.37,>=0.36.0rc1 in c:\\users\\ahmed\\anaconda3\\lib\\site-packages (from numba>=0.48->stumpy>=1.7.2->tsfresh) (0.36.0)\n",
      "Requirement already satisfied: locket in c:\\users\\ahmed\\anaconda3\\lib\\site-packages\\locket-0.2.1-py3.8.egg (from partd>=0.3.10->dask[dataframe]>=2.9.0->tsfresh) (0.2.1)\n",
      "Requirement already satisfied: heapdict in c:\\users\\ahmed\\anaconda3\\lib\\site-packages (from zict>=0.1.3->distributed>=2.11.0->tsfresh) (1.0.1)\n",
      "Installing collected packages: protobuf, patsy, packaging, stumpy, statsmodels, matrixprofile, tsfresh\n",
      "  Attempting uninstall: protobuf\n",
      "    Found existing installation: protobuf 3.14.0\n",
      "    Uninstalling protobuf-3.14.0:\n",
      "      Successfully uninstalled protobuf-3.14.0\n",
      "  Attempting uninstall: patsy\n",
      "    Found existing installation: patsy 0.5.1\n",
      "    Uninstalling patsy-0.5.1:\n",
      "      Successfully uninstalled patsy-0.5.1\n",
      "  Attempting uninstall: packaging\n",
      "    Found existing installation: packaging 20.9\n",
      "    Uninstalling packaging-20.9:\n",
      "      Successfully uninstalled packaging-20.9\n",
      "  Attempting uninstall: statsmodels\n",
      "    Found existing installation: statsmodels 0.12.1\n",
      "    Uninstalling statsmodels-0.12.1:\n",
      "      Successfully uninstalled statsmodels-0.12.1\n"
     ]
    },
    {
     "name": "stderr",
     "output_type": "stream",
     "text": [
      "WARNING: Ignoring invalid distribution -ensorflow-gpu (c:\\users\\ahmed\\appdata\\roaming\\python\\python38\\site-packages)\n",
      "WARNING: Ignoring invalid distribution -ensorflow-gpu (c:\\users\\ahmed\\appdata\\roaming\\python\\python38\\site-packages)\n",
      "WARNING: Ignoring invalid distribution -ensorflow-gpu (c:\\users\\ahmed\\appdata\\roaming\\python\\python38\\site-packages)\n",
      "    WARNING: Ignoring invalid distribution -ensorflow-gpu (c:\\users\\ahmed\\appdata\\roaming\\python\\python38\\site-packages)\n",
      "    WARNING: Ignoring invalid distribution -ensorflow-gpu (c:\\users\\ahmed\\appdata\\roaming\\python\\python38\\site-packages)\n",
      "    WARNING: Ignoring invalid distribution -ensorflow-gpu (c:\\users\\ahmed\\appdata\\roaming\\python\\python38\\site-packages)\n",
      "    WARNING: Ignoring invalid distribution -ensorflow-gpu (c:\\users\\ahmed\\appdata\\roaming\\python\\python38\\site-packages)\n",
      "ERROR: Could not install packages due to an OSError: [WinError 5] Accès refusé: 'C:\\\\Users\\\\ahmed\\\\AppData\\\\Roaming\\\\Python\\\\Python38\\\\site-packages\\\\~tatsmodels\\\\nonparametric\\\\linbin.cp38-win_amd64.pyd'\n",
      "Consider using the `--user` option or check the permissions.\n",
      "\n",
      "WARNING: Ignoring invalid distribution -ensorflow-gpu (c:\\users\\ahmed\\appdata\\roaming\\python\\python38\\site-packages)\n",
      "WARNING: Ignoring invalid distribution -ensorflow-gpu (c:\\users\\ahmed\\appdata\\roaming\\python\\python38\\site-packages)\n",
      "WARNING: Ignoring invalid distribution -ensorflow-gpu (c:\\users\\ahmed\\appdata\\roaming\\python\\python38\\site-packages)\n",
      "WARNING: You are using pip version 22.0.3; however, version 22.0.4 is available.\n",
      "You should consider upgrading via the 'c:\\users\\ahmed\\anaconda3\\python.exe -m pip install --upgrade pip' command.\n"
     ]
    },
    {
     "ename": "ModuleNotFoundError",
     "evalue": "No module named 'tsfresh'. 'tsfresh' is a soft dependency and not included in the sktime installation. Please run: `pip install tsfresh`. To install all soft dependencies, run: `pip install sktime[all_extras]`",
     "output_type": "error",
     "traceback": [
      "\u001b[1;31m---------------------------------------------------------------------------\u001b[0m",
      "\u001b[1;31mModuleNotFoundError\u001b[0m                       Traceback (most recent call last)",
      "\u001b[1;32m~\\AppData\\Roaming\\Python\\Python38\\site-packages\\sktime\\utils\\validation\\_dependencies.py\u001b[0m in \u001b[0;36m_check_soft_dependencies\u001b[1;34m(*packages)\u001b[0m\n\u001b[0;32m     22\u001b[0m         \u001b[1;32mtry\u001b[0m\u001b[1;33m:\u001b[0m\u001b[1;33m\u001b[0m\u001b[1;33m\u001b[0m\u001b[0m\n\u001b[1;32m---> 23\u001b[1;33m             \u001b[0mimport_module\u001b[0m\u001b[1;33m(\u001b[0m\u001b[0mpackage\u001b[0m\u001b[1;33m)\u001b[0m\u001b[1;33m\u001b[0m\u001b[1;33m\u001b[0m\u001b[0m\n\u001b[0m\u001b[0;32m     24\u001b[0m         \u001b[1;32mexcept\u001b[0m \u001b[0mModuleNotFoundError\u001b[0m \u001b[1;32mas\u001b[0m \u001b[0me\u001b[0m\u001b[1;33m:\u001b[0m\u001b[1;33m\u001b[0m\u001b[1;33m\u001b[0m\u001b[0m\n",
      "\u001b[1;32m~\\anaconda3\\lib\\importlib\\__init__.py\u001b[0m in \u001b[0;36mimport_module\u001b[1;34m(name, package)\u001b[0m\n\u001b[0;32m    126\u001b[0m             \u001b[0mlevel\u001b[0m \u001b[1;33m+=\u001b[0m \u001b[1;36m1\u001b[0m\u001b[1;33m\u001b[0m\u001b[1;33m\u001b[0m\u001b[0m\n\u001b[1;32m--> 127\u001b[1;33m     \u001b[1;32mreturn\u001b[0m \u001b[0m_bootstrap\u001b[0m\u001b[1;33m.\u001b[0m\u001b[0m_gcd_import\u001b[0m\u001b[1;33m(\u001b[0m\u001b[0mname\u001b[0m\u001b[1;33m[\u001b[0m\u001b[0mlevel\u001b[0m\u001b[1;33m:\u001b[0m\u001b[1;33m]\u001b[0m\u001b[1;33m,\u001b[0m \u001b[0mpackage\u001b[0m\u001b[1;33m,\u001b[0m \u001b[0mlevel\u001b[0m\u001b[1;33m)\u001b[0m\u001b[1;33m\u001b[0m\u001b[1;33m\u001b[0m\u001b[0m\n\u001b[0m\u001b[0;32m    128\u001b[0m \u001b[1;33m\u001b[0m\u001b[0m\n",
      "\u001b[1;32m~\\anaconda3\\lib\\importlib\\_bootstrap.py\u001b[0m in \u001b[0;36m_gcd_import\u001b[1;34m(name, package, level)\u001b[0m\n",
      "\u001b[1;32m~\\anaconda3\\lib\\importlib\\_bootstrap.py\u001b[0m in \u001b[0;36m_find_and_load\u001b[1;34m(name, import_)\u001b[0m\n",
      "\u001b[1;32m~\\anaconda3\\lib\\importlib\\_bootstrap.py\u001b[0m in \u001b[0;36m_find_and_load_unlocked\u001b[1;34m(name, import_)\u001b[0m\n",
      "\u001b[1;31mModuleNotFoundError\u001b[0m: No module named 'tsfresh'",
      "\nThe above exception was the direct cause of the following exception:\n",
      "\u001b[1;31mModuleNotFoundError\u001b[0m                       Traceback (most recent call last)",
      "\u001b[1;32m<ipython-input-40-d453cae6c0de>\u001b[0m in \u001b[0;36m<module>\u001b[1;34m\u001b[0m\n\u001b[0;32m      6\u001b[0m \u001b[1;33m\u001b[0m\u001b[0m\n\u001b[0;32m      7\u001b[0m \u001b[1;32mfrom\u001b[0m \u001b[0msktime\u001b[0m\u001b[1;33m.\u001b[0m\u001b[0mdatasets\u001b[0m \u001b[1;32mimport\u001b[0m \u001b[0mload_arrow_head\u001b[0m\u001b[1;33m,\u001b[0m \u001b[0mload_basic_motions\u001b[0m\u001b[1;33m\u001b[0m\u001b[1;33m\u001b[0m\u001b[0m\n\u001b[1;32m----> 8\u001b[1;33m \u001b[1;32mfrom\u001b[0m \u001b[0msktime\u001b[0m\u001b[1;33m.\u001b[0m\u001b[0mtransformations\u001b[0m\u001b[1;33m.\u001b[0m\u001b[0mpanel\u001b[0m\u001b[1;33m.\u001b[0m\u001b[0mtsfresh\u001b[0m \u001b[1;32mimport\u001b[0m \u001b[0mTSFreshFeatureExtractor\u001b[0m\u001b[1;33m\u001b[0m\u001b[1;33m\u001b[0m\u001b[0m\n\u001b[0m",
      "\u001b[1;32m~\\AppData\\Roaming\\Python\\Python38\\site-packages\\sktime\\transformations\\panel\\tsfresh.py\u001b[0m in \u001b[0;36m<module>\u001b[1;34m\u001b[0m\n\u001b[0;32m     15\u001b[0m \u001b[1;32mfrom\u001b[0m \u001b[0msktime\u001b[0m\u001b[1;33m.\u001b[0m\u001b[0mutils\u001b[0m\u001b[1;33m.\u001b[0m\u001b[0mvalidation\u001b[0m\u001b[1;33m.\u001b[0m\u001b[0mpanel\u001b[0m \u001b[1;32mimport\u001b[0m \u001b[0mcheck_X_y\u001b[0m\u001b[1;33m\u001b[0m\u001b[1;33m\u001b[0m\u001b[0m\n\u001b[0;32m     16\u001b[0m \u001b[1;33m\u001b[0m\u001b[0m\n\u001b[1;32m---> 17\u001b[1;33m \u001b[0m_check_soft_dependencies\u001b[0m\u001b[1;33m(\u001b[0m\u001b[1;34m\"tsfresh\"\u001b[0m\u001b[1;33m)\u001b[0m\u001b[1;33m\u001b[0m\u001b[1;33m\u001b[0m\u001b[0m\n\u001b[0m\u001b[0;32m     18\u001b[0m \u001b[1;33m\u001b[0m\u001b[0m\n\u001b[0;32m     19\u001b[0m \u001b[1;33m\u001b[0m\u001b[0m\n",
      "\u001b[1;32m~\\AppData\\Roaming\\Python\\Python38\\site-packages\\sktime\\utils\\validation\\_dependencies.py\u001b[0m in \u001b[0;36m_check_soft_dependencies\u001b[1;34m(*packages)\u001b[0m\n\u001b[0;32m     29\u001b[0m                 \u001b[1;34mf\"sktime[all_extras]`\"\u001b[0m\u001b[1;33m\u001b[0m\u001b[1;33m\u001b[0m\u001b[0m\n\u001b[0;32m     30\u001b[0m             )\n\u001b[1;32m---> 31\u001b[1;33m             \u001b[1;32mraise\u001b[0m \u001b[0mModuleNotFoundError\u001b[0m\u001b[1;33m(\u001b[0m\u001b[0mmsg\u001b[0m\u001b[1;33m)\u001b[0m \u001b[1;32mfrom\u001b[0m \u001b[0me\u001b[0m\u001b[1;33m\u001b[0m\u001b[1;33m\u001b[0m\u001b[0m\n\u001b[0m",
      "\u001b[1;31mModuleNotFoundError\u001b[0m: No module named 'tsfresh'. 'tsfresh' is a soft dependency and not included in the sktime installation. Please run: `pip install tsfresh`. To install all soft dependencies, run: `pip install sktime[all_extras]`"
     ]
    }
   ],
   "source": [
    "!pip install tsfresh\n",
    "import numpy as np\n",
    "from sklearn.ensemble import RandomForestClassifier\n",
    "from sklearn.model_selection import train_test_split\n",
    "from sklearn.pipeline import make_pipeline\n",
    "\n",
    "from sktime.datasets import load_arrow_head, load_basic_motions\n",
    "from sktime.transformations.panel.tsfresh import TSFreshFeatureExtractor"
   ]
  },
  {
   "cell_type": "code",
   "execution_count": 36,
   "id": "4d0e42c6-9ddc-47a9-aa7d-9a1725920bd7",
   "metadata": {},
   "outputs": [
    {
     "data": {
      "text/plain": [
       "ForecastingHorizon(['1958-01', '1958-02', '1958-03', '1958-04', '1958-05', '1958-06',\n",
       "             '1958-07', '1958-08', '1958-09', '1958-10', '1958-11', '1958-12',\n",
       "             '1959-01', '1959-02', '1959-03', '1959-04', '1959-05', '1959-06',\n",
       "             '1959-07', '1959-08', '1959-09', '1959-10', '1959-11', '1959-12',\n",
       "             '1960-01', '1960-02', '1960-03', '1960-04', '1960-05', '1960-06',\n",
       "             '1960-07', '1960-08', '1960-09', '1960-10', '1960-11', '1960-12'],\n",
       "            dtype='period[M]', name='Period', freq='M', is_relative=False)"
      ]
     },
     "execution_count": 36,
     "metadata": {},
     "output_type": "execute_result"
    }
   ],
   "source": [
    "fh"
   ]
  },
  {
   "cell_type": "code",
   "execution_count": 15,
   "id": "22029304-e950-4dd8-8fc6-fbe2aca728db",
   "metadata": {},
   "outputs": [
    {
     "data": {
      "application/vnd.jupyter.widget-view+json": {
       "model_id": "e653bbb041f543589c3e46664886cba7",
       "version_major": 2,
       "version_minor": 0
      },
      "text/plain": [
       "MitoWidget(analysis_data_json='{\"analysisName\": \"UUID-54e9e8ba-1560-4ce0-8753-521dc05e1f88\", \"code\": {\"imports…"
      ]
     },
     "metadata": {},
     "output_type": "display_data"
    }
   ],
   "source": [
    "import mitosheet\n",
    "mitosheet.sheet(X_train, view_df=True)"
   ]
  },
  {
   "cell_type": "code",
   "execution_count": null,
   "id": "23a77750-01fb-41a5-8f73-ce6e29bdd4af",
   "metadata": {},
   "outputs": [],
   "source": []
  },
  {
   "cell_type": "code",
   "execution_count": 8,
   "id": "96feb3f9-d2ec-4a84-9bc1-c789b5ebce2f",
   "metadata": {},
   "outputs": [
    {
     "data": {
      "text/plain": [
       "(22, 1)"
      ]
     },
     "execution_count": 8,
     "metadata": {},
     "output_type": "execute_result"
    }
   ],
   "source": [
    "X_test.shape\n"
   ]
  },
  {
   "cell_type": "code",
   "execution_count": null,
   "id": "8ebf36a2-754d-42d5-8a1c-bf49981da273",
   "metadata": {},
   "outputs": [],
   "source": []
  }
 ],
 "metadata": {
  "kernelspec": {
   "display_name": "Python 3",
   "language": "python",
   "name": "python3"
  },
  "language_info": {
   "codemirror_mode": {
    "name": "ipython",
    "version": 3
   },
   "file_extension": ".py",
   "mimetype": "text/x-python",
   "name": "python",
   "nbconvert_exporter": "python",
   "pygments_lexer": "ipython3",
   "version": "3.8.8"
  }
 },
 "nbformat": 4,
 "nbformat_minor": 5
}
