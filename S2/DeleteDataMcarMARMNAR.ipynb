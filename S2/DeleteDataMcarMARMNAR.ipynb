{
 "cells": [
  {
   "cell_type": "markdown",
   "id": "b36c2cd6-53cd-4a0b-8f46-936ec631e9de",
   "metadata": {},
   "source": [
    "https://rmisstastic.netlify.app/how-to/python/generate_html/how%20to%20generate%20missing%20values"
   ]
  },
  {
   "cell_type": "code",
   "execution_count": 29,
   "id": "a9b1f1f9-8e52-4a93-bc8a-260bef670002",
   "metadata": {},
   "outputs": [],
   "source": [
    "#!pip install torch"
   ]
  },
  {
   "cell_type": "code",
   "execution_count": 8,
   "id": "4bf23c93-27c2-48e6-961b-19839e563c81",
   "metadata": {},
   "outputs": [],
   "source": [
    "\n",
    "#!pip install wget \n",
    "\n",
    "import wget\n",
    "wget.download('https://raw.githubusercontent.com/BorisMuzellec/MissingDataOT/master/utils.py')\n",
    "\n",
    "import numpy as np\n",
    "import pandas as pd\n",
    "from utils import *\n",
    "import torch\n",
    "import seaborn as sns"
   ]
  },
  {
   "cell_type": "code",
   "execution_count": 9,
   "id": "e47a5d85-7679-430c-bd14-7805a5ef724c",
   "metadata": {},
   "outputs": [],
   "source": [
    "# Fix the seed ------------------------------------------------------\n",
    "np.random.seed(0)"
   ]
  },
  {
   "cell_type": "code",
   "execution_count": 10,
   "id": "764d7c46-34ac-4604-ac93-d94ae12b59fd",
   "metadata": {},
   "outputs": [
    {
     "data": {
      "text/html": [
       "<div><div id=633f0fd5-6fee-4aa9-a495-707ca95a552f style=\"display:none; background-color:#9D6CFF; color:white; width:200px; height:30px; padding-left:5px; border-radius:4px; flex-direction:row; justify-content:space-around; align-items:center;\" onmouseover=\"this.style.backgroundColor='#BA9BF8'\" onmouseout=\"this.style.backgroundColor='#9D6CFF'\" onclick=\"window.commands?.execute('create-mitosheet-from-dataframe-output');\">See Full Dataframe in Mito</div> <script> if (window.commands.hasCommand('create-mitosheet-from-dataframe-output')) document.getElementById('633f0fd5-6fee-4aa9-a495-707ca95a552f').style.display = 'flex' </script> <table border=\"1\" class=\"dataframe\">\n",
       "  <thead>\n",
       "    <tr style=\"text-align: right;\">\n",
       "      <th></th>\n",
       "      <th>0</th>\n",
       "      <th>1</th>\n",
       "      <th>2</th>\n",
       "      <th>3</th>\n",
       "    </tr>\n",
       "  </thead>\n",
       "  <tbody>\n",
       "    <tr>\n",
       "      <th>0</th>\n",
       "      <td>2.380172</td>\n",
       "      <td>4.405363</td>\n",
       "      <td>1.0</td>\n",
       "      <td>F</td>\n",
       "    </tr>\n",
       "    <tr>\n",
       "      <th>1</th>\n",
       "      <td>3.379180</td>\n",
       "      <td>2.400869</td>\n",
       "      <td>0.0</td>\n",
       "      <td>D</td>\n",
       "    </tr>\n",
       "    <tr>\n",
       "      <th>2</th>\n",
       "      <td>1.341582</td>\n",
       "      <td>4.944151</td>\n",
       "      <td>0.0</td>\n",
       "      <td>E</td>\n",
       "    </tr>\n",
       "    <tr>\n",
       "      <th>3</th>\n",
       "      <td>1.450141</td>\n",
       "      <td>2.922843</td>\n",
       "      <td>0.0</td>\n",
       "      <td>D</td>\n",
       "    </tr>\n",
       "    <tr>\n",
       "      <th>4</th>\n",
       "      <td>1.266093</td>\n",
       "      <td>0.695726</td>\n",
       "      <td>2.0</td>\n",
       "      <td>D</td>\n",
       "    </tr>\n",
       "  </tbody>\n",
       "</table></div>"
      ],
      "text/plain": [
       "          0         1    2  3\n",
       "0  2.380172  4.405363  1.0  F\n",
       "1  3.379180  2.400869  0.0  D\n",
       "2  1.341582  4.944151  0.0  E\n",
       "3  1.450141  2.922843  0.0  D\n",
       "4  1.266093  0.695726  2.0  D"
      ]
     },
     "execution_count": 10,
     "metadata": {},
     "output_type": "execute_result"
    }
   ],
   "source": [
    "# Sample data generation ------------------------------------------------------\n",
    "# Generate complete data\n",
    "\n",
    "n = 100\n",
    "p = 2\n",
    "\n",
    "mu_X = np.repeat(1, p)\n",
    "Sigma_X = np.array([[1, 1], [1, 4]])\n",
    "X_complete_cont = np.random.multivariate_normal(mu_X, Sigma_X, size=n)\n",
    "\n",
    "from scipy.stats import poisson\n",
    "\n",
    "lamb = 0.5\n",
    "X_complete_discr = poisson.rvs(lamb, size=n)\n",
    "X_complete_discr = np.expand_dims(X_complete_discr, axis=1)\n",
    "\n",
    "\n",
    "n_cat = 5\n",
    "X_complete_cat = np.random.binomial(n=n_cat, p=0.5, size=n)\n",
    "X_complete_cat = np.expand_dims(X_complete_cat, axis=1)\n",
    "\n",
    "X_complete = np.concatenate((X_complete_cont, X_complete_discr, X_complete_cat),axis=1)\n",
    "\n",
    "X_complete = pd.DataFrame(X_complete)\n",
    "X_complete.iloc[:, 3] = X_complete.iloc[:, 3].astype('category')\n",
    "X_complete.iloc[:, 3].cat.categories = [\"F\", \"E\", \"D\", \"C\", \"B\", \"A\"]\n",
    "X_complete.head()"
   ]
  },
  {
   "cell_type": "code",
   "execution_count": 27,
   "id": "fef7c2a2-c8f7-499d-b685-12936a52be5b",
   "metadata": {},
   "outputs": [],
   "source": [
    "# Function produce_NA for generating missing values ------------------------------------------------------\n",
    "\n",
    "def produce_NA(X, p_miss, mecha=\"MCAR\", opt=None, p_obs=None, q=None):\n",
    "    \"\"\"\n",
    "    Generate missing values for specifics missing-data mechanism and proportion of missing values. \n",
    "    \n",
    "    Parameters\n",
    "    ----------\n",
    "    X : torch.DoubleTensor or np.ndarray, shape (n, d)\n",
    "        Data for which missing values will be simulated.\n",
    "        If a numpy array is provided, it will be converted to a pytorch tensor.\n",
    "    p_miss : float\n",
    "        Proportion of missing values to generate for variables which will have missing values.\n",
    "    mecha : str, \n",
    "            Indicates the missing-data mechanism to be used. \"MCAR\" by default, \"MAR\", \"MNAR\" or \"MNARsmask\"\n",
    "    opt: str, \n",
    "         For mecha = \"MNAR\", it indicates how the missing-data mechanism is generated: using a logistic regression (\"logistic\"), quantile censorship (\"quantile\") or logistic regression for generating a self-masked MNAR mechanism (\"selfmasked\").\n",
    "    p_obs : float\n",
    "            If mecha = \"MAR\", or mecha = \"MNAR\" with opt = \"logistic\" or \"quanti\", proportion of variables with *no* missing values that will be used for the logistic masking model.\n",
    "    q : float\n",
    "        If mecha = \"MNAR\" and opt = \"quanti\", quantile level at which the cuts should occur.\n",
    "    \n",
    "    Returns\n",
    "    ----------\n",
    "    A dictionnary containing:\n",
    "    'X_init': the initial data matrix.\n",
    "    'X_incomp': the data with the generated missing values.\n",
    "    'mask': a matrix indexing the generated missing values.s\n",
    "    \"\"\"\n",
    "    \n",
    "    to_torch = torch.is_tensor(X) ## output a pytorch tensor, or a numpy array\n",
    "    if not to_torch:\n",
    "        X = X.astype(np.float32)\n",
    "        X = torch.from_numpy(X)\n",
    "    \n",
    "    if mecha == \"MAR\":\n",
    "        mask = MAR_mask(X, p_miss, p_obs).double()\n",
    "    elif mecha == \"MNAR\" and opt == \"logistic\":\n",
    "        mask = MNAR_mask_logistic(X, p_miss, p_obs).double()\n",
    "    elif mecha == \"MNAR\" and opt == \"quantile\":\n",
    "        mask = MNAR_mask_quantiles(X, p_miss, q, 1-p_obs).double()\n",
    "    elif mecha == \"MNAR\" and opt == \"selfmasked\":\n",
    "        mask = MNAR_self_mask_logistic(X, p_miss).double()\n",
    "    else:\n",
    "        mask = (torch.rand(X.shape) < p_miss).double()\n",
    "    \n",
    "    X_nas = X.clone()\n",
    "    X_nas[mask.bool()] = np.nan\n",
    "    \n",
    "    return {'X_init': X.double(), 'X_incomp': X_nas.double(), 'mask': mask}"
   ]
  },
  {
   "cell_type": "code",
   "execution_count": 28,
   "id": "24af962d-9837-4d5d-ab1a-b04a492a6708",
   "metadata": {},
   "outputs": [
    {
     "name": "stdout",
     "output_type": "stream",
     "text": [
      "Percentage of newly generated missing values:  44.5  %\n"
     ]
    }
   ],
   "source": [
    "# Minimal example for generating missing data ------------------------\n",
    "X_miss_mcar = produce_NA(X_complete_cont, p_miss=0.4, mecha=\"MCAR\")\n",
    "\n",
    "X_mcar = X_miss_mcar['X_incomp']\n",
    "R_mcar = X_miss_mcar['mask']\n",
    "\n",
    "print(\"Percentage of newly generated missing values: \", (R_mcar.sum()).numpy()/np.prod(R_mcar.size())*100, \" %\")"
   ]
  },
  {
   "cell_type": "code",
   "execution_count": 30,
   "id": "c345e5e7-caec-4b76-97b4-d27c6051533d",
   "metadata": {},
   "outputs": [
    {
     "name": "stdout",
     "output_type": "stream",
     "text": [
      "Percentage of generated missing values:  25.0  %\n"
     ]
    },
    {
     "data": {
      "image/png": "[encoded data removed]",
      "text/plain": [
       "<Figure size 432x288 with 2 Axes>"
      ]
     },
     "metadata": {
      "needs_background": "light"
     },
     "output_type": "display_data"
    }
   ],
   "source": [
    "# Sample mar data -----------------------------------------\n",
    "X_miss_mar = produce_NA(X_complete_cont, p_miss=0.4, mecha=\"MAR\", p_obs=0.5)\n",
    "\n",
    "X_mar = X_miss_mar['X_incomp']\n",
    "R_mar = X_miss_mar['mask']\n",
    "\n",
    "print(\"Percentage of generated missing values: \", (R_mar.sum()).numpy()/np.prod(R_mar.size())*100, \" %\")\n",
    "\n",
    "ax = sns.heatmap(X_mar, mask=R_mar.numpy()==1, linewidths=0.005, linecolor='black')"
   ]
  },
  {
   "cell_type": "code",
   "execution_count": 15,
   "id": "d5ce04a7-3e54-49d3-9d2a-67370ab25878",
   "metadata": {},
   "outputs": [
    {
     "data": {
      "image/png": "[encoded data removed]",
      "text/plain": [
       "<Figure size 432x288 with 2 Axes>"
      ]
     },
     "metadata": {
      "needs_background": "light"
     },
     "output_type": "display_data"
    }
   ],
   "source": [
    "ax = sns.heatmap(X_mcar, mask=R_mcar.numpy()==1, linewidths=0.005, linecolor='black')"
   ]
  },
  {
   "cell_type": "code",
   "execution_count": 26,
   "id": "1da4565e-5e91-4e62-911f-5d478f4b6e0e",
   "metadata": {},
   "outputs": [
    {
     "name": "stdout",
     "output_type": "stream",
     "text": [
      "Percentage of generated missing values:  20.5  %\n"
     ]
    },
    {
     "data": {
      "image/png": "[encoded data removed]",
      "text/plain": [
       "<Figure size 432x288 with 2 Axes>"
      ]
     },
     "metadata": {
      "needs_background": "light"
     },
     "output_type": "display_data"
    }
   ],
   "source": [
    "# Sample mcar data -----------------------------------------\n",
    "X_miss_mcar = produce_NA(X_complete_cont, p_miss=0.2, mecha=\"MCAR\")\n",
    "\n",
    "X_mcar = X_miss_mcar['X_incomp']\n",
    "R_mcar = X_miss_mcar['mask']\n",
    "\n",
    "print(\"Percentage of generated missing values: \", (R_mcar.sum()).numpy()/np.prod(R_mcar.size())*100, \" %\")\n",
    "\n",
    "ax = sns.heatmap(X_mcar, mask=R_mcar.numpy()==1, linewidths=0.005, linecolor='black')"
   ]
  },
  {
   "cell_type": "code",
   "execution_count": 24,
   "id": "0b6fb758-ed6b-4c70-a674-180ae2e2da08",
   "metadata": {},
   "outputs": [
    {
     "data": {
      "text/plain": [
       "(100, 2)"
      ]
     },
     "execution_count": 24,
     "metadata": {},
     "output_type": "execute_result"
    }
   ],
   "source": [
    "X_complete_cont.shape"
   ]
  },
  {
   "cell_type": "code",
   "execution_count": 25,
   "id": "9f724696-b530-48fd-b215-ac9f8a486b09",
   "metadata": {},
   "outputs": [
    {
     "data": {
      "text/plain": [
       "torch.Size([100, 2])"
      ]
     },
     "execution_count": 25,
     "metadata": {},
     "output_type": "execute_result"
    }
   ],
   "source": [
    "X_mcar.shape"
   ]
  },
  {
   "cell_type": "code",
   "execution_count": null,
   "id": "d32c37a0-bf84-4820-802e-4686a53faffb",
   "metadata": {},
   "outputs": [],
   "source": []
  }
 ],
 "metadata": {
  "kernelspec": {
   "display_name": "Python 3",
   "language": "python",
   "name": "python3"
  },
  "language_info": {
   "codemirror_mode": {
    "name": "ipython",
    "version": 3
   },
   "file_extension": ".py",
   "mimetype": "text/x-python",
   "name": "python",
   "nbconvert_exporter": "python",
   "pygments_lexer": "ipython3",
   "version": "3.8.8"
  }
 },
 "nbformat": 4,
 "nbformat_minor": 5
}
