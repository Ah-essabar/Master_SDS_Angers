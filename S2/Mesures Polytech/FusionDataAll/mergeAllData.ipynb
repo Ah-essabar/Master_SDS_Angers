{
 "cells": [
  {
   "cell_type": "markdown",
   "id": "b8197a13-32db-4480-8592-f5cf5c48a5f7",
   "metadata": {
    "tags": []
   },
   "source": [
    "## Import utilsLaris from github"
   ]
  },
  {
   "cell_type": "code",
   "execution_count": null,
   "id": "d9ae9f7a-d9bd-4be2-aefe-df5671924944",
   "metadata": {
    "tags": []
   },
   "outputs": [],
   "source": [
    "import os\n",
    "import wget\n",
    "if os.path.isfile(\"utilsLaris.py\")==True:\n",
    "    os. remove(\"utilsLaris.py\")\n",
    "wget.download(\"https://raw.githubusercontent.com/Ah-essabar/LARIS01/master/utilsLaris.py\")\n"
   ]
  },
  {
   "cell_type": "markdown",
   "id": "changing-resolution",
   "metadata": {},
   "source": [
    "# Import useful packages"
   ]
  },
  {
   "cell_type": "code",
   "execution_count": null,
   "id": "2f698793-5d01-4150-94c9-39197d1cf2d9",
   "metadata": {},
   "outputs": [],
   "source": [
    "#!pip install ipympl\n",
    "# importing sys\n",
    "#!pip install wget\n",
    "#!pip install mitosheet\n",
    "# download utilsLaris form github\n",
    "import janitor\n",
    "import os\n",
    "import glob\n",
    "import mitosheet\n",
    "import ipywidgets as widgets\n",
    "%matplotlib widget\n",
    "import numpy as np\n",
    "import pandas as pd\n",
    "import matplotlib.pyplot as plt\n",
    "import matplotlib.dates as mdates\n",
    "import seaborn as sns\n",
    "import utilsLaris\n",
    "os.environ['NUMEXPR_MAX_THREADS'] = '16'\n",
    "##############Initialisation parametres#########\"\n",
    "period = \"5T\"\n",
    "prefixFiles = {\"ElecS219\" :\"S219*.csv\",\"ElecS114\" :\"S114*.csv\", \"Weather\" :\"WeatherFile*.txt\"}\n",
    "dirctory=\"./Data\"\n",
    "shelly_219 =  ['sensor_AA7BF5','sensor_AA4706', 'sensor_AA9130', 'sensor_483FDA81E0F4']\n",
    "shelly_114 = ['sensor_AAC16E','sensor_AA7DBF' ,'sensor_AA8369']"
   ]
  },
  {
   "cell_type": "markdown",
   "id": "e261c1e1-9e8f-488c-b248-937798637fbf",
   "metadata": {
    "tags": []
   },
   "source": [
    "# Ambiance data Importation"
   ]
  },
  {
   "cell_type": "code",
   "execution_count": null,
   "id": "6218376d-9cb1-4701-82d2-82005414545e",
   "metadata": {},
   "outputs": [],
   "source": [
    "# utilsLaris.importData()"
   ]
  },
  {
   "cell_type": "markdown",
   "id": "598c155b-4cee-4bcb-9bc2-056e703e2dad",
   "metadata": {},
   "source": [
    "# Weather data"
   ]
  },
  {
   "cell_type": "code",
   "execution_count": null,
   "id": "61eb3457-c029-42e3-9d42-790314f932c0",
   "metadata": {},
   "outputs": [],
   "source": [
    "##  Merge multiple CSV Files into a single Pandas dataframe\n",
    "################################################################################################################\n",
    "# merging the files\n",
    "################################################################################################################\n",
    "# Data préparation for weatherData\n",
    "################################################################################################################\"\"\n",
    "# use dayfirst = True to have correct date\n",
    "weatherData = utilsLaris.mergeMultipleCSV_Files(dirctory = dirctory, prefixFile = prefixFiles[\"Weather\"])\n",
    "weatherData = utilsLaris.dataPreparationWeather(weatherData)"
   ]
  },
  {
   "cell_type": "code",
   "execution_count": null,
   "id": "01aac0e2-dbb7-43a4-93cb-cf47a0139b69",
   "metadata": {
    "tags": []
   },
   "outputs": [],
   "source": [
    "weatherData"
   ]
  },
  {
   "cell_type": "markdown",
   "id": "5f298dc3-da06-4a5e-99db-07f760faec39",
   "metadata": {},
   "source": [
    "# Electric data"
   ]
  },
  {
   "cell_type": "code",
   "execution_count": null,
   "id": "86a0e567-bdf3-4e25-b7e6-7bacf8d9cdb2",
   "metadata": {},
   "outputs": [],
   "source": [
    "# merge all files csv and do data préparation \n",
    "elecData_219 = utilsLaris.mergeMultipleCSV_Files(dirctory = dirctory, prefixFile = prefixFiles[\"ElecS219\"])\n",
    "elecData_114 = utilsLaris.mergeMultipleCSV_Files(dirctory = dirctory, prefixFile = prefixFiles[\"ElecS114\"])\n",
    "elecData_219 = utilsLaris.dataPreparationElec(elecData_219, period = period)\n",
    "elecData_114 = utilsLaris.dataPreparationElec(elecData_114, period = period)"
   ]
  },
  {
   "cell_type": "code",
   "execution_count": null,
   "id": "93f66291-6961-41aa-8ac1-a432b4bb1320",
   "metadata": {},
   "outputs": [],
   "source": [
    "elecData_114"
   ]
  },
  {
   "cell_type": "markdown",
   "id": "supported-solution",
   "metadata": {
    "tags": []
   },
   "source": [
    "## Read data : Ambiance and windows"
   ]
  },
  {
   "cell_type": "code",
   "execution_count": null,
   "id": "8b605975-cc5b-4aee-8723-5d47576d2590",
   "metadata": {},
   "outputs": [],
   "source": [
    "tab = utilsLaris.readData(period)\n",
    "ResampledDict_s114 = tab[0]\n",
    "ResampledDict_s219 = tab[1]\n",
    "ResampledDict_shelly = tab[2]\n",
    "ambianceData_114 = utilsLaris.dataFusionAmbiance(ResampledDict_s114, salle = 114)\n",
    "ambianceData_219 = utilsLaris.dataFusionAmbiance(ResampledDict_s219, salle = 219)"
   ]
  },
  {
   "cell_type": "markdown",
   "id": "6b3b0bb5-d1a6-4d34-aa15-12f8550e1d83",
   "metadata": {},
   "source": [
    "# Data Fusion : All"
   ]
  },
  {
   "cell_type": "code",
   "execution_count": null,
   "id": "0db01981-0f62-4d39-a975-964bd1838f40",
   "metadata": {},
   "outputs": [],
   "source": [
    "dfs_219 = [ambianceData_219,elecData_219,weatherData]\n",
    "dfs_114 = [ambianceData_114,elecData_114,weatherData]\n",
    "df_219 = utilsLaris.dataFusionAll(dfs=dfs_219, shelly_sensors=shelly_219,ResampledDict_shelly=ResampledDict_shelly)\n",
    "df_114 = utilsLaris.dataFusionAll(dfs=dfs_114, shelly_sensors=shelly_114,ResampledDict_shelly=ResampledDict_shelly)\n"
   ]
  },
  {
   "cell_type": "code",
   "execution_count": null,
   "id": "579088e6-f6c2-4a1e-ba43-edc68afb6303",
   "metadata": {},
   "outputs": [],
   "source": [
    "df_114.plot()"
   ]
  },
  {
   "cell_type": "code",
   "execution_count": null,
   "id": "141d4660-358d-48cb-b3f7-fbe0a411c42d",
   "metadata": {},
   "outputs": [],
   "source": [
    "shelly_114"
   ]
  },
  {
   "cell_type": "code",
   "execution_count": null,
   "id": "7c05a533-38d1-44ba-833a-47ba9743b35b",
   "metadata": {},
   "outputs": [],
   "source": [
    "df_114.columns"
   ]
  },
  {
   "cell_type": "code",
   "execution_count": null,
   "id": "10c0415d-d449-49b7-b554-4e75065f8941",
   "metadata": {},
   "outputs": [],
   "source": [
    "#ax = df1.iloc[100:2000,:].plot(figsize=(15, 6))\n",
    "dataMaster = df_114.copy()\n",
    "colonnesNames = utilsLaris.seperateGrandeurs(dataMaster, grandeurs=[\"temperature\",\"co2\",\"humidity\",\"sound\",\"tvoc\", \"light\",  \"elec\",\"state\"])\n",
    "colonnesNames"
   ]
  },
  {
   "cell_type": "code",
   "execution_count": null,
   "id": "5c56eb52-7985-4646-b3f8-0e0f5979221a",
   "metadata": {},
   "outputs": [],
   "source": [
    "list(colonnesNames.keys())"
   ]
  },
  {
   "cell_type": "code",
   "execution_count": null,
   "id": "554a6e12-b515-4427-8e48-cbcbe3678905",
   "metadata": {},
   "outputs": [],
   "source": [
    "colonnesName = colonnesNames['elec']\n",
    "print(colonnesName)\n",
    "ax = dataMaster.loc[:,colonnesName].iloc[100:,:].plot(figsize=(12, 5)) \n",
    "# set monthly locator\n",
    "ax.xaxis.set_major_locator(mdates.MonthLocator(interval=2))\n",
    "# set formatter\n",
    "ax.xaxis.set_major_formatter(mdates.DateFormatter('%d-%m-%Y'))\n",
    "plt.legend(loc='lower left')\n",
    "# set font and rotation for date tick labels\n",
    "plt.gcf().autofmt_xdate()\n",
    "plt.show()"
   ]
  },
  {
   "cell_type": "code",
   "execution_count": null,
   "id": "1bf5d613-3b99-472a-aeed-cf483e78c01c",
   "metadata": {},
   "outputs": [],
   "source": [
    "colonnesNames\n",
    "targets = [\"co2\", \"temperature\"]\n",
    "resutilsLarist = [colonnesNames[key] for key in colonnesNames.keys() if key in targets]"
   ]
  },
  {
   "cell_type": "code",
   "execution_count": null,
   "id": "6b44f3ab-af30-42c7-9bde-8f2350369439",
   "metadata": {},
   "outputs": [],
   "source": [
    "resutilsLarist"
   ]
  },
  {
   "cell_type": "code",
   "execution_count": null,
   "id": "7e37abe7-9688-4516-bff7-2a8fbaf3f7dd",
   "metadata": {},
   "outputs": [],
   "source": [
    "from sklearn.ensemble import IsolationForest\n",
    "X =x.iloc[:,0:]\n",
    "\n",
    "clf = IsolationForest(random_state=0).fit(X)\n",
    "y=clf.predict(X)"
   ]
  },
  {
   "cell_type": "markdown",
   "id": "ongoing-equality",
   "metadata": {},
   "source": [
    "# Detect outliersset_index"
   ]
  },
  {
   "cell_type": "code",
   "execution_count": null,
   "id": "8489f7e5-e03e-4451-8a4b-f43abc5285a0",
   "metadata": {},
   "outputs": [],
   "source": [
    "filt_df= df_114.copy()\n",
    "low = .05\n",
    "high = .95\n",
    "quant_df = filt_df.quantile([low, high])\n",
    "print(quant_df)\n"
   ]
  },
  {
   "cell_type": "markdown",
   "id": "5a956cb2-3338-476d-a57c-36b1bf72f57a",
   "metadata": {},
   "source": [
    "## deal with outliers?"
   ]
  },
  {
   "cell_type": "code",
   "execution_count": null,
   "id": "mediterranean-significance",
   "metadata": {},
   "outputs": [],
   "source": [
    "raw_data.drop(outliers, inplace = True)\n",
    "print(len(raw_data))\n"
   ]
  },
  {
   "cell_type": "code",
   "execution_count": null,
   "id": "deluxe-neutral",
   "metadata": {},
   "outputs": [],
   "source": [
    "raw_data.drop(['id'], axis=1).head()"
   ]
  },
  {
   "cell_type": "markdown",
   "id": "eastern-dylan",
   "metadata": {},
   "source": [
    "# Analyse measured data"
   ]
  },
  {
   "cell_type": "code",
   "execution_count": null,
   "id": "verified-occasion",
   "metadata": {},
   "outputs": [],
   "source": [
    "corr = df_114.corr()\n",
    "corr\n",
    "raw_data=df_114.copy()"
   ]
  },
  {
   "cell_type": "markdown",
   "id": "announced-parks",
   "metadata": {},
   "source": [
    "sns.pairplot(sensor_100.drop([\"id\",\"date\",\"room\",\"sensor\"],axis=1), hue=\"co2\")"
   ]
  },
  {
   "cell_type": "code",
   "execution_count": null,
   "id": "continued-stocks",
   "metadata": {},
   "outputs": [],
   "source": [
    "# Verif bonne prise en compte des dates\n",
    "i_value = \"temperature\"\n",
    "fig, ax = plt.subplots(figsize=(20,10))\n",
    "df1 = pd.Series(sensor_100[i_value+'_100'])[0:5000]\n",
    "df2 = pd.Series(sensor_101[i_value+'_101'])[5000:10000]\n",
    "\n",
    "ax1 = df1.plot(grid=True, label='100')\n",
    "ax2 = df2.plot(grid=True, label='101')\n",
    "\n",
    "plt.ylabel((i_value+\" \"+units[i]), fontsize=14)\n",
    "plt.xlabel('Time', fontsize=14)\n",
    "plt.title(i_value, fontsize=16)\n",
    "    \n",
    "ax.xaxis.set_minor_locator(hours)\n",
    "ax.xaxis.set_minor_formatter(h_fmt)\n",
    "ax.xaxis.set_major_locator(days)\n",
    "ax.xaxis.set_major_formatter(d_fmt)\n",
    "ax.get_xaxis().set_tick_params(which='major', pad=15) #major locator under minor\n",
    "plt.legend(loc=\"upper left\")\n",
    "\n",
    "plt.show()"
   ]
  },
  {
   "cell_type": "code",
   "execution_count": null,
   "id": "broad-exhibition",
   "metadata": {},
   "outputs": [],
   "source": []
  },
  {
   "cell_type": "code",
   "execution_count": null,
   "id": "15cab3cd-443a-4642-9632-999e599e7031",
   "metadata": {},
   "outputs": [],
   "source": [
    "print(sensor_100.shape, sensor_101.shape)"
   ]
  },
  {
   "cell_type": "code",
   "execution_count": null,
   "id": "b95e62c3-e0f0-4135-9ab2-dc71e8a5c977",
   "metadata": {},
   "outputs": [],
   "source": []
  },
  {
   "cell_type": "code",
   "execution_count": null,
   "id": "c345ddee-acc4-4073-a034-5052849bee87",
   "metadata": {},
   "outputs": [],
   "source": [
    "sensor_103.id"
   ]
  },
  {
   "cell_type": "code",
   "execution_count": null,
   "id": "d37f94e2-96ae-4591-9722-56a0cb46810b",
   "metadata": {},
   "outputs": [],
   "source": [
    "# fusion de des capteurs\n",
    "sensor_100.sort_index(inplace=True)\n",
    "sensor_101.sort_index(inplace=True)\n",
    "sensor_101_ = sensor_100.copy()\n",
    "sensor_100_ = sensor_100.copy()\n",
    "print(\"before\", sensor_100_.shape,sensor_101_.shape, sensor_100_.co2_100.isnutilsLarisl().sum())\n",
    "sensor_100_ = sensor_100_.resample('5T').mean()\n",
    "sensor_101_ = sensor_101_.resample('5T').mean()\n",
    "print(\"After\", sensor_100_.shape,sensor_101.shape, sensor_100_.co2_100.isnutilsLarisl().sum())\n",
    "df_inner = sensor_100_.merge(sensor_101_, how='left', left_index=True, right_index=True)\n",
    "df_inner.shape"
   ]
  },
  {
   "cell_type": "code",
   "execution_count": null,
   "id": "e13de7ce-b3bd-485f-bc1c-40d43fa3801a",
   "metadata": {},
   "outputs": [],
   "source": [
    "sensor_100_"
   ]
  },
  {
   "cell_type": "code",
   "execution_count": null,
   "id": "6308b63f-a9c7-4ad2-8359-91259eba8c26",
   "metadata": {},
   "outputs": [],
   "source": [
    "sensor_100_['2022-03-02'].co2.plot()"
   ]
  },
  {
   "cell_type": "code",
   "execution_count": null,
   "id": "8828a436-718a-4e76-b8f6-5832aa83ebde",
   "metadata": {},
   "outputs": [],
   "source": [
    "import ipywidgets as widgets\n",
    "%matplotlib widget\n",
    "sensor_100_.loc['2022-02', 'co2'].resample('D').plot()\n",
    "plt.show()"
   ]
  },
  {
   "cell_type": "code",
   "execution_count": null,
   "id": "9c38935e-90f5-4c29-89f3-2c7ae643cd0b",
   "metadata": {},
   "outputs": [],
   "source": [
    "import matplotlib.pyplot as plt\n",
    "\n",
    "import ipywidgets as widgets\n",
    "%matplotlib widget\n",
    "\n",
    "sensor_100_.loc['2022-03-02 11':'2022-03-02 15', 'co2'].resample('1.33H').plot()\n",
    "plt.show()"
   ]
  },
  {
   "cell_type": "code",
   "execution_count": null,
   "id": "a12c3ca4-bf8c-4e66-b633-90dea43f1ca0",
   "metadata": {},
   "outputs": [],
   "source": [
    "sensor_100.sort_index(inplace=True)\n",
    "y=sensor_100.index\n",
    "ydif=y[1:]-y[:-1]\n",
    "ydif.min()"
   ]
  },
  {
   "cell_type": "code",
   "execution_count": null,
   "id": "e8ad80e2-0667-4e52-ab76-bd7ce87f7204",
   "metadata": {},
   "outputs": [],
   "source": [
    "ydif.max()\n",
    "hawks = sensor_100_"
   ]
  },
  {
   "cell_type": "code",
   "execution_count": null,
   "id": "81d1e2fa-8c4c-4b66-90c6-0557f8dd3a22",
   "metadata": {},
   "outputs": [],
   "source": [
    "plt.figure(figsize=(10,6))\n",
    "sns.displot(\n",
    "    data=hawks.isna().melt(value_name=\"missing\"),\n",
    "    y=\"variable\",\n",
    "    hue=\"missing\",\n",
    "    mutilsLaristiple=\"fill\",\n",
    "    aspect=2.25\n",
    ")\n",
    "plt.savefig(\"visualizing_missing_data_with_barplot_Seaborn_distplot.png\", dpi=100)"
   ]
  },
  {
   "cell_type": "code",
   "execution_count": null,
   "id": "9ce68954-12d6-4312-85c9-35ddc99d85e2",
   "metadata": {},
   "outputs": [],
   "source": []
  },
  {
   "cell_type": "code",
   "execution_count": null,
   "id": "b7b38c0d-6363-4c7d-911f-effce1a55b3f",
   "metadata": {},
   "outputs": [],
   "source": [
    "\n",
    "ydif=y[1:]-y[:-1]\n",
    "ydif.min()"
   ]
  },
  {
   "cell_type": "code",
   "execution_count": null,
   "id": "87a89f0a-16fd-460c-8478-16dd61373cdd",
   "metadata": {},
   "outputs": [],
   "source": [
    "ydif.max()"
   ]
  },
  {
   "cell_type": "code",
   "execution_count": null,
   "id": "50a69324-c9a7-482b-af97-26ce1a6e7077",
   "metadata": {},
   "outputs": [],
   "source": []
  },
  {
   "cell_type": "code",
   "execution_count": 40,
   "id": "6962d093-0037-4874-a4b8-714a45849183",
   "metadata": {},
   "outputs": [
    {
     "data": {
      "application/vnd.jupyter.widget-view+json": {
       "model_id": "85fafb82fa374b4fa1a4e25d204948a7",
       "version_major": 2,
       "version_minor": 0
      },
      "image/png": "[encoded data removed]",
      "text/html": [
       "\n",
       "            <div style=\"display: inline-block;\">\n",
       "                <div class=\"jupyter-widgets widget-label\" style=\"text-align: center;\">\n",
       "                    Figure 5\n",
       "                </div>\n",
       "                <img src='data:image/png;base64,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' width=1200.0/>\n",
       "            </div>\n",
       "        "
      ],
      "text/plain": [
       "Canvas(toolbar=Toolbar(toolitems=[('Home', 'Reset original view', 'home', 'home'), ('Back', 'Back to previous …"
      ]
     },
     "metadata": {},
     "output_type": "display_data"
    }
   ],
   "source": [
    "import numpy as np\n",
    "import matplotlib.pyplot as plt\n",
    "\n",
    "\n",
    "def f(t):\n",
    "    return np.exp(-t) * np.cos(2*np.pi*t)\n",
    "\n",
    "\n",
    "t1 = np.arange(0.0, 3.0, 0.01)\n",
    "\n",
    "ax1 = plt.subplot(212)\n",
    "ax1.margins(0.05)           # DefautilsLarist margin is 0.05, value 0 means fit\n",
    "ax1.plot(t1, f(t1))\n",
    "\n",
    "ax2 = plt.subplot(221)\n",
    "ax2.margins(2, 2)           # Values >0.0 zoom out\n",
    "ax2.plot(t1, f(t1))\n",
    "ax2.set_title('Zoomed out')\n",
    "\n",
    "ax3 = plt.subplot(222)\n",
    "ax3.margins(x=0, y=-0.25)   # Values in (-0.5, 0.0) zooms in to center\n",
    "ax3.plot(t1, f(t1))\n",
    "ax3.set_title('Zoomed in')\n",
    "\n",
    "plt.show()"
   ]
  },
  {
   "cell_type": "code",
   "execution_count": null,
   "id": "35490c2d-98d2-479d-84b7-4ea8459c28bd",
   "metadata": {},
   "outputs": [],
   "source": [
    "# Importing\n",
    "import sklearn\n",
    "import pandas as pd \n",
    "# Load the dataset\n",
    "bos_hou = raw_data.copy() \n",
    "# Create the dataframe\n",
    "column_name = bos_hou.columns\n",
    "df_boston = bos_hou\n",
    "df_boston.columns = column_name\n",
    "print(df_boston.head())\n",
    " \n",
    "''' Detection '''\n",
    "# IQR\n",
    "Q1 = np.percentile(df_boston['co2'], 5,\n",
    "                   interpolation = 'midpoint')\n",
    " \n",
    "Q3 = np.percentile(df_boston['co2'], 95,\n",
    "                   interpolation = 'midpoint')\n",
    "IQR = Q3 - Q1\n",
    " \n",
    "print(\"Old Shape: \", df_boston.shape)\n",
    " \n",
    "# Upper bound\n",
    "upper = np.where(df_boston['co2'] >= (Q3+5*IQR))\n",
    "# Lower bound\n",
    "lower = np.where(df_boston['co2'] <= (Q1-2*IQR))\n",
    " \n",
    "''' Removing the Outliers '''\n",
    "df_boston.drop(upper[0], inplace = True)\n",
    "df_boston.drop(lower[0], inplace = True)\n",
    " \n",
    "print(\"New Shape: \", df_boston.shape)"
   ]
  },
  {
   "cell_type": "code",
   "execution_count": null,
   "id": "152c3e0c-04e1-4876-a1e8-a176decd7a4d",
   "metadata": {},
   "outputs": [],
   "source": [
    "df_boston.max()"
   ]
  },
  {
   "cell_type": "code",
   "execution_count": null,
   "id": "57a0625f-361a-4b9e-bca2-bb9ab2087260",
   "metadata": {},
   "outputs": [],
   "source": [
    "#!pip list"
   ]
  },
  {
   "cell_type": "code",
   "execution_count": null,
   "id": "0661c41a-0d26-4200-89f6-561d43df2a03",
   "metadata": {},
   "outputs": [],
   "source": [
    "import numpy as np\n",
    "from sklearn.experimental import enable_iterative_imputer\n",
    "from sklearn.impute import IterativeImputer\n",
    "imp = IterativeImputer(max_iter=10, random_state=0)\n",
    "imp.fit(ambianceData_219)\n",
    "\n",
    "X_test = ambianceData_219\n",
    "# the model learns that the second feature is double the first\n",
    "a = np.round(imp.transform(X_test))"
   ]
  }
 ],
 "metadata": {
  "kernelspec": {
   "display_name": "Python 3 (ipykernel)",
   "language": "python",
   "name": "python3"
  },
  "language_info": {
   "codemirror_mode": {
    "name": "ipython",
    "version": 3
   },
   "file_extension": ".py",
   "mimetype": "text/x-python",
   "name": "python",
   "nbconvert_exporter": "python",
   "pygments_lexer": "ipython3",
   "version": "3.9.7"
  }
 },
 "nbformat": 4,
 "nbformat_minor": 5
}
