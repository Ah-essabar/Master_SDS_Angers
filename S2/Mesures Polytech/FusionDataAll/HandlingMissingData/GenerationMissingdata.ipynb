{
 "cells": [
  {
   "cell_type": "markdown",
   "id": "67ea5a62-939b-4608-acbc-149252663e5b",
   "metadata": {},
   "source": [
    "## read data from files"
   ]
  },
  {
   "cell_type": "code",
   "execution_count": null,
   "id": "b9cf5b9a-5cd2-45c1-a0b3-d837ccd70323",
   "metadata": {},
   "outputs": [],
   "source": [
    "import janitor\n",
    "import os\n",
    "import glob\n",
    "import mitosheet\n",
    "import ipywidgets as widgets\n",
    "%matplotlib inline\n",
    "%matplotlib widget\n",
    "import numpy as np\n",
    "import pandas as pd\n",
    "import matplotlib.pyplot as plt\n",
    "import matplotlib.dates as mdates\n",
    "import seaborn as sns\n",
    "\n",
    "from pylab import rcParams\n",
    "import matplotlib.pyplot as plt\n",
    "from matplotlib import rc\n",
    "from pandas.plotting import register_matplotlib_converters\n",
    "\n",
    "from sklearn.model_selection import cross_val_score\n",
    "\n",
    "\n",
    "%config InlineBackend.figure_format='retina'\n",
    "\n",
    "register_matplotlib_converters()\n",
    "sns.set(style='whitegrid', palette='muted', font_scale=1.5)\n",
    "\n",
    "rcParams['figure.figsize'] = 22, 10\n",
    "\n",
    "RANDOM_SEED = 42"
   ]
  },
  {
   "cell_type": "code",
   "execution_count": null,
   "id": "687e0074-3c00-4171-8591-f2f16fba2b66",
   "metadata": {},
   "outputs": [],
   "source": [
    "# supprimer d'abord les deux lignes dans le fichier d'export Neatatmo\n",
    "index_col=\"date\"\n",
    "data=pd.read_csv('df_219.csv', sep=\",\", encoding = \"ISO-8859-1\", index_col=index_col)\n",
    "data.shape\n",
    "\n"
   ]
  },
  {
   "cell_type": "code",
   "execution_count": null,
   "id": "01f6ba52-6328-414d-8029-4fe094cad820",
   "metadata": {},
   "outputs": [],
   "source": [
    "#!pip install missingno\n",
    "import missingno as msno\n",
    "msno.matrix(data)\n"
   ]
  },
  {
   "cell_type": "code",
   "execution_count": null,
   "id": "34e99e97-aeb0-49b9-a0d3-f2c23ced7197",
   "metadata": {},
   "outputs": [],
   "source": [
    "df = data.copy()\n",
    "perc = 3.5 # Like N %\n",
    "min_count =  int(((100-perc)/100)*df.shape[0] + 1)\n",
    "df = df.dropna( axis=1, \n",
    "                thresh=min_count)\n"
   ]
  },
  {
   "cell_type": "code",
   "execution_count": null,
   "id": "759353cb-0793-4291-9d1a-757ceaec9411",
   "metadata": {},
   "outputs": [],
   "source": [
    "data.info()"
   ]
  },
  {
   "cell_type": "code",
   "execution_count": null,
   "id": "2a74b3f9-6719-435b-8e6c-102bb60b7b75",
   "metadata": {},
   "outputs": [],
   "source": [
    "msno.matrix(df)"
   ]
  },
  {
   "cell_type": "code",
   "execution_count": null,
   "id": "b2cdddeb-7666-401d-a166-566e80694845",
   "metadata": {},
   "outputs": [],
   "source": [
    "df.interpolate(method='linear', inplace=True)\n",
    "df.fillna(method='ffill',inplace=True)\n",
    "df.fillna(method='bfill',inplace=True)"
   ]
  },
  {
   "cell_type": "code",
   "execution_count": null,
   "id": "e01bc00b-2d4f-4866-8b36-634233f210ed",
   "metadata": {},
   "outputs": [],
   "source": [
    "df.info()"
   ]
  },
  {
   "cell_type": "code",
   "execution_count": null,
   "id": "1d65ada2-434a-4f33-b360-c6c6aa928064",
   "metadata": {},
   "outputs": [],
   "source": [
    "x = {\"close\": 0, \"open\" : 1}\n",
    "df = df.replace(x)\n",
    "df"
   ]
  },
  {
   "cell_type": "code",
   "execution_count": null,
   "id": "78674962-ad14-4094-8a0c-a7ded235af7b",
   "metadata": {},
   "outputs": [],
   "source": []
  },
  {
   "cell_type": "code",
   "execution_count": null,
   "id": "392ccf36-4128-4692-8bb9-70e8b7b2a37e",
   "metadata": {},
   "outputs": [],
   "source": [
    "df[\"windows\"] = df[\"state_AA7BF5\"] +  df[\"state_AA4706\"] + df[\"state_AA9130\"] #+  df[\"state_483FDA81E0F4\"] \n",
    "df"
   ]
  },
  {
   "cell_type": "code",
   "execution_count": null,
   "id": "9bf7bb98-7831-47c6-9694-a756f0ed77d3",
   "metadata": {},
   "outputs": [],
   "source": [
    "# df1 = df.iloc[:,30:].copy()\n",
    "# df1=df1.drop(columns=[\"state_AA7BF5\",\"state_AA4706\",\"state_AA9130\",\"state_483FDA81E0F4\",\"elec_eclairage_219_w\"])\n",
    "# sns.pairplot(df1,  hue='windows')\n",
    "# plt.show"
   ]
  },
  {
   "cell_type": "code",
   "execution_count": null,
   "id": "1537daf2-23b1-4c37-99d2-a692f2e44c6d",
   "metadata": {},
   "outputs": [],
   "source": [
    "# df.to_csv(\"../HandlingMissingData/df_219complet.csv\")"
   ]
  },
  {
   "cell_type": "code",
   "execution_count": null,
   "id": "d470c26f-35eb-4566-bc02-9e7c901181db",
   "metadata": {},
   "outputs": [],
   "source": [
    "corr = df.corr()\n",
    "corr.tail(40)"
   ]
  },
  {
   "cell_type": "code",
   "execution_count": null,
   "id": "890b274b-6bcd-4e14-bdbf-8a6eacc5c1a8",
   "metadata": {},
   "outputs": [],
   "source": [
    "s=corr[\"elec_eclairage_219_w\"]\n",
    "s.sort_values(ascending=False)\n",
    "var = [\"co2_104\",\"co2_107\",\"temperature_106\",\"windows\"]\n",
    "var = [\"co2_107\",\"temperature_106\"]"
   ]
  },
  {
   "cell_type": "code",
   "execution_count": null,
   "id": "55d3f0c9-44ea-4e35-8985-0902761880a4",
   "metadata": {},
   "outputs": [],
   "source": [
    "# col = []\n",
    "# j=0\n",
    "# for i in s:\n",
    "#     if i>0.65:\n",
    "#         col.append(j)\n",
    "#     j=j+1    \n",
    "# col        "
   ]
  },
  {
   "cell_type": "code",
   "execution_count": null,
   "id": "b946ef37-7b18-430d-ba66-d771bf31c89f",
   "metadata": {},
   "outputs": [],
   "source": [
    "var = df.columns"
   ]
  },
  {
   "cell_type": "code",
   "execution_count": null,
   "id": "ff31856a-1fb3-45af-ad2a-3372204924e3",
   "metadata": {},
   "outputs": [],
   "source": [
    "var = var.drop([ 'state_AA7BF5', 'state_AA4706', 'state_AA9130',\n",
    "        'elec_general_219_w',\n",
    "       'elec_eclairage_219_w'])"
   ]
  },
  {
   "cell_type": "code",
   "execution_count": null,
   "id": "156a985f-79c0-4c21-8bb1-80d81fadbf4b",
   "metadata": {},
   "outputs": [],
   "source": [
    "from sklearn.feature_selection import RFE\n",
    "from sklearn.svm import SVR\n",
    "estimator = SVR(kernel=\"linear\")\n",
    "selector = RFE(estimator, n_features_to_select=10, step=1)\n",
    "selector = selector.fit(X, y)\n",
    "selector.support_\n",
    "selector.ranking_"
   ]
  },
  {
   "cell_type": "code",
   "execution_count": 20,
   "id": "b3b48f77-dc4c-4362-8b38-77099b8aad16",
   "metadata": {},
   "outputs": [],
   "source": [
    "import pandas as pd\n",
    "p=0.01\n",
    "y=pd.read_csv(\"y.csv\", parse_dates=[\"date\"], index_col=\"date\")\n",
    "X=pd.read_csv(\"X.csv\", parse_dates=[\"date\"], index_col=\"date\")\n",
    "y = y.values.ravel()\n",
    "X_train = X[:int(X.shape[0]*p)]\n",
    "X_test = X[int(X.shape[0]*p):]\n",
    "y_train = y[:int(X.shape[0]*p)]\n",
    "y_test = y[int(X.shape[0]*p):]"
   ]
  },
  {
   "cell_type": "code",
   "execution_count": 2,
   "id": "1e1890de-0fdf-423b-bae4-dad20e5bdfcf",
   "metadata": {},
   "outputs": [
    {
     "data": {
      "text/plain": [
       "array([ 9, 24, 19, 43, 55, 23, 14,  8, 51, 12, 47, 62, 20, 67, 18, 48, 42,\n",
       "       30, 52, 35,  1, 13,  5,  2, 64, 10,  4, 16,  1, 45, 61, 53, 57, 41,\n",
       "        1, 58, 22, 34, 50, 54,  1, 36, 32, 65,  1, 56,  1, 27, 38,  6, 40,\n",
       "       15, 25,  1, 44,  1, 28,  7, 37, 11, 63, 39, 60, 49, 66,  3, 29, 59,\n",
       "       33, 26, 21, 17, 46, 31])"
      ]
     },
     "execution_count": 2,
     "metadata": {},
     "output_type": "execute_result"
    }
   ],
   "source": [
    "from sklearn.datasets import make_friedman1\n",
    "from sklearn.feature_selection import RFECV\n",
    "from sklearn.svm import SVR\n",
    "#X, y = make_friedman1(n_samples=50, n_features=10, random_state=0)\n",
    "estimator = SVR(kernel=\"linear\")\n",
    "selector = RFECV(estimator, step=1, cv=2)\n",
    "selector = selector.fit(X_train, y_train)\n",
    "selector.support_\n",
    "\n",
    "selector.ranking_"
   ]
  },
  {
   "cell_type": "code",
   "execution_count": 3,
   "id": "012b627c-c964-43d4-9ac6-01fc48c0a33f",
   "metadata": {},
   "outputs": [
    {
     "data": {
      "text/plain": [
       "array([False, False, False, False, False, False, False, False, False,\n",
       "       False, False, False, False, False, False, False, False, False,\n",
       "       False, False,  True, False, False,  True, False, False, False,\n",
       "       False,  True, False, False, False, False, False,  True, False,\n",
       "       False, False, False, False,  True, False, False, False,  True,\n",
       "       False,  True, False, False, False, False, False, False,  True,\n",
       "       False,  True, False, False, False, False, False, False, False,\n",
       "       False, False,  True, False, False, False, False, False, False,\n",
       "       False, False])"
      ]
     },
     "execution_count": 3,
     "metadata": {},
     "output_type": "execute_result"
    }
   ],
   "source": [
    "from sklearn.datasets import make_friedman1\n",
    "from sklearn.feature_selection import RFE\n",
    "from sklearn.svm import SVR\n",
    "# X, y = make_friedman1(n_samples=50, n_features=10, random_state=0)\n",
    "estimator = SVR(kernel=\"linear\")\n",
    "selector = RFE(estimator, n_features_to_select=10, step=1)\n",
    "selector = selector.fit(X_train, y_train)\n",
    "selector.support_"
   ]
  },
  {
   "cell_type": "code",
   "execution_count": 8,
   "id": "1cc512fc-2dfc-4251-bdce-571ae86bd67f",
   "metadata": {},
   "outputs": [
    {
     "data": {
      "text/html": [
       "<div>\n",
       "<style scoped>\n",
       "    .dataframe tbody tr th:only-of-type {\n",
       "        vertical-align: middle;\n",
       "    }\n",
       "\n",
       "    .dataframe tbody tr th {\n",
       "        vertical-align: top;\n",
       "    }\n",
       "\n",
       "    .dataframe thead th {\n",
       "        text-align: right;\n",
       "    }\n",
       "</style>\n",
       "<table border=\"1\" class=\"dataframe\">\n",
       "  <thead>\n",
       "    <tr style=\"text-align: right;\">\n",
       "      <th></th>\n",
       "      <th>tvoc_101</th>\n",
       "      <th>light_103</th>\n",
       "      <th>sound_102</th>\n",
       "      <th>sound_106</th>\n",
       "      <th>sound_108</th>\n",
       "      <th>humidity_103</th>\n",
       "      <th>co2_102</th>\n",
       "      <th>co2_101</th>\n",
       "      <th>tvoc_108</th>\n",
       "      <th>light_101</th>\n",
       "      <th>...</th>\n",
       "      <th>tvoc_112</th>\n",
       "      <th>tvoc_100</th>\n",
       "      <th>humidity_104</th>\n",
       "      <th>co2_111</th>\n",
       "      <th>tvoc_105</th>\n",
       "      <th>co2_104</th>\n",
       "      <th>tvoc_103</th>\n",
       "      <th>humidity_102</th>\n",
       "      <th>temperature_107</th>\n",
       "      <th>sound_104</th>\n",
       "    </tr>\n",
       "    <tr>\n",
       "      <th>date</th>\n",
       "      <th></th>\n",
       "      <th></th>\n",
       "      <th></th>\n",
       "      <th></th>\n",
       "      <th></th>\n",
       "      <th></th>\n",
       "      <th></th>\n",
       "      <th></th>\n",
       "      <th></th>\n",
       "      <th></th>\n",
       "      <th></th>\n",
       "      <th></th>\n",
       "      <th></th>\n",
       "      <th></th>\n",
       "      <th></th>\n",
       "      <th></th>\n",
       "      <th></th>\n",
       "      <th></th>\n",
       "      <th></th>\n",
       "      <th></th>\n",
       "      <th></th>\n",
       "    </tr>\n",
       "  </thead>\n",
       "  <tbody>\n",
       "    <tr>\n",
       "      <th>2022-03-25 16:45:00</th>\n",
       "      <td>51.750000</td>\n",
       "      <td>632.333333</td>\n",
       "      <td>509.750000</td>\n",
       "      <td>507.000000</td>\n",
       "      <td>11.00</td>\n",
       "      <td>19.616667</td>\n",
       "      <td>421.500000</td>\n",
       "      <td>307.000000</td>\n",
       "      <td>141.000000</td>\n",
       "      <td>571.750000</td>\n",
       "      <td>...</td>\n",
       "      <td>125.500000</td>\n",
       "      <td>101.750000</td>\n",
       "      <td>18.223333</td>\n",
       "      <td>433.500000</td>\n",
       "      <td>44.500000</td>\n",
       "      <td>391.333333</td>\n",
       "      <td>27.666667</td>\n",
       "      <td>19.227500</td>\n",
       "      <td>26.412500</td>\n",
       "      <td>512.00</td>\n",
       "    </tr>\n",
       "    <tr>\n",
       "      <th>2022-03-25 16:50:00</th>\n",
       "      <td>65.000000</td>\n",
       "      <td>630.250000</td>\n",
       "      <td>510.000000</td>\n",
       "      <td>506.666667</td>\n",
       "      <td>11.00</td>\n",
       "      <td>19.540000</td>\n",
       "      <td>366.000000</td>\n",
       "      <td>308.000000</td>\n",
       "      <td>160.461538</td>\n",
       "      <td>568.666667</td>\n",
       "      <td>...</td>\n",
       "      <td>127.333333</td>\n",
       "      <td>119.333333</td>\n",
       "      <td>18.220000</td>\n",
       "      <td>438.000000</td>\n",
       "      <td>93.000000</td>\n",
       "      <td>388.000000</td>\n",
       "      <td>50.500000</td>\n",
       "      <td>19.790000</td>\n",
       "      <td>26.893333</td>\n",
       "      <td>512.00</td>\n",
       "    </tr>\n",
       "    <tr>\n",
       "      <th>2022-03-25 16:55:00</th>\n",
       "      <td>102.333333</td>\n",
       "      <td>614.333333</td>\n",
       "      <td>510.000000</td>\n",
       "      <td>506.333333</td>\n",
       "      <td>11.00</td>\n",
       "      <td>19.110000</td>\n",
       "      <td>415.333333</td>\n",
       "      <td>355.666667</td>\n",
       "      <td>179.923077</td>\n",
       "      <td>522.666667</td>\n",
       "      <td>...</td>\n",
       "      <td>127.000000</td>\n",
       "      <td>88.000000</td>\n",
       "      <td>17.650000</td>\n",
       "      <td>440.250000</td>\n",
       "      <td>138.666667</td>\n",
       "      <td>414.000000</td>\n",
       "      <td>123.666667</td>\n",
       "      <td>19.076667</td>\n",
       "      <td>27.160000</td>\n",
       "      <td>512.25</td>\n",
       "    </tr>\n",
       "    <tr>\n",
       "      <th>2022-03-25 17:00:00</th>\n",
       "      <td>197.250000</td>\n",
       "      <td>601.000000</td>\n",
       "      <td>510.750000</td>\n",
       "      <td>507.500000</td>\n",
       "      <td>11.00</td>\n",
       "      <td>18.173333</td>\n",
       "      <td>413.250000</td>\n",
       "      <td>338.750000</td>\n",
       "      <td>199.384615</td>\n",
       "      <td>447.750000</td>\n",
       "      <td>...</td>\n",
       "      <td>154.000000</td>\n",
       "      <td>183.000000</td>\n",
       "      <td>17.160000</td>\n",
       "      <td>431.250000</td>\n",
       "      <td>172.000000</td>\n",
       "      <td>411.666667</td>\n",
       "      <td>171.666667</td>\n",
       "      <td>17.837500</td>\n",
       "      <td>27.587500</td>\n",
       "      <td>512.00</td>\n",
       "    </tr>\n",
       "    <tr>\n",
       "      <th>2022-03-25 17:05:00</th>\n",
       "      <td>234.333333</td>\n",
       "      <td>598.750000</td>\n",
       "      <td>510.333333</td>\n",
       "      <td>508.000000</td>\n",
       "      <td>11.00</td>\n",
       "      <td>17.727500</td>\n",
       "      <td>411.666667</td>\n",
       "      <td>337.333333</td>\n",
       "      <td>218.846154</td>\n",
       "      <td>442.000000</td>\n",
       "      <td>...</td>\n",
       "      <td>201.500000</td>\n",
       "      <td>230.666667</td>\n",
       "      <td>17.033333</td>\n",
       "      <td>443.750000</td>\n",
       "      <td>271.666667</td>\n",
       "      <td>411.333333</td>\n",
       "      <td>201.250000</td>\n",
       "      <td>17.383333</td>\n",
       "      <td>27.820000</td>\n",
       "      <td>512.00</td>\n",
       "    </tr>\n",
       "    <tr>\n",
       "      <th>...</th>\n",
       "      <td>...</td>\n",
       "      <td>...</td>\n",
       "      <td>...</td>\n",
       "      <td>...</td>\n",
       "      <td>...</td>\n",
       "      <td>...</td>\n",
       "      <td>...</td>\n",
       "      <td>...</td>\n",
       "      <td>...</td>\n",
       "      <td>...</td>\n",
       "      <td>...</td>\n",
       "      <td>...</td>\n",
       "      <td>...</td>\n",
       "      <td>...</td>\n",
       "      <td>...</td>\n",
       "      <td>...</td>\n",
       "      <td>...</td>\n",
       "      <td>...</td>\n",
       "      <td>...</td>\n",
       "      <td>...</td>\n",
       "      <td>...</td>\n",
       "    </tr>\n",
       "    <tr>\n",
       "      <th>2022-03-26 00:00:00</th>\n",
       "      <td>752.750000</td>\n",
       "      <td>0.000000</td>\n",
       "      <td>510.250000</td>\n",
       "      <td>507.666667</td>\n",
       "      <td>6.00</td>\n",
       "      <td>22.876667</td>\n",
       "      <td>394.000000</td>\n",
       "      <td>326.500000</td>\n",
       "      <td>781.666667</td>\n",
       "      <td>0.000000</td>\n",
       "      <td>...</td>\n",
       "      <td>597.250000</td>\n",
       "      <td>784.250000</td>\n",
       "      <td>22.236667</td>\n",
       "      <td>419.750000</td>\n",
       "      <td>2368.666667</td>\n",
       "      <td>391.000000</td>\n",
       "      <td>567.666667</td>\n",
       "      <td>22.562500</td>\n",
       "      <td>25.636667</td>\n",
       "      <td>512.00</td>\n",
       "    </tr>\n",
       "    <tr>\n",
       "      <th>2022-03-26 00:05:00</th>\n",
       "      <td>736.000000</td>\n",
       "      <td>0.000000</td>\n",
       "      <td>510.000000</td>\n",
       "      <td>507.000000</td>\n",
       "      <td>6.50</td>\n",
       "      <td>22.912500</td>\n",
       "      <td>397.666667</td>\n",
       "      <td>331.000000</td>\n",
       "      <td>791.500000</td>\n",
       "      <td>0.000000</td>\n",
       "      <td>...</td>\n",
       "      <td>596.000000</td>\n",
       "      <td>796.666667</td>\n",
       "      <td>22.287500</td>\n",
       "      <td>419.000000</td>\n",
       "      <td>2392.000000</td>\n",
       "      <td>391.250000</td>\n",
       "      <td>577.000000</td>\n",
       "      <td>22.590000</td>\n",
       "      <td>25.636667</td>\n",
       "      <td>512.00</td>\n",
       "    </tr>\n",
       "    <tr>\n",
       "      <th>2022-03-26 00:10:00</th>\n",
       "      <td>740.333333</td>\n",
       "      <td>0.000000</td>\n",
       "      <td>510.000000</td>\n",
       "      <td>508.000000</td>\n",
       "      <td>6.50</td>\n",
       "      <td>22.916667</td>\n",
       "      <td>399.666667</td>\n",
       "      <td>330.666667</td>\n",
       "      <td>777.500000</td>\n",
       "      <td>0.000000</td>\n",
       "      <td>...</td>\n",
       "      <td>598.333333</td>\n",
       "      <td>798.333333</td>\n",
       "      <td>22.290000</td>\n",
       "      <td>421.333333</td>\n",
       "      <td>2335.333333</td>\n",
       "      <td>390.333333</td>\n",
       "      <td>563.666667</td>\n",
       "      <td>22.596667</td>\n",
       "      <td>25.622500</td>\n",
       "      <td>512.00</td>\n",
       "    </tr>\n",
       "    <tr>\n",
       "      <th>2022-03-26 00:15:00</th>\n",
       "      <td>741.250000</td>\n",
       "      <td>0.000000</td>\n",
       "      <td>510.250000</td>\n",
       "      <td>507.666667</td>\n",
       "      <td>6.25</td>\n",
       "      <td>22.933333</td>\n",
       "      <td>399.250000</td>\n",
       "      <td>339.000000</td>\n",
       "      <td>777.750000</td>\n",
       "      <td>0.000000</td>\n",
       "      <td>...</td>\n",
       "      <td>598.750000</td>\n",
       "      <td>797.500000</td>\n",
       "      <td>22.283333</td>\n",
       "      <td>423.250000</td>\n",
       "      <td>2596.333333</td>\n",
       "      <td>394.333333</td>\n",
       "      <td>567.000000</td>\n",
       "      <td>22.597500</td>\n",
       "      <td>25.616667</td>\n",
       "      <td>512.00</td>\n",
       "    </tr>\n",
       "    <tr>\n",
       "      <th>2022-03-26 00:20:00</th>\n",
       "      <td>732.333333</td>\n",
       "      <td>0.000000</td>\n",
       "      <td>510.333333</td>\n",
       "      <td>507.666667</td>\n",
       "      <td>6.00</td>\n",
       "      <td>22.942500</td>\n",
       "      <td>397.666667</td>\n",
       "      <td>339.000000</td>\n",
       "      <td>796.333333</td>\n",
       "      <td>0.000000</td>\n",
       "      <td>...</td>\n",
       "      <td>596.000000</td>\n",
       "      <td>809.333333</td>\n",
       "      <td>22.307500</td>\n",
       "      <td>417.000000</td>\n",
       "      <td>2390.500000</td>\n",
       "      <td>396.750000</td>\n",
       "      <td>573.500000</td>\n",
       "      <td>22.590000</td>\n",
       "      <td>25.596667</td>\n",
       "      <td>512.00</td>\n",
       "    </tr>\n",
       "  </tbody>\n",
       "</table>\n",
       "<p>92 rows × 74 columns</p>\n",
       "</div>"
      ],
      "text/plain": [
       "                       tvoc_101   light_103   sound_102   sound_106  \\\n",
       "date                                                                  \n",
       "2022-03-25 16:45:00   51.750000  632.333333  509.750000  507.000000   \n",
       "2022-03-25 16:50:00   65.000000  630.250000  510.000000  506.666667   \n",
       "2022-03-25 16:55:00  102.333333  614.333333  510.000000  506.333333   \n",
       "2022-03-25 17:00:00  197.250000  601.000000  510.750000  507.500000   \n",
       "2022-03-25 17:05:00  234.333333  598.750000  510.333333  508.000000   \n",
       "...                         ...         ...         ...         ...   \n",
       "2022-03-26 00:00:00  752.750000    0.000000  510.250000  507.666667   \n",
       "2022-03-26 00:05:00  736.000000    0.000000  510.000000  507.000000   \n",
       "2022-03-26 00:10:00  740.333333    0.000000  510.000000  508.000000   \n",
       "2022-03-26 00:15:00  741.250000    0.000000  510.250000  507.666667   \n",
       "2022-03-26 00:20:00  732.333333    0.000000  510.333333  507.666667   \n",
       "\n",
       "                     sound_108  humidity_103     co2_102     co2_101  \\\n",
       "date                                                                   \n",
       "2022-03-25 16:45:00      11.00     19.616667  421.500000  307.000000   \n",
       "2022-03-25 16:50:00      11.00     19.540000  366.000000  308.000000   \n",
       "2022-03-25 16:55:00      11.00     19.110000  415.333333  355.666667   \n",
       "2022-03-25 17:00:00      11.00     18.173333  413.250000  338.750000   \n",
       "2022-03-25 17:05:00      11.00     17.727500  411.666667  337.333333   \n",
       "...                        ...           ...         ...         ...   \n",
       "2022-03-26 00:00:00       6.00     22.876667  394.000000  326.500000   \n",
       "2022-03-26 00:05:00       6.50     22.912500  397.666667  331.000000   \n",
       "2022-03-26 00:10:00       6.50     22.916667  399.666667  330.666667   \n",
       "2022-03-26 00:15:00       6.25     22.933333  399.250000  339.000000   \n",
       "2022-03-26 00:20:00       6.00     22.942500  397.666667  339.000000   \n",
       "\n",
       "                       tvoc_108   light_101  ...    tvoc_112    tvoc_100  \\\n",
       "date                                         ...                           \n",
       "2022-03-25 16:45:00  141.000000  571.750000  ...  125.500000  101.750000   \n",
       "2022-03-25 16:50:00  160.461538  568.666667  ...  127.333333  119.333333   \n",
       "2022-03-25 16:55:00  179.923077  522.666667  ...  127.000000   88.000000   \n",
       "2022-03-25 17:00:00  199.384615  447.750000  ...  154.000000  183.000000   \n",
       "2022-03-25 17:05:00  218.846154  442.000000  ...  201.500000  230.666667   \n",
       "...                         ...         ...  ...         ...         ...   \n",
       "2022-03-26 00:00:00  781.666667    0.000000  ...  597.250000  784.250000   \n",
       "2022-03-26 00:05:00  791.500000    0.000000  ...  596.000000  796.666667   \n",
       "2022-03-26 00:10:00  777.500000    0.000000  ...  598.333333  798.333333   \n",
       "2022-03-26 00:15:00  777.750000    0.000000  ...  598.750000  797.500000   \n",
       "2022-03-26 00:20:00  796.333333    0.000000  ...  596.000000  809.333333   \n",
       "\n",
       "                     humidity_104     co2_111     tvoc_105     co2_104  \\\n",
       "date                                                                     \n",
       "2022-03-25 16:45:00     18.223333  433.500000    44.500000  391.333333   \n",
       "2022-03-25 16:50:00     18.220000  438.000000    93.000000  388.000000   \n",
       "2022-03-25 16:55:00     17.650000  440.250000   138.666667  414.000000   \n",
       "2022-03-25 17:00:00     17.160000  431.250000   172.000000  411.666667   \n",
       "2022-03-25 17:05:00     17.033333  443.750000   271.666667  411.333333   \n",
       "...                           ...         ...          ...         ...   \n",
       "2022-03-26 00:00:00     22.236667  419.750000  2368.666667  391.000000   \n",
       "2022-03-26 00:05:00     22.287500  419.000000  2392.000000  391.250000   \n",
       "2022-03-26 00:10:00     22.290000  421.333333  2335.333333  390.333333   \n",
       "2022-03-26 00:15:00     22.283333  423.250000  2596.333333  394.333333   \n",
       "2022-03-26 00:20:00     22.307500  417.000000  2390.500000  396.750000   \n",
       "\n",
       "                       tvoc_103  humidity_102  temperature_107  sound_104  \n",
       "date                                                                       \n",
       "2022-03-25 16:45:00   27.666667     19.227500        26.412500     512.00  \n",
       "2022-03-25 16:50:00   50.500000     19.790000        26.893333     512.00  \n",
       "2022-03-25 16:55:00  123.666667     19.076667        27.160000     512.25  \n",
       "2022-03-25 17:00:00  171.666667     17.837500        27.587500     512.00  \n",
       "2022-03-25 17:05:00  201.250000     17.383333        27.820000     512.00  \n",
       "...                         ...           ...              ...        ...  \n",
       "2022-03-26 00:00:00  567.666667     22.562500        25.636667     512.00  \n",
       "2022-03-26 00:05:00  577.000000     22.590000        25.636667     512.00  \n",
       "2022-03-26 00:10:00  563.666667     22.596667        25.622500     512.00  \n",
       "2022-03-26 00:15:00  567.000000     22.597500        25.616667     512.00  \n",
       "2022-03-26 00:20:00  573.500000     22.590000        25.596667     512.00  \n",
       "\n",
       "[92 rows x 74 columns]"
      ]
     },
     "execution_count": 8,
     "metadata": {},
     "output_type": "execute_result"
    }
   ],
   "source": [
    "X_train.iloc[:,selector.ranking_]"
   ]
  },
  {
   "cell_type": "code",
   "execution_count": 26,
   "id": "e655c1d7-9036-4f7d-ae39-d2c4e2088efc",
   "metadata": {},
   "outputs": [],
   "source": [
    "colonesSelected = []\n",
    "for i,j in enumerate(selector.ranking_):\n",
    "    if j<3:\n",
    "        colonesSelected.append(i)"
   ]
  },
  {
   "cell_type": "code",
   "execution_count": 28,
   "id": "1a08837b-069c-4cfe-8165-88c355f215cd",
   "metadata": {},
   "outputs": [
    {
     "ename": "AttributeError",
     "evalue": "'numpy.ndarray' object has no attribute 'columns'",
     "output_type": "error",
     "traceback": [
      "\u001b[0;31m---------------------------------------------------------------------------\u001b[0m",
      "\u001b[0;31mAttributeError\u001b[0m                            Traceback (most recent call last)",
      "Input \u001b[0;32mIn [28]\u001b[0m, in \u001b[0;36m<cell line: 1>\u001b[0;34m()\u001b[0m\n\u001b[0;32m----> 1\u001b[0m var\u001b[38;5;241m=\u001b[39m\u001b[43mX\u001b[49m\u001b[38;5;241;43m.\u001b[39;49m\u001b[43mcolumns\u001b[49m[colonesSelected]\n",
      "\u001b[0;31mAttributeError\u001b[0m: 'numpy.ndarray' object has no attribute 'columns'"
     ]
    }
   ],
   "source": [
    "var=X.columns[colonesSelected]"
   ]
  },
  {
   "cell_type": "code",
   "execution_count": 25,
   "id": "b127d065-fca1-4040-a6d0-288ca2889ace",
   "metadata": {},
   "outputs": [
    {
     "data": {
      "text/plain": [
       "Index(['temperature_103', 'light_103', 'sound_103', 'temperature_104',\n",
       "       'light_104', 'light_105', 'light_106', 'temperature_107', 'light_107',\n",
       "       'tvoc_108', 'sound_108', 'temperature_110', 'temperature_112'],\n",
       "      dtype='object')"
      ]
     },
     "execution_count": 25,
     "metadata": {},
     "output_type": "execute_result"
    }
   ],
   "source": [
    "var"
   ]
  },
  {
   "cell_type": "code",
   "execution_count": null,
   "id": "8d5f736a-55cc-431a-b507-6437c9183b27",
   "metadata": {},
   "outputs": [],
   "source": [
    "var =Index(['temperature_103', 'light_103', 'sound_103', 'temperature_104',\n",
    "       'light_104', 'light_105', 'light_106', 'temperature_107', 'light_107',\n",
    "       'tvoc_108', 'sound_108', 'temperature_110', 'temperature_112'],\n",
    "      dtype='object')"
   ]
  },
  {
   "cell_type": "code",
   "execution_count": 21,
   "id": "e0d42243-9cf0-4c3b-ad8a-76fa7caecbee",
   "metadata": {},
   "outputs": [
    {
     "name": "stdout",
     "output_type": "stream",
     "text": [
      "[-4.00663437e+01 -6.73688337e+01 -2.40580680e-01  6.03623965e+01\n",
      "  1.27906984e+02 -8.19228488e+01  6.47796991e+02  1.06928038e+02\n",
      " -5.21727828e+02  4.09043853e+01 -6.39264767e+00  1.78364315e-01\n",
      " -5.67691217e+01]\n"
     ]
    },
    {
     "name": "stderr",
     "output_type": "stream",
     "text": [
      "/home/ahmed/anaconda3/lib/python3.9/site-packages/sklearn/base.py:443: UserWarning: X has feature names, but StandardScaler was fitted without feature names\n",
      "  warnings.warn(\n"
     ]
    }
   ],
   "source": [
    "import pandas\n",
    "from sklearn import linear_model\n",
    "\n",
    "X = X[var].copy()\n",
    "print(X.columns)\n",
    "col = [0, 4, 5, 7, 8, 9, 13, 14, 15, 17, 18, 21, 25, 26, 29, 30, 32, 33, 34, 35, 36]\n",
    "col = [0, 4, 5, 7,  9, 13, 15, 18, 21, 26,  30]\n",
    "col2    =[0, 1, 2, 3, 4, 5,6,  8, 10, 11, 13, 14,15]\n",
    "# X= X[col]\n",
    "#X= X.iloc[:,col]\n",
    "y = y\n",
    "# importing train_test_split from sklearn\n",
    "from sklearn.model_selection import train_test_split\n",
    "# splitting the data\n",
    "X_train, X_test, y_train, y_test = train_test_split(X, y, test_size = 0.2, random_state = 42)\n",
    "\n",
    "X_train = X_train.values\n",
    "from sklearn.preprocessing import StandardScaler\n",
    "scaler = StandardScaler()\n",
    "datascaler=scaler.fit(X_train)\n",
    "X_train= datascaler.transform(X_train)\n",
    "X_test= datascaler.transform(X_test)\n",
    "\n",
    "regr = linear_model.LinearRegression()\n",
    "regr.fit(X_train, y_train)\n",
    "y_pred = regr.predict(X_test)\n",
    "\n",
    "\n",
    "print(regr.coef_) "
   ]
  },
  {
   "cell_type": "code",
   "execution_count": 22,
   "id": "e1619f13-a648-410c-923b-5c8aa9926636",
   "metadata": {},
   "outputs": [
    {
     "name": "stdout",
     "output_type": "stream",
     "text": [
      "                            OLS Regression Results                            \n",
      "==============================================================================\n",
      "Dep. Variable:                      y   R-squared:                       0.802\n",
      "Model:                            OLS   Adj. R-squared:                  0.802\n",
      "Method:                 Least Squares   F-statistic:                     2297.\n",
      "Date:                Thu, 05 May 2022   Prob (F-statistic):               0.00\n",
      "Time:                        16:40:36   Log-Likelihood:                -45754.\n",
      "No. Observations:                7392   AIC:                         9.154e+04\n",
      "Df Residuals:                    7378   BIC:                         9.163e+04\n",
      "Df Model:                          13                                         \n",
      "Covariance Type:            nonrobust                                         \n",
      "==============================================================================\n",
      "                 coef    std err          t      P>|t|      [0.025      0.975]\n",
      "------------------------------------------------------------------------------\n",
      "const        413.8061      1.374    301.197      0.000     411.113     416.499\n",
      "x1           -40.0663      2.607    -15.369      0.000     -45.177     -34.956\n",
      "x2           -67.3688      7.020     -9.597      0.000     -81.130     -53.608\n",
      "x3            -0.2406      1.410     -0.171      0.865      -3.005       2.524\n",
      "x4            60.3624      4.207     14.347      0.000      52.115      68.610\n",
      "x5           127.9070     16.917      7.561      0.000      94.745     161.069\n",
      "x6           -81.9228     25.722     -3.185      0.001    -132.346     -31.500\n",
      "x7           647.7970      9.608     67.424      0.000     628.963     666.631\n",
      "x8           106.9280      7.267     14.715      0.000      92.683     121.173\n",
      "x9          -521.7278     16.696    -31.248      0.000    -554.458    -488.998\n",
      "x10           40.9044      1.891     21.627      0.000      37.197      44.612\n",
      "x11           -6.3926      1.767     -3.618      0.000      -9.857      -2.929\n",
      "x12            0.1784      1.751      0.102      0.919      -3.254       3.611\n",
      "x13          -56.7691      5.568    -10.195      0.000     -67.685     -45.854\n",
      "==============================================================================\n",
      "Omnibus:                     2622.450   Durbin-Watson:                   2.021\n",
      "Prob(Omnibus):                  0.000   Jarque-Bera (JB):            24842.396\n",
      "Skew:                           1.426   Prob(JB):                         0.00\n",
      "Kurtosis:                      11.516   Cond. No.                         59.6\n",
      "==============================================================================\n",
      "\n",
      "Notes:\n",
      "[1] Standard Errors assume that the covariance matrix of the errors is correctly specified.\n"
     ]
    }
   ],
   "source": [
    "import pandas as pd\n",
    "import numpy as np\n",
    "import statsmodels.api as sm\n",
    "from scipy import stats\n",
    "\n",
    "X2 = sm.add_constant(X_train)\n",
    "est = sm.OLS(y_train, X2)\n",
    "est2 = est.fit()\n",
    "print(est2.summary())"
   ]
  },
  {
   "cell_type": "code",
   "execution_count": 23,
   "id": "8093409d-0a83-47df-a5ef-960147ca8b2e",
   "metadata": {},
   "outputs": [
    {
     "name": "stdout",
     "output_type": "stream",
     "text": [
      "    Coefficients  Standard Errors  t values  Probabilities\n",
      "0       413.8061            1.374   301.197          0.000\n",
      "1       -40.0663            2.607   -15.369          0.000\n",
      "2       -67.3688            7.020    -9.597          0.000\n",
      "3        -0.2406            1.410    -0.171          0.865\n",
      "4        60.3624            4.207    14.347          0.000\n",
      "5       127.9070           16.917     7.561          0.000\n",
      "6       -81.9228           25.722    -3.185          0.001\n",
      "7       647.7970            9.608    67.424          0.000\n",
      "8       106.9280            7.267    14.715          0.000\n",
      "9      -521.7278           16.696   -31.248          0.000\n",
      "10       40.9044            1.891    21.627          0.000\n",
      "11       -6.3926            1.767    -3.618          0.000\n",
      "12        0.1784            1.751     0.102          0.919\n",
      "13      -56.7691            5.568   -10.195          0.000\n"
     ]
    }
   ],
   "source": [
    "lm = linear_model.LinearRegression()\n",
    "X, y=X_train, y_train\n",
    "lm.fit(X,y)\n",
    "params = np.append(lm.intercept_,lm.coef_)\n",
    "predictions = lm.predict(X)\n",
    "\n",
    "newX = pd.DataFrame({\"Constant\":np.ones(len(X))}).join(pd.DataFrame(X))\n",
    "MSE = (sum((y-predictions)**2))/(len(newX)-len(newX.columns))\n",
    "\n",
    "# Note if you don't want to use a DataFrame replace the two lines above with\n",
    "# newX = np.append(np.ones((len(X),1)), X, axis=1)\n",
    "# MSE = (sum((y-predictions)**2))/(len(newX)-len(newX[0]))\n",
    "\n",
    "var_b = MSE*(np.linalg.inv(np.dot(newX.T,newX)).diagonal())\n",
    "sd_b = np.sqrt(var_b)\n",
    "ts_b = params/sd_b\n",
    "\n",
    "p_values =[2*(1-stats.t.cdf(np.abs(i),(len(newX)-len(newX.columns)-1))) for i in ts_b]\n",
    "\n",
    "sd_b = np.round(sd_b,3)\n",
    "ts_b = np.round(ts_b,3)\n",
    "p_values = np.round(p_values,3)\n",
    "params = np.round(params,4)\n",
    "\n",
    "myDF3 = pd.DataFrame()\n",
    "myDF3[\"Coefficients\"],myDF3[\"Standard Errors\"],myDF3[\"t values\"],myDF3[\"Probabilities\"] = [params,sd_b,ts_b,p_values]\n",
    "print(myDF3)"
   ]
  },
  {
   "cell_type": "code",
   "execution_count": null,
   "id": "09e951bb-1954-44b5-88ff-f690f723edae",
   "metadata": {},
   "outputs": [],
   "source": [
    "col= []\n",
    "for i,pval in enumerate(myDF3[\"Probabilities\"]):\n",
    "    if pval<=0.00001:\n",
    "        col.append(i-1)\n",
    "col   = col[1:] "
   ]
  },
  {
   "cell_type": "code",
   "execution_count": null,
   "id": "f86e45e5-7e11-49de-919c-7c8463c3fa65",
   "metadata": {},
   "outputs": [],
   "source": [
    "col"
   ]
  },
  {
   "cell_type": "code",
   "execution_count": null,
   "id": "92e292b1-7e04-4f2d-864d-103b167a7d28",
   "metadata": {},
   "outputs": [],
   "source": [
    "X_train"
   ]
  },
  {
   "cell_type": "code",
   "execution_count": null,
   "id": "38822862-b9c6-4f5a-b85c-b589dfe79fe5",
   "metadata": {},
   "outputs": [],
   "source": [
    "X"
   ]
  },
  {
   "cell_type": "code",
   "execution_count": 24,
   "id": "61051966-cbed-4629-b0c8-4452e8aafc1a",
   "metadata": {},
   "outputs": [
    {
     "name": "stdout",
     "output_type": "stream",
     "text": [
      "r2 socre is  0.7863691726246336\n",
      "mean_sqrd_error is  16006.476687800314\n",
      "root_mean_squared error of is  126.51670517287555\n"
     ]
    }
   ],
   "source": [
    "# importing r2_score module\n",
    "from sklearn.metrics import r2_score\n",
    "from sklearn.metrics import mean_squared_error\n",
    "# predicting the accuracy score\n",
    "score=r2_score(y_test,y_pred)\n",
    "print(\"r2 socre is \",score)\n",
    "print(\"mean_sqrd_error is \",mean_squared_error(y_test,y_pred))\n",
    "print(\"root_mean_squared error of is \",np.sqrt(mean_squared_error(y_test,y_pred)))"
   ]
  },
  {
   "cell_type": "code",
   "execution_count": null,
   "id": "8948923c-f162-487c-9988-230c210ac981",
   "metadata": {},
   "outputs": [],
   "source": [
    "d = {'y_pred': y_pred, 'y_test': y_test}\n",
    "dfplot= pd.DataFrame(data=d)\n",
    "dfplot.plot()\n"
   ]
  },
  {
   "cell_type": "markdown",
   "id": "9f611f06-8a30-41dd-8b1c-a58d9a632af5",
   "metadata": {},
   "source": [
    "## Missing data generation"
   ]
  },
  {
   "cell_type": "code",
   "execution_count": null,
   "id": "26806b79-103f-4d9d-8ee6-c734c340bf00",
   "metadata": {},
   "outputs": [],
   "source": [
    "#!pip install torch\n",
    "#!pip install wget \n",
    "import wget\n",
    "#wget.download('https://raw.githubusercontent.com/BorisMuzellec/MissingDataOT/master/utils.py')\n",
    "\n",
    "import numpy as np\n",
    "import pandas as pd\n",
    "from utils import *\n",
    "import torch\n",
    "import seaborn as sns"
   ]
  },
  {
   "cell_type": "code",
   "execution_count": null,
   "id": "6dfcf514-d8a8-4686-9cc7-f846bf50c399",
   "metadata": {},
   "outputs": [],
   "source": [
    "df1 = df.copy()\n",
    "\n"
   ]
  },
  {
   "cell_type": "code",
   "execution_count": null,
   "id": "9d5c3ef2-816d-436f-92d8-3c7ee970f5ae",
   "metadata": {},
   "outputs": [],
   "source": [
    "df.plot()"
   ]
  },
  {
   "cell_type": "code",
   "execution_count": null,
   "id": "5f89d015-5dd1-4867-a5a9-ce8e3a03f7e4",
   "metadata": {},
   "outputs": [],
   "source": []
  },
  {
   "cell_type": "code",
   "execution_count": null,
   "id": "9c109181-22a3-4950-aa17-dc775b1fe8cc",
   "metadata": {},
   "outputs": [],
   "source": [
    "#!pip install category_encoders\n",
    "import category_encoders as ce\n",
    "# Get a new clean dataframe\n",
    "obj_df = df1.select_dtypes(include=['object']).copy()"
   ]
  },
  {
   "cell_type": "code",
   "execution_count": null,
   "id": "f7a216b4-3570-4c60-9e38-0be3fd15681e",
   "metadata": {},
   "outputs": [],
   "source": [
    "df1 = obj_df.replace(x)"
   ]
  },
  {
   "cell_type": "code",
   "execution_count": null,
   "id": "5c5cb91d-3d71-4ce9-8350-c92b16b533af",
   "metadata": {},
   "outputs": [],
   "source": [
    "df1.plot()"
   ]
  },
  {
   "cell_type": "code",
   "execution_count": null,
   "id": "d136fe58-1f23-4286-9d76-4577cae5c585",
   "metadata": {},
   "outputs": [],
   "source": []
  },
  {
   "cell_type": "code",
   "execution_count": null,
   "id": "1e97bf8f-31d1-40a6-8032-c7d02ebb4eb4",
   "metadata": {},
   "outputs": [],
   "source": [
    "# Fix the seed ------------------------------------------------------\n",
    "np.random.seed(2)"
   ]
  },
  {
   "cell_type": "code",
   "execution_count": null,
   "id": "6a926b94-eaaa-43f3-8441-195cdfe2e89e",
   "metadata": {},
   "outputs": [],
   "source": [
    "# Function produce_NA for generating missing values ------------------------------------------------------\n",
    "\n",
    "def produce_NA(X, p_miss, mecha=\"MCAR\", opt=None, p_obs=None, q=None):\n",
    "    \"\"\"\n",
    "    Generate missing values for specifics missing-data mechanism and proportion of missing values. \n",
    "    \n",
    "    Parameters\n",
    "    ----------\n",
    "    X : torch.DoubleTensor or np.ndarray, shape (n, d)\n",
    "        Data for which missing values will be simulated.\n",
    "        If a numpy array is provided, it will be converted to a pytorch tensor.\n",
    "    p_miss : float\n",
    "        Proportion of missing values to generate for variables which will have missing values.\n",
    "    mecha : str, \n",
    "            Indicates the missing-data mechanism to be used. \"MCAR\" by default, \"MAR\", \"MNAR\" or \"MNARsmask\"\n",
    "    opt: str, \n",
    "         For mecha = \"MNAR\", it indicates how the missing-data mechanism is generated: using a logistic regression (\"logistic\"), quantile censorship (\"quantile\") or logistic regression for generating a self-masked MNAR mechanism (\"selfmasked\").\n",
    "    p_obs : float\n",
    "            If mecha = \"MAR\", or mecha = \"MNAR\" with opt = \"logistic\" or \"quanti\", proportion of variables with *no* missing values that will be used for the logistic masking model.\n",
    "    q : float\n",
    "        If mecha = \"MNAR\" and opt = \"quanti\", quantile level at which the cuts should occur.\n",
    "    \n",
    "    Returns\n",
    "    ----------\n",
    "    A dictionnary containing:\n",
    "    'X_init': the initial data matrix.\n",
    "    'X_incomp': the data with the generated missing values.\n",
    "    'mask': a matrix indexing the generated missing values.s\n",
    "    \"\"\"\n",
    "    \n",
    "    to_torch = torch.is_tensor(X) ## output a pytorch tensor, or a numpy array\n",
    "    if not to_torch:\n",
    "        X = X.astype(np.float32)\n",
    "        X = torch.from_numpy(X)\n",
    "    \n",
    "    if mecha == \"MAR\":\n",
    "        mask = MAR_mask(X, p_miss, p_obs).double()\n",
    "    elif mecha == \"MNAR\" and opt == \"logistic\":\n",
    "        mask = MNAR_mask_logistic(X, p_miss, p_obs).double()\n",
    "    elif mecha == \"MNAR\" and opt == \"quantile\":\n",
    "        mask = MNAR_mask_quantiles(X, p_miss, q, 1-p_obs).double()\n",
    "    elif mecha == \"MNAR\" and opt == \"selfmasked\":\n",
    "        mask = MNAR_self_mask_logistic(X, p_miss).double()\n",
    "    else:\n",
    "        mask = (torch.rand(X.shape) < p_miss).double()\n",
    "    \n",
    "    X_nas = X.clone()\n",
    "    X_nas[mask.bool()] = np.nan\n",
    "    \n",
    "    return {'X_init': X.double(), 'X_incomp': X_nas.double(), 'mask': mask}"
   ]
  },
  {
   "cell_type": "code",
   "execution_count": null,
   "id": "a42193f8-123c-403f-9fec-84f87e06c2ca",
   "metadata": {},
   "outputs": [],
   "source": [
    "X = df.copy()\n",
    "shelly_219 =  ['state_AA7BF5','state_AA4706', 'state_AA9130', 'state_483FDA81E0F4']\n",
    "for shelly in shelly_219:\n",
    "    X = X.drop([shelly ], axis=1)"
   ]
  },
  {
   "cell_type": "code",
   "execution_count": null,
   "id": "be5fa74b-8de4-4796-8760-c2f3736ad834",
   "metadata": {},
   "outputs": [],
   "source": [
    "X.columns"
   ]
  },
  {
   "cell_type": "code",
   "execution_count": null,
   "id": "8626cb53-b30d-4135-baab-c1125a7fc4c0",
   "metadata": {},
   "outputs": [],
   "source": [
    "X = X.values\n",
    "from sklearn.preprocessing import StandardScaler\n",
    "scaler = StandardScaler()\n",
    "datascaler=scaler.fit(X)\n",
    "X= datascaler.transform(X)"
   ]
  },
  {
   "cell_type": "code",
   "execution_count": null,
   "id": "a10c914c-da90-4fb5-afdd-9cabd466a8b5",
   "metadata": {},
   "outputs": [],
   "source": [
    "import pandas as pd\n",
    "df= pd.DataFrame(X)\n",
    "df.index=data.index"
   ]
  },
  {
   "cell_type": "code",
   "execution_count": null,
   "id": "5f7e0ec8-0101-424f-89b0-2c20d559210c",
   "metadata": {},
   "outputs": [],
   "source": [
    "df.head()"
   ]
  },
  {
   "cell_type": "code",
   "execution_count": null,
   "id": "df144596-60e6-4484-9fc8-f413b9dd315e",
   "metadata": {},
   "outputs": [],
   "source": [
    "#df.to_csv('dataComplet_219.csv')"
   ]
  },
  {
   "cell_type": "markdown",
   "id": "7be23412-e8a8-4d10-a5e7-e6f4b2419913",
   "metadata": {},
   "source": [
    "## MCAR Generation"
   ]
  },
  {
   "cell_type": "code",
   "execution_count": null,
   "id": "17877df5-4152-4862-87cc-581ab7d9f299",
   "metadata": {},
   "outputs": [],
   "source": [
    "# Minimal example for generating missing data ------------------------\n",
    "p='5.csv'\n",
    "X_miss_mcar = produce_NA(X, p_miss=0.05, mecha=\"MCAR\")\n",
    "X_mcar = X_miss_mcar['X_incomp']\n",
    "R_mcar = X_miss_mcar['mask']\n",
    "\n",
    "print(\"Percentage of newly generated missing values: \", (R_mcar.sum()).numpy()/np.prod(R_mcar.size())*100, \" %\")\n",
    "\n",
    "df = X_mcar\n",
    "df = df.numpy()\n",
    "mask=R_mcar\n",
    "mask = mask.numpy()\n",
    "\n",
    "df = pd.DataFrame(data=df, columns=['Temperature', 'Humidity', 'CO2', 'Noise','Pressure'])\n",
    "mask = pd.DataFrame(data=mask, columns=['Temperature', 'Humidity', 'CO2', 'Noise','Pressure'])\n",
    "\n",
    "df['time']= data.index\n",
    "df.set_index('time',inplace = True)\n",
    "mask['time']= data.index\n",
    "mask.set_index('time',inplace = True)\n",
    "df.to_csv('MCAR'+p)\n",
    "mask.to_csv('mask'+p)"
   ]
  },
  {
   "cell_type": "code",
   "execution_count": null,
   "id": "cb020514-b7c1-4d73-a2fc-6ee7e39b21e7",
   "metadata": {},
   "outputs": [],
   "source": [
    "#df.to_csv('MCAR25.csv')\n",
    "# supprimer d'abord les deux lignes dans le fichier d'export Neatatmo\n",
    "index_col=\"time\"\n",
    "df=pd.read_csv('MCAR40.csv', sep=\",\", encoding = \"ISO-8859-1\", index_col=index_col)\n",
    "mask=pd.read_csv('mask40.csv', sep=\",\", encoding = \"ISO-8859-1\", index_col=index_col)\n",
    "mask=mask.values\n"
   ]
  },
  {
   "cell_type": "code",
   "execution_count": null,
   "id": "2273a398-dea3-4734-9219-5e0fac351056",
   "metadata": {},
   "outputs": [],
   "source": [
    "# Sample mar data -----------------------------------------\n",
    "X_miss_mar = produce_NA(X, p_miss=0.4, mecha=\"MAR\", p_obs=0.4)\n",
    "\n",
    "X_mar = X_miss_mar['X_incomp']\n",
    "R_mar = X_miss_mar['mask']\n",
    "\n",
    "print(\"Percentage of generated missing values: \", (R_mar.sum()).numpy()/np.prod(R_mar.size())*100, \" %\")\n",
    "\n",
    "ax = sns.heatmap(X_mar, mask=R_mar.numpy()==1, linewidths=0.02, linecolor='black')\n",
    "\n",
    "df = X_mar\n",
    "df = df.numpy()\n",
    "mask_mar = R_mar\n",
    "mask_mar = mask_mar.numpy()\n",
    "\n",
    "df = pd.DataFrame(data=df, columns=['Temperature', 'Humidity', 'CO2', 'Noise','Pressure'])\n",
    "mask_mar = pd.DataFrame(data=mask_mar, columns=['Temperature', 'Humidity', 'CO2', 'Noise','Pressure'])\n",
    "\n"
   ]
  },
  {
   "cell_type": "code",
   "execution_count": null,
   "id": "896ece30-5fcd-4bd3-b77d-626c7fb4384d",
   "metadata": {},
   "outputs": [],
   "source": [
    "# df['time']= data.index\n",
    "# df.set_index('time',inplace = True)\n",
    "# mask_mar['time'] = data.index\n",
    "# mask_mar.set_index('time',inplace = True)\n",
    "# df.to_csv('MAR'+p)\n",
    "# mask_mar.to_csv('mask_mar'+p)"
   ]
  },
  {
   "cell_type": "code",
   "execution_count": null,
   "id": "d3fe4c67-a62a-41b5-8e59-67bd859942ae",
   "metadata": {},
   "outputs": [],
   "source": [
    "# Minimal example for generating missing data ------------------------\n",
    "p='5.csv'"
   ]
  },
  {
   "cell_type": "code",
   "execution_count": null,
   "id": "cf73c0de-a2c1-4d13-8034-121a581dd63b",
   "metadata": {},
   "outputs": [],
   "source": [
    "pourcentage=5\n",
    "p="
   ]
  }
 ],
 "metadata": {
  "kernelspec": {
   "display_name": "Python 3 (ipykernel)",
   "language": "python",
   "name": "python3"
  },
  "language_info": {
   "codemirror_mode": {
    "name": "ipython",
    "version": 3
   },
   "file_extension": ".py",
   "mimetype": "text/x-python",
   "name": "python",
   "nbconvert_exporter": "python",
   "pygments_lexer": "ipython3",
   "version": "3.9.12"
  }
 },
 "nbformat": 4,
 "nbformat_minor": 5
}
