{
 "cells": [
  {
   "cell_type": "markdown",
   "id": "67ea5a62-939b-4608-acbc-149252663e5b",
   "metadata": {},
   "source": [
    "## read data from files netatmo"
   ]
  },
  {
   "cell_type": "code",
   "execution_count": 1,
   "id": "b9cf5b9a-5cd2-45c1-a0b3-d837ccd70323",
   "metadata": {},
   "outputs": [],
   "source": [
    "import numpy as np\n",
    "#import tensorflow as tf\n",
    "#from tensorflow import keras\n",
    "import pandas as pd\n",
    "import seaborn as sns\n",
    "from pylab import rcParams\n",
    "import matplotlib.pyplot as plt\n",
    "from matplotlib import rc\n",
    "from pandas.plotting import register_matplotlib_converters\n",
    "\n",
    "from numpy import isnan\n",
    "from pandas import read_csv\n",
    "from sklearn.experimental import enable_iterative_imputer\n",
    "from sklearn.impute import IterativeImputer\n",
    "from sklearn.ensemble import ExtraTreesRegressor\n",
    "\n",
    "#!pip install wget \n",
    "import wget\n",
    "#wget.download('https://raw.githubusercontent.com/BorisMuzellec/MissingDataOT/master/utils.py')\n",
    "\n",
    "import numpy as np\n",
    "import pandas as pd\n",
    "from utils import *\n",
    "import torch\n",
    "import seaborn as sns\n",
    "\n",
    "from sklearn.model_selection import cross_val_score\n",
    "\n",
    "%matplotlib inline\n",
    "%config InlineBackend.figure_format='retina'\n",
    "\n",
    "register_matplotlib_converters()\n",
    "sns.set(style='whitegrid', palette='muted', font_scale=1.5)\n",
    "\n",
    "rcParams['figure.figsize'] = 22, 10\n",
    "\n",
    "RANDOM_SEED = 42"
   ]
  },
  {
   "cell_type": "code",
   "execution_count": 3,
   "id": "5c763b75-ccd8-4528-9b47-7672cac34b67",
   "metadata": {},
   "outputs": [],
   "source": [
    "# supprimer d'abord les deux lignes dans le fichier d'export Neatatmo\n",
    "index_col=\"date\"\n",
    "data_true=pd.read_csv('X_selected.csv', sep=\",\", encoding = \"ISO-8859-1\", index_col=index_col)\n",
    "y=pd.read_csv('y_selected.csv', sep=\",\", encoding = \"ISO-8859-1\", index_col=index_col)"
   ]
  },
  {
   "cell_type": "code",
   "execution_count": null,
   "id": "2c4eec2a-500f-49ef-affe-6eec1d841fc4",
   "metadata": {},
   "outputs": [],
   "source": []
  },
  {
   "cell_type": "code",
   "execution_count": 42,
   "id": "341e8a01-41a3-4c2d-bc2f-7b58a7e88862",
   "metadata": {},
   "outputs": [],
   "source": [
    "# df=df.join(y)"
   ]
  },
  {
   "cell_type": "code",
   "execution_count": null,
   "id": "4ae03bf0-adc6-4bcf-abc4-c4b5b07cec4b",
   "metadata": {},
   "outputs": [],
   "source": []
  },
  {
   "cell_type": "code",
   "execution_count": 47,
   "id": "bdd1f509-3e65-4d39-8c09-468ff2c36559",
   "metadata": {},
   "outputs": [
    {
     "name": "stderr",
     "output_type": "stream",
     "text": [
      "C:\\Users\\ahmed\\anaconda3\\lib\\site-packages\\sklearn\\impute\\_iterative.py:685: ConvergenceWarning: [IterativeImputer] Early stopping criterion not reached.\n",
      "  warnings.warn(\"[IterativeImputer] Early stopping criterion not\"\n",
      "C:\\Users\\ahmed\\anaconda3\\lib\\site-packages\\sklearn\\impute\\_iterative.py:685: ConvergenceWarning: [IterativeImputer] Early stopping criterion not reached.\n",
      "  warnings.warn(\"[IterativeImputer] Early stopping criterion not\"\n",
      "C:\\Users\\ahmed\\anaconda3\\lib\\site-packages\\sklearn\\impute\\_iterative.py:685: ConvergenceWarning: [IterativeImputer] Early stopping criterion not reached.\n",
      "  warnings.warn(\"[IterativeImputer] Early stopping criterion not\"\n"
     ]
    }
   ],
   "source": [
    "listefile = [\"05.csv\",\"10.csv\",\"25.csv\",\"40.csv\", \"60.csv\", \"70.csv\"]\n",
    "for p in listefile:\n",
    "    df=pd.read_csv('BDD_missingData/MAR'+p, sep=\",\", encoding = \"ISO-8859-1\", index_col=index_col)\n",
    "    # mask=pd.read_csv('BDD_missingData/mask'+p, sep=\",\", encoding = \"ISO-8859-1\", index_col=index_col)\n",
    "    # mask=mask.values\n",
    "    df.shape\n",
    "    dataframe = df.copy()\n",
    "    # split into input and output elements\n",
    "    dataframe = dataframe.values\n",
    "    imputer = IterativeImputer(estimator=ExtraTreesRegressor(n_estimators=10, random_state=0), missing_values=np.nan, sample_posterior=False, \n",
    "                                     max_iter=10, tol=0.1, \n",
    "                                     n_nearest_features=50, initial_strategy='median')\n",
    "    # imputer = IterativeImputer()\n",
    "    # fit on the dataset\n",
    "    imputer.fit(dataframe)\n",
    "    # transform the dataset\n",
    "    dataframe = imputer.transform(dataframe)\n",
    "    dataframe = pd.DataFrame(dataframe, columns = data_true.columns)\n",
    "    dataframe.index=data_true.index\n",
    "    dataframe.to_csv(\"./ImputedData/MICE_MAR\"+p)\n"
   ]
  },
  {
   "cell_type": "code",
   "execution_count": 38,
   "id": "b6ae28b1-7ebd-43b1-b188-b6ce0c816a6b",
   "metadata": {},
   "outputs": [],
   "source": []
  },
  {
   "cell_type": "code",
   "execution_count": 39,
   "id": "9d631d54-b532-4510-b5de-7cf150079a29",
   "metadata": {},
   "outputs": [
    {
     "data": {
      "text/html": [
       "<div>\n",
       "<style scoped>\n",
       "    .dataframe tbody tr th:only-of-type {\n",
       "        vertical-align: middle;\n",
       "    }\n",
       "\n",
       "    .dataframe tbody tr th {\n",
       "        vertical-align: top;\n",
       "    }\n",
       "\n",
       "    .dataframe thead th {\n",
       "        text-align: right;\n",
       "    }\n",
       "</style>\n",
       "<table border=\"1\" class=\"dataframe\">\n",
       "  <thead>\n",
       "    <tr style=\"text-align: right;\">\n",
       "      <th></th>\n",
       "      <th>co2_100</th>\n",
       "      <th>temperature_100</th>\n",
       "      <th>co2_101</th>\n",
       "      <th>temperature_101</th>\n",
       "      <th>co2_102</th>\n",
       "      <th>temperature_105</th>\n",
       "      <th>co2_106</th>\n",
       "      <th>light_106</th>\n",
       "      <th>co2_107</th>\n",
       "      <th>co2_108</th>\n",
       "      <th>sound_108</th>\n",
       "      <th>humidity_110</th>\n",
       "      <th>weather_out</th>\n",
       "      <th>weather_hum</th>\n",
       "      <th>weather_bar_</th>\n",
       "      <th>windows</th>\n",
       "    </tr>\n",
       "    <tr>\n",
       "      <th>date</th>\n",
       "      <th></th>\n",
       "      <th></th>\n",
       "      <th></th>\n",
       "      <th></th>\n",
       "      <th></th>\n",
       "      <th></th>\n",
       "      <th></th>\n",
       "      <th></th>\n",
       "      <th></th>\n",
       "      <th></th>\n",
       "      <th></th>\n",
       "      <th></th>\n",
       "      <th></th>\n",
       "      <th></th>\n",
       "      <th></th>\n",
       "      <th></th>\n",
       "    </tr>\n",
       "  </thead>\n",
       "  <tbody>\n",
       "    <tr>\n",
       "      <th>2022-03-15 00:00:00</th>\n",
       "      <td>509.333344</td>\n",
       "      <td>25.893333</td>\n",
       "      <td>478.073734</td>\n",
       "      <td>25.450001</td>\n",
       "      <td>481.729075</td>\n",
       "      <td>25.839077</td>\n",
       "      <td>514.666687</td>\n",
       "      <td>0.000000</td>\n",
       "      <td>572.666687</td>\n",
       "      <td>577.500000</td>\n",
       "      <td>5.500000</td>\n",
       "      <td>25.639999</td>\n",
       "      <td>13.105548</td>\n",
       "      <td>66.000000</td>\n",
       "      <td>1016.438744</td>\n",
       "      <td>1.000000</td>\n",
       "    </tr>\n",
       "    <tr>\n",
       "      <th>2022-03-15 00:05:00</th>\n",
       "      <td>504.250000</td>\n",
       "      <td>25.895000</td>\n",
       "      <td>439.666656</td>\n",
       "      <td>25.453333</td>\n",
       "      <td>468.333344</td>\n",
       "      <td>25.890482</td>\n",
       "      <td>514.750000</td>\n",
       "      <td>0.000000</td>\n",
       "      <td>569.500000</td>\n",
       "      <td>583.103838</td>\n",
       "      <td>5.282315</td>\n",
       "      <td>25.747499</td>\n",
       "      <td>14.073524</td>\n",
       "      <td>66.333336</td>\n",
       "      <td>1023.049988</td>\n",
       "      <td>1.000000</td>\n",
       "    </tr>\n",
       "    <tr>\n",
       "      <th>2022-03-15 00:10:00</th>\n",
       "      <td>500.500000</td>\n",
       "      <td>25.900000</td>\n",
       "      <td>437.000000</td>\n",
       "      <td>25.292800</td>\n",
       "      <td>466.666656</td>\n",
       "      <td>25.976253</td>\n",
       "      <td>515.000000</td>\n",
       "      <td>0.000000</td>\n",
       "      <td>549.487361</td>\n",
       "      <td>575.250000</td>\n",
       "      <td>4.790982</td>\n",
       "      <td>25.775000</td>\n",
       "      <td>11.525238</td>\n",
       "      <td>66.666664</td>\n",
       "      <td>1023.000000</td>\n",
       "      <td>1.000000</td>\n",
       "    </tr>\n",
       "    <tr>\n",
       "      <th>2022-03-15 00:15:00</th>\n",
       "      <td>499.666656</td>\n",
       "      <td>25.802649</td>\n",
       "      <td>439.666656</td>\n",
       "      <td>25.450001</td>\n",
       "      <td>465.824898</td>\n",
       "      <td>25.657531</td>\n",
       "      <td>514.666687</td>\n",
       "      <td>0.000000</td>\n",
       "      <td>565.000000</td>\n",
       "      <td>572.000000</td>\n",
       "      <td>6.000000</td>\n",
       "      <td>25.872499</td>\n",
       "      <td>11.581739</td>\n",
       "      <td>66.960178</td>\n",
       "      <td>1022.950012</td>\n",
       "      <td>0.100006</td>\n",
       "    </tr>\n",
       "    <tr>\n",
       "      <th>2022-03-15 00:20:00</th>\n",
       "      <td>513.148704</td>\n",
       "      <td>25.771609</td>\n",
       "      <td>459.891533</td>\n",
       "      <td>25.440001</td>\n",
       "      <td>462.888885</td>\n",
       "      <td>25.702499</td>\n",
       "      <td>512.750000</td>\n",
       "      <td>0.000000</td>\n",
       "      <td>554.251028</td>\n",
       "      <td>567.750000</td>\n",
       "      <td>5.137470</td>\n",
       "      <td>25.766666</td>\n",
       "      <td>11.666667</td>\n",
       "      <td>67.333336</td>\n",
       "      <td>1022.900024</td>\n",
       "      <td>0.502110</td>\n",
       "    </tr>\n",
       "    <tr>\n",
       "      <th>...</th>\n",
       "      <td>...</td>\n",
       "      <td>...</td>\n",
       "      <td>...</td>\n",
       "      <td>...</td>\n",
       "      <td>...</td>\n",
       "      <td>...</td>\n",
       "      <td>...</td>\n",
       "      <td>...</td>\n",
       "      <td>...</td>\n",
       "      <td>...</td>\n",
       "      <td>...</td>\n",
       "      <td>...</td>\n",
       "      <td>...</td>\n",
       "      <td>...</td>\n",
       "      <td>...</td>\n",
       "      <td>...</td>\n",
       "    </tr>\n",
       "    <tr>\n",
       "      <th>2022-05-30 23:35:00</th>\n",
       "      <td>392.917089</td>\n",
       "      <td>24.535000</td>\n",
       "      <td>393.643322</td>\n",
       "      <td>24.177242</td>\n",
       "      <td>424.500000</td>\n",
       "      <td>24.691945</td>\n",
       "      <td>421.142010</td>\n",
       "      <td>0.000000</td>\n",
       "      <td>419.750000</td>\n",
       "      <td>390.200012</td>\n",
       "      <td>5.942630</td>\n",
       "      <td>29.114000</td>\n",
       "      <td>14.100000</td>\n",
       "      <td>76.357088</td>\n",
       "      <td>1013.200012</td>\n",
       "      <td>1.000000</td>\n",
       "    </tr>\n",
       "    <tr>\n",
       "      <th>2022-05-30 23:40:00</th>\n",
       "      <td>405.799988</td>\n",
       "      <td>24.974156</td>\n",
       "      <td>411.525569</td>\n",
       "      <td>24.667500</td>\n",
       "      <td>399.842249</td>\n",
       "      <td>24.729522</td>\n",
       "      <td>425.000000</td>\n",
       "      <td>0.000000</td>\n",
       "      <td>422.399994</td>\n",
       "      <td>390.000000</td>\n",
       "      <td>8.069090</td>\n",
       "      <td>4.495595</td>\n",
       "      <td>18.078446</td>\n",
       "      <td>54.000000</td>\n",
       "      <td>1013.200012</td>\n",
       "      <td>1.000000</td>\n",
       "    </tr>\n",
       "    <tr>\n",
       "      <th>2022-05-30 23:45:00</th>\n",
       "      <td>358.392282</td>\n",
       "      <td>24.527500</td>\n",
       "      <td>412.600006</td>\n",
       "      <td>24.674000</td>\n",
       "      <td>426.000000</td>\n",
       "      <td>25.097500</td>\n",
       "      <td>415.198723</td>\n",
       "      <td>0.000000</td>\n",
       "      <td>422.250000</td>\n",
       "      <td>390.799988</td>\n",
       "      <td>8.813331</td>\n",
       "      <td>29.073999</td>\n",
       "      <td>14.000000</td>\n",
       "      <td>55.000000</td>\n",
       "      <td>1013.200012</td>\n",
       "      <td>1.000000</td>\n",
       "    </tr>\n",
       "    <tr>\n",
       "      <th>2022-05-30 23:50:00</th>\n",
       "      <td>402.500000</td>\n",
       "      <td>25.262981</td>\n",
       "      <td>413.500000</td>\n",
       "      <td>25.146579</td>\n",
       "      <td>430.261231</td>\n",
       "      <td>25.660051</td>\n",
       "      <td>421.250000</td>\n",
       "      <td>0.000000</td>\n",
       "      <td>421.500000</td>\n",
       "      <td>400.006825</td>\n",
       "      <td>9.200000</td>\n",
       "      <td>29.104000</td>\n",
       "      <td>14.393996</td>\n",
       "      <td>54.971382</td>\n",
       "      <td>1017.819586</td>\n",
       "      <td>1.000000</td>\n",
       "    </tr>\n",
       "    <tr>\n",
       "      <th>2022-05-30 23:55:00</th>\n",
       "      <td>416.116223</td>\n",
       "      <td>25.131180</td>\n",
       "      <td>389.896530</td>\n",
       "      <td>24.629999</td>\n",
       "      <td>424.250000</td>\n",
       "      <td>24.929186</td>\n",
       "      <td>420.750000</td>\n",
       "      <td>202.924707</td>\n",
       "      <td>419.441492</td>\n",
       "      <td>433.592223</td>\n",
       "      <td>9.200000</td>\n",
       "      <td>11.412357</td>\n",
       "      <td>13.800000</td>\n",
       "      <td>55.000000</td>\n",
       "      <td>1013.200012</td>\n",
       "      <td>0.687574</td>\n",
       "    </tr>\n",
       "  </tbody>\n",
       "</table>\n",
       "<p>22176 rows × 16 columns</p>\n",
       "</div>"
      ],
      "text/plain": [
       "                        co2_100  temperature_100     co2_101  temperature_101  \\\n",
       "date                                                                            \n",
       "2022-03-15 00:00:00  509.333344        25.893333  478.073734        25.450001   \n",
       "2022-03-15 00:05:00  504.250000        25.895000  439.666656        25.453333   \n",
       "2022-03-15 00:10:00  500.500000        25.900000  437.000000        25.292800   \n",
       "2022-03-15 00:15:00  499.666656        25.802649  439.666656        25.450001   \n",
       "2022-03-15 00:20:00  513.148704        25.771609  459.891533        25.440001   \n",
       "...                         ...              ...         ...              ...   \n",
       "2022-05-30 23:35:00  392.917089        24.535000  393.643322        24.177242   \n",
       "2022-05-30 23:40:00  405.799988        24.974156  411.525569        24.667500   \n",
       "2022-05-30 23:45:00  358.392282        24.527500  412.600006        24.674000   \n",
       "2022-05-30 23:50:00  402.500000        25.262981  413.500000        25.146579   \n",
       "2022-05-30 23:55:00  416.116223        25.131180  389.896530        24.629999   \n",
       "\n",
       "                        co2_102  temperature_105     co2_106   light_106  \\\n",
       "date                                                                       \n",
       "2022-03-15 00:00:00  481.729075        25.839077  514.666687    0.000000   \n",
       "2022-03-15 00:05:00  468.333344        25.890482  514.750000    0.000000   \n",
       "2022-03-15 00:10:00  466.666656        25.976253  515.000000    0.000000   \n",
       "2022-03-15 00:15:00  465.824898        25.657531  514.666687    0.000000   \n",
       "2022-03-15 00:20:00  462.888885        25.702499  512.750000    0.000000   \n",
       "...                         ...              ...         ...         ...   \n",
       "2022-05-30 23:35:00  424.500000        24.691945  421.142010    0.000000   \n",
       "2022-05-30 23:40:00  399.842249        24.729522  425.000000    0.000000   \n",
       "2022-05-30 23:45:00  426.000000        25.097500  415.198723    0.000000   \n",
       "2022-05-30 23:50:00  430.261231        25.660051  421.250000    0.000000   \n",
       "2022-05-30 23:55:00  424.250000        24.929186  420.750000  202.924707   \n",
       "\n",
       "                        co2_107     co2_108  sound_108  humidity_110  \\\n",
       "date                                                                   \n",
       "2022-03-15 00:00:00  572.666687  577.500000   5.500000     25.639999   \n",
       "2022-03-15 00:05:00  569.500000  583.103838   5.282315     25.747499   \n",
       "2022-03-15 00:10:00  549.487361  575.250000   4.790982     25.775000   \n",
       "2022-03-15 00:15:00  565.000000  572.000000   6.000000     25.872499   \n",
       "2022-03-15 00:20:00  554.251028  567.750000   5.137470     25.766666   \n",
       "...                         ...         ...        ...           ...   \n",
       "2022-05-30 23:35:00  419.750000  390.200012   5.942630     29.114000   \n",
       "2022-05-30 23:40:00  422.399994  390.000000   8.069090      4.495595   \n",
       "2022-05-30 23:45:00  422.250000  390.799988   8.813331     29.073999   \n",
       "2022-05-30 23:50:00  421.500000  400.006825   9.200000     29.104000   \n",
       "2022-05-30 23:55:00  419.441492  433.592223   9.200000     11.412357   \n",
       "\n",
       "                     weather_out  weather_hum  weather_bar_   windows  \n",
       "date                                                                   \n",
       "2022-03-15 00:00:00    13.105548    66.000000   1016.438744  1.000000  \n",
       "2022-03-15 00:05:00    14.073524    66.333336   1023.049988  1.000000  \n",
       "2022-03-15 00:10:00    11.525238    66.666664   1023.000000  1.000000  \n",
       "2022-03-15 00:15:00    11.581739    66.960178   1022.950012  0.100006  \n",
       "2022-03-15 00:20:00    11.666667    67.333336   1022.900024  0.502110  \n",
       "...                          ...          ...           ...       ...  \n",
       "2022-05-30 23:35:00    14.100000    76.357088   1013.200012  1.000000  \n",
       "2022-05-30 23:40:00    18.078446    54.000000   1013.200012  1.000000  \n",
       "2022-05-30 23:45:00    14.000000    55.000000   1013.200012  1.000000  \n",
       "2022-05-30 23:50:00    14.393996    54.971382   1017.819586  1.000000  \n",
       "2022-05-30 23:55:00    13.800000    55.000000   1013.200012  0.687574  \n",
       "\n",
       "[22176 rows x 16 columns]"
      ]
     },
     "execution_count": 39,
     "metadata": {},
     "output_type": "execute_result"
    }
   ],
   "source": [
    "dataframe"
   ]
  },
  {
   "cell_type": "code",
   "execution_count": 36,
   "id": "001d9359-d8fa-460e-995d-8c1dceda2d31",
   "metadata": {},
   "outputs": [
    {
     "name": "stdout",
     "output_type": "stream",
     "text": [
      "filename ; co2_100 ; 41.986940669514844\n",
      "filename ; temperature_100 ; 0.5742295897508007\n",
      "filename ; co2_101 ; 48.736578971300474\n",
      "filename ; temperature_101 ; 0.6796260135600168\n",
      "filename ; co2_102 ; 50.66087884370563\n",
      "filename ; temperature_105 ; 0.6849496149589489\n",
      "filename ; co2_106 ; 48.83922530968248\n",
      "filename ; light_106 ; 142.51080752340573\n",
      "filename ; co2_107 ; 56.131632426500495\n",
      "filename ; co2_108 ; 56.3962297171924\n",
      "filename ; sound_108 ; 1.7324530819075459\n",
      "filename ; humidity_110 ; 13.851824201137713\n",
      "filename ; weather_out ; 3.809963009340473\n",
      "filename ; weather_hum ; 13.067337867968751\n",
      "filename ; weather_bar_ ; 8.363362414637455\n",
      "filename ; windows ; 0.6368170291831031\n"
     ]
    }
   ],
   "source": [
    "for i in range(data_true.shape[1]):\n",
    "            print(\"filename\",\";\",str(data_true.columns[i]),\";\",RMSE(dataframe[:,i],data_true.values[:,i], mask[:,i]))"
   ]
  },
  {
   "cell_type": "code",
   "execution_count": 13,
   "id": "72a957d8-09a2-44c0-b1c0-fa3d8a023224",
   "metadata": {},
   "outputs": [
    {
     "name": "stdout",
     "output_type": "stream",
     "text": [
      "filename ; co2_100 ; 30.34899773010688\n",
      "filename ; temperature_100 ; 0.4080634367337182\n",
      "filename ; co2_101 ; 32.28978927456822\n",
      "filename ; temperature_101 ; 0.5327862065098192\n",
      "filename ; co2_102 ; 37.95567095119063\n",
      "filename ; temperature_105 ; 0.4570728785341217\n",
      "filename ; co2_106 ; 31.38899066730566\n",
      "filename ; light_106 ; 72.81167100537104\n",
      "filename ; co2_107 ; 32.33591303047642\n",
      "filename ; co2_108 ; 32.746045504138614\n",
      "filename ; sound_108 ; 0.874888348677002\n",
      "filename ; humidity_110 ; 6.410288696691866\n",
      "filename ; weather_out ; 1.7479771906181378\n",
      "filename ; weather_hum ; 6.633491734547512\n",
      "filename ; weather_bar_ ; 3.462144330270379\n",
      "filename ; windows ; 0.316128432649846\n"
     ]
    }
   ],
   "source": [
    "for i in range(data_true.shape[1]):\n",
    "            print(\"filename\",\";\",str(data_true.columns[i]),\";\",RMSE(dataframe[:,i],data_true.values[:,i], mask[:,i]))"
   ]
  },
  {
   "cell_type": "code",
   "execution_count": null,
   "id": "411e08af-6601-4055-8dc6-8599a6d09eb4",
   "metadata": {},
   "outputs": [],
   "source": [
    "# X_kalman=pd.read_csv('MCAR'+p, sep=\",\", encoding = \"ISO-8859-1\")\n",
    "# X_kalmanArimaImputed=pd.read_csv('kalmanArima_TRUE_MCAR'+p, sep=\",\", encoding = \"ISO-8859-1\")\n",
    "# X_kalmanStructTsImputed=pd.read_csv('kalmanStructTS_TRUE_MCAR'+p, sep=\",\", encoding = \"ISO-8859-1\")\n",
    "# X_kalmanArimaImputed=X_kalmanArimaImputed.set_index('date')\n",
    "# X_kalmanStructTsImputed=X_kalmanStructTsImputed.set_index('date')"
   ]
  },
  {
   "cell_type": "code",
   "execution_count": 117,
   "id": "1e97bf8f-31d1-40a6-8032-c7d02ebb4eb4",
   "metadata": {},
   "outputs": [],
   "source": [
    "# Fix the seed ------------------------------------------------------\n",
    "np.random.seed(0)"
   ]
  },
  {
   "cell_type": "code",
   "execution_count": 118,
   "id": "99a4b44a-ee14-4ccf-8541-f169481388d4",
   "metadata": {},
   "outputs": [],
   "source": [
    "X = data.copy()\n",
    "#X = X.drop([\"activity\"], axis=1)\n",
    "X = X.values\n"
   ]
  },
  {
   "cell_type": "code",
   "execution_count": 119,
   "id": "497d1c55-e135-4ea9-b627-cc594fa998f0",
   "metadata": {},
   "outputs": [],
   "source": [
    "# from sklearn.preprocessing import StandardScaler\n",
    "# scaler = StandardScaler()\n",
    "# datascaler=scaler.fit(X)\n",
    "# X= datascaler.transform(X)"
   ]
  },
  {
   "cell_type": "code",
   "execution_count": 8,
   "id": "cd769b6f-c2b5-4295-bdec-57697bd5c63f",
   "metadata": {},
   "outputs": [],
   "source": [
    "df.index = pd.to_datetime(df.index)\n",
    "quadratic_imput = df.copy(deep=True)\n",
    "quadratic_imput.interpolate(method='quadratic', inplace=True)\n",
    "quadratic_imput.fillna(method='ffill',inplace=True)\n",
    "quadratic_imput.fillna(method='bfill',inplace=True)"
   ]
  },
  {
   "cell_type": "markdown",
   "id": "1b943a2d-34c3-4731-8932-3bb13bcde046",
   "metadata": {},
   "source": [
    "## date Series Imputation Techniques"
   ]
  },
  {
   "cell_type": "code",
   "execution_count": 10,
   "id": "1d111f6a-e495-4837-8577-20289d323859",
   "metadata": {},
   "outputs": [],
   "source": [
    "### Forward Fill\n",
    "# Impute airquality DataFrame with ffill method\n",
    "\n",
    "### Forward Fill\n",
    "# Impute airquality DataFrame with ffill method\n",
    "import numpy as np\n",
    "# from sklearn.impute import KNNImputer\n",
    "# X1 = df.copy()\n",
    "# # add date \"timpstame\" as variable \n",
    "# X1[\"date\"]=X1.index\n",
    "# k=2\n",
    "# imputer = KNNImputer(n_neighbors=k)\n",
    "# KNNimputed = imputer.fit_transform(X1)\n",
    "# KNNimputed=KNNimputed[:,0:-1].copy()\n",
    "# KNNimputed= pd.DataFrame(data=KNNimputed, columns=df.columns)\n",
    "# KNNimputed.index = df.index\n",
    "\n",
    "ffill_imputed = df.copy(deep=True)\n",
    "ffill_imputed.fillna(method='ffill',inplace=True)\n",
    "ffill_imputed.fillna(method='bfill',inplace=True)\n",
    "\n",
    "bfill_imputed = df.copy(deep=True)\n",
    "bfill_imputed.fillna(method='bfill',inplace=True)\n",
    "bfill_imputed.fillna(method='ffill',inplace=True)\n",
    "\n",
    "quadratic_imput = df.copy(deep=True)\n",
    "quadratic_imput.interpolate(method='quadratic', inplace=True)\n",
    "quadratic_imput.fillna(method='ffill',inplace=True)\n",
    "quadratic_imput.fillna(method='bfill',inplace=True)\n",
    "\n",
    "\n",
    "nearest_imput = df.copy(deep=True)\n",
    "nearest_imput.interpolate(method='nearest', inplace=True)\n",
    "nearest_imput.fillna(method='ffill',inplace=True)\n",
    "nearest_imput.fillna(method='bfill',inplace=True)\n",
    "\n",
    "\n",
    "linear_imput=df.copy(deep=True)\n",
    "linear_imput.interpolate(method='linear', inplace=True)\n",
    "linear_imput.fillna(method='ffill',inplace=True)\n",
    "linear_imput.fillna(method='bfill',inplace=True)\n",
    "\n",
    "poly_imput=df.copy(deep=True)\n",
    "poly_imput= poly_imput.interpolate(method='polynomial', order=3)\n",
    "poly_imput.fillna(method='ffill',inplace=True)\n",
    "poly_imput.fillna(method='bfill',inplace=True)\n",
    "\n",
    "mean_imput = df.copy(deep=True)\n",
    "mean_imput =mean_imput.fillna(mean_imput.mean())\n",
    "mean_imput.fillna(method='ffill',inplace=True)\n",
    "mean_imput.fillna(method='bfill',inplace=True)\n",
    "\n",
    "\n",
    "\n"
   ]
  },
  {
   "cell_type": "markdown",
   "id": "90ead8ac-2922-44ca-a54c-a4e0d39ff178",
   "metadata": {},
   "source": [
    "# Save dataFrame Imputed"
   ]
  },
  {
   "cell_type": "code",
   "execution_count": 115,
   "id": "ac5a89d9-9bc7-496a-93b8-dfec25c3c598",
   "metadata": {},
   "outputs": [
    {
     "name": "stdout",
     "output_type": "stream",
     "text": [
      "meanImputation5.csv <class 'pandas.core.frame.DataFrame'>\n"
     ]
    }
   ],
   "source": [
    "# Create a dictionary of interpolations\n",
    "# interpolations = {'Back_fill':bfill_imputed, 'Forward_fill':ffill_imputed,\n",
    "#                   'Linear_Interpolation': linear_imput, 'Quadratic_Interpolation': quadratic_imput,\"Nearest_imput\":nearest_imput, \"polynomial_interpolation\":poly_imput, 'KNN': KNNimputed}\n",
    "# # enregistrer les données imputéés par chaque méthode dans le dossier dataImputed\n",
    "interpolations = {'meanImputation':mean_imput}\n",
    "for df_key in  interpolations:\n",
    "    print(df_key+p,type(interpolations[df_key]))\n",
    "    interpolations[df_key].to_csv('dataImputed/'+df_key+p)\n",
    "            \n",
    "\n",
    "    "
   ]
  },
  {
   "cell_type": "code",
   "execution_count": null,
   "id": "98f4b31d-91f0-4e8d-8556-e80cbd1fedc7",
   "metadata": {},
   "outputs": [],
   "source": [
    "mean_imput = df.copy(deep=True)\n",
    "mean_imput =mean_imput.fillna(mean_imput.mean())\n",
    "mean_imput"
   ]
  },
  {
   "cell_type": "code",
   "execution_count": null,
   "id": "a9e9ac47-f589-4568-b84c-e042da608a09",
   "metadata": {},
   "outputs": [],
   "source": [
    "mean_imput"
   ]
  },
  {
   "cell_type": "code",
   "execution_count": 11,
   "id": "8cb8163d-738b-4e4b-980c-cb8f948f626c",
   "metadata": {},
   "outputs": [],
   "source": [
    "p='40.csv'\n",
    "df=pd.read_csv('BDD_missingData/MCAR'+p, sep=\",\", encoding = \"ISO-8859-1\", index_col=index_col)\n",
    "df.index = pd.to_datetime(df.index)\n",
    "mask=pd.read_csv('BDD_missingData/mask'+p, sep=\",\", encoding = \"ISO-8859-1\", index_col=index_col)\n",
    "mask=mask.values"
   ]
  },
  {
   "cell_type": "code",
   "execution_count": 13,
   "id": "29ddadd7-f6d6-4c4a-b478-f98e9a003fa5",
   "metadata": {},
   "outputs": [
    {
     "ename": "TypeError",
     "evalue": "The DType <class 'numpy.dtype[datetime64]'> could not be promoted by <class 'numpy.dtype[float64]'>. This means that no common DType exists for the given inputs. For example they cannot be stored in a single array unless the dtype is `object`. The full list of DTypes is: (<class 'numpy.dtype[float64]'>, <class 'numpy.dtype[float64]'>, <class 'numpy.dtype[float64]'>, <class 'numpy.dtype[float64]'>, <class 'numpy.dtype[float64]'>, <class 'numpy.dtype[float64]'>, <class 'numpy.dtype[float64]'>, <class 'numpy.dtype[float64]'>, <class 'numpy.dtype[float64]'>, <class 'numpy.dtype[float64]'>, <class 'numpy.dtype[float64]'>, <class 'numpy.dtype[float64]'>, <class 'numpy.dtype[float64]'>, <class 'numpy.dtype[float64]'>, <class 'numpy.dtype[float64]'>, <class 'numpy.dtype[float64]'>, <class 'numpy.dtype[datetime64]'>)",
     "output_type": "error",
     "traceback": [
      "\u001b[1;31m---------------------------------------------------------------------------\u001b[0m",
      "\u001b[1;31mTypeError\u001b[0m                                 Traceback (most recent call last)",
      "\u001b[1;32m~\\AppData\\Local\\Temp/ipykernel_13600/3242360670.py\u001b[0m in \u001b[0;36m<module>\u001b[1;34m\u001b[0m\n\u001b[0;32m      9\u001b[0m \u001b[1;32mfor\u001b[0m \u001b[0mk\u001b[0m \u001b[1;32min\u001b[0m \u001b[0mrange\u001b[0m\u001b[1;33m(\u001b[0m\u001b[1;36m2\u001b[0m\u001b[1;33m,\u001b[0m\u001b[1;36m10\u001b[0m\u001b[1;33m)\u001b[0m\u001b[1;33m:\u001b[0m\u001b[1;33m\u001b[0m\u001b[1;33m\u001b[0m\u001b[0m\n\u001b[0;32m     10\u001b[0m     \u001b[0mimputer\u001b[0m \u001b[1;33m=\u001b[0m \u001b[0mKNNImputer\u001b[0m\u001b[1;33m(\u001b[0m\u001b[0mn_neighbors\u001b[0m\u001b[1;33m=\u001b[0m\u001b[0mk\u001b[0m\u001b[1;33m)\u001b[0m\u001b[1;33m\u001b[0m\u001b[1;33m\u001b[0m\u001b[0m\n\u001b[1;32m---> 11\u001b[1;33m     \u001b[0mKNNimputed\u001b[0m \u001b[1;33m=\u001b[0m \u001b[0mimputer\u001b[0m\u001b[1;33m.\u001b[0m\u001b[0mfit_transform\u001b[0m\u001b[1;33m(\u001b[0m\u001b[0mX1\u001b[0m\u001b[1;33m)\u001b[0m\u001b[1;33m\u001b[0m\u001b[1;33m\u001b[0m\u001b[0m\n\u001b[0m\u001b[0;32m     12\u001b[0m     \u001b[0mKNNimputed\u001b[0m\u001b[1;33m=\u001b[0m\u001b[0mKNNimputed\u001b[0m\u001b[1;33m[\u001b[0m\u001b[1;33m:\u001b[0m\u001b[1;33m,\u001b[0m\u001b[1;36m0\u001b[0m\u001b[1;33m:\u001b[0m\u001b[1;33m-\u001b[0m\u001b[1;36m1\u001b[0m\u001b[1;33m]\u001b[0m\u001b[1;33m.\u001b[0m\u001b[0mcopy\u001b[0m\u001b[1;33m(\u001b[0m\u001b[1;33m)\u001b[0m\u001b[1;33m\u001b[0m\u001b[1;33m\u001b[0m\u001b[0m\n\u001b[0;32m     13\u001b[0m     \u001b[0mKNNimputed\u001b[0m\u001b[1;33m=\u001b[0m \u001b[0mpd\u001b[0m\u001b[1;33m.\u001b[0m\u001b[0mDataFrame\u001b[0m\u001b[1;33m(\u001b[0m\u001b[0mdata\u001b[0m\u001b[1;33m=\u001b[0m\u001b[0mKNNimputed\u001b[0m\u001b[1;33m,\u001b[0m \u001b[0mcolumns\u001b[0m\u001b[1;33m=\u001b[0m\u001b[0mdf\u001b[0m\u001b[1;33m.\u001b[0m\u001b[0mcolumns\u001b[0m\u001b[1;33m)\u001b[0m\u001b[1;33m\u001b[0m\u001b[1;33m\u001b[0m\u001b[0m\n",
      "\u001b[1;32m~\\anaconda3\\lib\\site-packages\\sklearn\\base.py\u001b[0m in \u001b[0;36mfit_transform\u001b[1;34m(self, X, y, **fit_params)\u001b[0m\n\u001b[0;32m    697\u001b[0m         \u001b[1;32mif\u001b[0m \u001b[0my\u001b[0m \u001b[1;32mis\u001b[0m \u001b[1;32mNone\u001b[0m\u001b[1;33m:\u001b[0m\u001b[1;33m\u001b[0m\u001b[1;33m\u001b[0m\u001b[0m\n\u001b[0;32m    698\u001b[0m             \u001b[1;31m# fit method of arity 1 (unsupervised transformation)\u001b[0m\u001b[1;33m\u001b[0m\u001b[1;33m\u001b[0m\u001b[0m\n\u001b[1;32m--> 699\u001b[1;33m             \u001b[1;32mreturn\u001b[0m \u001b[0mself\u001b[0m\u001b[1;33m.\u001b[0m\u001b[0mfit\u001b[0m\u001b[1;33m(\u001b[0m\u001b[0mX\u001b[0m\u001b[1;33m,\u001b[0m \u001b[1;33m**\u001b[0m\u001b[0mfit_params\u001b[0m\u001b[1;33m)\u001b[0m\u001b[1;33m.\u001b[0m\u001b[0mtransform\u001b[0m\u001b[1;33m(\u001b[0m\u001b[0mX\u001b[0m\u001b[1;33m)\u001b[0m\u001b[1;33m\u001b[0m\u001b[1;33m\u001b[0m\u001b[0m\n\u001b[0m\u001b[0;32m    700\u001b[0m         \u001b[1;32melse\u001b[0m\u001b[1;33m:\u001b[0m\u001b[1;33m\u001b[0m\u001b[1;33m\u001b[0m\u001b[0m\n\u001b[0;32m    701\u001b[0m             \u001b[1;31m# fit method of arity 2 (supervised transformation)\u001b[0m\u001b[1;33m\u001b[0m\u001b[1;33m\u001b[0m\u001b[0m\n",
      "\u001b[1;32m~\\anaconda3\\lib\\site-packages\\sklearn\\impute\\_knn.py\u001b[0m in \u001b[0;36mfit\u001b[1;34m(self, X, y)\u001b[0m\n\u001b[0;32m    181\u001b[0m                 \"Expected n_neighbors > 0. Got {}\".format(self.n_neighbors))\n\u001b[0;32m    182\u001b[0m \u001b[1;33m\u001b[0m\u001b[0m\n\u001b[1;32m--> 183\u001b[1;33m         X = self._validate_data(X, accept_sparse=False, dtype=FLOAT_DTYPES,\n\u001b[0m\u001b[0;32m    184\u001b[0m                                 \u001b[0mforce_all_finite\u001b[0m\u001b[1;33m=\u001b[0m\u001b[0mforce_all_finite\u001b[0m\u001b[1;33m,\u001b[0m\u001b[1;33m\u001b[0m\u001b[1;33m\u001b[0m\u001b[0m\n\u001b[0;32m    185\u001b[0m                                 copy=self.copy)\n",
      "\u001b[1;32m~\\anaconda3\\lib\\site-packages\\sklearn\\base.py\u001b[0m in \u001b[0;36m_validate_data\u001b[1;34m(self, X, y, reset, validate_separately, **check_params)\u001b[0m\n\u001b[0;32m    419\u001b[0m             \u001b[0mout\u001b[0m \u001b[1;33m=\u001b[0m \u001b[0mX\u001b[0m\u001b[1;33m\u001b[0m\u001b[1;33m\u001b[0m\u001b[0m\n\u001b[0;32m    420\u001b[0m         \u001b[1;32melif\u001b[0m \u001b[0misinstance\u001b[0m\u001b[1;33m(\u001b[0m\u001b[0my\u001b[0m\u001b[1;33m,\u001b[0m \u001b[0mstr\u001b[0m\u001b[1;33m)\u001b[0m \u001b[1;32mand\u001b[0m \u001b[0my\u001b[0m \u001b[1;33m==\u001b[0m \u001b[1;34m'no_validation'\u001b[0m\u001b[1;33m:\u001b[0m\u001b[1;33m\u001b[0m\u001b[1;33m\u001b[0m\u001b[0m\n\u001b[1;32m--> 421\u001b[1;33m             \u001b[0mX\u001b[0m \u001b[1;33m=\u001b[0m \u001b[0mcheck_array\u001b[0m\u001b[1;33m(\u001b[0m\u001b[0mX\u001b[0m\u001b[1;33m,\u001b[0m \u001b[1;33m**\u001b[0m\u001b[0mcheck_params\u001b[0m\u001b[1;33m)\u001b[0m\u001b[1;33m\u001b[0m\u001b[1;33m\u001b[0m\u001b[0m\n\u001b[0m\u001b[0;32m    422\u001b[0m             \u001b[0mout\u001b[0m \u001b[1;33m=\u001b[0m \u001b[0mX\u001b[0m\u001b[1;33m\u001b[0m\u001b[1;33m\u001b[0m\u001b[0m\n\u001b[0;32m    423\u001b[0m         \u001b[1;32melse\u001b[0m\u001b[1;33m:\u001b[0m\u001b[1;33m\u001b[0m\u001b[1;33m\u001b[0m\u001b[0m\n",
      "\u001b[1;32m~\\anaconda3\\lib\\site-packages\\sklearn\\utils\\validation.py\u001b[0m in \u001b[0;36minner_f\u001b[1;34m(*args, **kwargs)\u001b[0m\n\u001b[0;32m     61\u001b[0m             \u001b[0mextra_args\u001b[0m \u001b[1;33m=\u001b[0m \u001b[0mlen\u001b[0m\u001b[1;33m(\u001b[0m\u001b[0margs\u001b[0m\u001b[1;33m)\u001b[0m \u001b[1;33m-\u001b[0m \u001b[0mlen\u001b[0m\u001b[1;33m(\u001b[0m\u001b[0mall_args\u001b[0m\u001b[1;33m)\u001b[0m\u001b[1;33m\u001b[0m\u001b[1;33m\u001b[0m\u001b[0m\n\u001b[0;32m     62\u001b[0m             \u001b[1;32mif\u001b[0m \u001b[0mextra_args\u001b[0m \u001b[1;33m<=\u001b[0m \u001b[1;36m0\u001b[0m\u001b[1;33m:\u001b[0m\u001b[1;33m\u001b[0m\u001b[1;33m\u001b[0m\u001b[0m\n\u001b[1;32m---> 63\u001b[1;33m                 \u001b[1;32mreturn\u001b[0m \u001b[0mf\u001b[0m\u001b[1;33m(\u001b[0m\u001b[1;33m*\u001b[0m\u001b[0margs\u001b[0m\u001b[1;33m,\u001b[0m \u001b[1;33m**\u001b[0m\u001b[0mkwargs\u001b[0m\u001b[1;33m)\u001b[0m\u001b[1;33m\u001b[0m\u001b[1;33m\u001b[0m\u001b[0m\n\u001b[0m\u001b[0;32m     64\u001b[0m \u001b[1;33m\u001b[0m\u001b[0m\n\u001b[0;32m     65\u001b[0m             \u001b[1;31m# extra_args > 0\u001b[0m\u001b[1;33m\u001b[0m\u001b[1;33m\u001b[0m\u001b[0m\n",
      "\u001b[1;32m~\\anaconda3\\lib\\site-packages\\sklearn\\utils\\validation.py\u001b[0m in \u001b[0;36mcheck_array\u001b[1;34m(array, accept_sparse, accept_large_sparse, dtype, order, copy, force_all_finite, ensure_2d, allow_nd, ensure_min_samples, ensure_min_features, estimator)\u001b[0m\n\u001b[0;32m    595\u001b[0m \u001b[1;33m\u001b[0m\u001b[0m\n\u001b[0;32m    596\u001b[0m         \u001b[1;32mif\u001b[0m \u001b[0mall\u001b[0m\u001b[1;33m(\u001b[0m\u001b[0misinstance\u001b[0m\u001b[1;33m(\u001b[0m\u001b[0mdtype\u001b[0m\u001b[1;33m,\u001b[0m \u001b[0mnp\u001b[0m\u001b[1;33m.\u001b[0m\u001b[0mdtype\u001b[0m\u001b[1;33m)\u001b[0m \u001b[1;32mfor\u001b[0m \u001b[0mdtype\u001b[0m \u001b[1;32min\u001b[0m \u001b[0mdtypes_orig\u001b[0m\u001b[1;33m)\u001b[0m\u001b[1;33m:\u001b[0m\u001b[1;33m\u001b[0m\u001b[1;33m\u001b[0m\u001b[0m\n\u001b[1;32m--> 597\u001b[1;33m             \u001b[0mdtype_orig\u001b[0m \u001b[1;33m=\u001b[0m \u001b[0mnp\u001b[0m\u001b[1;33m.\u001b[0m\u001b[0mresult_type\u001b[0m\u001b[1;33m(\u001b[0m\u001b[1;33m*\u001b[0m\u001b[0mdtypes_orig\u001b[0m\u001b[1;33m)\u001b[0m\u001b[1;33m\u001b[0m\u001b[1;33m\u001b[0m\u001b[0m\n\u001b[0m\u001b[0;32m    598\u001b[0m \u001b[1;33m\u001b[0m\u001b[0m\n\u001b[0;32m    599\u001b[0m     \u001b[1;32mif\u001b[0m \u001b[0mdtype_numeric\u001b[0m\u001b[1;33m:\u001b[0m\u001b[1;33m\u001b[0m\u001b[1;33m\u001b[0m\u001b[0m\n",
      "\u001b[1;32m~\\anaconda3\\lib\\site-packages\\numpy\\core\\overrides.py\u001b[0m in \u001b[0;36mresult_type\u001b[1;34m(*args, **kwargs)\u001b[0m\n",
      "\u001b[1;31mTypeError\u001b[0m: The DType <class 'numpy.dtype[datetime64]'> could not be promoted by <class 'numpy.dtype[float64]'>. This means that no common DType exists for the given inputs. For example they cannot be stored in a single array unless the dtype is `object`. The full list of DTypes is: (<class 'numpy.dtype[float64]'>, <class 'numpy.dtype[float64]'>, <class 'numpy.dtype[float64]'>, <class 'numpy.dtype[float64]'>, <class 'numpy.dtype[float64]'>, <class 'numpy.dtype[float64]'>, <class 'numpy.dtype[float64]'>, <class 'numpy.dtype[float64]'>, <class 'numpy.dtype[float64]'>, <class 'numpy.dtype[float64]'>, <class 'numpy.dtype[float64]'>, <class 'numpy.dtype[float64]'>, <class 'numpy.dtype[float64]'>, <class 'numpy.dtype[float64]'>, <class 'numpy.dtype[float64]'>, <class 'numpy.dtype[float64]'>, <class 'numpy.dtype[datetime64]'>)"
     ]
    }
   ],
   "source": [
    "import numpy as np\n",
    "from sklearn.impute import KNNImputer\n",
    "X1 = df.copy(deep=True)\n",
    "X1[\"date\"]= pd.to_datetime(X1.index)\n",
    "# X1 = X1.values\n",
    " \n",
    "#X1[\"date\"]=X1.index\n",
    "# print(X1.columns)\n",
    "for k in range(2,10): \n",
    "    imputer = KNNImputer(n_neighbors=k)\n",
    "    KNNimputed = imputer.fit_transform(X1)\n",
    "    KNNimputed=KNNimputed[:,0:-1].copy()\n",
    "    KNNimputed= pd.DataFrame(data=KNNimputed, columns=df.columns)\n",
    "    KNNimputed.index = df.index\n",
    "    Ximp= KNNimputed    \n",
    "    Ximp = Ximp[:,0:-1]\n",
    "    print(\"k = \",k)\n",
    "    for i in range(16):\n",
    "        print(\"KNN\", \"  \"+str(df.columns[i]), RMSE(Ximp[:,i], data_true.values[:,i], mask[:,i]))\n",
    "    print(\"KNN\", \" all \", RMSE(Ximp[:,0:5], X,mask))"
   ]
  },
  {
   "cell_type": "code",
   "execution_count": 121,
   "id": "fd7187d1-7c36-42b0-b350-9583b2bb1310",
   "metadata": {},
   "outputs": [
    {
     "name": "stdout",
     "output_type": "stream",
     "text": [
      "mean   0 1.0280782741512864\n",
      "mean   1 1.0039951888402086\n",
      "mean   2 0.9988984776443648\n",
      "mean   3 1.0438501895091625\n",
      "mean   4 1.0267607456125483\n",
      "mean  all  1.0203231350042317\n"
     ]
    }
   ],
   "source": [
    "\n",
    "Ximp= mean_imput.values   \n",
    "#Ximp = Ximp[:,0:-1]\n",
    "for i in range(5):\n",
    "    print(\"mean\", \"  \"+str(i), RMSE(Ximp[:,i], X[:,i], mask[:,i]))\n",
    "print(\"mean\", \" all \", RMSE(Ximp, X,mask))"
   ]
  },
  {
   "cell_type": "code",
   "execution_count": 53,
   "id": "ee55feaa-bcc9-48fd-ac3e-790fa7ebc8fe",
   "metadata": {},
   "outputs": [
    {
     "name": "stdout",
     "output_type": "stream",
     "text": [
      "<class 'pandas.core.frame.DataFrame'>\n",
      "Index: 22176 entries, 2022-03-15 00:00:00 to 2022-05-30 23:55:00\n",
      "Data columns (total 17 columns):\n",
      " #   Column           Non-Null Count  Dtype         \n",
      "---  ------           --------------  -----         \n",
      " 0   co2_100          5579 non-null   float64       \n",
      " 1   temperature_100  5585 non-null   float64       \n",
      " 2   co2_101          5563 non-null   float64       \n",
      " 3   temperature_101  5552 non-null   float64       \n",
      " 4   co2_102          5449 non-null   float64       \n",
      " 5   temperature_105  5548 non-null   float64       \n",
      " 6   co2_106          5573 non-null   float64       \n",
      " 7   light_106        22176 non-null  float64       \n",
      " 8   co2_107          5564 non-null   float64       \n",
      " 9   co2_108          5510 non-null   float64       \n",
      " 10  sound_108        5596 non-null   float64       \n",
      " 11  humidity_110     5483 non-null   float64       \n",
      " 12  weather_out      5443 non-null   float64       \n",
      " 13  weather_hum      5523 non-null   float64       \n",
      " 14  weather_bar_     5512 non-null   float64       \n",
      " 15  windows          5576 non-null   float64       \n",
      " 16  date             22176 non-null  datetime64[ns]\n",
      "dtypes: datetime64[ns](1), float64(16)\n",
      "memory usage: 3.0+ MB\n"
     ]
    }
   ],
   "source": [
    "X1.info()"
   ]
  },
  {
   "cell_type": "code",
   "execution_count": 82,
   "id": "e613feed-d4e9-4614-86c3-25fe12e72888",
   "metadata": {},
   "outputs": [
    {
     "data": {
      "text/plain": [
       "time\n",
       "1617235589    0.369908\n",
       "1617235891    0.000948\n",
       "1617236194    0.369908\n",
       "1617236497    0.000948\n",
       "1617236799    0.369908\n",
       "                ...   \n",
       "1624059673    1.149909\n",
       "1624059976    1.149909\n",
       "1624060279    1.149909\n",
       "1624060581    0.000948\n",
       "1624060883    1.149909\n",
       "Name: Humidity, Length: 22523, dtype: float64"
      ]
     },
     "execution_count": 82,
     "metadata": {},
     "output_type": "execute_result"
    }
   ],
   "source": []
  },
  {
   "cell_type": "code",
   "execution_count": 75,
   "id": "f02799a5-1774-45cb-8caf-8266bcc40ea8",
   "metadata": {},
   "outputs": [
    {
     "data": {
      "text/plain": [
       "(22523, 5)"
      ]
     },
     "execution_count": 75,
     "metadata": {},
     "output_type": "execute_result"
    }
   ],
   "source": [
    "mask.shape"
   ]
  },
  {
   "cell_type": "code",
   "execution_count": null,
   "id": "669736fc-24dc-4f91-97c9-5439bfb7c815",
   "metadata": {},
   "outputs": [],
   "source": [
    "Ximp"
   ]
  },
  {
   "cell_type": "code",
   "execution_count": 180,
   "id": "e057558c-9448-4091-a761-4f0be2a47cf2",
   "metadata": {},
   "outputs": [],
   "source": [
    "import numpy as np\n",
    "from sklearn.impute import KNNImputer\n",
    "X1 = df.copy()\n",
    "k=1100\n",
    "imputer = KNNImputer(n_neighbors=k)\n",
    "KNNimputed = imputer.fit_transform(X1)\n"
   ]
  },
  {
   "cell_type": "code",
   "execution_count": 15,
   "id": "f0d1c295-6665-4aa7-b667-61149a34f67e",
   "metadata": {},
   "outputs": [],
   "source": [
    "def lagged(df,lag=2):\n",
    "    #df=df.set_index('date')    \n",
    "    Df=[]\n",
    "    a=[]\n",
    "    for i in range(lag):\n",
    "        a.append(i)\n",
    "        df1=df.shift(i+1).copy()\n",
    "        df1=df1.add_suffix('_t-'+str(i+1))\n",
    "        Df.append(df1)\n",
    "    for base in Df:\n",
    "        df=pd.concat([df,base], axis=1)\n",
    "    \n",
    "    #df=df.drop(df.index[a])\n",
    "    return df, a "
   ]
  },
  {
   "cell_type": "code",
   "execution_count": null,
   "id": "199477f1-0038-4eb6-94e8-02a5f288c1e5",
   "metadata": {},
   "outputs": [],
   "source": []
  },
  {
   "cell_type": "code",
   "execution_count": 54,
   "id": "ccf21ba5-4987-49b3-b3c2-368b905a67a7",
   "metadata": {},
   "outputs": [],
   "source": [
    "#!pip install autoimpute"
   ]
  },
  {
   "cell_type": "code",
   "execution_count": 58,
   "id": "7fb72022-ac48-4ff9-b9e7-407e0ca5fdf5",
   "metadata": {},
   "outputs": [
    {
     "data": {
      "text/plain": [
       "<generator object MiceImputer.transform.<locals>.<genexpr> at 0x00000207E3557270>"
      ]
     },
     "execution_count": 58,
     "metadata": {},
     "output_type": "execute_result"
    }
   ],
   "source": [
    "a"
   ]
  },
  {
   "cell_type": "code",
   "execution_count": null,
   "id": "655b90d1-75ec-4e16-ae71-7d9776114956",
   "metadata": {},
   "outputs": [],
   "source": []
  }
 ],
 "metadata": {
  "kernelspec": {
   "display_name": "Python 3 (ipykernel)",
   "language": "python",
   "name": "python3"
  },
  "language_info": {
   "codemirror_mode": {
    "name": "ipython",
    "version": 3
   },
   "file_extension": ".py",
   "mimetype": "text/x-python",
   "name": "python",
   "nbconvert_exporter": "python",
   "pygments_lexer": "ipython3",
   "version": "3.9.7"
  }
 },
 "nbformat": 4,
 "nbformat_minor": 5
}
