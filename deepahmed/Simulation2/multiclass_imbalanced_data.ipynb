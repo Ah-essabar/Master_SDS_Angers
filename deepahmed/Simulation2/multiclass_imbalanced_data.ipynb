{
 "cells": [
  {
   "cell_type": "code",
   "execution_count": 8,
   "metadata": {},
   "outputs": [
    {
     "data": {
      "application/javascript": [
       "\n",
       "            setTimeout(function() {\n",
       "                var nbb_cell_id = 8;\n",
       "                var nbb_unformatted_code = \"# debugging and formatter\\nfrom IPython.core.debugger import set_trace\\n\\n%load_ext nb_black\\n\\nimport pandas as pd\\nimport numpy as np\\nimport os\\nimport random\\nimport matplotlib.pyplot as plt\\nimport pickle\\nimport time\\n\\n%matplotlib inline\";\n",
       "                var nbb_formatted_code = \"# debugging and formatter\\nfrom IPython.core.debugger import set_trace\\n\\n%load_ext nb_black\\n\\nimport pandas as pd\\nimport numpy as np\\nimport os\\nimport random\\nimport matplotlib.pyplot as plt\\nimport pickle\\nimport time\\n\\n%matplotlib inline\";\n",
       "                var nbb_cells = Jupyter.notebook.get_cells();\n",
       "                for (var i = 0; i < nbb_cells.length; ++i) {\n",
       "                    if (nbb_cells[i].input_prompt_number == nbb_cell_id) {\n",
       "                        if (nbb_cells[i].get_text() == nbb_unformatted_code) {\n",
       "                             nbb_cells[i].set_text(nbb_formatted_code);\n",
       "                        }\n",
       "                        break;\n",
       "                    }\n",
       "                }\n",
       "            }, 500);\n",
       "            "
      ],
      "text/plain": [
       "<IPython.core.display.Javascript object>"
      ]
     },
     "metadata": {},
     "output_type": "display_data"
    }
   ],
   "source": [
    "# debugging and formatter\n",
    "# ENVIRONNEMENT TENSORFLOW\n",
    "from IPython.core.debugger import set_trace\n",
    "\n",
    "%load_ext nb_black\n",
    "\n",
    "import pandas as pd\n",
    "import numpy as np\n",
    "import os\n",
    "import random\n",
    "import matplotlib.pyplot as plt\n",
    "import pickle\n",
    "import time\n",
    "\n",
    "%matplotlib inline"
   ]
  },
  {
   "cell_type": "code",
   "execution_count": 7,
   "metadata": {},
   "outputs": [
    {
     "name": "stdout",
     "output_type": "stream",
     "text": [
      "Collecting nb_black\n",
      "  Using cached nb_black-1.0.7-py3-none-any.whl\n",
      "Requirement already satisfied: ipython in c:\\users\\usrlocal\\anaconda3\\envs\\tensorflow\\lib\\site-packages (from nb_black) (7.22.0)\n",
      "Requirement already satisfied: black>='19.3' in c:\\users\\usrlocal\\anaconda3\\envs\\tensorflow\\lib\\site-packages (from nb_black) (19.10b0)\n",
      "Requirement already satisfied: regex in c:\\users\\usrlocal\\anaconda3\\envs\\tensorflow\\lib\\site-packages (from black>='19.3'->nb_black) (2021.4.4)\n",
      "Requirement already satisfied: appdirs in c:\\users\\usrlocal\\anaconda3\\envs\\tensorflow\\lib\\site-packages (from black>='19.3'->nb_black) (1.4.4)\n",
      "Requirement already satisfied: typed-ast>=1.4.0 in c:\\users\\usrlocal\\anaconda3\\envs\\tensorflow\\lib\\site-packages (from black>='19.3'->nb_black) (1.4.2)\n",
      "Requirement already satisfied: toml>=0.9.4 in c:\\users\\usrlocal\\anaconda3\\envs\\tensorflow\\lib\\site-packages (from black>='19.3'->nb_black) (0.10.2)\n",
      "Requirement already satisfied: pathspec<1,>=0.6 in c:\\users\\usrlocal\\anaconda3\\envs\\tensorflow\\lib\\site-packages (from black>='19.3'->nb_black) (0.7.0)\n",
      "Requirement already satisfied: click>=6.5 in c:\\users\\usrlocal\\anaconda3\\envs\\tensorflow\\lib\\site-packages (from black>='19.3'->nb_black) (7.1.2)\n",
      "Requirement already satisfied: attrs>=18.1.0 in c:\\users\\usrlocal\\anaconda3\\envs\\tensorflow\\lib\\site-packages (from black>='19.3'->nb_black) (20.3.0)\n",
      "Requirement already satisfied: jedi>=0.16 in c:\\users\\usrlocal\\anaconda3\\envs\\tensorflow\\lib\\site-packages (from ipython->nb_black) (0.17.2)\n",
      "Requirement already satisfied: setuptools>=18.5 in c:\\users\\usrlocal\\anaconda3\\envs\\tensorflow\\lib\\site-packages (from ipython->nb_black) (52.0.0.post20210125)\n",
      "Requirement already satisfied: backcall in c:\\users\\usrlocal\\anaconda3\\envs\\tensorflow\\lib\\site-packages (from ipython->nb_black) (0.2.0)\n",
      "Requirement already satisfied: pickleshare in c:\\users\\usrlocal\\anaconda3\\envs\\tensorflow\\lib\\site-packages (from ipython->nb_black) (0.7.5)\n",
      "Requirement already satisfied: prompt-toolkit!=3.0.0,!=3.0.1,<3.1.0,>=2.0.0 in c:\\users\\usrlocal\\anaconda3\\envs\\tensorflow\\lib\\site-packages (from ipython->nb_black) (3.0.17)\n",
      "Requirement already satisfied: traitlets>=4.2 in c:\\users\\usrlocal\\anaconda3\\envs\\tensorflow\\lib\\site-packages (from ipython->nb_black) (5.0.5)\n",
      "Requirement already satisfied: colorama in c:\\users\\usrlocal\\anaconda3\\envs\\tensorflow\\lib\\site-packages (from ipython->nb_black) (0.4.4)\n",
      "Requirement already satisfied: pygments in c:\\users\\usrlocal\\anaconda3\\envs\\tensorflow\\lib\\site-packages (from ipython->nb_black) (2.8.1)\n",
      "Requirement already satisfied: decorator in c:\\users\\usrlocal\\anaconda3\\envs\\tensorflow\\lib\\site-packages (from ipython->nb_black) (4.4.2)\n",
      "Requirement already satisfied: parso<0.8.0,>=0.7.0 in c:\\users\\usrlocal\\anaconda3\\envs\\tensorflow\\lib\\site-packages (from jedi>=0.16->ipython->nb_black) (0.7.0)\n",
      "Requirement already satisfied: wcwidth in c:\\users\\usrlocal\\anaconda3\\envs\\tensorflow\\lib\\site-packages (from prompt-toolkit!=3.0.0,!=3.0.1,<3.1.0,>=2.0.0->ipython->nb_black) (0.2.5)\n",
      "Requirement already satisfied: ipython-genutils in c:\\users\\usrlocal\\anaconda3\\envs\\tensorflow\\lib\\site-packages (from traitlets>=4.2->ipython->nb_black) (0.2.0)\n",
      "Installing collected packages: nb-black\n",
      "Successfully installed nb-black-1.0.7\n"
     ]
    }
   ],
   "source": [
    "#!pip install nb_black"
   ]
  },
  {
   "cell_type": "code",
   "execution_count": 9,
   "metadata": {},
   "outputs": [
    {
     "data": {
      "application/javascript": [
       "\n",
       "            setTimeout(function() {\n",
       "                var nbb_cell_id = 9;\n",
       "                var nbb_unformatted_code = \"from sklearn.datasets import make_classification\\n\\nX, y = make_classification(\\n    n_samples=1000,\\n    n_features=3,\\n    n_redundant=0,\\n    n_informative=3,\\n    n_repeated=0,\\n    n_classes=4,\\n    weights=[0.025, 0.025, 0.05, 0.9],\\n    flip_y=0,\\n    random_state=7,\\n)\";\n",
       "                var nbb_formatted_code = \"from sklearn.datasets import make_classification\\n\\nX, y = make_classification(\\n    n_samples=1000,\\n    n_features=3,\\n    n_redundant=0,\\n    n_informative=3,\\n    n_repeated=0,\\n    n_classes=4,\\n    weights=[0.025, 0.025, 0.05, 0.9],\\n    flip_y=0,\\n    random_state=7,\\n)\";\n",
       "                var nbb_cells = Jupyter.notebook.get_cells();\n",
       "                for (var i = 0; i < nbb_cells.length; ++i) {\n",
       "                    if (nbb_cells[i].input_prompt_number == nbb_cell_id) {\n",
       "                        if (nbb_cells[i].get_text() == nbb_unformatted_code) {\n",
       "                             nbb_cells[i].set_text(nbb_formatted_code);\n",
       "                        }\n",
       "                        break;\n",
       "                    }\n",
       "                }\n",
       "            }, 500);\n",
       "            "
      ],
      "text/plain": [
       "<IPython.core.display.Javascript object>"
      ]
     },
     "metadata": {},
     "output_type": "display_data"
    }
   ],
   "source": [
    "from sklearn.datasets import make_classification\n",
    "\n",
    "X, y = make_classification(\n",
    "    n_samples=1000,\n",
    "    n_features=3,\n",
    "    n_redundant=0,\n",
    "    n_informative=3,\n",
    "    n_repeated=0,\n",
    "    n_classes=4,\n",
    "    weights=[0.025, 0.025, 0.05, 0.9],\n",
    "    flip_y=0,\n",
    "    random_state=7,\n",
    ")"
   ]
  },
  {
   "cell_type": "code",
   "execution_count": 10,
   "metadata": {},
   "outputs": [
    {
     "data": {
      "text/plain": [
       "(1000, 3)"
      ]
     },
     "execution_count": 10,
     "metadata": {},
     "output_type": "execute_result"
    },
    {
     "data": {
      "application/javascript": [
       "\n",
       "            setTimeout(function() {\n",
       "                var nbb_cell_id = 10;\n",
       "                var nbb_unformatted_code = \"X.shape\";\n",
       "                var nbb_formatted_code = \"X.shape\";\n",
       "                var nbb_cells = Jupyter.notebook.get_cells();\n",
       "                for (var i = 0; i < nbb_cells.length; ++i) {\n",
       "                    if (nbb_cells[i].input_prompt_number == nbb_cell_id) {\n",
       "                        if (nbb_cells[i].get_text() == nbb_unformatted_code) {\n",
       "                             nbb_cells[i].set_text(nbb_formatted_code);\n",
       "                        }\n",
       "                        break;\n",
       "                    }\n",
       "                }\n",
       "            }, 500);\n",
       "            "
      ],
      "text/plain": [
       "<IPython.core.display.Javascript object>"
      ]
     },
     "metadata": {},
     "output_type": "display_data"
    }
   ],
   "source": [
    "X.shape"
   ]
  },
  {
   "cell_type": "code",
   "execution_count": 11,
   "metadata": {},
   "outputs": [
    {
     "data": {
      "text/plain": [
       "array([[ 0.58527868,  1.38088173,  1.53482503],\n",
       "       [ 0.55203004,  0.96247886,  0.70148993],\n",
       "       [ 2.47193231,  1.67223432,  2.99983425],\n",
       "       ...,\n",
       "       [ 1.20308665,  1.00335472,  1.75248831],\n",
       "       [ 1.91813814, -1.21654868,  0.45553477],\n",
       "       [ 0.21928856,  2.75785326,  2.94193713]])"
      ]
     },
     "execution_count": 11,
     "metadata": {},
     "output_type": "execute_result"
    },
    {
     "data": {
      "application/javascript": [
       "\n",
       "            setTimeout(function() {\n",
       "                var nbb_cell_id = 11;\n",
       "                var nbb_unformatted_code = \"X\";\n",
       "                var nbb_formatted_code = \"X\";\n",
       "                var nbb_cells = Jupyter.notebook.get_cells();\n",
       "                for (var i = 0; i < nbb_cells.length; ++i) {\n",
       "                    if (nbb_cells[i].input_prompt_number == nbb_cell_id) {\n",
       "                        if (nbb_cells[i].get_text() == nbb_unformatted_code) {\n",
       "                             nbb_cells[i].set_text(nbb_formatted_code);\n",
       "                        }\n",
       "                        break;\n",
       "                    }\n",
       "                }\n",
       "            }, 500);\n",
       "            "
      ],
      "text/plain": [
       "<IPython.core.display.Javascript object>"
      ]
     },
     "metadata": {},
     "output_type": "display_data"
    }
   ],
   "source": [
    "X"
   ]
  },
  {
   "cell_type": "code",
   "execution_count": 12,
   "metadata": {},
   "outputs": [
    {
     "data": {
      "text/plain": [
       "array([0, 1, 2, 3])"
      ]
     },
     "execution_count": 12,
     "metadata": {},
     "output_type": "execute_result"
    },
    {
     "data": {
      "application/javascript": [
       "\n",
       "            setTimeout(function() {\n",
       "                var nbb_cell_id = 12;\n",
       "                var nbb_unformatted_code = \"np.unique(y)\";\n",
       "                var nbb_formatted_code = \"np.unique(y)\";\n",
       "                var nbb_cells = Jupyter.notebook.get_cells();\n",
       "                for (var i = 0; i < nbb_cells.length; ++i) {\n",
       "                    if (nbb_cells[i].input_prompt_number == nbb_cell_id) {\n",
       "                        if (nbb_cells[i].get_text() == nbb_unformatted_code) {\n",
       "                             nbb_cells[i].set_text(nbb_formatted_code);\n",
       "                        }\n",
       "                        break;\n",
       "                    }\n",
       "                }\n",
       "            }, 500);\n",
       "            "
      ],
      "text/plain": [
       "<IPython.core.display.Javascript object>"
      ]
     },
     "metadata": {},
     "output_type": "display_data"
    }
   ],
   "source": [
    "np.unique(y)"
   ]
  },
  {
   "cell_type": "code",
   "execution_count": 13,
   "metadata": {},
   "outputs": [
    {
     "name": "stdout",
     "output_type": "stream",
     "text": [
      "Class=3, n=900 (90.0%)\n",
      "Class=2, n=50 (5.0%)\n",
      "Class=1, n=25 (2.5%)\n",
      "Class=0, n=25 (2.5%)\n"
     ]
    },
    {
     "data": {
      "application/javascript": [
       "\n",
       "            setTimeout(function() {\n",
       "                var nbb_cell_id = 13;\n",
       "                var nbb_unformatted_code = \"from collections import Counter\\n\\ncounter = Counter(y)\\nfor k, v in counter.items():\\n    dist = v / len(y) * 100\\n    print(f\\\"Class={k}, n={v} ({dist}%)\\\")\";\n",
       "                var nbb_formatted_code = \"from collections import Counter\\n\\ncounter = Counter(y)\\nfor k, v in counter.items():\\n    dist = v / len(y) * 100\\n    print(f\\\"Class={k}, n={v} ({dist}%)\\\")\";\n",
       "                var nbb_cells = Jupyter.notebook.get_cells();\n",
       "                for (var i = 0; i < nbb_cells.length; ++i) {\n",
       "                    if (nbb_cells[i].input_prompt_number == nbb_cell_id) {\n",
       "                        if (nbb_cells[i].get_text() == nbb_unformatted_code) {\n",
       "                             nbb_cells[i].set_text(nbb_formatted_code);\n",
       "                        }\n",
       "                        break;\n",
       "                    }\n",
       "                }\n",
       "            }, 500);\n",
       "            "
      ],
      "text/plain": [
       "<IPython.core.display.Javascript object>"
      ]
     },
     "metadata": {},
     "output_type": "display_data"
    }
   ],
   "source": [
    "from collections import Counter\n",
    "\n",
    "counter = Counter(y)\n",
    "for k, v in counter.items():\n",
    "    dist = v / len(y) * 100\n",
    "    print(f\"Class={k}, n={v} ({dist}%)\")"
   ]
  },
  {
   "cell_type": "code",
   "execution_count": 14,
   "metadata": {},
   "outputs": [
    {
     "data": {
      "text/plain": [
       "<BarContainer object of 4 artists>"
      ]
     },
     "execution_count": 14,
     "metadata": {},
     "output_type": "execute_result"
    },
    {
     "data": {
      "image/png": "[encoded data removed]",
      "text/plain": [
       "<Figure size 1152x288 with 1 Axes>"
      ]
     },
     "metadata": {
      "needs_background": "light"
     },
     "output_type": "display_data"
    },
    {
     "data": {
      "application/javascript": [
       "\n",
       "            setTimeout(function() {\n",
       "                var nbb_cell_id = 14;\n",
       "                var nbb_unformatted_code = \"plt.figure(1, figsize=(16, 4))\\nplt.bar(counter.keys(), counter.values())\";\n",
       "                var nbb_formatted_code = \"plt.figure(1, figsize=(16, 4))\\nplt.bar(counter.keys(), counter.values())\";\n",
       "                var nbb_cells = Jupyter.notebook.get_cells();\n",
       "                for (var i = 0; i < nbb_cells.length; ++i) {\n",
       "                    if (nbb_cells[i].input_prompt_number == nbb_cell_id) {\n",
       "                        if (nbb_cells[i].get_text() == nbb_unformatted_code) {\n",
       "                             nbb_cells[i].set_text(nbb_formatted_code);\n",
       "                        }\n",
       "                        break;\n",
       "                    }\n",
       "                }\n",
       "            }, 500);\n",
       "            "
      ],
      "text/plain": [
       "<IPython.core.display.Javascript object>"
      ]
     },
     "metadata": {},
     "output_type": "display_data"
    }
   ],
   "source": [
    "plt.figure(1, figsize=(16, 4))\n",
    "plt.bar(counter.keys(), counter.values())"
   ]
  },
  {
   "cell_type": "code",
   "execution_count": 15,
   "metadata": {},
   "outputs": [
    {
     "data": {
      "text/plain": [
       "<matplotlib.legend.Legend at 0x274ec97cf10>"
      ]
     },
     "execution_count": 15,
     "metadata": {},
     "output_type": "execute_result"
    },
    {
     "data": {
      "image/png": "[encoded data removed]",
      "text/plain": [
       "<Figure size 1152x576 with 1 Axes>"
      ]
     },
     "metadata": {
      "needs_background": "light"
     },
     "output_type": "display_data"
    },
    {
     "data": {
      "application/javascript": [
       "\n",
       "            setTimeout(function() {\n",
       "                var nbb_cell_id = 15;\n",
       "                var nbb_unformatted_code = \"# scatter plot of examples by class label\\nplt.figure(1, figsize=(16, 8))\\nfor label, _ in counter.items():\\n    row = np.where(y == label)[0]\\n    plt.scatter(X[row, 0], X[row, 1], label=str(label))\\nplt.legend()\";\n",
       "                var nbb_formatted_code = \"# scatter plot of examples by class label\\nplt.figure(1, figsize=(16, 8))\\nfor label, _ in counter.items():\\n    row = np.where(y == label)[0]\\n    plt.scatter(X[row, 0], X[row, 1], label=str(label))\\nplt.legend()\";\n",
       "                var nbb_cells = Jupyter.notebook.get_cells();\n",
       "                for (var i = 0; i < nbb_cells.length; ++i) {\n",
       "                    if (nbb_cells[i].input_prompt_number == nbb_cell_id) {\n",
       "                        if (nbb_cells[i].get_text() == nbb_unformatted_code) {\n",
       "                             nbb_cells[i].set_text(nbb_formatted_code);\n",
       "                        }\n",
       "                        break;\n",
       "                    }\n",
       "                }\n",
       "            }, 500);\n",
       "            "
      ],
      "text/plain": [
       "<IPython.core.display.Javascript object>"
      ]
     },
     "metadata": {},
     "output_type": "display_data"
    }
   ],
   "source": [
    "# scatter plot of examples by class label\n",
    "plt.figure(1, figsize=(16, 8))\n",
    "for label, _ in counter.items():\n",
    "    row = np.where(y == label)[0]\n",
    "    plt.scatter(X[row, 0], X[row, 1], label=str(label))\n",
    "plt.legend()"
   ]
  },
  {
   "cell_type": "code",
   "execution_count": 25,
   "metadata": {},
   "outputs": [
    {
     "data": {
      "text/plain": [
       "[<matplotlib.lines.Line2D at 0x1771276cf40>]"
      ]
     },
     "execution_count": 25,
     "metadata": {},
     "output_type": "execute_result"
    },
    {
     "data": {
      "image/png": "[encoded data removed]",
      "text/plain": [
       "<Figure size 1152x576 with 1 Axes>"
      ]
     },
     "metadata": {
      "needs_background": "light"
     },
     "output_type": "display_data"
    },
    {
     "data": {
      "application/javascript": [
       "\n",
       "            setTimeout(function() {\n",
       "                var nbb_cell_id = 25;\n",
       "                var nbb_unformatted_code = \"separable = False\\nwhile not separable:\\n    samples = make_classification(\\n        n_samples=100,\\n        n_features=3,\\n        n_redundant=0,\\n        n_informative=3,\\n        n_repeated=0,\\n        n_classes=4,\\n        weights=[0.1, 0.1, 0.1, 0.7],\\n        flip_y=0,\\n    )\\n    one = samples[0][samples[1] == 0]\\n    two = samples[0][samples[1] == 1]\\n    three = samples[0][samples[1] == 2]\\n    four = samples[0][samples[1] == 3]\\n    separable = any(\\n        [\\n            (\\n                one[:, k].max() < two[:, k].min()\\n                and one[:, k].max() < three[:, k].min()\\n                and one[:, k].max() < four[:, k].min()\\n            )\\n            or (\\n                two[:, k].max() < one[:, k].min()\\n                and two[:, k].max() < three[:, k].min()\\n                and two[:, k].max() < four[:, k].min()\\n            )\\n            or (\\n                three[:, k].max() < one[:, k].min()\\n                and three[:, k].max() < two[:, k].min()\\n                and three[:, k].max() < four[:, k].min()\\n            )\\n            or (\\n                four[:, k].max() < one[:, k].min()\\n                and four[:, k].max() < two[:, k].min()\\n                and four[:, k].max() < three[:, k].min()\\n            )\\n            for k in range(2)\\n        ]\\n    )\\n\\nplt.figure(1, figsize=(16, 8))\\nplt.plot(one[:, 0], one[:, 1], \\\"r.\\\")\\nplt.plot(two[:, 0], two[:, 1], \\\"b.\\\")\\nplt.plot(three[:, 0], three[:, 1], \\\"g.\\\")\\nplt.plot(four[:, 0], four[:, 1], \\\"c.\\\")\";\n",
       "                var nbb_formatted_code = \"separable = False\\nwhile not separable:\\n    samples = make_classification(\\n        n_samples=100,\\n        n_features=3,\\n        n_redundant=0,\\n        n_informative=3,\\n        n_repeated=0,\\n        n_classes=4,\\n        weights=[0.1, 0.1, 0.1, 0.7],\\n        flip_y=0,\\n    )\\n    one = samples[0][samples[1] == 0]\\n    two = samples[0][samples[1] == 1]\\n    three = samples[0][samples[1] == 2]\\n    four = samples[0][samples[1] == 3]\\n    separable = any(\\n        [\\n            (\\n                one[:, k].max() < two[:, k].min()\\n                and one[:, k].max() < three[:, k].min()\\n                and one[:, k].max() < four[:, k].min()\\n            )\\n            or (\\n                two[:, k].max() < one[:, k].min()\\n                and two[:, k].max() < three[:, k].min()\\n                and two[:, k].max() < four[:, k].min()\\n            )\\n            or (\\n                three[:, k].max() < one[:, k].min()\\n                and three[:, k].max() < two[:, k].min()\\n                and three[:, k].max() < four[:, k].min()\\n            )\\n            or (\\n                four[:, k].max() < one[:, k].min()\\n                and four[:, k].max() < two[:, k].min()\\n                and four[:, k].max() < three[:, k].min()\\n            )\\n            for k in range(2)\\n        ]\\n    )\\n\\nplt.figure(1, figsize=(16, 8))\\nplt.plot(one[:, 0], one[:, 1], \\\"r.\\\")\\nplt.plot(two[:, 0], two[:, 1], \\\"b.\\\")\\nplt.plot(three[:, 0], three[:, 1], \\\"g.\\\")\\nplt.plot(four[:, 0], four[:, 1], \\\"c.\\\")\";\n",
       "                var nbb_cells = Jupyter.notebook.get_cells();\n",
       "                for (var i = 0; i < nbb_cells.length; ++i) {\n",
       "                    if (nbb_cells[i].input_prompt_number == nbb_cell_id) {\n",
       "                        if (nbb_cells[i].get_text() == nbb_unformatted_code) {\n",
       "                             nbb_cells[i].set_text(nbb_formatted_code);\n",
       "                        }\n",
       "                        break;\n",
       "                    }\n",
       "                }\n",
       "            }, 500);\n",
       "            "
      ],
      "text/plain": [
       "<IPython.core.display.Javascript object>"
      ]
     },
     "metadata": {},
     "output_type": "display_data"
    }
   ],
   "source": [
    "separable = False\n",
    "while not separable:\n",
    "    samples = make_classification(\n",
    "        n_samples=100,\n",
    "        n_features=3,\n",
    "        n_redundant=0,\n",
    "        n_informative=3,\n",
    "        n_repeated=0,\n",
    "        n_classes=4,\n",
    "        weights=[0.1, 0.1, 0.1, 0.7],\n",
    "        flip_y=0,\n",
    "    )\n",
    "    one = samples[0][samples[1] == 0]\n",
    "    two = samples[0][samples[1] == 1]\n",
    "    three = samples[0][samples[1] == 2]\n",
    "    four = samples[0][samples[1] == 3]\n",
    "    separable = any(\n",
    "        [\n",
    "            (\n",
    "                one[:, k].max() < two[:, k].min()\n",
    "                and one[:, k].max() < three[:, k].min()\n",
    "                and one[:, k].max() < four[:, k].min()\n",
    "            )\n",
    "            or (\n",
    "                two[:, k].max() < one[:, k].min()\n",
    "                and two[:, k].max() < three[:, k].min()\n",
    "                and two[:, k].max() < four[:, k].min()\n",
    "            )\n",
    "            or (\n",
    "                three[:, k].max() < one[:, k].min()\n",
    "                and three[:, k].max() < two[:, k].min()\n",
    "                and three[:, k].max() < four[:, k].min()\n",
    "            )\n",
    "            or (\n",
    "                four[:, k].max() < one[:, k].min()\n",
    "                and four[:, k].max() < two[:, k].min()\n",
    "                and four[:, k].max() < three[:, k].min()\n",
    "            )\n",
    "            for k in range(2)\n",
    "        ]\n",
    "    )\n",
    "\n",
    "plt.figure(1, figsize=(16, 8))\n",
    "plt.plot(one[:, 0], one[:, 1], \"r.\")\n",
    "plt.plot(two[:, 0], two[:, 1], \"b.\")\n",
    "plt.plot(three[:, 0], three[:, 1], \"g.\")\n",
    "plt.plot(four[:, 0], four[:, 1], \"c.\")"
   ]
  },
  {
   "cell_type": "code",
   "execution_count": 26,
   "metadata": {},
   "outputs": [
    {
     "data": {
      "application/javascript": [
       "\n",
       "            setTimeout(function() {\n",
       "                var nbb_cell_id = 26;\n",
       "                var nbb_unformatted_code = \"from sklearn.datasets import make_blobs\\n\\nX, y = make_blobs(\\n    n_samples=[900, 50, 100, 100], centers=None, n_features=3, random_state=7\\n)\";\n",
       "                var nbb_formatted_code = \"from sklearn.datasets import make_blobs\\n\\nX, y = make_blobs(\\n    n_samples=[900, 50, 100, 100], centers=None, n_features=3, random_state=7\\n)\";\n",
       "                var nbb_cells = Jupyter.notebook.get_cells();\n",
       "                for (var i = 0; i < nbb_cells.length; ++i) {\n",
       "                    if (nbb_cells[i].input_prompt_number == nbb_cell_id) {\n",
       "                        if (nbb_cells[i].get_text() == nbb_unformatted_code) {\n",
       "                             nbb_cells[i].set_text(nbb_formatted_code);\n",
       "                        }\n",
       "                        break;\n",
       "                    }\n",
       "                }\n",
       "            }, 500);\n",
       "            "
      ],
      "text/plain": [
       "<IPython.core.display.Javascript object>"
      ]
     },
     "metadata": {},
     "output_type": "display_data"
    }
   ],
   "source": [
    "from sklearn.datasets import make_blobs\n",
    "\n",
    "X, y = make_blobs(\n",
    "    n_samples=[900, 50, 100, 100], centers=None, n_features=3, random_state=7\n",
    ")"
   ]
  },
  {
   "cell_type": "code",
   "execution_count": 27,
   "metadata": {},
   "outputs": [
    {
     "data": {
      "text/plain": [
       "<matplotlib.legend.Legend at 0x1771282c880>"
      ]
     },
     "execution_count": 27,
     "metadata": {},
     "output_type": "execute_result"
    },
    {
     "data": {
      "image/png": "[encoded data removed]",
      "text/plain": [
       "<Figure size 1152x576 with 1 Axes>"
      ]
     },
     "metadata": {
      "needs_background": "light"
     },
     "output_type": "display_data"
    },
    {
     "data": {
      "application/javascript": [
       "\n",
       "            setTimeout(function() {\n",
       "                var nbb_cell_id = 27;\n",
       "                var nbb_unformatted_code = \"# scatter plot of examples by class label\\nplt.figure(1, figsize=(16, 8))\\nfor label, _ in counter.items():\\n    row = np.where(y == label)[0]\\n    plt.scatter(X[row, 0], X[row, 1], label=str(label))\\nplt.legend()\";\n",
       "                var nbb_formatted_code = \"# scatter plot of examples by class label\\nplt.figure(1, figsize=(16, 8))\\nfor label, _ in counter.items():\\n    row = np.where(y == label)[0]\\n    plt.scatter(X[row, 0], X[row, 1], label=str(label))\\nplt.legend()\";\n",
       "                var nbb_cells = Jupyter.notebook.get_cells();\n",
       "                for (var i = 0; i < nbb_cells.length; ++i) {\n",
       "                    if (nbb_cells[i].input_prompt_number == nbb_cell_id) {\n",
       "                        if (nbb_cells[i].get_text() == nbb_unformatted_code) {\n",
       "                             nbb_cells[i].set_text(nbb_formatted_code);\n",
       "                        }\n",
       "                        break;\n",
       "                    }\n",
       "                }\n",
       "            }, 500);\n",
       "            "
      ],
      "text/plain": [
       "<IPython.core.display.Javascript object>"
      ]
     },
     "metadata": {},
     "output_type": "display_data"
    }
   ],
   "source": [
    "# scatter plot of examples by class label\n",
    "plt.figure(1, figsize=(16, 8))\n",
    "for label, _ in counter.items():\n",
    "    row = np.where(y == label)[0]\n",
    "    plt.scatter(X[row, 0], X[row, 1], label=str(label))\n",
    "plt.legend()"
   ]
  },
  {
   "cell_type": "code",
   "execution_count": 16,
   "metadata": {},
   "outputs": [
    {
     "data": {
      "application/javascript": [
       "\n",
       "            setTimeout(function() {\n",
       "                var nbb_cell_id = 16;\n",
       "                var nbb_unformatted_code = \"from sklearn.tree import DecisionTreeClassifier\\nfrom sklearn.model_selection import cross_validate\\nfrom sklearn.metrics import f1_score\";\n",
       "                var nbb_formatted_code = \"from sklearn.tree import DecisionTreeClassifier\\nfrom sklearn.model_selection import cross_validate\\nfrom sklearn.metrics import f1_score\";\n",
       "                var nbb_cells = Jupyter.notebook.get_cells();\n",
       "                for (var i = 0; i < nbb_cells.length; ++i) {\n",
       "                    if (nbb_cells[i].input_prompt_number == nbb_cell_id) {\n",
       "                        if (nbb_cells[i].get_text() == nbb_unformatted_code) {\n",
       "                             nbb_cells[i].set_text(nbb_formatted_code);\n",
       "                        }\n",
       "                        break;\n",
       "                    }\n",
       "                }\n",
       "            }, 500);\n",
       "            "
      ],
      "text/plain": [
       "<IPython.core.display.Javascript object>"
      ]
     },
     "metadata": {},
     "output_type": "display_data"
    }
   ],
   "source": [
    "from sklearn.tree import DecisionTreeClassifier\n",
    "from sklearn.model_selection import cross_validate\n",
    "from sklearn.metrics import f1_score"
   ]
  },
  {
   "cell_type": "code",
   "execution_count": 17,
   "metadata": {},
   "outputs": [
    {
     "data": {
      "application/javascript": [
       "\n",
       "            setTimeout(function() {\n",
       "                var nbb_cell_id = 17;\n",
       "                var nbb_unformatted_code = \"# define model\\nmodel = DecisionTreeClassifier()\\nscores = cross_validate(model, X, y, cv=6, n_jobs=-1, scoring=\\\"f1_macro\\\")\";\n",
       "                var nbb_formatted_code = \"# define model\\nmodel = DecisionTreeClassifier()\\nscores = cross_validate(model, X, y, cv=6, n_jobs=-1, scoring=\\\"f1_macro\\\")\";\n",
       "                var nbb_cells = Jupyter.notebook.get_cells();\n",
       "                for (var i = 0; i < nbb_cells.length; ++i) {\n",
       "                    if (nbb_cells[i].input_prompt_number == nbb_cell_id) {\n",
       "                        if (nbb_cells[i].get_text() == nbb_unformatted_code) {\n",
       "                             nbb_cells[i].set_text(nbb_formatted_code);\n",
       "                        }\n",
       "                        break;\n",
       "                    }\n",
       "                }\n",
       "            }, 500);\n",
       "            "
      ],
      "text/plain": [
       "<IPython.core.display.Javascript object>"
      ]
     },
     "metadata": {},
     "output_type": "display_data"
    }
   ],
   "source": [
    "# define model\n",
    "model = DecisionTreeClassifier()\n",
    "scores = cross_validate(model, X, y, cv=6, n_jobs=-1, scoring=\"f1_macro\")"
   ]
  },
  {
   "cell_type": "code",
   "execution_count": 18,
   "metadata": {},
   "outputs": [
    {
     "data": {
      "text/plain": [
       "{'fit_time': array([0.00398803, 0.0039885 , 0.00498629, 0.00801849, 0.00997424,\n",
       "        0.00498462]),\n",
       " 'score_time': array([0.00301337, 0.00099754, 0.00200224, 0.00296617, 0.00299263,\n",
       "        0.00598526]),\n",
       " 'test_score': array([0.5864948 , 0.65663782, 0.5132232 , 0.68344973, 0.71923289,\n",
       "        0.7351603 ])}"
      ]
     },
     "execution_count": 18,
     "metadata": {},
     "output_type": "execute_result"
    },
    {
     "data": {
      "application/javascript": [
       "\n",
       "            setTimeout(function() {\n",
       "                var nbb_cell_id = 18;\n",
       "                var nbb_unformatted_code = \"scores\";\n",
       "                var nbb_formatted_code = \"scores\";\n",
       "                var nbb_cells = Jupyter.notebook.get_cells();\n",
       "                for (var i = 0; i < nbb_cells.length; ++i) {\n",
       "                    if (nbb_cells[i].input_prompt_number == nbb_cell_id) {\n",
       "                        if (nbb_cells[i].get_text() == nbb_unformatted_code) {\n",
       "                             nbb_cells[i].set_text(nbb_formatted_code);\n",
       "                        }\n",
       "                        break;\n",
       "                    }\n",
       "                }\n",
       "            }, 500);\n",
       "            "
      ],
      "text/plain": [
       "<IPython.core.display.Javascript object>"
      ]
     },
     "metadata": {},
     "output_type": "display_data"
    }
   ],
   "source": [
    "scores"
   ]
  },
  {
   "cell_type": "markdown",
   "metadata": {},
   "source": [
    "We can oversample the minority classes using SMOTE and then plot the transformed dataset.\n",
    "\n",
    "We can use the SMOTE implementation provided by the imbalanced-learn Python library in the SMOTE class.\n",
    "\n",
    "https://pypi.org/project/imbalanced-learn/\n",
    "\n",
    "The SMOTE class acts like a data transform object from scikit-learn that must be defined and configured, fit on the data and then applied to create a new transformed version of the dataset."
   ]
  },
  {
   "cell_type": "code",
   "execution_count": 19,
   "metadata": {},
   "outputs": [
    {
     "name": "stdout",
     "output_type": "stream",
     "text": [
      "Collecting imbalanced-learn\n",
      "  Using cached imbalanced_learn-0.8.0-py3-none-any.whl (206 kB)\n",
      "Requirement already satisfied: numpy>=1.13.3 in c:\\users\\usrlocal\\anaconda3\\envs\\tensorflow\\lib\\site-packages (from imbalanced-learn) (1.19.2)\n",
      "Requirement already satisfied: scipy>=0.19.1 in c:\\users\\usrlocal\\anaconda3\\envs\\tensorflow\\lib\\site-packages (from imbalanced-learn) (1.6.2)\n",
      "Requirement already satisfied: scikit-learn>=0.24 in c:\\users\\usrlocal\\anaconda3\\envs\\tensorflow\\lib\\site-packages (from imbalanced-learn) (0.24.1)\n",
      "Requirement already satisfied: joblib>=0.11 in c:\\users\\usrlocal\\anaconda3\\envs\\tensorflow\\lib\\site-packages (from imbalanced-learn) (1.0.1)\n",
      "Requirement already satisfied: threadpoolctl>=2.0.0 in c:\\users\\usrlocal\\anaconda3\\envs\\tensorflow\\lib\\site-packages (from scikit-learn>=0.24->imbalanced-learn) (2.1.0)\n",
      "Installing collected packages: imbalanced-learn\n",
      "Successfully installed imbalanced-learn-0.8.0\n"
     ]
    },
    {
     "data": {
      "application/javascript": [
       "\n",
       "            setTimeout(function() {\n",
       "                var nbb_cell_id = 19;\n",
       "                var nbb_unformatted_code = \"!pip install -U imbalanced-learn\";\n",
       "                var nbb_formatted_code = \"!pip install -U imbalanced-learn\";\n",
       "                var nbb_cells = Jupyter.notebook.get_cells();\n",
       "                for (var i = 0; i < nbb_cells.length; ++i) {\n",
       "                    if (nbb_cells[i].input_prompt_number == nbb_cell_id) {\n",
       "                        if (nbb_cells[i].get_text() == nbb_unformatted_code) {\n",
       "                             nbb_cells[i].set_text(nbb_formatted_code);\n",
       "                        }\n",
       "                        break;\n",
       "                    }\n",
       "                }\n",
       "            }, 500);\n",
       "            "
      ],
      "text/plain": [
       "<IPython.core.display.Javascript object>"
      ]
     },
     "metadata": {},
     "output_type": "display_data"
    }
   ],
   "source": [
    "!pip install -U imbalanced-learn"
   ]
  },
  {
   "cell_type": "code",
   "execution_count": 58,
   "metadata": {},
   "outputs": [
    {
     "name": "stderr",
     "output_type": "stream",
     "text": [
      "ERROR:root:Cannot parse: 1:6: conda install -c conda-forge imbalanced-learn\n",
      "Traceback (most recent call last):\n",
      "  File \"C:\\Users\\usrlocal\\anaconda3\\lib\\site-packages\\lab_black.py\", line 218, in format_cell\n",
      "    formatted_code = _format_code(cell)\n",
      "  File \"C:\\Users\\usrlocal\\anaconda3\\lib\\site-packages\\lab_black.py\", line 29, in _format_code\n",
      "    return format_str(src_contents=code, mode=FileMode())\n",
      "  File \"C:\\Users\\usrlocal\\anaconda3\\lib\\site-packages\\black\\__init__.py\", line 880, in format_str\n",
      "    src_node = lib2to3_parse(src_contents.lstrip(), mode.target_versions)\n",
      "  File \"C:\\Users\\usrlocal\\anaconda3\\lib\\site-packages\\black\\parsing.py\", line 96, in lib2to3_parse\n",
      "    raise exc from None\n",
      "black.parsing.InvalidInput: Cannot parse: 1:6: conda install -c conda-forge imbalanced-learn\n"
     ]
    },
    {
     "name": "stdout",
     "output_type": "stream",
     "text": [
      "Collecting package metadata (current_repodata.json): ...working... done\n",
      "Solving environment: ...working... done\n",
      "\n",
      "## Package Plan ##\n",
      "\n",
      "  environment location: C:\\Users\\usrlocal\\anaconda3\n",
      "\n",
      "  added / updated specs:\n",
      "    - imbalanced-learn\n",
      "\n",
      "\n",
      "The following packages will be downloaded:\n",
      "\n",
      "    package                    |            build\n",
      "    ---------------------------|-----------------\n",
      "    conda-4.10.1               |   py38haa244fe_0         3.1 MB  conda-forge\n",
      "    imbalanced-learn-0.7.0     |             py_1          97 KB  conda-forge\n",
      "    ------------------------------------------------------------\n",
      "                                           Total:         3.2 MB\n",
      "\n",
      "The following NEW packages will be INSTALLED:\n",
      "\n",
      "  imbalanced-learn   conda-forge/noarch::imbalanced-learn-0.7.0-py_1\n",
      "  python_abi         conda-forge/win-64::python_abi-3.8-1_cp38\n",
      "\n",
      "The following packages will be SUPERSEDED by a higher-priority channel:\n",
      "\n",
      "  conda              pkgs/main::conda-4.10.1-py38haa95532_1 --> conda-forge::conda-4.10.1-py38haa244fe_0\n",
      "\n",
      "\n",
      "\n",
      "Downloading and Extracting Packages\n",
      "\n",
      "imbalanced-learn-0.7 | 97 KB     |            |   0% \n",
      "imbalanced-learn-0.7 | 97 KB     | #6         |  17% \n",
      "imbalanced-learn-0.7 | 97 KB     | ########## | 100% \n",
      "imbalanced-learn-0.7 | 97 KB     | ########## | 100% \n",
      "\n",
      "conda-4.10.1         | 3.1 MB    |            |   0% \n",
      "conda-4.10.1         | 3.1 MB    | 8          |   8% \n",
      "conda-4.10.1         | 3.1 MB    | ####1      |  41% \n",
      "conda-4.10.1         | 3.1 MB    | #######8   |  78% \n",
      "conda-4.10.1         | 3.1 MB    | ########## | 100% \n",
      "conda-4.10.1         | 3.1 MB    | ########## | 100% \n",
      "Preparing transaction: ...working... done\n",
      "Verifying transaction: ...working... done\n",
      "Executing transaction: ...working... done\n",
      "\n",
      "Note: you may need to restart the kernel to use updated packages.\n"
     ]
    }
   ],
   "source": [
    "conda install -c conda-forge imbalanced-learn"
   ]
  },
  {
   "cell_type": "code",
   "execution_count": 20,
   "metadata": {},
   "outputs": [
    {
     "data": {
      "application/javascript": [
       "\n",
       "            setTimeout(function() {\n",
       "                var nbb_cell_id = 20;\n",
       "                var nbb_unformatted_code = \"from imblearn.over_sampling import SMOTE\";\n",
       "                var nbb_formatted_code = \"from imblearn.over_sampling import SMOTE\";\n",
       "                var nbb_cells = Jupyter.notebook.get_cells();\n",
       "                for (var i = 0; i < nbb_cells.length; ++i) {\n",
       "                    if (nbb_cells[i].input_prompt_number == nbb_cell_id) {\n",
       "                        if (nbb_cells[i].get_text() == nbb_unformatted_code) {\n",
       "                             nbb_cells[i].set_text(nbb_formatted_code);\n",
       "                        }\n",
       "                        break;\n",
       "                    }\n",
       "                }\n",
       "            }, 500);\n",
       "            "
      ],
      "text/plain": [
       "<IPython.core.display.Javascript object>"
      ]
     },
     "metadata": {},
     "output_type": "display_data"
    }
   ],
   "source": [
    "from imblearn.over_sampling import SMOTE"
   ]
  },
  {
   "cell_type": "code",
   "execution_count": 21,
   "metadata": {},
   "outputs": [
    {
     "data": {
      "application/javascript": [
       "\n",
       "            setTimeout(function() {\n",
       "                var nbb_cell_id = 21;\n",
       "                var nbb_unformatted_code = \"oversample = SMOTE()\\nX, y = oversample.fit_resample(X, y)\";\n",
       "                var nbb_formatted_code = \"oversample = SMOTE()\\nX, y = oversample.fit_resample(X, y)\";\n",
       "                var nbb_cells = Jupyter.notebook.get_cells();\n",
       "                for (var i = 0; i < nbb_cells.length; ++i) {\n",
       "                    if (nbb_cells[i].input_prompt_number == nbb_cell_id) {\n",
       "                        if (nbb_cells[i].get_text() == nbb_unformatted_code) {\n",
       "                             nbb_cells[i].set_text(nbb_formatted_code);\n",
       "                        }\n",
       "                        break;\n",
       "                    }\n",
       "                }\n",
       "            }, 500);\n",
       "            "
      ],
      "text/plain": [
       "<IPython.core.display.Javascript object>"
      ]
     },
     "metadata": {},
     "output_type": "display_data"
    }
   ],
   "source": [
    "oversample = SMOTE()\n",
    "X, y = oversample.fit_resample(X, y)"
   ]
  },
  {
   "cell_type": "code",
   "execution_count": 22,
   "metadata": {},
   "outputs": [
    {
     "name": "stdout",
     "output_type": "stream",
     "text": [
      "Class=3, n=900 (25.0%)\n",
      "Class=2, n=900 (25.0%)\n",
      "Class=1, n=900 (25.0%)\n",
      "Class=0, n=900 (25.0%)\n"
     ]
    },
    {
     "data": {
      "application/javascript": [
       "\n",
       "            setTimeout(function() {\n",
       "                var nbb_cell_id = 22;\n",
       "                var nbb_unformatted_code = \"counter = Counter(y)\\nfor k, v in counter.items():\\n    dist = v / len(y) * 100\\n    print(f\\\"Class={k}, n={v} ({dist}%)\\\")\";\n",
       "                var nbb_formatted_code = \"counter = Counter(y)\\nfor k, v in counter.items():\\n    dist = v / len(y) * 100\\n    print(f\\\"Class={k}, n={v} ({dist}%)\\\")\";\n",
       "                var nbb_cells = Jupyter.notebook.get_cells();\n",
       "                for (var i = 0; i < nbb_cells.length; ++i) {\n",
       "                    if (nbb_cells[i].input_prompt_number == nbb_cell_id) {\n",
       "                        if (nbb_cells[i].get_text() == nbb_unformatted_code) {\n",
       "                             nbb_cells[i].set_text(nbb_formatted_code);\n",
       "                        }\n",
       "                        break;\n",
       "                    }\n",
       "                }\n",
       "            }, 500);\n",
       "            "
      ],
      "text/plain": [
       "<IPython.core.display.Javascript object>"
      ]
     },
     "metadata": {},
     "output_type": "display_data"
    }
   ],
   "source": [
    "counter = Counter(y)\n",
    "for k, v in counter.items():\n",
    "    dist = v / len(y) * 100\n",
    "    print(f\"Class={k}, n={v} ({dist}%)\")"
   ]
  },
  {
   "cell_type": "code",
   "execution_count": 23,
   "metadata": {},
   "outputs": [
    {
     "data": {
      "text/plain": [
       "<matplotlib.legend.Legend at 0x274ed0c6220>"
      ]
     },
     "execution_count": 23,
     "metadata": {},
     "output_type": "execute_result"
    },
    {
     "data": {
      "image/png": "[encoded data removed]",
      "text/plain": [
       "<Figure size 1152x576 with 1 Axes>"
      ]
     },
     "metadata": {
      "needs_background": "light"
     },
     "output_type": "display_data"
    },
    {
     "data": {
      "application/javascript": [
       "\n",
       "            setTimeout(function() {\n",
       "                var nbb_cell_id = 23;\n",
       "                var nbb_unformatted_code = \"plt.figure(1, figsize=(16, 8))\\nfor label, _ in counter.items():\\n    row = np.where(y == label)[0]\\n    plt.scatter(X[row, 0], X[row, 1], label=str(label))\\nplt.legend()\";\n",
       "                var nbb_formatted_code = \"plt.figure(1, figsize=(16, 8))\\nfor label, _ in counter.items():\\n    row = np.where(y == label)[0]\\n    plt.scatter(X[row, 0], X[row, 1], label=str(label))\\nplt.legend()\";\n",
       "                var nbb_cells = Jupyter.notebook.get_cells();\n",
       "                for (var i = 0; i < nbb_cells.length; ++i) {\n",
       "                    if (nbb_cells[i].input_prompt_number == nbb_cell_id) {\n",
       "                        if (nbb_cells[i].get_text() == nbb_unformatted_code) {\n",
       "                             nbb_cells[i].set_text(nbb_formatted_code);\n",
       "                        }\n",
       "                        break;\n",
       "                    }\n",
       "                }\n",
       "            }, 500);\n",
       "            "
      ],
      "text/plain": [
       "<IPython.core.display.Javascript object>"
      ]
     },
     "metadata": {},
     "output_type": "display_data"
    }
   ],
   "source": [
    "plt.figure(1, figsize=(16, 8))\n",
    "for label, _ in counter.items():\n",
    "    row = np.where(y == label)[0]\n",
    "    plt.scatter(X[row, 0], X[row, 1], label=str(label))\n",
    "plt.legend()"
   ]
  },
  {
   "cell_type": "markdown",
   "metadata": {},
   "source": [
    "We can see now more examples in the minority classes created along the lines between the original examples in the minority classes."
   ]
  },
  {
   "cell_type": "markdown",
   "metadata": {},
   "source": [
    "We can also undersample the majority class with RandomUnderSampler"
   ]
  },
  {
   "cell_type": "code",
   "execution_count": 24,
   "metadata": {},
   "outputs": [
    {
     "data": {
      "application/javascript": [
       "\n",
       "            setTimeout(function() {\n",
       "                var nbb_cell_id = 24;\n",
       "                var nbb_unformatted_code = \"from imblearn.under_sampling import RandomUnderSampler\\nfrom imblearn.pipeline import Pipeline\";\n",
       "                var nbb_formatted_code = \"from imblearn.under_sampling import RandomUnderSampler\\nfrom imblearn.pipeline import Pipeline\";\n",
       "                var nbb_cells = Jupyter.notebook.get_cells();\n",
       "                for (var i = 0; i < nbb_cells.length; ++i) {\n",
       "                    if (nbb_cells[i].input_prompt_number == nbb_cell_id) {\n",
       "                        if (nbb_cells[i].get_text() == nbb_unformatted_code) {\n",
       "                             nbb_cells[i].set_text(nbb_formatted_code);\n",
       "                        }\n",
       "                        break;\n",
       "                    }\n",
       "                }\n",
       "            }, 500);\n",
       "            "
      ],
      "text/plain": [
       "<IPython.core.display.Javascript object>"
      ]
     },
     "metadata": {},
     "output_type": "display_data"
    }
   ],
   "source": [
    "from imblearn.under_sampling import RandomUnderSampler\n",
    "from imblearn.pipeline import Pipeline\n"
   ]
  },
  {
   "cell_type": "code",
   "execution_count": 25,
   "metadata": {},
   "outputs": [
    {
     "data": {
      "application/javascript": [
       "\n",
       "            setTimeout(function() {\n",
       "                var nbb_cell_id = 25;\n",
       "                var nbb_unformatted_code = \"oversample = SMOTE()\\nundersample = RandomUnderSampler()\\nsteps = [(\\\"o\\\", oversample), (\\\"u\\\", undersample)]\\npipeline = Pipeline(steps=steps)\\n# transform the dataset\\nX, y = pipeline.fit_resample(X, y)\";\n",
       "                var nbb_formatted_code = \"oversample = SMOTE()\\nundersample = RandomUnderSampler()\\nsteps = [(\\\"o\\\", oversample), (\\\"u\\\", undersample)]\\npipeline = Pipeline(steps=steps)\\n# transform the dataset\\nX, y = pipeline.fit_resample(X, y)\";\n",
       "                var nbb_cells = Jupyter.notebook.get_cells();\n",
       "                for (var i = 0; i < nbb_cells.length; ++i) {\n",
       "                    if (nbb_cells[i].input_prompt_number == nbb_cell_id) {\n",
       "                        if (nbb_cells[i].get_text() == nbb_unformatted_code) {\n",
       "                             nbb_cells[i].set_text(nbb_formatted_code);\n",
       "                        }\n",
       "                        break;\n",
       "                    }\n",
       "                }\n",
       "            }, 500);\n",
       "            "
      ],
      "text/plain": [
       "<IPython.core.display.Javascript object>"
      ]
     },
     "metadata": {},
     "output_type": "display_data"
    }
   ],
   "source": [
    "oversample = SMOTE()\n",
    "undersample = RandomUnderSampler()\n",
    "steps = [(\"o\", oversample), (\"u\", undersample)]\n",
    "pipeline = Pipeline(steps=steps)\n",
    "# transform the dataset\n",
    "X, y = pipeline.fit_resample(X, y)"
   ]
  },
  {
   "cell_type": "code",
   "execution_count": 26,
   "metadata": {},
   "outputs": [
    {
     "name": "stdout",
     "output_type": "stream",
     "text": [
      "Class=0, n=900 (25.0%)\n",
      "Class=1, n=900 (25.0%)\n",
      "Class=2, n=900 (25.0%)\n",
      "Class=3, n=900 (25.0%)\n"
     ]
    },
    {
     "data": {
      "application/javascript": [
       "\n",
       "            setTimeout(function() {\n",
       "                var nbb_cell_id = 26;\n",
       "                var nbb_unformatted_code = \"counter = Counter(y)\\nfor k, v in counter.items():\\n    dist = v / len(y) * 100\\n    print(f\\\"Class={k}, n={v} ({dist}%)\\\")\";\n",
       "                var nbb_formatted_code = \"counter = Counter(y)\\nfor k, v in counter.items():\\n    dist = v / len(y) * 100\\n    print(f\\\"Class={k}, n={v} ({dist}%)\\\")\";\n",
       "                var nbb_cells = Jupyter.notebook.get_cells();\n",
       "                for (var i = 0; i < nbb_cells.length; ++i) {\n",
       "                    if (nbb_cells[i].input_prompt_number == nbb_cell_id) {\n",
       "                        if (nbb_cells[i].get_text() == nbb_unformatted_code) {\n",
       "                             nbb_cells[i].set_text(nbb_formatted_code);\n",
       "                        }\n",
       "                        break;\n",
       "                    }\n",
       "                }\n",
       "            }, 500);\n",
       "            "
      ],
      "text/plain": [
       "<IPython.core.display.Javascript object>"
      ]
     },
     "metadata": {},
     "output_type": "display_data"
    }
   ],
   "source": [
    "counter = Counter(y)\n",
    "for k, v in counter.items():\n",
    "    dist = v / len(y) * 100\n",
    "    print(f\"Class={k}, n={v} ({dist}%)\")"
   ]
  },
  {
   "cell_type": "code",
   "execution_count": 27,
   "metadata": {},
   "outputs": [
    {
     "data": {
      "application/javascript": [
       "\n",
       "            setTimeout(function() {\n",
       "                var nbb_cell_id = 27;\n",
       "                var nbb_unformatted_code = \"# define model\\nmodel = DecisionTreeClassifier()\\nscores = cross_validate(model, X, y, cv=6, n_jobs=-1, scoring=\\\"f1_macro\\\")\";\n",
       "                var nbb_formatted_code = \"# define model\\nmodel = DecisionTreeClassifier()\\nscores = cross_validate(model, X, y, cv=6, n_jobs=-1, scoring=\\\"f1_macro\\\")\";\n",
       "                var nbb_cells = Jupyter.notebook.get_cells();\n",
       "                for (var i = 0; i < nbb_cells.length; ++i) {\n",
       "                    if (nbb_cells[i].input_prompt_number == nbb_cell_id) {\n",
       "                        if (nbb_cells[i].get_text() == nbb_unformatted_code) {\n",
       "                             nbb_cells[i].set_text(nbb_formatted_code);\n",
       "                        }\n",
       "                        break;\n",
       "                    }\n",
       "                }\n",
       "            }, 500);\n",
       "            "
      ],
      "text/plain": [
       "<IPython.core.display.Javascript object>"
      ]
     },
     "metadata": {},
     "output_type": "display_data"
    }
   ],
   "source": [
    "# define model\n",
    "model = DecisionTreeClassifier()\n",
    "scores = cross_validate(model, X, y, cv=6, n_jobs=-1, scoring=\"f1_macro\")"
   ]
  },
  {
   "cell_type": "code",
   "execution_count": 28,
   "metadata": {},
   "outputs": [
    {
     "data": {
      "text/plain": [
       "{'fit_time': array([0.01096678, 0.01096988, 0.01296496, 0.01196074, 0.01196623,\n",
       "        0.01196074]),\n",
       " 'score_time': array([0.00199485, 0.00199533, 0.00199461, 0.0019958 , 0.0019958 ,\n",
       "        0.0019958 ]),\n",
       " 'test_score': array([0.92145523, 0.94160985, 0.91979586, 0.9448528 , 0.94323926,\n",
       "        0.92990966])}"
      ]
     },
     "execution_count": 28,
     "metadata": {},
     "output_type": "execute_result"
    },
    {
     "data": {
      "application/javascript": [
       "\n",
       "            setTimeout(function() {\n",
       "                var nbb_cell_id = 28;\n",
       "                var nbb_unformatted_code = \"scores\";\n",
       "                var nbb_formatted_code = \"scores\";\n",
       "                var nbb_cells = Jupyter.notebook.get_cells();\n",
       "                for (var i = 0; i < nbb_cells.length; ++i) {\n",
       "                    if (nbb_cells[i].input_prompt_number == nbb_cell_id) {\n",
       "                        if (nbb_cells[i].get_text() == nbb_unformatted_code) {\n",
       "                             nbb_cells[i].set_text(nbb_formatted_code);\n",
       "                        }\n",
       "                        break;\n",
       "                    }\n",
       "                }\n",
       "            }, 500);\n",
       "            "
      ],
      "text/plain": [
       "<IPython.core.display.Javascript object>"
      ]
     },
     "metadata": {},
     "output_type": "display_data"
    }
   ],
   "source": [
    "scores"
   ]
  },
  {
   "cell_type": "code",
   "execution_count": null,
   "metadata": {},
   "outputs": [],
   "source": []
  }
 ],
 "metadata": {
  "kernelspec": {
   "display_name": "Python 3",
   "language": "python",
   "name": "python3"
  },
  "language_info": {
   "codemirror_mode": {
    "name": "ipython",
    "version": 3
   },
   "file_extension": ".py",
   "mimetype": "text/x-python",
   "name": "python",
   "nbconvert_exporter": "python",
   "pygments_lexer": "ipython3",
   "version": "3.8.8"
  }
 },
 "nbformat": 4,
 "nbformat_minor": 2
}
