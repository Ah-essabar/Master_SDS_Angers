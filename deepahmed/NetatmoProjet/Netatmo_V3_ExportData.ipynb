{
 "cells": [
  {
   "cell_type": "code",
   "execution_count": 3,
   "id": "bfa61308",
   "metadata": {},
   "outputs": [],
   "source": [
    "#!pip install pyatmo"
   ]
  },
  {
   "cell_type": "code",
   "execution_count": 4,
   "id": "5e8d3dd1",
   "metadata": {},
   "outputs": [],
   "source": [
    "# Import des packages\n",
    "import pyatmo\n",
    "from datetime import datetime as dt\n",
    "import datetime\n"
   ]
  },
  {
   "cell_type": "code",
   "execution_count": 5,
   "id": "27015b41",
   "metadata": {},
   "outputs": [],
   "source": [
    "# Import du package qui doit préalablement être installé\n"
   ]
  },
  {
   "cell_type": "code",
   "execution_count": null,
   "id": "22159f95",
   "metadata": {},
   "outputs": [],
   "source": []
  },
  {
   "cell_type": "raw",
   "id": "557211f0",
   "metadata": {},
   "source": [
    "Liens vers les informations utiles sur le package\n",
    "https://github.com/jabesq/netatmo-api-python\n",
    "https://github.com/jabesq/netatmo-api-python/blob/development/usage.md"
   ]
  },
  {
   "cell_type": "code",
   "execution_count": 6,
   "id": "e4495ef6",
   "metadata": {},
   "outputs": [],
   "source": [
    "# Information sur l'application qui est à créer depuis https://dev.netatmo.com/\n",
    "CLIENT_ID = str('606609b7b70a421ea72b545a')\n",
    "CLIENT_SECRET = 'XPgT5THYut4ska9BaRtsf3MeXZ6jIUz1yOeoKZ'\n",
    "# Mail et mot de passe renseignés lors de la connexion du capteur\n",
    "USERNAME = 'marie-lise.pannier@univ-angers.fr'\n",
    "PASSWORD = 'mdp-ProjetPEIP2'\n",
    "# Adresse MAC du capteur disponible depuis les paramètres avancés de l'application Smartphone Home Coach\n",
    "DEVICE = '70:ee:50:7a:5f:10' "
   ]
  },
  {
   "cell_type": "code",
   "execution_count": 7,
   "id": "8fc9c66c",
   "metadata": {},
   "outputs": [],
   "source": [
    "# Fonction pour l'identification\n",
    "authorization = pyatmo.ClientAuth(\n",
    "    client_id=CLIENT_ID,\n",
    "    client_secret=CLIENT_SECRET,\n",
    "    username=USERNAME,\n",
    "    password=PASSWORD,\n",
    "    scope=\"read_homecoach\",\n",
    ")"
   ]
  },
  {
   "cell_type": "code",
   "execution_count": 8,
   "id": "373a0c5a",
   "metadata": {},
   "outputs": [],
   "source": [
    "# Demande d'accès aux données du capteur\n",
    "homeData = pyatmo.HomeCoachData(authorization)"
   ]
  },
  {
   "cell_type": "code",
   "execution_count": 9,
   "id": "5f7ed8ce",
   "metadata": {
    "scrolled": true
   },
   "outputs": [
    {
     "data": {
      "text/plain": [
       "{}"
      ]
     },
     "execution_count": 9,
     "metadata": {},
     "output_type": "execute_result"
    }
   ],
   "source": [
    "# Info sur la station\n",
    "homeData.stations[DEVICE]"
   ]
  },
  {
   "cell_type": "code",
   "execution_count": 10,
   "id": "861ffc06",
   "metadata": {},
   "outputs": [
    {
     "data": {
      "text/plain": [
       "(14.9, 17, 48, 56)"
      ]
     },
     "execution_count": 10,
     "metadata": {},
     "output_type": "execute_result"
    }
   ],
   "source": [
    "# Température et humidité min et max mesurées\n",
    "homeData.get_min_max_t_h(DEVICE)"
   ]
  },
  {
   "cell_type": "code",
   "execution_count": 11,
   "id": "8c703c93",
   "metadata": {},
   "outputs": [
    {
     "data": {
      "text/plain": [
       "[]"
      ]
     },
     "execution_count": 11,
     "metadata": {},
     "output_type": "execute_result"
    }
   ],
   "source": [
    "# Types de données enregistrées\n",
    "homeData.get_monitored_conditions(DEVICE)"
   ]
  },
  {
   "cell_type": "code",
   "execution_count": 13,
   "id": "418039df",
   "metadata": {},
   "outputs": [
    {
     "ename": "ApiError",
     "evalue": "403 - Forbidden - User usage reached (26) when accessing 'https://api.netatmo.com/api/getmeasure'",
     "output_type": "error",
     "traceback": [
      "\u001b[1;31m---------------------------------------------------------------------------\u001b[0m",
      "\u001b[1;31mApiError\u001b[0m                                  Traceback (most recent call last)",
      "\u001b[1;32m<ipython-input-13-118d56edc375>\u001b[0m in \u001b[0;36m<module>\u001b[1;34m\u001b[0m\n\u001b[0;32m     14\u001b[0m \u001b[1;32mwhile\u001b[0m \u001b[0mpas\u001b[0m\u001b[1;33m<\u001b[0m\u001b[0mts\u001b[0m\u001b[1;33m:\u001b[0m\u001b[1;33m\u001b[0m\u001b[1;33m\u001b[0m\u001b[0m\n\u001b[0;32m     15\u001b[0m     \u001b[0mpas\u001b[0m\u001b[1;33m=\u001b[0m\u001b[0mpas\u001b[0m\u001b[1;33m+\u001b[0m\u001b[1;36m250000\u001b[0m\u001b[1;33m\u001b[0m\u001b[1;33m\u001b[0m\u001b[0m\n\u001b[1;32m---> 16\u001b[1;33m     \u001b[0mtemperature_temp\u001b[0m\u001b[1;33m=\u001b[0m\u001b[0mhomeData\u001b[0m\u001b[1;33m.\u001b[0m\u001b[0mget_data\u001b[0m\u001b[1;33m(\u001b[0m\u001b[0mDEVICE\u001b[0m\u001b[1;33m,\u001b[0m\u001b[1;34m'5min'\u001b[0m\u001b[1;33m,\u001b[0m\u001b[1;34m'temperature'\u001b[0m\u001b[1;33m,\u001b[0m\u001b[0mdate_begin\u001b[0m\u001b[1;33m=\u001b[0m\u001b[0mstr\u001b[0m\u001b[1;33m(\u001b[0m\u001b[0mpas\u001b[0m\u001b[1;33m)\u001b[0m\u001b[1;33m,\u001b[0m\u001b[0mdate_end\u001b[0m\u001b[1;33m=\u001b[0m\u001b[0mstr\u001b[0m\u001b[1;33m(\u001b[0m\u001b[0mpas\u001b[0m\u001b[1;33m+\u001b[0m\u001b[1;36m250000\u001b[0m\u001b[1;33m)\u001b[0m\u001b[1;33m)\u001b[0m\u001b[1;33m\u001b[0m\u001b[1;33m\u001b[0m\u001b[0m\n\u001b[0m\u001b[0;32m     17\u001b[0m     \u001b[0mco2_temp\u001b[0m\u001b[1;33m=\u001b[0m\u001b[0mhomeData\u001b[0m\u001b[1;33m.\u001b[0m\u001b[0mget_data\u001b[0m\u001b[1;33m(\u001b[0m\u001b[0mDEVICE\u001b[0m\u001b[1;33m,\u001b[0m\u001b[1;34m'5min'\u001b[0m\u001b[1;33m,\u001b[0m\u001b[1;34m'co2'\u001b[0m\u001b[1;33m,\u001b[0m\u001b[0mdate_begin\u001b[0m\u001b[1;33m=\u001b[0m\u001b[0mstr\u001b[0m\u001b[1;33m(\u001b[0m\u001b[0mpas\u001b[0m\u001b[1;33m)\u001b[0m\u001b[1;33m,\u001b[0m\u001b[0mdate_end\u001b[0m\u001b[1;33m=\u001b[0m\u001b[0mstr\u001b[0m\u001b[1;33m(\u001b[0m\u001b[0mpas\u001b[0m\u001b[1;33m+\u001b[0m\u001b[1;36m250000\u001b[0m\u001b[1;33m)\u001b[0m\u001b[1;33m)\u001b[0m\u001b[1;33m\u001b[0m\u001b[1;33m\u001b[0m\u001b[0m\n\u001b[0;32m     18\u001b[0m     \u001b[0mhumidity_temp\u001b[0m\u001b[1;33m=\u001b[0m\u001b[0mhomeData\u001b[0m\u001b[1;33m.\u001b[0m\u001b[0mget_data\u001b[0m\u001b[1;33m(\u001b[0m\u001b[0mDEVICE\u001b[0m\u001b[1;33m,\u001b[0m\u001b[1;34m'5min'\u001b[0m\u001b[1;33m,\u001b[0m\u001b[1;34m'humidity'\u001b[0m\u001b[1;33m,\u001b[0m\u001b[0mdate_begin\u001b[0m\u001b[1;33m=\u001b[0m\u001b[0mstr\u001b[0m\u001b[1;33m(\u001b[0m\u001b[0mpas\u001b[0m\u001b[1;33m)\u001b[0m\u001b[1;33m,\u001b[0m\u001b[0mdate_end\u001b[0m\u001b[1;33m=\u001b[0m\u001b[0mstr\u001b[0m\u001b[1;33m(\u001b[0m\u001b[0mpas\u001b[0m\u001b[1;33m+\u001b[0m\u001b[1;36m250000\u001b[0m\u001b[1;33m)\u001b[0m\u001b[1;33m)\u001b[0m\u001b[1;33m\u001b[0m\u001b[1;33m\u001b[0m\u001b[0m\n",
      "\u001b[1;32m~\\anaconda3\\lib\\site-packages\\pyatmo\\weather_station.py\u001b[0m in \u001b[0;36mget_data\u001b[1;34m(self, device_id, scale, module_type, module_id, date_begin, date_end, limit, optimize, real_time)\u001b[0m\n\u001b[0;32m    249\u001b[0m         \u001b[0mpost_params\u001b[0m\u001b[1;33m[\u001b[0m\u001b[1;34m\"real_time\"\u001b[0m\u001b[1;33m]\u001b[0m \u001b[1;33m=\u001b[0m \u001b[1;34m\"true\"\u001b[0m \u001b[1;32mif\u001b[0m \u001b[0mreal_time\u001b[0m \u001b[1;32melse\u001b[0m \u001b[1;34m\"false\"\u001b[0m\u001b[1;33m\u001b[0m\u001b[1;33m\u001b[0m\u001b[0m\n\u001b[0;32m    250\u001b[0m \u001b[1;33m\u001b[0m\u001b[0m\n\u001b[1;32m--> 251\u001b[1;33m         \u001b[1;32mreturn\u001b[0m \u001b[0mself\u001b[0m\u001b[1;33m.\u001b[0m\u001b[0mauth\u001b[0m\u001b[1;33m.\u001b[0m\u001b[0mpost_request\u001b[0m\u001b[1;33m(\u001b[0m\u001b[0murl\u001b[0m\u001b[1;33m=\u001b[0m\u001b[0m_GETMEASURE_REQ\u001b[0m\u001b[1;33m,\u001b[0m \u001b[0mparams\u001b[0m\u001b[1;33m=\u001b[0m\u001b[0mpost_params\u001b[0m\u001b[1;33m)\u001b[0m\u001b[1;33m.\u001b[0m\u001b[0mjson\u001b[0m\u001b[1;33m(\u001b[0m\u001b[1;33m)\u001b[0m\u001b[1;33m\u001b[0m\u001b[1;33m\u001b[0m\u001b[0m\n\u001b[0m\u001b[0;32m    252\u001b[0m \u001b[1;33m\u001b[0m\u001b[0m\n\u001b[0;32m    253\u001b[0m     def get_min_max_t_h(\n",
      "\u001b[1;32m~\\anaconda3\\lib\\site-packages\\pyatmo\\auth.py\u001b[0m in \u001b[0;36mpost_request\u001b[1;34m(self, url, params, timeout)\u001b[0m\n\u001b[0;32m    168\u001b[0m             )\n\u001b[0;32m    169\u001b[0m             \u001b[1;32mtry\u001b[0m\u001b[1;33m:\u001b[0m\u001b[1;33m\u001b[0m\u001b[1;33m\u001b[0m\u001b[0m\n\u001b[1;32m--> 170\u001b[1;33m                 raise ApiError(\n\u001b[0m\u001b[0;32m    171\u001b[0m                     \u001b[1;34mf\"{resp.status_code} - \"\u001b[0m\u001b[1;33m\u001b[0m\u001b[1;33m\u001b[0m\u001b[0m\n\u001b[0;32m    172\u001b[0m                     \u001b[1;34mf\"{ERRORS.get(resp.status_code, '')} - \"\u001b[0m\u001b[1;33m\u001b[0m\u001b[1;33m\u001b[0m\u001b[0m\n",
      "\u001b[1;31mApiError\u001b[0m: 403 - Forbidden - User usage reached (26) when accessing 'https://api.netatmo.com/api/getmeasure'"
     ]
    }
   ],
   "source": [
    "# Récupération des données sur le temperature, CO2,  à un pas de temps de 5 min\n",
    "# entrée de la fonction get_data : 'device_id', 'scale', and 'module_type'\n",
    "pas=1616696550\n",
    "temperature=homeData.get_data(DEVICE,'5min','temperature',date_begin=str(pas),date_end=str(pas+250000))\n",
    "co2=homeData.get_data(DEVICE,'5min','co2',date_begin=str(pas),date_end=str(pas+250000))\n",
    "humidity=homeData.get_data(DEVICE,'5min','humidity',date_begin=str(pas),date_end=str(pas+250000))\n",
    "noise=homeData.get_data(DEVICE,'5min','noise',date_begin=str(pas),date_end=str(pas+250000))\n",
    "Pressure=homeData.get_data(DEVICE,'5min','Pressure',date_begin=str(pas),date_end=str(pas+250000))\n",
    "\n",
    "\n",
    "ts = datetime.datetime.now().timestamp() \n",
    "\n",
    "# chargement de toutes les données dans la base\n",
    "while pas<ts:\n",
    "    pas=pas+250000\n",
    "    temperature_temp=homeData.get_data(DEVICE,'5min','temperature',date_begin=str(pas),date_end=str(pas+250000))\n",
    "    co2_temp=homeData.get_data(DEVICE,'5min','co2',date_begin=str(pas),date_end=str(pas+250000))\n",
    "    humidity_temp=homeData.get_data(DEVICE,'5min','humidity',date_begin=str(pas),date_end=str(pas+250000))\n",
    "    noise_temp=homeData.get_data(DEVICE,'5min','noise',date_begin=str(pas),date_end=str(pas+250000))\n",
    "    Pressure_temp=homeData.get_data(DEVICE,'5min','Pressure',date_begin=str(pas),date_end=str(pas+250000))\n",
    "    \n",
    "    temperature['body'].update(temperature_temp['body'])\n",
    "    co2['body'].update(co2_temp['body'])\n",
    "    humidity['body'].update(humidity_temp['body'])\n",
    "    noise['body'].update(noise_temp['body'])\n",
    "    Pressure['body'].update(Pressure_temp['body'])\n",
    "    "
   ]
  },
  {
   "cell_type": "code",
   "execution_count": 10,
   "id": "71ed9a79",
   "metadata": {},
   "outputs": [],
   "source": [
    "# NB : première mesure à ne pas prendre en compte (réalisée avant calibrage)\n",
    "# à faire :\n",
    "# -> traduire les dates en un format compréhensible\n",
    "# -> enregistrer le tout en csv par expl"
   ]
  },
  {
   "cell_type": "raw",
   "id": "a9207a87",
   "metadata": {},
   "source": [
    "import csv\n",
    "delimiter=';'\n",
    "with open('DonnesNetatmo01mars2022.csv', '+w', encoding='utf-8') as stream:\n",
    "        writer = csv.writer(stream, delimiter=delimiter, quoting=csv.QUOTE_NONE, quotechar='',  lineterminator='\\n')\n",
    "        writer.writerow(['time' , 'temperature','co2','humidity','noise','Pressure'])\n",
    "        for t,c,h,n,p in zip(temperature['body'].items(),co2['body'].items(),humidity['body'].items(),noise['body'].items(),Pressure['body'].items()):\n",
    "            writer.writerow([dt.fromtimestamp(int(t[0])) , t[1][0],c[1][0],h[1][0],n[1][0],p[1][0]])"
   ]
  },
  {
   "cell_type": "code",
   "execution_count": 21,
   "id": "8dd22ffe",
   "metadata": {},
   "outputs": [],
   "source": [
    "import csv\n",
    "delimiter=';'\n",
    "with open('DonnesNetatmo1mai.csv', '+w', encoding='utf-8') as stream:\n",
    "        writer = csv.writer(stream, delimiter=delimiter, quoting=csv.QUOTE_NONE, quotechar='',  lineterminator='\\n')\n",
    "        writer.writerow(['time' , 'temperature','co2','humidity','noise','Pressure'])\n",
    "        for t,c,h,n,p in zip(temperature['body'].items(),co2['body'].items(),humidity['body'].items(),noise['body'].items(),Pressure['body'].items()):\n",
    "            writer.writerow([int(t[0]) , t[1][0],c[1][0],h[1][0],n[1][0],p[1][0]])\n"
   ]
  },
  {
   "cell_type": "code",
   "execution_count": null,
   "id": "7311d0e3",
   "metadata": {},
   "outputs": [],
   "source": []
  },
  {
   "cell_type": "code",
   "execution_count": null,
   "id": "4f127b2f",
   "metadata": {},
   "outputs": [],
   "source": []
  }
 ],
 "metadata": {
  "kernelspec": {
   "display_name": "Python 3",
   "language": "python",
   "name": "python3"
  },
  "language_info": {
   "codemirror_mode": {
    "name": "ipython",
    "version": 3
   },
   "file_extension": ".py",
   "mimetype": "text/x-python",
   "name": "python",
   "nbconvert_exporter": "python",
   "pygments_lexer": "ipython3",
   "version": "3.8.8"
  }
 },
 "nbformat": 4,
 "nbformat_minor": 5
}
