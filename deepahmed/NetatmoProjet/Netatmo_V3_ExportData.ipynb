{
 "cells": [
  {
   "cell_type": "code",
   "execution_count": 40,
   "metadata": {},
   "outputs": [],
   "source": [
    "#!pip install pyatmo"
   ]
  },
  {
   "cell_type": "code",
   "execution_count": 12,
   "metadata": {},
   "outputs": [],
   "source": [
    "# Import des packages\n",
    "import pyatmo\n",
    "from datetime import datetime as dt\n",
    "import datetime\n"
   ]
  },
  {
   "cell_type": "code",
   "execution_count": 13,
   "metadata": {},
   "outputs": [],
   "source": [
    "# Import du package qui doit préalablement être installé\n"
   ]
  },
  {
   "cell_type": "code",
   "execution_count": null,
   "metadata": {},
   "outputs": [],
   "source": []
  },
  {
   "cell_type": "raw",
   "metadata": {},
   "source": [
    "Liens vers les informations utiles sur le package\n",
    "https://github.com/jabesq/netatmo-api-python\n",
    "https://github.com/jabesq/netatmo-api-python/blob/development/usage.md"
   ]
  },
  {
   "cell_type": "code",
   "execution_count": 14,
   "metadata": {},
   "outputs": [],
   "source": [
    "# Information sur l'application qui est à créer depuis https://dev.netatmo.com/\n",
    "CLIENT_ID = str('606609b7b70a421ea72b545a')\n",
    "CLIENT_SECRET = 'XPgT5THYut4ska9BaRtsf3MeXZ6jIUz1yOeoKZ'\n",
    "# Mail et mot de passe renseignés lors de la connexion du capteur\n",
    "USERNAME = 'marie-lise.pannier@univ-angers.fr'\n",
    "PASSWORD = 'mdp-ProjetPEIP2'\n",
    "# Adresse MAC du capteur disponible depuis les paramètres avancés de l'application Smartphone Home Coach\n",
    "DEVICE = '70:ee:50:7a:5f:10' "
   ]
  },
  {
   "cell_type": "code",
   "execution_count": 15,
   "metadata": {},
   "outputs": [],
   "source": [
    "# Fonction pour l'identification\n",
    "authorization = pyatmo.ClientAuth(\n",
    "    client_id=CLIENT_ID,\n",
    "    client_secret=CLIENT_SECRET,\n",
    "    username=USERNAME,\n",
    "    password=PASSWORD,\n",
    "    scope=\"read_homecoach\",\n",
    ")"
   ]
  },
  {
   "cell_type": "code",
   "execution_count": 16,
   "metadata": {},
   "outputs": [],
   "source": [
    "# Demande d'accès aux données du capteur\n",
    "homeData = pyatmo.HomeCoachData(authorization)"
   ]
  },
  {
   "cell_type": "code",
   "execution_count": 17,
   "metadata": {
    "scrolled": true
   },
   "outputs": [
    {
     "data": {
      "text/plain": [
       "{'_id': '70:ee:50:7a:5f:10',\n",
       " 'station_name': 'CapteurAmbiance1',\n",
       " 'date_setup': 1616696398,\n",
       " 'last_setup': 1616696398,\n",
       " 'type': 'NHC',\n",
       " 'last_status_store': 1619863670,\n",
       " 'module_name': 'Indoor',\n",
       " 'firmware': 51,\n",
       " 'wifi_status': 48,\n",
       " 'reachable': True,\n",
       " 'co2_calibrating': False,\n",
       " 'data_type': ['Temperature',\n",
       "  'CO2',\n",
       "  'Humidity',\n",
       "  'Noise',\n",
       "  'Pressure',\n",
       "  'health_idx'],\n",
       " 'place': {'altitude': 53,\n",
       "  'city': 'Angers',\n",
       "  'country': 'FR',\n",
       "  'timezone': 'Europe/Paris',\n",
       "  'location': [-0.5554129779256776, 47.466872422087654]},\n",
       " 'dashboard_data': {'time_utc': 1619863670,\n",
       "  'Temperature': 18.3,\n",
       "  'CO2': 543,\n",
       "  'Humidity': 45,\n",
       "  'Noise': 42,\n",
       "  'Pressure': 1013.6,\n",
       "  'AbsolutePressure': 1007.3,\n",
       "  'health_idx': 0,\n",
       "  'min_temp': 18.2,\n",
       "  'max_temp': 18.9,\n",
       "  'date_max_temp': 1619820088,\n",
       "  'date_min_temp': 1619848537},\n",
       " 'modules': [{...}],\n",
       " 'main_device': '70:ee:50:7a:5f:10'}"
      ]
     },
     "execution_count": 17,
     "metadata": {},
     "output_type": "execute_result"
    }
   ],
   "source": [
    "# Info sur la station\n",
    "homeData.stations[DEVICE]"
   ]
  },
  {
   "cell_type": "code",
   "execution_count": 18,
   "metadata": {},
   "outputs": [
    {
     "data": {
      "text/plain": [
       "(18.2, 19.4, 43, 48)"
      ]
     },
     "execution_count": 18,
     "metadata": {},
     "output_type": "execute_result"
    }
   ],
   "source": [
    "# Température et humidité min et max mesurées\n",
    "homeData.get_min_max_t_h(DEVICE)"
   ]
  },
  {
   "cell_type": "code",
   "execution_count": 19,
   "metadata": {},
   "outputs": [
    {
     "data": {
      "text/plain": [
       "['Temperature',\n",
       " 'CO2',\n",
       " 'Humidity',\n",
       " 'Noise',\n",
       " 'Pressure',\n",
       " 'health_idx',\n",
       " 'wifi_status',\n",
       " 'reachable']"
      ]
     },
     "execution_count": 19,
     "metadata": {},
     "output_type": "execute_result"
    }
   ],
   "source": [
    "# Types de données enregistrées\n",
    "homeData.get_monitored_conditions(DEVICE)"
   ]
  },
  {
   "cell_type": "code",
   "execution_count": 20,
   "metadata": {},
   "outputs": [],
   "source": [
    "# Récupération des données sur le temperature, CO2,  à un pas de temps de 5 min\n",
    "# entrée de la fonction get_data : 'device_id', 'scale', and 'module_type'\n",
    "pas=1616696550\n",
    "temperature=homeData.get_data(DEVICE,'5min','temperature',date_begin=str(pas),date_end=str(pas+250000))\n",
    "co2=homeData.get_data(DEVICE,'5min','co2',date_begin=str(pas),date_end=str(pas+250000))\n",
    "humidity=homeData.get_data(DEVICE,'5min','humidity',date_begin=str(pas),date_end=str(pas+250000))\n",
    "noise=homeData.get_data(DEVICE,'5min','noise',date_begin=str(pas),date_end=str(pas+250000))\n",
    "Pressure=homeData.get_data(DEVICE,'5min','Pressure',date_begin=str(pas),date_end=str(pas+250000))\n",
    "\n",
    "\n",
    "ts = datetime.datetime.now().timestamp() \n",
    "\n",
    "# chargement de toutes les données dans la base\n",
    "while pas<ts:\n",
    "    pas=pas+250000\n",
    "    temperature_temp=homeData.get_data(DEVICE,'5min','temperature',date_begin=str(pas),date_end=str(pas+250000))\n",
    "    co2_temp=homeData.get_data(DEVICE,'5min','co2',date_begin=str(pas),date_end=str(pas+250000))\n",
    "    humidity_temp=homeData.get_data(DEVICE,'5min','humidity',date_begin=str(pas),date_end=str(pas+250000))\n",
    "    noise_temp=homeData.get_data(DEVICE,'5min','noise',date_begin=str(pas),date_end=str(pas+250000))\n",
    "    Pressure_temp=homeData.get_data(DEVICE,'5min','Pressure',date_begin=str(pas),date_end=str(pas+250000))\n",
    "    \n",
    "    temperature['body'].update(temperature_temp['body'])\n",
    "    co2['body'].update(co2_temp['body'])\n",
    "    humidity['body'].update(humidity_temp['body'])\n",
    "    noise['body'].update(noise_temp['body'])\n",
    "    Pressure['body'].update(Pressure_temp['body'])\n",
    "    "
   ]
  },
  {
   "cell_type": "code",
   "execution_count": 10,
   "metadata": {},
   "outputs": [],
   "source": [
    "# NB : première mesure à ne pas prendre en compte (réalisée avant calibrage)\n",
    "# à faire :\n",
    "# -> traduire les dates en un format compréhensible\n",
    "# -> enregistrer le tout en csv par expl"
   ]
  },
  {
   "cell_type": "raw",
   "metadata": {},
   "source": [
    "import csv\n",
    "delimiter=';'\n",
    "with open('DonnesNetatmo27avril.csv', '+w', encoding='utf-8') as stream:\n",
    "        writer = csv.writer(stream, delimiter=delimiter, quoting=csv.QUOTE_NONE, quotechar='',  lineterminator='\\n')\n",
    "        writer.writerow(['time' , 'temperature','co2','humidity','noise','Pressure'])\n",
    "        for t,c,h,n,p in zip(temperature['body'].items(),co2['body'].items(),humidity['body'].items(),noise['body'].items(),Pressure['body'].items()):\n",
    "            writer.writerow([dt.fromtimestamp(int(t[0])) , t[1][0],c[1][0],h[1][0],n[1][0],p[1][0]])"
   ]
  },
  {
   "cell_type": "code",
   "execution_count": 21,
   "metadata": {},
   "outputs": [],
   "source": [
    "import csv\n",
    "delimiter=';'\n",
    "with open('DonnesNetatmo1mai.csv', '+w', encoding='utf-8') as stream:\n",
    "        writer = csv.writer(stream, delimiter=delimiter, quoting=csv.QUOTE_NONE, quotechar='',  lineterminator='\\n')\n",
    "        writer.writerow(['time' , 'temperature','co2','humidity','noise','Pressure'])\n",
    "        for t,c,h,n,p in zip(temperature['body'].items(),co2['body'].items(),humidity['body'].items(),noise['body'].items(),Pressure['body'].items()):\n",
    "            writer.writerow([int(t[0]) , t[1][0],c[1][0],h[1][0],n[1][0],p[1][0]])\n"
   ]
  },
  {
   "cell_type": "code",
   "execution_count": null,
   "metadata": {},
   "outputs": [],
   "source": []
  },
  {
   "cell_type": "code",
   "execution_count": null,
   "metadata": {},
   "outputs": [],
   "source": []
  }
 ],
 "metadata": {
  "kernelspec": {
   "display_name": "Python 3",
   "language": "python",
   "name": "python3"
  },
  "language_info": {
   "codemirror_mode": {
    "name": "ipython",
    "version": 3
   },
   "file_extension": ".py",
   "mimetype": "text/x-python",
   "name": "python",
   "nbconvert_exporter": "python",
   "pygments_lexer": "ipython3",
   "version": "3.8.5"
  }
 },
 "nbformat": 4,
 "nbformat_minor": 5
}
