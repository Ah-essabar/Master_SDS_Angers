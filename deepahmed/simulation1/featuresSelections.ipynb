{
 "cells": [
  {
   "cell_type": "markdown",
   "metadata": {
    "id": "TXrkkQh-w7ug"
   },
   "source": [
    "# 23/30 Sklearn : Feature Selection"
   ]
  },
  {
   "cell_type": "code",
   "execution_count": 23,
   "metadata": {
    "id": "89idlZn1xJr9"
   },
   "outputs": [
    {
     "ename": "ImportError",
     "evalue": "Keras requires TensorFlow 2.2 or higher. Install TensorFlow via `pip install tensorflow`",
     "output_type": "error",
     "traceback": [
      "\u001b[1;31m---------------------------------------------------------------------------\u001b[0m",
      "\u001b[1;31mModuleNotFoundError\u001b[0m                       Traceback (most recent call last)",
      "\u001b[1;32m~\\anaconda3\\lib\\site-packages\\keras\\__init__.py\u001b[0m in \u001b[0;36m<module>\u001b[1;34m\u001b[0m\n\u001b[0;32m      2\u001b[0m \u001b[1;32mtry\u001b[0m\u001b[1;33m:\u001b[0m\u001b[1;33m\u001b[0m\u001b[1;33m\u001b[0m\u001b[0m\n\u001b[1;32m----> 3\u001b[1;33m     \u001b[1;32mfrom\u001b[0m \u001b[0mtensorflow\u001b[0m\u001b[1;33m.\u001b[0m\u001b[0mkeras\u001b[0m\u001b[1;33m.\u001b[0m\u001b[0mlayers\u001b[0m\u001b[1;33m.\u001b[0m\u001b[0mexperimental\u001b[0m\u001b[1;33m.\u001b[0m\u001b[0mpreprocessing\u001b[0m \u001b[1;32mimport\u001b[0m \u001b[0mRandomRotation\u001b[0m\u001b[1;33m\u001b[0m\u001b[1;33m\u001b[0m\u001b[0m\n\u001b[0m\u001b[0;32m      4\u001b[0m \u001b[1;32mexcept\u001b[0m \u001b[0mImportError\u001b[0m\u001b[1;33m:\u001b[0m\u001b[1;33m\u001b[0m\u001b[1;33m\u001b[0m\u001b[0m\n",
      "\u001b[1;31mModuleNotFoundError\u001b[0m: No module named 'tensorflow'",
      "\nDuring handling of the above exception, another exception occurred:\n",
      "\u001b[1;31mImportError\u001b[0m                               Traceback (most recent call last)",
      "\u001b[1;32m<ipython-input-23-4aac3e285adb>\u001b[0m in \u001b[0;36m<module>\u001b[1;34m\u001b[0m\n\u001b[0;32m      8\u001b[0m \u001b[1;33m\u001b[0m\u001b[0m\n\u001b[0;32m      9\u001b[0m \u001b[1;32mfrom\u001b[0m \u001b[0msklearn\u001b[0m\u001b[1;33m.\u001b[0m\u001b[0mmodel_selection\u001b[0m \u001b[1;32mimport\u001b[0m \u001b[0mtrain_test_split\u001b[0m\u001b[1;33m\u001b[0m\u001b[1;33m\u001b[0m\u001b[0m\n\u001b[1;32m---> 10\u001b[1;33m \u001b[1;32mfrom\u001b[0m \u001b[0mkeras\u001b[0m\u001b[1;33m.\u001b[0m\u001b[0mpreprocessing\u001b[0m\u001b[1;33m.\u001b[0m\u001b[0msequence\u001b[0m \u001b[1;32mimport\u001b[0m \u001b[0mTimeseriesGenerator\u001b[0m\u001b[1;33m\u001b[0m\u001b[1;33m\u001b[0m\u001b[0m\n\u001b[0m\u001b[0;32m     11\u001b[0m \u001b[1;32mfrom\u001b[0m \u001b[0msklearn\u001b[0m\u001b[1;33m.\u001b[0m\u001b[0mpreprocessing\u001b[0m \u001b[1;32mimport\u001b[0m \u001b[0mMinMaxScaler\u001b[0m\u001b[1;33m,\u001b[0m \u001b[0mStandardScaler\u001b[0m\u001b[1;33m\u001b[0m\u001b[1;33m\u001b[0m\u001b[0m\n\u001b[0;32m     12\u001b[0m \u001b[1;32mimport\u001b[0m \u001b[0mtensorflow\u001b[0m \u001b[1;32mas\u001b[0m \u001b[0mtf\u001b[0m\u001b[1;33m\u001b[0m\u001b[1;33m\u001b[0m\u001b[0m\n",
      "\u001b[1;32m~\\anaconda3\\lib\\site-packages\\keras\\__init__.py\u001b[0m in \u001b[0;36m<module>\u001b[1;34m\u001b[0m\n\u001b[0;32m      3\u001b[0m     \u001b[1;32mfrom\u001b[0m \u001b[0mtensorflow\u001b[0m\u001b[1;33m.\u001b[0m\u001b[0mkeras\u001b[0m\u001b[1;33m.\u001b[0m\u001b[0mlayers\u001b[0m\u001b[1;33m.\u001b[0m\u001b[0mexperimental\u001b[0m\u001b[1;33m.\u001b[0m\u001b[0mpreprocessing\u001b[0m \u001b[1;32mimport\u001b[0m \u001b[0mRandomRotation\u001b[0m\u001b[1;33m\u001b[0m\u001b[1;33m\u001b[0m\u001b[0m\n\u001b[0;32m      4\u001b[0m \u001b[1;32mexcept\u001b[0m \u001b[0mImportError\u001b[0m\u001b[1;33m:\u001b[0m\u001b[1;33m\u001b[0m\u001b[1;33m\u001b[0m\u001b[0m\n\u001b[1;32m----> 5\u001b[1;33m     raise ImportError(\n\u001b[0m\u001b[0;32m      6\u001b[0m         \u001b[1;34m'Keras requires TensorFlow 2.2 or higher. '\u001b[0m\u001b[1;33m\u001b[0m\u001b[1;33m\u001b[0m\u001b[0m\n\u001b[0;32m      7\u001b[0m         'Install TensorFlow via `pip install tensorflow`')\n",
      "\u001b[1;31mImportError\u001b[0m: Keras requires TensorFlow 2.2 or higher. Install TensorFlow via `pip install tensorflow`"
     ]
    }
   ],
   "source": [
    "import numpy as np\n",
    "import matplotlib.pyplot as plt\n",
    "import pandas as pd\n",
    "\n",
    "\n",
    "\n",
    "import matplotlib as mpl\n",
    "\n",
    "from sklearn.model_selection import train_test_split\n",
    "from keras.preprocessing.sequence import TimeseriesGenerator\n",
    "from sklearn.preprocessing import MinMaxScaler, StandardScaler\n",
    "import tensorflow as tf\n",
    "\n",
    "mpl.rcParams['figure.figsize']=[10,8]\n",
    "mpl.rcParams['axes.grid']=False"
   ]
  },
  {
   "cell_type": "markdown",
   "metadata": {
    "id": "qo4eBVStxB1N"
   },
   "source": [
    "## 1. Variance Threshold"
   ]
  },
  {
   "cell_type": "code",
   "execution_count": 19,
   "metadata": {
    "id": "mZtVwaMYvwgs"
   },
   "outputs": [],
   "source": [
    "from sklearn.feature_selection import VarianceThreshold"
   ]
  },
  {
   "cell_type": "code",
   "execution_count": 22,
   "metadata": {
    "colab": {
     "base_uri": "https://localhost:8080/",
     "height": 282
    },
    "id": "cUnJ1Ce7xNWG",
    "outputId": "3d787fbf-595d-4884-cb6c-b588ae1f06cb"
   },
   "outputs": [
    {
     "ename": "NameError",
     "evalue": "name 'MinMaxScaler' is not defined",
     "output_type": "error",
     "traceback": [
      "\u001b[1;31m---------------------------------------------------------------------------\u001b[0m",
      "\u001b[1;31mNameError\u001b[0m                                 Traceback (most recent call last)",
      "\u001b[1;32m<ipython-input-22-0fec2e743016>\u001b[0m in \u001b[0;36m<module>\u001b[1;34m\u001b[0m\n\u001b[0;32m     36\u001b[0m \u001b[0my\u001b[0m \u001b[1;33m=\u001b[0m \u001b[0mdf\u001b[0m\u001b[1;33m[\u001b[0m\u001b[1;34m\"Température d'air\"\u001b[0m\u001b[1;33m]\u001b[0m\u001b[1;33m\u001b[0m\u001b[1;33m\u001b[0m\u001b[0m\n\u001b[0;32m     37\u001b[0m \u001b[1;33m\u001b[0m\u001b[0m\n\u001b[1;32m---> 38\u001b[1;33m \u001b[0mscaler\u001b[0m\u001b[1;33m=\u001b[0m\u001b[0mMinMaxScaler\u001b[0m\u001b[1;33m(\u001b[0m\u001b[1;33m)\u001b[0m\u001b[1;33m\u001b[0m\u001b[1;33m\u001b[0m\u001b[0m\n\u001b[0m\u001b[0;32m     39\u001b[0m \u001b[0mdata_scaled\u001b[0m\u001b[1;33m=\u001b[0m\u001b[0mscaler\u001b[0m\u001b[1;33m.\u001b[0m\u001b[0mfit_transform\u001b[0m\u001b[1;33m(\u001b[0m\u001b[0mX\u001b[0m\u001b[1;33m)\u001b[0m\u001b[1;33m\u001b[0m\u001b[1;33m\u001b[0m\u001b[0m\n\u001b[0;32m     40\u001b[0m \u001b[1;33m\u001b[0m\u001b[0m\n",
      "\u001b[1;31mNameError\u001b[0m: name 'MinMaxScaler' is not defined"
     ]
    }
   ],
   "source": [
    "from sklearn.datasets import load_iris\n",
    "# importer la base de données\n",
    "db =pd.read_csv('Tout.csv', sep=\";\" ,encoding = \"ISO-8859-1\")\n",
    "db=db.drop(['Température Sèche Air Extérieur'],axis=1)\n",
    "db_Meteo =pd.read_csv('Meteo2002.csv', sep=\";\" ,encoding = \"ISO-8859-1\")\n",
    "db=db.stack().str.replace(',','.').unstack()\n",
    "db_Meteo=db_Meteo.stack().str.replace(',','.').unstack()\n",
    "db1=pd.merge(db_Meteo,db, on='Date/Heure')\n",
    "\n",
    "db1=db1.drop(['Date/Heure'],axis=1)\n",
    "db_date=db['Date/Heure']\n",
    "db1=db1.iloc[1:]\n",
    "db1.iloc[:,:] = db1.iloc[:,:].astype(float)\n",
    "\n",
    "# periode avril octobre\n",
    "db1=db1[2200:6600]\n",
    "\n",
    "# préparation de la base de données\n",
    "target=\"Température d'air\"\n",
    "df=db1.iloc[:,[0,1,2,3,4,5,13,15,21,24]]\n",
    "df=db1\n",
    "df['Date']=db['Date/Heure']\n",
    "#X=db.drop([target],axis=1)\n",
    "iris = load_iris()\n",
    "X = df[[ 'Température Sèche Air Extérieur',\n",
    "       'Température Point de rosée Air Extérieur', 'Solaire Direct Normal',\n",
    "       'Solaire Diffus Horizontal', 'Vitesse Vent', 'Direction Vent',\n",
    "       'Pression Atmosphérique', 'Altitude Solaire', 'Azimut Solaire',\n",
    "       'Vitrage', 'Murs', 'Planchers sur terre-plein', 'Toits',\n",
    "       'Vent Méca + Vent Nat Ext + Infiltration', 'Infiltration extérieure',\n",
    "       'Chauffage de zone', 'Eclairage général', 'Informatiques + Equip.',\n",
    "       'Occupation', 'Apports solaires Fenêtres extérieures',\n",
    "       'Chaleur sensible zone', 'Température radiante',\n",
    "       'Température opérative', 'Electricité pour la zone', 'Eclairage',\n",
    "       'Chauffage (Gaz)', 'ECS (Gaz)']]\n",
    "y = df[\"Température d'air\"]\n",
    "\n",
    "scaler=MinMaxScaler()\n",
    "data_scaled=scaler.fit_transform(X)\n",
    "\n",
    "plt.plot(X)\n",
    "plt.legend()"
   ]
  },
  {
   "cell_type": "code",
   "execution_count": 8,
   "metadata": {
    "colab": {
     "base_uri": "https://localhost:8080/"
    },
    "id": "N16z31mtxa70",
    "outputId": "f67c28da-4450-4abd-924a-d4598e912f71"
   },
   "outputs": [
    {
     "data": {
      "text/plain": [
       "Température Sèche Air Extérieur                 27.064851\n",
       "Température Point de rosée Air Extérieur        15.073822\n",
       "Solaire Direct Normal                            0.053486\n",
       "Solaire Diffus Horizontal                        0.015659\n",
       "Vitesse Vent                                     3.753340\n",
       "Direction Vent                               11968.589441\n",
       "Pression Atmosphérique                      411248.951725\n",
       "Altitude Solaire                               896.129532\n",
       "Azimut Solaire                               11639.453561\n",
       "Vitrage                                          0.026032\n",
       "Murs                                             0.410103\n",
       "Planchers sur terre-plein                        0.076169\n",
       "Toits                                            0.039859\n",
       "Vent Méca + Vent Nat Ext + Infiltration          6.422810\n",
       "Infiltration extérieure                          0.585837\n",
       "Chauffage de zone                                0.000004\n",
       "Eclairage général                                0.330927\n",
       "Informatiques + Equip.                           0.067833\n",
       "Occupation                                       0.007485\n",
       "Apports solaires Fenêtres extérieures            0.486406\n",
       "Chaleur sensible zone                            0.000005\n",
       "Température radiante                            20.940534\n",
       "Température opérative                           22.181890\n",
       "Electricité pour la zone                         0.067833\n",
       "Eclairage                                        0.330927\n",
       "Chauffage (Gaz)                                  0.000009\n",
       "ECS (Gaz)                                        0.001746\n",
       "dtype: float64"
      ]
     },
     "execution_count": 8,
     "metadata": {},
     "output_type": "execute_result"
    }
   ],
   "source": [
    "X.var(axis=0)"
   ]
  },
  {
   "cell_type": "code",
   "execution_count": 9,
   "metadata": {
    "colab": {
     "base_uri": "https://localhost:8080/"
    },
    "id": "v22pDx0UxQsd",
    "outputId": "a8b6af42-0982-4932-e821-320b2e824a9a"
   },
   "outputs": [
    {
     "data": {
      "text/plain": [
       "VarianceThreshold(threshold=0.2)"
      ]
     },
     "execution_count": 9,
     "metadata": {},
     "output_type": "execute_result"
    }
   ],
   "source": [
    "selector = VarianceThreshold(threshold=0.2)\n",
    "selector.fit(X)"
   ]
  },
  {
   "cell_type": "code",
   "execution_count": 10,
   "metadata": {
    "colab": {
     "base_uri": "https://localhost:8080/"
    },
    "id": "mq6ci-8IxSW9",
    "outputId": "08db4096-6923-4aae-a3db-0f53d0375d0c"
   },
   "outputs": [
    {
     "data": {
      "text/plain": [
       "array([ True,  True, False, False,  True,  True,  True,  True,  True,\n",
       "       False,  True, False, False,  True,  True, False,  True, False,\n",
       "       False,  True, False,  True,  True, False,  True, False, False])"
      ]
     },
     "execution_count": 10,
     "metadata": {},
     "output_type": "execute_result"
    }
   ],
   "source": [
    "selector.get_support()"
   ]
  },
  {
   "cell_type": "code",
   "execution_count": 12,
   "metadata": {
    "colab": {
     "base_uri": "https://localhost:8080/",
     "height": 51
    },
    "id": "sJ3cxjQExU2h",
    "outputId": "c86d48b2-b3e0-4082-b599-d4b53e2d4f77"
   },
   "outputs": [
    {
     "ename": "NameError",
     "evalue": "name 'x' is not defined",
     "output_type": "error",
     "traceback": [
      "\u001b[1;31m---------------------------------------------------------------------------\u001b[0m",
      "\u001b[1;31mNameError\u001b[0m                                 Traceback (most recent call last)",
      "\u001b[1;32m<ipython-input-12-b2eb52a85c5b>\u001b[0m in \u001b[0;36m<module>\u001b[1;34m\u001b[0m\n\u001b[1;32m----> 1\u001b[1;33m \u001b[0mnp\u001b[0m\u001b[1;33m.\u001b[0m\u001b[0marray\u001b[0m\u001b[1;33m(\u001b[0m\u001b[0mx\u001b[0m\u001b[1;33m)\u001b[0m\u001b[1;33m[\u001b[0m\u001b[0mselector\u001b[0m\u001b[1;33m.\u001b[0m\u001b[0mget_support\u001b[0m\u001b[1;33m(\u001b[0m\u001b[1;33m)\u001b[0m\u001b[1;33m]\u001b[0m\u001b[1;33m\u001b[0m\u001b[1;33m\u001b[0m\u001b[0m\n\u001b[0m",
      "\u001b[1;31mNameError\u001b[0m: name 'x' is not defined"
     ]
    }
   ],
   "source": [
    "np.array(x)[selector.get_support()]"
   ]
  },
  {
   "cell_type": "code",
   "execution_count": 13,
   "metadata": {
    "colab": {
     "base_uri": "https://localhost:8080/",
     "height": 34
    },
    "id": "Mm-aEqZKxWOF",
    "outputId": "285fc652-b53c-40c7-d480-e0a81d8706d3"
   },
   "outputs": [
    {
     "data": {
      "text/plain": [
       "array([2.70587003e+01, 1.50703958e+01, 5.34737695e-02, 1.56554885e-02,\n",
       "       3.75248723e+00, 1.19658693e+04, 4.11155486e+05, 8.95925866e+02,\n",
       "       1.16368082e+04, 2.60256262e-02, 4.10009303e-01, 7.61513605e-02,\n",
       "       3.98502713e-02, 6.42135002e+00, 5.85703924e-01, 3.75346462e-06,\n",
       "       3.30852198e-01, 6.78178369e-02, 7.48311633e-03, 4.86294992e-01,\n",
       "       5.20280846e-06, 2.09357745e+01, 2.21768491e+01, 6.78178369e-02,\n",
       "       3.30852198e-01, 8.88390605e-06, 1.74534031e-03])"
      ]
     },
     "execution_count": 13,
     "metadata": {},
     "output_type": "execute_result"
    }
   ],
   "source": [
    "selector.variances_"
   ]
  },
  {
   "cell_type": "markdown",
   "metadata": {
    "id": "7znIa48Sxfu5"
   },
   "source": [
    "## 2. SelectKBest"
   ]
  },
  {
   "cell_type": "code",
   "execution_count": 14,
   "metadata": {
    "id": "G4g8vA2oxcV8"
   },
   "outputs": [],
   "source": [
    "from sklearn.feature_selection import SelectKBest, chi2, f_classif"
   ]
  },
  {
   "cell_type": "code",
   "execution_count": 15,
   "metadata": {
    "colab": {
     "base_uri": "https://localhost:8080/",
     "height": 51
    },
    "id": "tBCK6Bb6xxUK",
    "outputId": "f029bed8-de65-474e-adbf-4c2aa0eb738b"
   },
   "outputs": [
    {
     "ename": "ValueError",
     "evalue": "Input X must be non-negative.",
     "output_type": "error",
     "traceback": [
      "\u001b[1;31m---------------------------------------------------------------------------\u001b[0m",
      "\u001b[1;31mValueError\u001b[0m                                Traceback (most recent call last)",
      "\u001b[1;32m<ipython-input-15-09fc72a6f0d2>\u001b[0m in \u001b[0;36m<module>\u001b[1;34m\u001b[0m\n\u001b[1;32m----> 1\u001b[1;33m \u001b[0mchi2\u001b[0m\u001b[1;33m(\u001b[0m\u001b[0mX\u001b[0m\u001b[1;33m,\u001b[0m \u001b[0my\u001b[0m\u001b[1;33m)\u001b[0m\u001b[1;33m\u001b[0m\u001b[1;33m\u001b[0m\u001b[0m\n\u001b[0m",
      "\u001b[1;32m~\\anaconda3\\lib\\site-packages\\sklearn\\feature_selection\\_univariate_selection.py\u001b[0m in \u001b[0;36mchi2\u001b[1;34m(X, y)\u001b[0m\n\u001b[0;32m    215\u001b[0m     \u001b[0mX\u001b[0m \u001b[1;33m=\u001b[0m \u001b[0mcheck_array\u001b[0m\u001b[1;33m(\u001b[0m\u001b[0mX\u001b[0m\u001b[1;33m,\u001b[0m \u001b[0maccept_sparse\u001b[0m\u001b[1;33m=\u001b[0m\u001b[1;34m'csr'\u001b[0m\u001b[1;33m)\u001b[0m\u001b[1;33m\u001b[0m\u001b[1;33m\u001b[0m\u001b[0m\n\u001b[0;32m    216\u001b[0m     \u001b[1;32mif\u001b[0m \u001b[0mnp\u001b[0m\u001b[1;33m.\u001b[0m\u001b[0many\u001b[0m\u001b[1;33m(\u001b[0m\u001b[1;33m(\u001b[0m\u001b[0mX\u001b[0m\u001b[1;33m.\u001b[0m\u001b[0mdata\u001b[0m \u001b[1;32mif\u001b[0m \u001b[0missparse\u001b[0m\u001b[1;33m(\u001b[0m\u001b[0mX\u001b[0m\u001b[1;33m)\u001b[0m \u001b[1;32melse\u001b[0m \u001b[0mX\u001b[0m\u001b[1;33m)\u001b[0m \u001b[1;33m<\u001b[0m \u001b[1;36m0\u001b[0m\u001b[1;33m)\u001b[0m\u001b[1;33m:\u001b[0m\u001b[1;33m\u001b[0m\u001b[1;33m\u001b[0m\u001b[0m\n\u001b[1;32m--> 217\u001b[1;33m         \u001b[1;32mraise\u001b[0m \u001b[0mValueError\u001b[0m\u001b[1;33m(\u001b[0m\u001b[1;34m\"Input X must be non-negative.\"\u001b[0m\u001b[1;33m)\u001b[0m\u001b[1;33m\u001b[0m\u001b[1;33m\u001b[0m\u001b[0m\n\u001b[0m\u001b[0;32m    218\u001b[0m \u001b[1;33m\u001b[0m\u001b[0m\n\u001b[0;32m    219\u001b[0m     \u001b[0mY\u001b[0m \u001b[1;33m=\u001b[0m \u001b[0mLabelBinarizer\u001b[0m\u001b[1;33m(\u001b[0m\u001b[1;33m)\u001b[0m\u001b[1;33m.\u001b[0m\u001b[0mfit_transform\u001b[0m\u001b[1;33m(\u001b[0m\u001b[0my\u001b[0m\u001b[1;33m)\u001b[0m\u001b[1;33m\u001b[0m\u001b[1;33m\u001b[0m\u001b[0m\n",
      "\u001b[1;31mValueError\u001b[0m: Input X must be non-negative."
     ]
    }
   ],
   "source": [
    "chi2(X, y)"
   ]
  },
  {
   "cell_type": "code",
   "execution_count": null,
   "metadata": {
    "colab": {
     "base_uri": "https://localhost:8080/",
     "height": 34
    },
    "id": "VypJt69yxyQx",
    "outputId": "38cf9486-d8f3-46ba-8f7d-849c3ac059d1"
   },
   "outputs": [
    {
     "data": {
      "text/plain": [
       "array([ 119.26450218,   49.16004009, 1180.16118225,  960.0071468 ])"
      ]
     },
     "execution_count": 19,
     "metadata": {
      "tags": []
     },
     "output_type": "execute_result"
    }
   ],
   "source": [
    "selector = SelectKBest(f_classif, k=2)\n",
    "selector.fit(X, y)\n",
    "selector.scores_"
   ]
  },
  {
   "cell_type": "code",
   "execution_count": 16,
   "metadata": {},
   "outputs": [
    {
     "data": {
      "text/html": [
       "<div>\n",
       "<style scoped>\n",
       "    .dataframe tbody tr th:only-of-type {\n",
       "        vertical-align: middle;\n",
       "    }\n",
       "\n",
       "    .dataframe tbody tr th {\n",
       "        vertical-align: top;\n",
       "    }\n",
       "\n",
       "    .dataframe thead th {\n",
       "        text-align: right;\n",
       "    }\n",
       "</style>\n",
       "<table border=\"1\" class=\"dataframe\">\n",
       "  <thead>\n",
       "    <tr style=\"text-align: right;\">\n",
       "      <th></th>\n",
       "      <th>Température Sèche Air Extérieur</th>\n",
       "      <th>Température Point de rosée Air Extérieur</th>\n",
       "      <th>Solaire Direct Normal</th>\n",
       "      <th>Solaire Diffus Horizontal</th>\n",
       "      <th>Vitesse Vent</th>\n",
       "      <th>Direction Vent</th>\n",
       "      <th>Pression Atmosphérique</th>\n",
       "      <th>Altitude Solaire</th>\n",
       "      <th>Azimut Solaire</th>\n",
       "      <th>Vitrage</th>\n",
       "      <th>...</th>\n",
       "      <th>Informatiques + Equip.</th>\n",
       "      <th>Occupation</th>\n",
       "      <th>Apports solaires Fenêtres extérieures</th>\n",
       "      <th>Chaleur sensible zone</th>\n",
       "      <th>Température radiante</th>\n",
       "      <th>Température opérative</th>\n",
       "      <th>Electricité pour la zone</th>\n",
       "      <th>Eclairage</th>\n",
       "      <th>Chauffage (Gaz)</th>\n",
       "      <th>ECS (Gaz)</th>\n",
       "    </tr>\n",
       "  </thead>\n",
       "  <tbody>\n",
       "    <tr>\n",
       "      <th>2201</th>\n",
       "      <td>18.825</td>\n",
       "      <td>10.850</td>\n",
       "      <td>0.57175</td>\n",
       "      <td>0.11650</td>\n",
       "      <td>2.100</td>\n",
       "      <td>75.0</td>\n",
       "      <td>102325.0</td>\n",
       "      <td>27.406860</td>\n",
       "      <td>244.7405</td>\n",
       "      <td>0.011953</td>\n",
       "      <td>...</td>\n",
       "      <td>0.564960</td>\n",
       "      <td>0.161021</td>\n",
       "      <td>1.235315</td>\n",
       "      <td>0.0</td>\n",
       "      <td>26.99471</td>\n",
       "      <td>26.34998</td>\n",
       "      <td>0.564960</td>\n",
       "      <td>1.2</td>\n",
       "      <td>0.0</td>\n",
       "      <td>0.052399</td>\n",
       "    </tr>\n",
       "    <tr>\n",
       "      <th>2202</th>\n",
       "      <td>19.000</td>\n",
       "      <td>10.250</td>\n",
       "      <td>0.31750</td>\n",
       "      <td>0.10600</td>\n",
       "      <td>2.100</td>\n",
       "      <td>65.0</td>\n",
       "      <td>102300.0</td>\n",
       "      <td>17.792920</td>\n",
       "      <td>257.1830</td>\n",
       "      <td>-0.085894</td>\n",
       "      <td>...</td>\n",
       "      <td>0.564960</td>\n",
       "      <td>0.081274</td>\n",
       "      <td>0.587633</td>\n",
       "      <td>0.0</td>\n",
       "      <td>26.63808</td>\n",
       "      <td>25.96713</td>\n",
       "      <td>0.564960</td>\n",
       "      <td>1.2</td>\n",
       "      <td>0.0</td>\n",
       "      <td>0.026199</td>\n",
       "    </tr>\n",
       "    <tr>\n",
       "      <th>2203</th>\n",
       "      <td>17.575</td>\n",
       "      <td>10.375</td>\n",
       "      <td>0.07275</td>\n",
       "      <td>0.05425</td>\n",
       "      <td>2.850</td>\n",
       "      <td>52.5</td>\n",
       "      <td>102300.0</td>\n",
       "      <td>7.702302</td>\n",
       "      <td>268.5235</td>\n",
       "      <td>-0.194886</td>\n",
       "      <td>...</td>\n",
       "      <td>0.564960</td>\n",
       "      <td>0.000000</td>\n",
       "      <td>0.191388</td>\n",
       "      <td>0.0</td>\n",
       "      <td>25.96367</td>\n",
       "      <td>26.43336</td>\n",
       "      <td>0.564960</td>\n",
       "      <td>0.0</td>\n",
       "      <td>0.0</td>\n",
       "      <td>0.000000</td>\n",
       "    </tr>\n",
       "    <tr>\n",
       "      <th>2204</th>\n",
       "      <td>15.525</td>\n",
       "      <td>10.125</td>\n",
       "      <td>0.00000</td>\n",
       "      <td>0.00350</td>\n",
       "      <td>2.350</td>\n",
       "      <td>50.0</td>\n",
       "      <td>102225.0</td>\n",
       "      <td>-2.442530</td>\n",
       "      <td>279.5419</td>\n",
       "      <td>-0.263089</td>\n",
       "      <td>...</td>\n",
       "      <td>0.030474</td>\n",
       "      <td>0.000000</td>\n",
       "      <td>0.011095</td>\n",
       "      <td>0.0</td>\n",
       "      <td>25.53827</td>\n",
       "      <td>25.68972</td>\n",
       "      <td>0.030474</td>\n",
       "      <td>0.0</td>\n",
       "      <td>0.0</td>\n",
       "      <td>0.000000</td>\n",
       "    </tr>\n",
       "    <tr>\n",
       "      <th>2205</th>\n",
       "      <td>14.250</td>\n",
       "      <td>10.000</td>\n",
       "      <td>0.00000</td>\n",
       "      <td>0.00000</td>\n",
       "      <td>2.100</td>\n",
       "      <td>50.0</td>\n",
       "      <td>102200.0</td>\n",
       "      <td>-12.255780</td>\n",
       "      <td>290.9393</td>\n",
       "      <td>-0.271296</td>\n",
       "      <td>...</td>\n",
       "      <td>0.030474</td>\n",
       "      <td>0.000000</td>\n",
       "      <td>0.000000</td>\n",
       "      <td>0.0</td>\n",
       "      <td>25.06131</td>\n",
       "      <td>25.17992</td>\n",
       "      <td>0.030474</td>\n",
       "      <td>0.0</td>\n",
       "      <td>0.0</td>\n",
       "      <td>0.000000</td>\n",
       "    </tr>\n",
       "    <tr>\n",
       "      <th>...</th>\n",
       "      <td>...</td>\n",
       "      <td>...</td>\n",
       "      <td>...</td>\n",
       "      <td>...</td>\n",
       "      <td>...</td>\n",
       "      <td>...</td>\n",
       "      <td>...</td>\n",
       "      <td>...</td>\n",
       "      <td>...</td>\n",
       "      <td>...</td>\n",
       "      <td>...</td>\n",
       "      <td>...</td>\n",
       "      <td>...</td>\n",
       "      <td>...</td>\n",
       "      <td>...</td>\n",
       "      <td>...</td>\n",
       "      <td>...</td>\n",
       "      <td>...</td>\n",
       "      <td>...</td>\n",
       "      <td>...</td>\n",
       "      <td>...</td>\n",
       "    </tr>\n",
       "    <tr>\n",
       "      <th>6596</th>\n",
       "      <td>14.150</td>\n",
       "      <td>9.050</td>\n",
       "      <td>0.00000</td>\n",
       "      <td>0.00000</td>\n",
       "      <td>1.000</td>\n",
       "      <td>300.0</td>\n",
       "      <td>102075.0</td>\n",
       "      <td>-10.716570</td>\n",
       "      <td>276.8122</td>\n",
       "      <td>-0.503334</td>\n",
       "      <td>...</td>\n",
       "      <td>0.030474</td>\n",
       "      <td>0.000000</td>\n",
       "      <td>0.000000</td>\n",
       "      <td>0.0</td>\n",
       "      <td>35.40811</td>\n",
       "      <td>35.63526</td>\n",
       "      <td>0.030474</td>\n",
       "      <td>0.0</td>\n",
       "      <td>0.0</td>\n",
       "      <td>0.000000</td>\n",
       "    </tr>\n",
       "    <tr>\n",
       "      <th>6597</th>\n",
       "      <td>12.500</td>\n",
       "      <td>9.000</td>\n",
       "      <td>0.00000</td>\n",
       "      <td>0.00000</td>\n",
       "      <td>1.375</td>\n",
       "      <td>330.0</td>\n",
       "      <td>102175.0</td>\n",
       "      <td>-20.639460</td>\n",
       "      <td>288.4937</td>\n",
       "      <td>-0.516947</td>\n",
       "      <td>...</td>\n",
       "      <td>0.030474</td>\n",
       "      <td>0.000000</td>\n",
       "      <td>0.000000</td>\n",
       "      <td>0.0</td>\n",
       "      <td>34.82288</td>\n",
       "      <td>34.80791</td>\n",
       "      <td>0.030474</td>\n",
       "      <td>0.0</td>\n",
       "      <td>0.0</td>\n",
       "      <td>0.000000</td>\n",
       "    </tr>\n",
       "    <tr>\n",
       "      <th>6598</th>\n",
       "      <td>11.100</td>\n",
       "      <td>8.775</td>\n",
       "      <td>0.00000</td>\n",
       "      <td>0.00000</td>\n",
       "      <td>1.950</td>\n",
       "      <td>347.5</td>\n",
       "      <td>102275.0</td>\n",
       "      <td>-29.854850</td>\n",
       "      <td>301.5878</td>\n",
       "      <td>-0.534055</td>\n",
       "      <td>...</td>\n",
       "      <td>0.030474</td>\n",
       "      <td>0.000000</td>\n",
       "      <td>0.000000</td>\n",
       "      <td>0.0</td>\n",
       "      <td>34.35482</td>\n",
       "      <td>34.21919</td>\n",
       "      <td>0.030474</td>\n",
       "      <td>0.0</td>\n",
       "      <td>0.0</td>\n",
       "      <td>0.000000</td>\n",
       "    </tr>\n",
       "    <tr>\n",
       "      <th>6599</th>\n",
       "      <td>10.950</td>\n",
       "      <td>8.925</td>\n",
       "      <td>0.00000</td>\n",
       "      <td>0.00000</td>\n",
       "      <td>1.650</td>\n",
       "      <td>177.5</td>\n",
       "      <td>102300.0</td>\n",
       "      <td>-37.732440</td>\n",
       "      <td>316.9678</td>\n",
       "      <td>-0.524932</td>\n",
       "      <td>...</td>\n",
       "      <td>0.030474</td>\n",
       "      <td>0.000000</td>\n",
       "      <td>0.000000</td>\n",
       "      <td>0.0</td>\n",
       "      <td>34.00556</td>\n",
       "      <td>33.87723</td>\n",
       "      <td>0.030474</td>\n",
       "      <td>0.0</td>\n",
       "      <td>0.0</td>\n",
       "      <td>0.000000</td>\n",
       "    </tr>\n",
       "    <tr>\n",
       "      <th>6600</th>\n",
       "      <td>10.250</td>\n",
       "      <td>9.000</td>\n",
       "      <td>0.00000</td>\n",
       "      <td>0.00000</td>\n",
       "      <td>1.950</td>\n",
       "      <td>330.0</td>\n",
       "      <td>102375.0</td>\n",
       "      <td>-43.412260</td>\n",
       "      <td>335.2629</td>\n",
       "      <td>-0.534308</td>\n",
       "      <td>...</td>\n",
       "      <td>0.030474</td>\n",
       "      <td>0.000000</td>\n",
       "      <td>0.000000</td>\n",
       "      <td>0.0</td>\n",
       "      <td>33.69654</td>\n",
       "      <td>33.56775</td>\n",
       "      <td>0.030474</td>\n",
       "      <td>0.0</td>\n",
       "      <td>0.0</td>\n",
       "      <td>0.000000</td>\n",
       "    </tr>\n",
       "  </tbody>\n",
       "</table>\n",
       "<p>4400 rows × 27 columns</p>\n",
       "</div>"
      ],
      "text/plain": [
       "      Température Sèche Air Extérieur  \\\n",
       "2201                           18.825   \n",
       "2202                           19.000   \n",
       "2203                           17.575   \n",
       "2204                           15.525   \n",
       "2205                           14.250   \n",
       "...                               ...   \n",
       "6596                           14.150   \n",
       "6597                           12.500   \n",
       "6598                           11.100   \n",
       "6599                           10.950   \n",
       "6600                           10.250   \n",
       "\n",
       "      Température Point de rosée Air Extérieur  Solaire Direct Normal  \\\n",
       "2201                                    10.850                0.57175   \n",
       "2202                                    10.250                0.31750   \n",
       "2203                                    10.375                0.07275   \n",
       "2204                                    10.125                0.00000   \n",
       "2205                                    10.000                0.00000   \n",
       "...                                        ...                    ...   \n",
       "6596                                     9.050                0.00000   \n",
       "6597                                     9.000                0.00000   \n",
       "6598                                     8.775                0.00000   \n",
       "6599                                     8.925                0.00000   \n",
       "6600                                     9.000                0.00000   \n",
       "\n",
       "      Solaire Diffus Horizontal  Vitesse Vent  Direction Vent  \\\n",
       "2201                    0.11650         2.100            75.0   \n",
       "2202                    0.10600         2.100            65.0   \n",
       "2203                    0.05425         2.850            52.5   \n",
       "2204                    0.00350         2.350            50.0   \n",
       "2205                    0.00000         2.100            50.0   \n",
       "...                         ...           ...             ...   \n",
       "6596                    0.00000         1.000           300.0   \n",
       "6597                    0.00000         1.375           330.0   \n",
       "6598                    0.00000         1.950           347.5   \n",
       "6599                    0.00000         1.650           177.5   \n",
       "6600                    0.00000         1.950           330.0   \n",
       "\n",
       "      Pression Atmosphérique  Altitude Solaire  Azimut Solaire   Vitrage  ...  \\\n",
       "2201                102325.0         27.406860        244.7405  0.011953  ...   \n",
       "2202                102300.0         17.792920        257.1830 -0.085894  ...   \n",
       "2203                102300.0          7.702302        268.5235 -0.194886  ...   \n",
       "2204                102225.0         -2.442530        279.5419 -0.263089  ...   \n",
       "2205                102200.0        -12.255780        290.9393 -0.271296  ...   \n",
       "...                      ...               ...             ...       ...  ...   \n",
       "6596                102075.0        -10.716570        276.8122 -0.503334  ...   \n",
       "6597                102175.0        -20.639460        288.4937 -0.516947  ...   \n",
       "6598                102275.0        -29.854850        301.5878 -0.534055  ...   \n",
       "6599                102300.0        -37.732440        316.9678 -0.524932  ...   \n",
       "6600                102375.0        -43.412260        335.2629 -0.534308  ...   \n",
       "\n",
       "      Informatiques + Equip.  Occupation  \\\n",
       "2201                0.564960    0.161021   \n",
       "2202                0.564960    0.081274   \n",
       "2203                0.564960    0.000000   \n",
       "2204                0.030474    0.000000   \n",
       "2205                0.030474    0.000000   \n",
       "...                      ...         ...   \n",
       "6596                0.030474    0.000000   \n",
       "6597                0.030474    0.000000   \n",
       "6598                0.030474    0.000000   \n",
       "6599                0.030474    0.000000   \n",
       "6600                0.030474    0.000000   \n",
       "\n",
       "      Apports solaires Fenêtres extérieures  Chaleur sensible zone  \\\n",
       "2201                               1.235315                    0.0   \n",
       "2202                               0.587633                    0.0   \n",
       "2203                               0.191388                    0.0   \n",
       "2204                               0.011095                    0.0   \n",
       "2205                               0.000000                    0.0   \n",
       "...                                     ...                    ...   \n",
       "6596                               0.000000                    0.0   \n",
       "6597                               0.000000                    0.0   \n",
       "6598                               0.000000                    0.0   \n",
       "6599                               0.000000                    0.0   \n",
       "6600                               0.000000                    0.0   \n",
       "\n",
       "      Température radiante  Température opérative  Electricité pour la zone  \\\n",
       "2201              26.99471               26.34998                  0.564960   \n",
       "2202              26.63808               25.96713                  0.564960   \n",
       "2203              25.96367               26.43336                  0.564960   \n",
       "2204              25.53827               25.68972                  0.030474   \n",
       "2205              25.06131               25.17992                  0.030474   \n",
       "...                    ...                    ...                       ...   \n",
       "6596              35.40811               35.63526                  0.030474   \n",
       "6597              34.82288               34.80791                  0.030474   \n",
       "6598              34.35482               34.21919                  0.030474   \n",
       "6599              34.00556               33.87723                  0.030474   \n",
       "6600              33.69654               33.56775                  0.030474   \n",
       "\n",
       "      Eclairage  Chauffage (Gaz)  ECS (Gaz)  \n",
       "2201        1.2              0.0   0.052399  \n",
       "2202        1.2              0.0   0.026199  \n",
       "2203        0.0              0.0   0.000000  \n",
       "2204        0.0              0.0   0.000000  \n",
       "2205        0.0              0.0   0.000000  \n",
       "...         ...              ...        ...  \n",
       "6596        0.0              0.0   0.000000  \n",
       "6597        0.0              0.0   0.000000  \n",
       "6598        0.0              0.0   0.000000  \n",
       "6599        0.0              0.0   0.000000  \n",
       "6600        0.0              0.0   0.000000  \n",
       "\n",
       "[4400 rows x 27 columns]"
      ]
     },
     "execution_count": 16,
     "metadata": {},
     "output_type": "execute_result"
    }
   ],
   "source": [
    "X"
   ]
  },
  {
   "cell_type": "code",
   "execution_count": null,
   "metadata": {
    "colab": {
     "base_uri": "https://localhost:8080/",
     "height": 34
    },
    "id": "yk22XF0cx01W",
    "outputId": "fc338097-ecfd-4b69-84f3-636346a2d051"
   },
   "outputs": [
    {
     "data": {
      "text/plain": [
       "array(['petal length (cm)', 'petal width (cm)'], dtype='<U17')"
      ]
     },
     "execution_count": 23,
     "metadata": {
      "tags": []
     },
     "output_type": "execute_result"
    }
   ],
   "source": [
    "np.array(iris.feature_names)[selector.get_support()]"
   ]
  },
  {
   "cell_type": "markdown",
   "metadata": {
    "id": "06PFdmouyCDi"
   },
   "source": [
    "## 3. Recursive feature Elimination"
   ]
  },
  {
   "cell_type": "code",
   "execution_count": null,
   "metadata": {
    "id": "ci09C91vx8Ld"
   },
   "outputs": [],
   "source": [
    "from sklearn.feature_selection import RFECV\n",
    "from sklearn.linear_model import SGDClassifier"
   ]
  },
  {
   "cell_type": "code",
   "execution_count": null,
   "metadata": {
    "colab": {
     "base_uri": "https://localhost:8080/",
     "height": 51
    },
    "id": "_WqGRXy2yA-I",
    "outputId": "e993a244-2443-4742-b875-bac2d4a68016"
   },
   "outputs": [
    {
     "name": "stdout",
     "output_type": "stream",
     "text": [
      "[2 1 1 1]\n",
      "[0.8        0.84666667 0.77333333]\n"
     ]
    }
   ],
   "source": [
    "selector = RFECV(SGDClassifier(random_state=0), step=1, min_features_to_select=2, cv=5)\n",
    "selector.fit(X, y)\n",
    "print(selector.ranking_)\n",
    "print(selector.grid_scores_)"
   ]
  },
  {
   "cell_type": "code",
   "execution_count": null,
   "metadata": {
    "colab": {
     "base_uri": "https://localhost:8080/",
     "height": 51
    },
    "id": "MCR4s_LbyHq3",
    "outputId": "6afd2a99-5ee3-47ba-8aab-6364e61bacbf"
   },
   "outputs": [
    {
     "data": {
      "text/plain": [
       "array(['sepal width (cm)', 'petal length (cm)', 'petal width (cm)'],\n",
       "      dtype='<U17')"
      ]
     },
     "execution_count": 25,
     "metadata": {
      "tags": []
     },
     "output_type": "execute_result"
    }
   ],
   "source": [
    "np.array(iris.feature_names)[selector.get_support()]"
   ]
  },
  {
   "cell_type": "markdown",
   "metadata": {
    "id": "OTkfkAQAya9x"
   },
   "source": [
    "## 4. SelectFromModel"
   ]
  },
  {
   "cell_type": "code",
   "execution_count": null,
   "metadata": {
    "id": "TcWx2_H0yWhN"
   },
   "outputs": [],
   "source": [
    "from sklearn.feature_selection import SelectFromModel"
   ]
  },
  {
   "cell_type": "code",
   "execution_count": null,
   "metadata": {
    "colab": {
     "base_uri": "https://localhost:8080/",
     "height": 68
    },
    "id": "KutnODU6ydjo",
    "outputId": "60cd8b83-6d42-41c3-a8a5-ab26aa8b99bc"
   },
   "outputs": [
    {
     "data": {
      "text/plain": [
       "array([[  8.64029104,  27.2851296 , -40.01819009, -17.73533424],\n",
       "       [ -5.48888269, -58.79616709,  22.88584985, -54.14457159],\n",
       "       [-81.28026953, -75.17372078, 130.76437145, 131.39608339]])"
      ]
     },
     "execution_count": 27,
     "metadata": {
      "tags": []
     },
     "output_type": "execute_result"
    }
   ],
   "source": [
    "X = iris.data\n",
    "y = iris.target\n",
    "selector = SelectFromModel(SGDClassifier(random_state=0), threshold='mean')\n",
    "selector.fit(X, y)\n",
    "selector.estimator_.coef_"
   ]
  },
  {
   "cell_type": "code",
   "execution_count": null,
   "metadata": {
    "colab": {
     "base_uri": "https://localhost:8080/",
     "height": 34
    },
    "id": "34sgbtJAyelk",
    "outputId": "8909096b-afab-4c25-8c51-029f92b4ffe1"
   },
   "outputs": [
    {
     "data": {
      "text/plain": [
       "array(['petal length (cm)', 'petal width (cm)'], dtype='<U17')"
      ]
     },
     "execution_count": 29,
     "metadata": {
      "tags": []
     },
     "output_type": "execute_result"
    }
   ],
   "source": [
    "np.array(iris.feature_names)[selector.get_support()]"
   ]
  },
  {
   "cell_type": "code",
   "execution_count": null,
   "metadata": {
    "id": "CljC3bCjygMI"
   },
   "outputs": [],
   "source": []
  }
 ],
 "metadata": {
  "colab": {
   "name": "Untitled5.ipynb",
   "provenance": []
  },
  "kernelspec": {
   "display_name": "Python 3",
   "language": "python",
   "name": "python3"
  },
  "language_info": {
   "codemirror_mode": {
    "name": "ipython",
    "version": 3
   },
   "file_extension": ".py",
   "mimetype": "text/x-python",
   "name": "python",
   "nbconvert_exporter": "python",
   "pygments_lexer": "ipython3",
   "version": "3.8.5"
  }
 },
 "nbformat": 4,
 "nbformat_minor": 1
}
