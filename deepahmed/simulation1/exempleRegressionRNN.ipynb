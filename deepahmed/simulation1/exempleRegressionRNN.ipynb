{
 "cells": [
  {
   "cell_type": "code",
   "execution_count": 1,
   "id": "intermediate-poland",
   "metadata": {},
   "outputs": [
    {
     "name": "stdout",
     "output_type": "stream",
     "text": [
      "Note: not using Google CoLab\n"
     ]
    }
   ],
   "source": [
    "try:\n",
    "    %tensorflow_version 2.x\n",
    "    COLAB = True\n",
    "    print(\"Note: using Google CoLab\")\n",
    "except:\n",
    "    print(\"Note: not using Google CoLab\")\n",
    "    COLAB = False"
   ]
  },
  {
   "cell_type": "code",
   "execution_count": 2,
   "id": "conventional-grade",
   "metadata": {},
   "outputs": [],
   "source": [
    "import pandas as pd\n",
    "from scipy.stats import zscore\n",
    "from sklearn.model_selection import train_test_split\n",
    "import matplotlib.pyplot as plt\n",
    "\n",
    "# Read the data set\n",
    "df = pd.read_csv(\n",
    "    \"https://data.heatonresearch.com/data/t81-558/jh-simple-dataset.csv\",\n",
    "    na_values=['NA','?'])\n",
    "\n",
    "# Generate dummies for job\n",
    "df = pd.concat([df,pd.get_dummies(df['job'],prefix=\"job\")],axis=1)\n",
    "df.drop('job', axis=1, inplace=True)\n",
    "\n",
    "# Generate dummies for area\n",
    "df = pd.concat([df,pd.get_dummies(df['area'],prefix=\"area\")],axis=1)\n",
    "df.drop('area', axis=1, inplace=True)\n",
    "\n",
    "# Generate dummies for product\n",
    "df = pd.concat([df,pd.get_dummies(df['product'],prefix=\"product\")],axis=1)\n",
    "df.drop('product', axis=1, inplace=True)\n",
    "\n",
    "# Missing values for income\n",
    "med = df['income'].median()\n",
    "df['income'] = df['income'].fillna(med)\n",
    "\n",
    "# Standardize ranges\n",
    "df['income'] = zscore(df['income'])\n",
    "df['aspect'] = zscore(df['aspect'])\n",
    "df['save_rate'] = zscore(df['save_rate'])\n",
    "df['subscriptions'] = zscore(df['subscriptions'])\n",
    "\n",
    "# Convert to numpy - Classification\n",
    "x_columns = df.columns.drop('age').drop('id')\n",
    "x = df[x_columns].values\n",
    "y = df['age'].values\n",
    "\n",
    "# Create train/test\n",
    "x_train, x_test, y_train, y_test = train_test_split(    \n",
    "    x, y, test_size=0.25, random_state=42)"
   ]
  },
  {
   "cell_type": "code",
   "execution_count": 3,
   "id": "appointed-jonathan",
   "metadata": {},
   "outputs": [
    {
     "name": "stdout",
     "output_type": "stream",
     "text": [
      "Epoch 1/1000\n",
      "47/47 - 1s - loss: 2000.1320 - val_loss: 1774.6097\n",
      "Epoch 2/1000\n",
      "47/47 - 0s - loss: 1544.9615 - val_loss: 1226.5847\n",
      "Epoch 3/1000\n",
      "47/47 - 0s - loss: 921.4288 - val_loss: 575.7896\n",
      "Epoch 4/1000\n",
      "47/47 - 0s - loss: 395.2434 - val_loss: 277.5289\n",
      "Epoch 5/1000\n",
      "47/47 - 0s - loss: 265.7093 - val_loss: 242.4961\n",
      "Epoch 6/1000\n",
      "47/47 - 0s - loss: 232.8247 - val_loss: 212.2186\n",
      "Epoch 7/1000\n",
      "47/47 - 0s - loss: 201.3834 - val_loss: 184.1707\n",
      "Epoch 8/1000\n",
      "47/47 - 0s - loss: 172.8439 - val_loss: 158.9790\n",
      "Epoch 9/1000\n",
      "47/47 - 0s - loss: 146.3960 - val_loss: 134.3647\n",
      "Epoch 10/1000\n",
      "47/47 - 0s - loss: 121.5628 - val_loss: 110.3957\n",
      "Epoch 11/1000\n",
      "47/47 - 0s - loss: 97.3064 - val_loss: 87.8414\n",
      "Epoch 12/1000\n",
      "47/47 - 0s - loss: 76.0690 - val_loss: 70.8421\n",
      "Epoch 13/1000\n",
      "47/47 - 0s - loss: 60.0353 - val_loss: 57.2389\n",
      "Epoch 14/1000\n",
      "47/47 - 0s - loss: 48.5094 - val_loss: 47.8862\n",
      "Epoch 15/1000\n",
      "47/47 - 0s - loss: 40.7836 - val_loss: 41.0318\n",
      "Epoch 16/1000\n",
      "47/47 - 0s - loss: 34.8687 - val_loss: 35.0821\n",
      "Epoch 17/1000\n",
      "47/47 - 0s - loss: 29.5405 - val_loss: 31.3914\n",
      "Epoch 18/1000\n",
      "47/47 - 0s - loss: 25.9456 - val_loss: 28.0645\n",
      "Epoch 19/1000\n",
      "47/47 - 0s - loss: 23.0881 - val_loss: 24.5105\n",
      "Epoch 20/1000\n",
      "47/47 - 0s - loss: 20.7030 - val_loss: 22.5935\n",
      "Epoch 21/1000\n",
      "47/47 - 0s - loss: 18.7321 - val_loss: 20.5512\n",
      "Epoch 22/1000\n",
      "47/47 - 0s - loss: 17.1495 - val_loss: 18.6176\n",
      "Epoch 23/1000\n",
      "47/47 - 0s - loss: 15.9269 - val_loss: 17.3316\n",
      "Epoch 24/1000\n",
      "47/47 - 0s - loss: 14.9850 - val_loss: 16.2115\n",
      "Epoch 25/1000\n",
      "47/47 - 0s - loss: 14.0962 - val_loss: 15.6565\n",
      "Epoch 26/1000\n",
      "47/47 - 0s - loss: 13.4025 - val_loss: 14.7640\n",
      "Epoch 27/1000\n",
      "47/47 - 0s - loss: 12.8749 - val_loss: 14.1275\n",
      "Epoch 28/1000\n",
      "47/47 - 0s - loss: 12.3918 - val_loss: 13.4799\n",
      "Epoch 29/1000\n",
      "47/47 - 0s - loss: 11.9011 - val_loss: 12.9721\n",
      "Epoch 30/1000\n",
      "47/47 - 0s - loss: 11.4913 - val_loss: 12.6500\n",
      "Epoch 31/1000\n",
      "47/47 - 0s - loss: 11.3306 - val_loss: 12.3571\n",
      "Epoch 32/1000\n",
      "47/47 - 0s - loss: 10.8041 - val_loss: 11.8715\n",
      "Epoch 33/1000\n",
      "47/47 - 0s - loss: 10.4932 - val_loss: 11.3030\n",
      "Epoch 34/1000\n",
      "47/47 - 0s - loss: 10.1305 - val_loss: 11.2443\n",
      "Epoch 35/1000\n",
      "47/47 - 0s - loss: 9.7626 - val_loss: 10.5497\n",
      "Epoch 36/1000\n",
      "47/47 - 0s - loss: 9.4308 - val_loss: 10.1731\n",
      "Epoch 37/1000\n",
      "47/47 - 0s - loss: 9.1408 - val_loss: 9.8071\n",
      "Epoch 38/1000\n",
      "47/47 - 0s - loss: 8.8923 - val_loss: 9.4088\n",
      "Epoch 39/1000\n",
      "47/47 - 0s - loss: 8.7449 - val_loss: 9.5970\n",
      "Epoch 40/1000\n",
      "47/47 - 0s - loss: 8.2134 - val_loss: 8.7538\n",
      "Epoch 41/1000\n",
      "47/47 - 0s - loss: 7.8492 - val_loss: 8.4879\n",
      "Epoch 42/1000\n",
      "47/47 - 0s - loss: 7.4368 - val_loss: 7.7230\n",
      "Epoch 43/1000\n",
      "47/47 - 0s - loss: 7.1696 - val_loss: 7.7529\n",
      "Epoch 44/1000\n",
      "47/47 - 0s - loss: 6.7709 - val_loss: 7.2932\n",
      "Epoch 45/1000\n",
      "47/47 - 0s - loss: 6.4241 - val_loss: 6.6877\n",
      "Epoch 46/1000\n",
      "47/47 - 0s - loss: 6.1263 - val_loss: 6.4216\n",
      "Epoch 47/1000\n",
      "47/47 - 0s - loss: 5.8662 - val_loss: 6.0816\n",
      "Epoch 48/1000\n",
      "47/47 - 0s - loss: 5.5475 - val_loss: 5.7940\n",
      "Epoch 49/1000\n",
      "47/47 - 0s - loss: 5.2615 - val_loss: 5.6288\n",
      "Epoch 50/1000\n",
      "47/47 - 0s - loss: 4.9577 - val_loss: 5.3156\n",
      "Epoch 51/1000\n",
      "47/47 - 0s - loss: 4.7829 - val_loss: 4.9678\n",
      "Epoch 52/1000\n",
      "47/47 - 0s - loss: 4.5347 - val_loss: 4.7722\n",
      "Epoch 53/1000\n",
      "47/47 - 0s - loss: 4.3023 - val_loss: 4.5706\n",
      "Epoch 54/1000\n",
      "47/47 - 0s - loss: 4.0979 - val_loss: 4.3501\n",
      "Epoch 55/1000\n",
      "47/47 - 0s - loss: 3.9740 - val_loss: 4.0947\n",
      "Epoch 56/1000\n",
      "47/47 - 0s - loss: 3.7308 - val_loss: 3.9432\n",
      "Epoch 57/1000\n",
      "47/47 - 0s - loss: 3.5901 - val_loss: 3.7569\n",
      "Epoch 58/1000\n",
      "47/47 - 0s - loss: 3.3244 - val_loss: 3.5292\n",
      "Epoch 59/1000\n",
      "47/47 - 0s - loss: 3.2376 - val_loss: 3.3981\n",
      "Epoch 60/1000\n",
      "47/47 - 0s - loss: 3.0336 - val_loss: 3.2175\n",
      "Epoch 61/1000\n",
      "47/47 - 0s - loss: 2.8740 - val_loss: 3.0924\n",
      "Epoch 62/1000\n",
      "47/47 - 0s - loss: 2.7460 - val_loss: 3.1059\n",
      "Epoch 63/1000\n",
      "47/47 - 0s - loss: 2.6141 - val_loss: 2.8682\n",
      "Epoch 64/1000\n",
      "47/47 - 0s - loss: 2.4983 - val_loss: 2.7066\n",
      "Epoch 65/1000\n",
      "47/47 - 0s - loss: 2.4266 - val_loss: 2.6026\n",
      "Epoch 66/1000\n",
      "47/47 - 0s - loss: 2.3037 - val_loss: 2.8234\n",
      "Epoch 67/1000\n",
      "47/47 - 0s - loss: 2.1572 - val_loss: 2.7123\n",
      "Epoch 68/1000\n",
      "47/47 - 0s - loss: 2.0913 - val_loss: 2.2804\n",
      "Epoch 69/1000\n",
      "47/47 - 0s - loss: 1.9773 - val_loss: 2.1722\n",
      "Epoch 70/1000\n",
      "47/47 - 0s - loss: 1.8673 - val_loss: 2.1680\n",
      "Epoch 71/1000\n",
      "47/47 - 0s - loss: 1.8115 - val_loss: 1.9935\n",
      "Epoch 72/1000\n",
      "47/47 - 0s - loss: 1.7171 - val_loss: 1.9809\n",
      "Epoch 73/1000\n",
      "47/47 - 0s - loss: 1.6600 - val_loss: 1.8696\n",
      "Epoch 74/1000\n",
      "47/47 - 0s - loss: 1.6623 - val_loss: 1.8446\n",
      "Epoch 75/1000\n",
      "47/47 - 0s - loss: 1.5706 - val_loss: 1.7008\n",
      "Epoch 76/1000\n",
      "47/47 - 0s - loss: 1.4342 - val_loss: 1.6675\n",
      "Epoch 77/1000\n",
      "47/47 - 0s - loss: 1.4019 - val_loss: 1.6057\n",
      "Epoch 78/1000\n",
      "47/47 - 0s - loss: 1.3433 - val_loss: 1.5390\n",
      "Epoch 79/1000\n",
      "47/47 - 0s - loss: 1.2761 - val_loss: 1.5181\n",
      "Epoch 80/1000\n",
      "47/47 - 0s - loss: 1.2522 - val_loss: 1.4233\n",
      "Epoch 81/1000\n",
      "47/47 - 0s - loss: 1.1940 - val_loss: 1.3827\n",
      "Epoch 82/1000\n",
      "47/47 - 0s - loss: 1.1559 - val_loss: 1.4622\n",
      "Epoch 83/1000\n",
      "47/47 - 0s - loss: 1.0834 - val_loss: 1.2529\n",
      "Epoch 84/1000\n",
      "47/47 - 0s - loss: 1.0737 - val_loss: 1.2081\n",
      "Epoch 85/1000\n",
      "47/47 - 0s - loss: 1.0419 - val_loss: 1.2479\n",
      "Epoch 86/1000\n",
      "47/47 - 0s - loss: 1.0085 - val_loss: 1.1370\n",
      "Epoch 87/1000\n",
      "47/47 - 0s - loss: 0.9299 - val_loss: 1.1114\n",
      "Epoch 88/1000\n",
      "47/47 - 0s - loss: 0.9121 - val_loss: 1.1264\n",
      "Epoch 89/1000\n",
      "47/47 - 0s - loss: 0.8994 - val_loss: 1.0532\n",
      "Epoch 90/1000\n",
      "47/47 - 0s - loss: 0.8618 - val_loss: 1.0968\n",
      "Epoch 91/1000\n",
      "47/47 - 0s - loss: 0.8269 - val_loss: 0.9796\n",
      "Epoch 92/1000\n",
      "47/47 - 0s - loss: 0.8324 - val_loss: 1.1422\n",
      "Epoch 93/1000\n",
      "47/47 - 0s - loss: 0.8337 - val_loss: 0.9890\n",
      "Epoch 94/1000\n",
      "47/47 - 0s - loss: 0.7581 - val_loss: 0.9301\n",
      "Epoch 95/1000\n",
      "47/47 - 0s - loss: 0.7327 - val_loss: 0.9214\n",
      "Epoch 96/1000\n",
      "47/47 - 0s - loss: 0.7031 - val_loss: 0.8683\n",
      "Epoch 97/1000\n",
      "47/47 - 0s - loss: 0.6851 - val_loss: 0.8521\n",
      "Epoch 98/1000\n",
      "47/47 - 0s - loss: 0.6872 - val_loss: 0.8387\n",
      "Epoch 99/1000\n",
      "47/47 - 0s - loss: 0.6493 - val_loss: 0.8604\n",
      "Epoch 100/1000\n",
      "47/47 - 0s - loss: 0.6419 - val_loss: 0.8268\n",
      "Epoch 101/1000\n",
      "47/47 - 0s - loss: 0.6216 - val_loss: 0.8732\n",
      "Epoch 102/1000\n",
      "47/47 - 0s - loss: 0.6163 - val_loss: 0.8952\n",
      "Epoch 103/1000\n",
      "47/47 - 0s - loss: 0.5950 - val_loss: 0.9074\n",
      "Epoch 104/1000\n",
      "47/47 - 0s - loss: 0.6043 - val_loss: 0.8730\n",
      "Epoch 105/1000\n",
      "47/47 - 0s - loss: 0.5918 - val_loss: 0.7970\n",
      "Epoch 106/1000\n",
      "47/47 - 0s - loss: 0.5622 - val_loss: 0.7599\n",
      "Epoch 107/1000\n",
      "47/47 - 0s - loss: 0.6204 - val_loss: 0.7680\n",
      "Epoch 108/1000\n",
      "47/47 - 0s - loss: 0.5314 - val_loss: 0.7201\n",
      "Epoch 109/1000\n",
      "47/47 - 0s - loss: 0.6167 - val_loss: 0.9681\n",
      "Epoch 110/1000\n",
      "47/47 - 0s - loss: 0.5247 - val_loss: 0.7447\n",
      "Epoch 111/1000\n",
      "47/47 - 0s - loss: 0.5447 - val_loss: 0.7157\n",
      "Epoch 112/1000\n",
      "47/47 - 0s - loss: 0.5122 - val_loss: 0.6882\n",
      "Epoch 113/1000\n",
      "47/47 - 0s - loss: 0.5502 - val_loss: 0.6825\n",
      "Epoch 114/1000\n",
      "47/47 - 0s - loss: 0.4815 - val_loss: 0.6787\n",
      "Epoch 115/1000\n",
      "47/47 - 0s - loss: 0.4940 - val_loss: 0.7229\n",
      "Epoch 116/1000\n",
      "47/47 - 0s - loss: 0.5020 - val_loss: 0.7483\n",
      "Epoch 117/1000\n",
      "47/47 - 0s - loss: 0.4904 - val_loss: 0.6868\n",
      "Epoch 118/1000\n",
      "47/47 - 0s - loss: 0.4667 - val_loss: 0.6527\n",
      "Epoch 119/1000\n",
      "47/47 - 0s - loss: 0.4685 - val_loss: 0.6632\n",
      "Epoch 120/1000\n",
      "47/47 - 0s - loss: 0.4855 - val_loss: 0.6898\n",
      "Epoch 121/1000\n",
      "47/47 - 0s - loss: 0.4847 - val_loss: 0.6396\n",
      "Epoch 122/1000\n",
      "47/47 - 0s - loss: 0.4729 - val_loss: 0.6584\n",
      "Epoch 123/1000\n",
      "47/47 - 0s - loss: 0.4633 - val_loss: 0.6383\n",
      "Epoch 124/1000\n",
      "47/47 - 0s - loss: 0.4576 - val_loss: 0.6700\n",
      "Epoch 125/1000\n",
      "47/47 - 0s - loss: 0.4763 - val_loss: 0.7210\n",
      "Epoch 126/1000\n",
      "47/47 - 0s - loss: 0.4829 - val_loss: 0.6453\n",
      "Epoch 127/1000\n",
      "47/47 - 0s - loss: 0.4426 - val_loss: 0.6643\n",
      "Epoch 128/1000\n",
      "47/47 - 0s - loss: 0.4368 - val_loss: 0.6515\n",
      "Restoring model weights from the end of the best epoch.\n",
      "Epoch 00128: early stopping\n"
     ]
    },
    {
     "data": {
      "text/plain": [
       "<tensorflow.python.keras.callbacks.History at 0x23fe12d5b50>"
      ]
     },
     "execution_count": 3,
     "metadata": {},
     "output_type": "execute_result"
    }
   ],
   "source": [
    "from tensorflow.keras.models import Sequential\n",
    "from tensorflow.keras.layers import Dense, Activation\n",
    "from tensorflow.keras.callbacks import EarlyStopping\n",
    "\n",
    "# Build the neural network\n",
    "model = Sequential()\n",
    "model.add(Dense(25, input_dim=x.shape[1], activation='relu')) # Hidden 1\n",
    "model.add(Dense(10, activation='relu')) # Hidden 2\n",
    "model.add(Dense(1)) # Output\n",
    "model.compile(loss='mean_squared_error', optimizer='adam')\n",
    "monitor = EarlyStopping(monitor='val_loss', min_delta=1e-3, \n",
    "                        patience=5, verbose=1, mode='auto', \n",
    "                        restore_best_weights=True)\n",
    "model.fit(x_train,y_train,validation_data=(x_test,y_test),\n",
    "          callbacks=[monitor],verbose=2,epochs=1000)"
   ]
  },
  {
   "cell_type": "code",
   "execution_count": 4,
   "id": "ethical-commons",
   "metadata": {},
   "outputs": [
    {
     "name": "stdout",
     "output_type": "stream",
     "text": [
      "Final score (MSE): 0.6382692108348201\n"
     ]
    }
   ],
   "source": [
    "from sklearn import metrics\n",
    "\n",
    "# Predict\n",
    "pred = model.predict(x_test)\n",
    "\n",
    "# Measure MSE error.  \n",
    "score = metrics.mean_squared_error(pred,y_test)\n",
    "print(\"Final score (MSE): {}\".format(score))"
   ]
  },
  {
   "cell_type": "code",
   "execution_count": 5,
   "id": "illegal-explorer",
   "metadata": {},
   "outputs": [
    {
     "name": "stdout",
     "output_type": "stream",
     "text": [
      "Final score (RMSE): 0.7989175244259072\n"
     ]
    }
   ],
   "source": [
    "import numpy as np\n",
    "\n",
    "# Measure RMSE error.  RMSE is common for regression.\n",
    "score = np.sqrt(metrics.mean_squared_error(pred,y_test))\n",
    "print(\"Final score (RMSE): {}\".format(score))"
   ]
  },
  {
   "cell_type": "code",
   "execution_count": 6,
   "id": "hollow-hanging",
   "metadata": {},
   "outputs": [],
   "source": [
    "# Regression chart.\n",
    "def chart_regression(pred, y, sort=True):\n",
    "    t = pd.DataFrame({'pred': pred, 'y': y.flatten()})\n",
    "    if sort:\n",
    "        t.sort_values(by=['y'], inplace=True)\n",
    "    plt.plot(t['y'].tolist(), label='expected')\n",
    "    plt.plot(t['pred'].tolist(), label='prediction')\n",
    "    plt.ylabel('output')\n",
    "    plt.legend()\n",
    "    plt.show()"
   ]
  },
  {
   "cell_type": "code",
   "execution_count": 7,
   "id": "built-ocean",
   "metadata": {},
   "outputs": [
    {
     "data": {
      "image/png": "[encoded data removed]",
      "text/plain": [
       "<Figure size 432x288 with 1 Axes>"
      ]
     },
     "metadata": {
      "needs_background": "light"
     },
     "output_type": "display_data"
    }
   ],
   "source": [
    "\n",
    "# Plot the chart\n",
    "chart_regression(pred.flatten(),y_test)"
   ]
  },
  {
   "cell_type": "code",
   "execution_count": 10,
   "id": "coated-elizabeth",
   "metadata": {},
   "outputs": [
    {
     "data": {
      "text/plain": [
       "(1500, 53)"
      ]
     },
     "execution_count": 10,
     "metadata": {},
     "output_type": "execute_result"
    }
   ],
   "source": [
    "x_train.shape"
   ]
  },
  {
   "cell_type": "code",
   "execution_count": 11,
   "id": "11789e04",
   "metadata": {},
   "outputs": [
    {
     "data": {
      "text/plain": [
       "array([45, 47, 50, ..., 48, 41, 43], dtype=int64)"
      ]
     },
     "execution_count": 11,
     "metadata": {},
     "output_type": "execute_result"
    }
   ],
   "source": [
    "y_train"
   ]
  },
  {
   "cell_type": "code",
   "execution_count": null,
   "id": "2294ba55",
   "metadata": {},
   "outputs": [],
   "source": []
  }
 ],
 "metadata": {
  "kernelspec": {
   "display_name": "Python 3",
   "language": "python",
   "name": "python3"
  },
  "language_info": {
   "codemirror_mode": {
    "name": "ipython",
    "version": 3
   },
   "file_extension": ".py",
   "mimetype": "text/x-python",
   "name": "python",
   "nbconvert_exporter": "python",
   "pygments_lexer": "ipython3",
   "version": "3.8.8"
  }
 },
 "nbformat": 4,
 "nbformat_minor": 5
}
