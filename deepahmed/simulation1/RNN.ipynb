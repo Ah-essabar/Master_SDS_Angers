{
 "cells": [
  {
   "cell_type": "code",
   "execution_count": 3,
   "id": "prostate-intro",
   "metadata": {},
   "outputs": [],
   "source": [
    "# Importer les bibliothèques\n",
    "#!pip install keras\n",
    "import numpy as np\n",
    "import pandas as pd\n",
    "import tensorflow as tf\n",
    "from sklearn.preprocessing import StandardScaler\n",
    "from sklearn.model_selection import train_test_split\n",
    "\n",
    "\n",
    "from keras.models import Sequential\n",
    "model = Sequential()\n",
    "\n",
    "from keras.layers import Dense, Activation"
   ]
  },
  {
   "cell_type": "code",
   "execution_count": 4,
   "id": "expressed-philosophy",
   "metadata": {},
   "outputs": [],
   "source": [
    "# importer la base de données\n",
    "db =pd.read_csv('Tout.csv', sep=\";\" ,encoding = \"ISO-8859-1\")\n",
    "db=db.drop(['Température Sèche Air Extérieur'],axis=1)\n",
    "db_Meteo =pd.read_csv('Meteo2002.csv', sep=\";\" ,encoding = \"ISO-8859-1\")\n",
    "db=db.stack().str.replace(',','.').unstack()\n",
    "db_Meteo=db_Meteo.stack().str.replace(',','.').unstack()\n",
    "db1=pd.merge(db_Meteo,db, on='Date/Heure')\n",
    "\n",
    "db1=db1.drop(['Date/Heure'],axis=1)\n",
    "db_date=db['Date/Heure']\n",
    "db1=db1.iloc[1:]\n",
    "db1.iloc[:,:] = db1.iloc[:,:].astype(float)\n",
    "\n",
    "# periode avril octobre\n",
    "#db1=db1[2200:6600]\n",
    "\n",
    "# préparation de la base de données\n",
    "target=\"Température d'air\"\n",
    "db=db1.iloc[:,[0,1,2,3,4,5,13,15,21,24]]\n",
    "\n",
    "#X=db.drop([target],axis=1)\n",
    "y=db[target]\n",
    "X=db"
   ]
  },
  {
   "cell_type": "code",
   "execution_count": 5,
   "id": "empty-refrigerator",
   "metadata": {},
   "outputs": [
    {
     "name": "stdout",
     "output_type": "stream",
     "text": [
      "<class 'pandas.core.frame.DataFrame'>\n",
      "Int64Index: 8760 entries, 1 to 8760\n",
      "Data columns (total 10 columns):\n",
      " #   Column                                    Non-Null Count  Dtype  \n",
      "---  ------                                    --------------  -----  \n",
      " 0   Température Sèche Air Extérieur           8760 non-null   float64\n",
      " 1   Température Point de rosée Air Extérieur  8760 non-null   float64\n",
      " 2   Solaire Direct Normal                     8760 non-null   float64\n",
      " 3   Solaire Diffus Horizontal                 8760 non-null   float64\n",
      " 4   Vitesse Vent                              8760 non-null   float64\n",
      " 5   Direction Vent                            8760 non-null   float64\n",
      " 6   Vent Méca + Vent Nat Ext + Infiltration   8760 non-null   float64\n",
      " 7   Chauffage de zone                         8760 non-null   float64\n",
      " 8   Température d'air                         8760 non-null   float64\n",
      " 9   Electricité pour la zone                  8760 non-null   float64\n",
      "dtypes: float64(10)\n",
      "memory usage: 752.8 KB\n"
     ]
    }
   ],
   "source": [
    "db.info()"
   ]
  },
  {
   "cell_type": "raw",
   "id": "patient-payment",
   "metadata": {},
   "source": [
    "# préparation des données\n",
    "X=X.values\n",
    "y=y.values"
   ]
  },
  {
   "cell_type": "code",
   "execution_count": 6,
   "id": "appreciated-brain",
   "metadata": {},
   "outputs": [],
   "source": [
    "scaler=StandardScaler()\n",
    "X_scaled=scaler.fit_transform(X)\n"
   ]
  },
  {
   "cell_type": "code",
   "execution_count": 7,
   "id": "coordinate-banana",
   "metadata": {},
   "outputs": [],
   "source": [
    "X_train,X_test,y_train,y_test=train_test_split(X_scaled,y, test_size=0.2)"
   ]
  },
  {
   "cell_type": "code",
   "execution_count": 8,
   "id": "lovely-season",
   "metadata": {},
   "outputs": [],
   "source": [
    "# Construction de réseau de neurone\n",
    "# initialisation de réseau (creation du reseau de neurone)\n",
    "model=tf.keras.models.Sequential()"
   ]
  },
  {
   "cell_type": "code",
   "execution_count": 9,
   "id": "centered-border",
   "metadata": {},
   "outputs": [],
   "source": [
    "# creation d'une couche cachée de 5 noeud (Dense) et la couche d'entrée de 8 noeuds\n",
    "model.add(tf.keras.layers.Dense(units=100,activation='relu',kernel_initializer='uniform',input_dim=10 ))\n",
    "model.add(tf.keras.layers.Dense(units=50,activation='relu',kernel_initializer='uniform'))\n",
    "model.add(tf.keras.layers.Dense(units=4,activation='relu',kernel_initializer='uniform'))"
   ]
  },
  {
   "cell_type": "code",
   "execution_count": 10,
   "id": "joint-equity",
   "metadata": {},
   "outputs": [],
   "source": [
    "#couche de sortie\n",
    "model.add(tf.keras.layers.Dense(units=1,activation='sigmoid' ))"
   ]
  },
  {
   "cell_type": "code",
   "execution_count": 11,
   "id": "computational-completion",
   "metadata": {},
   "outputs": [],
   "source": [
    "model.compile(optimizer='RMSprop', loss='mse',metrics=['MeanSquaredError'])"
   ]
  },
  {
   "cell_type": "code",
   "execution_count": 12,
   "id": "royal-reality",
   "metadata": {},
   "outputs": [
    {
     "name": "stdout",
     "output_type": "stream",
     "text": [
      "Model: \"sequential_2\"\n",
      "_________________________________________________________________\n",
      "Layer (type)                 Output Shape              Param #   \n",
      "=================================================================\n",
      "dense (Dense)                (None, 100)               1100      \n",
      "_________________________________________________________________\n",
      "dense_1 (Dense)              (None, 50)                5050      \n",
      "_________________________________________________________________\n",
      "dense_2 (Dense)              (None, 4)                 204       \n",
      "_________________________________________________________________\n",
      "dense_3 (Dense)              (None, 1)                 5         \n",
      "=================================================================\n",
      "Total params: 6,359\n",
      "Trainable params: 6,359\n",
      "Non-trainable params: 0\n",
      "_________________________________________________________________\n"
     ]
    }
   ],
   "source": [
    "model.summary()"
   ]
  },
  {
   "cell_type": "code",
   "execution_count": 13,
   "id": "brave-stations",
   "metadata": {},
   "outputs": [
    {
     "name": "stdout",
     "output_type": "stream",
     "text": [
      "Epoch 1/50\n",
      "219/219 [==============================] - 0s 1ms/step - loss: 773.3151 - mean_squared_error: 773.3151\n",
      "Epoch 2/50\n",
      "219/219 [==============================] - 0s 2ms/step - loss: 770.1378 - mean_squared_error: 770.1378\n",
      "Epoch 3/50\n",
      "219/219 [==============================] - 0s 2ms/step - loss: 770.1384 - mean_squared_error: 770.1384\n",
      "Epoch 4/50\n",
      "219/219 [==============================] - 0s 1ms/step - loss: 770.1379 - mean_squared_error: 770.1379\n",
      "Epoch 5/50\n",
      "219/219 [==============================] - 0s 1ms/step - loss: 770.1379 - mean_squared_error: 770.1379\n",
      "Epoch 6/50\n",
      "219/219 [==============================] - 0s 1ms/step - loss: 770.1381 - mean_squared_error: 770.1381\n",
      "Epoch 7/50\n",
      "219/219 [==============================] - 0s 2ms/step - loss: 770.1382 - mean_squared_error: 770.1382\n",
      "Epoch 8/50\n",
      "219/219 [==============================] - 0s 2ms/step - loss: 770.1381 - mean_squared_error: 770.1381\n",
      "Epoch 9/50\n",
      "219/219 [==============================] - 0s 2ms/step - loss: 770.1385 - mean_squared_error: 770.1385\n",
      "Epoch 10/50\n",
      "219/219 [==============================] - 0s 2ms/step - loss: 770.1382 - mean_squared_error: 770.1382\n",
      "Epoch 11/50\n",
      "219/219 [==============================] - 0s 2ms/step - loss: 770.1381 - mean_squared_error: 770.1381\n",
      "Epoch 12/50\n",
      "219/219 [==============================] - 0s 2ms/step - loss: 770.1380 - mean_squared_error: 770.1380\n",
      "Epoch 13/50\n",
      "219/219 [==============================] - 0s 2ms/step - loss: 770.1378 - mean_squared_error: 770.1378\n",
      "Epoch 14/50\n",
      "219/219 [==============================] - 0s 2ms/step - loss: 770.1381 - mean_squared_error: 770.1381\n",
      "Epoch 15/50\n",
      "219/219 [==============================] - 0s 2ms/step - loss: 770.1381 - mean_squared_error: 770.1381\n",
      "Epoch 16/50\n",
      "219/219 [==============================] - 0s 2ms/step - loss: 770.1378 - mean_squared_error: 770.1378\n",
      "Epoch 17/50\n",
      "219/219 [==============================] - 0s 2ms/step - loss: 770.1380 - mean_squared_error: 770.1380\n",
      "Epoch 18/50\n",
      "219/219 [==============================] - 1s 2ms/step - loss: 770.1382 - mean_squared_error: 770.1382\n",
      "Epoch 19/50\n",
      "219/219 [==============================] - 1s 3ms/step - loss: 770.1381 - mean_squared_error: 770.1381\n",
      "Epoch 20/50\n",
      "219/219 [==============================] - 0s 2ms/step - loss: 770.1384 - mean_squared_error: 770.1384\n",
      "Epoch 21/50\n",
      "219/219 [==============================] - 1s 2ms/step - loss: 770.1381 - mean_squared_error: 770.1381\n",
      "Epoch 22/50\n",
      "219/219 [==============================] - 0s 2ms/step - loss: 770.1382 - mean_squared_error: 770.1382\n",
      "Epoch 23/50\n",
      "219/219 [==============================] - 0s 2ms/step - loss: 770.1381 - mean_squared_error: 770.1381\n",
      "Epoch 24/50\n",
      "219/219 [==============================] - 0s 2ms/step - loss: 770.1382 - mean_squared_error: 770.1382\n",
      "Epoch 25/50\n",
      "219/219 [==============================] - 0s 2ms/step - loss: 770.1380 - mean_squared_error: 770.1380\n",
      "Epoch 26/50\n",
      "219/219 [==============================] - 0s 2ms/step - loss: 770.1378 - mean_squared_error: 770.1378\n",
      "Epoch 27/50\n",
      "219/219 [==============================] - 0s 2ms/step - loss: 770.1380 - mean_squared_error: 770.1380\n",
      "Epoch 28/50\n",
      "219/219 [==============================] - 0s 2ms/step - loss: 770.1384 - mean_squared_error: 770.1384\n",
      "Epoch 29/50\n",
      "219/219 [==============================] - 0s 2ms/step - loss: 770.1379 - mean_squared_error: 770.1379\n",
      "Epoch 30/50\n",
      "219/219 [==============================] - 0s 2ms/step - loss: 770.1379 - mean_squared_error: 770.1379\n",
      "Epoch 31/50\n",
      "219/219 [==============================] - 0s 2ms/step - loss: 770.1382 - mean_squared_error: 770.1382\n",
      "Epoch 32/50\n",
      "219/219 [==============================] - 0s 2ms/step - loss: 770.1382 - mean_squared_error: 770.1382\n",
      "Epoch 33/50\n",
      "219/219 [==============================] - 0s 2ms/step - loss: 770.1381 - mean_squared_error: 770.1381\n",
      "Epoch 34/50\n",
      "219/219 [==============================] - 0s 2ms/step - loss: 770.1379 - mean_squared_error: 770.1379\n",
      "Epoch 35/50\n",
      "219/219 [==============================] - 0s 2ms/step - loss: 770.1381 - mean_squared_error: 770.1381\n",
      "Epoch 36/50\n",
      "219/219 [==============================] - 0s 2ms/step - loss: 770.1384 - mean_squared_error: 770.1384\n",
      "Epoch 37/50\n",
      "219/219 [==============================] - 0s 2ms/step - loss: 770.1380 - mean_squared_error: 770.1380\n",
      "Epoch 38/50\n",
      "219/219 [==============================] - 1s 3ms/step - loss: 770.1381 - mean_squared_error: 770.1381\n",
      "Epoch 39/50\n",
      "219/219 [==============================] - 0s 2ms/step - loss: 770.1379 - mean_squared_error: 770.1379\n",
      "Epoch 40/50\n",
      "219/219 [==============================] - 0s 2ms/step - loss: 770.1380 - mean_squared_error: 770.1380\n",
      "Epoch 41/50\n",
      "219/219 [==============================] - 0s 2ms/step - loss: 770.1382 - mean_squared_error: 770.1382\n",
      "Epoch 42/50\n",
      "219/219 [==============================] - 0s 2ms/step - loss: 770.1382 - mean_squared_error: 770.1382: 0s - loss: 771.0936 - mean_squared_error\n",
      "Epoch 43/50\n",
      "219/219 [==============================] - 0s 2ms/step - loss: 770.1382 - mean_squared_error: 770.1382\n",
      "Epoch 44/50\n",
      "219/219 [==============================] - 0s 2ms/step - loss: 770.1381 - mean_squared_error: 770.1381\n",
      "Epoch 45/50\n",
      "219/219 [==============================] - 0s 2ms/step - loss: 770.1382 - mean_squared_error: 770.1382: 0s - loss: 768.7301 - mean_squared_error: 768.73\n",
      "Epoch 46/50\n",
      "219/219 [==============================] - 0s 2ms/step - loss: 770.1382 - mean_squared_error: 770.1382\n",
      "Epoch 47/50\n",
      "219/219 [==============================] - 0s 2ms/step - loss: 770.1378 - mean_squared_error: 770.1378: 0s - loss: 770.4101 - mean_squared_error: 770.41\n",
      "Epoch 48/50\n",
      "219/219 [==============================] - 0s 2ms/step - loss: 770.1381 - mean_squared_error: 770.1381\n",
      "Epoch 49/50\n",
      "219/219 [==============================] - 1s 2ms/step - loss: 770.1381 - mean_squared_error: 770.1381\n",
      "Epoch 50/50\n",
      "219/219 [==============================] - 1s 2ms/step - loss: 770.1382 - mean_squared_error: 770.1382\n"
     ]
    },
    {
     "data": {
      "text/plain": [
       "<tensorflow.python.keras.callbacks.History at 0x1d7c582e760>"
      ]
     },
     "execution_count": 13,
     "metadata": {},
     "output_type": "execute_result"
    }
   ],
   "source": [
    "model.fit(X_train,y_train,epochs=50)"
   ]
  },
  {
   "cell_type": "code",
   "execution_count": 14,
   "id": "searching-tissue",
   "metadata": {},
   "outputs": [
    {
     "data": {
      "text/plain": [
       "(7008, 10)"
      ]
     },
     "execution_count": 14,
     "metadata": {},
     "output_type": "execute_result"
    }
   ],
   "source": [
    "X_train.shape"
   ]
  },
  {
   "cell_type": "code",
   "execution_count": 51,
   "id": "banner-interstate",
   "metadata": {},
   "outputs": [
    {
     "data": {
      "text/plain": [
       "array([[0.9999732 ],\n",
       "       [0.9999486 ],\n",
       "       [0.9999578 ],\n",
       "       ...,\n",
       "       [0.99996674],\n",
       "       [0.99998194],\n",
       "       [0.9999783 ]], dtype=float32)"
      ]
     },
     "execution_count": 51,
     "metadata": {},
     "output_type": "execute_result"
    }
   ],
   "source": [
    "model.predict(X_train)"
   ]
  },
  {
   "cell_type": "code",
   "execution_count": null,
   "id": "arabic-pacific",
   "metadata": {},
   "outputs": [],
   "source": []
  }
 ],
 "metadata": {
  "kernelspec": {
   "display_name": "Python 3",
   "language": "python",
   "name": "python3"
  },
  "language_info": {
   "codemirror_mode": {
    "name": "ipython",
    "version": 3
   },
   "file_extension": ".py",
   "mimetype": "text/x-python",
   "name": "python",
   "nbconvert_exporter": "python",
   "pygments_lexer": "ipython3",
   "version": "3.8.8"
  }
 },
 "nbformat": 4,
 "nbformat_minor": 5
}
