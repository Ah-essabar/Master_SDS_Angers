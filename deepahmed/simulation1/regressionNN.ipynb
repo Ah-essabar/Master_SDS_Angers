{
 "cells": [
  {
   "cell_type": "code",
   "execution_count": 1,
   "id": "conventional-grade",
   "metadata": {},
   "outputs": [],
   "source": [
    "import pandas as pd\n",
    "from scipy.stats import zscore\n",
    "from sklearn.model_selection import train_test_split\n",
    "import matplotlib.pyplot as plt\n",
    "# importer la base de données de test\n",
    "db =pd.read_csv('dataForRegression.csv', sep=\";\" ,encoding = \"ISO-8859-1\")\n",
    "\n",
    "db=db.stack().str.replace(',','.').unstack()\n",
    "\n",
    "db=db.drop(['Date/Heure'],axis=1)\n",
    "db=db.iloc[1:] # supprimer la ligne des unités\n",
    "db.iloc[:,:] = db.iloc[:,:].astype(float)\n",
    "\n",
    "\n"
   ]
  },
  {
   "cell_type": "code",
   "execution_count": 18,
   "id": "937899c4",
   "metadata": {},
   "outputs": [
    {
     "data": {
      "text/plain": [
       "[<matplotlib.lines.Line2D at 0x2bb0cf99c10>]"
      ]
     },
     "execution_count": 18,
     "metadata": {},
     "output_type": "execute_result"
    },
    {
     "data": {
      "image/png": "[encoded data removed]",
      "text/plain": [
       "<Figure size 432x288 with 1 Axes>"
      ]
     },
     "metadata": {
      "needs_background": "light"
     },
     "output_type": "display_data"
    }
   ],
   "source": [
    "plt.plot(db[\"Informatiques + Equip.\"])"
   ]
  },
  {
   "cell_type": "raw",
   "id": "ef505aff",
   "metadata": {},
   "source": [
    "X=db[[\"Température Sèche Air Extérieur\",\"Température d'air\",\"Electricité pour la zone\",\"Infiltration extérieure\"]].values\n",
    "y=db[[\"Occupation\"]].values*16\n",
    "\n",
    "\n",
    "#print(train.shape, test.shape)\n",
    "from sklearn.preprocessing import StandardScaler\n",
    "\n",
    "scaler = StandardScaler()\n",
    "X = scaler.fit_transform(X)"
   ]
  },
  {
   "cell_type": "code",
   "execution_count": 75,
   "id": "4e04b87a",
   "metadata": {},
   "outputs": [],
   "source": [
    "X=db[[\"Température Sèche Air Extérieur\",\"Température d'air\",\"Apports solaires Fenêtres extérieures\"]].values\n",
    "y=db[[\"Informatiques + Equip.\"]].values*16/float(db[[\"Informatiques + Equip.\"]].max())\n",
    "\n",
    "\n",
    "#print(train.shape, test.shape)\n",
    "from sklearn.preprocessing import StandardScaler\n",
    "\n",
    "scaler = StandardScaler()\n",
    "X = scaler.fit_transform(X)"
   ]
  },
  {
   "cell_type": "code",
   "execution_count": 76,
   "id": "225b07cf",
   "metadata": {},
   "outputs": [
    {
     "data": {
      "text/plain": [
       "[<matplotlib.lines.Line2D at 0x2bb23a12c40>]"
      ]
     },
     "execution_count": 76,
     "metadata": {},
     "output_type": "execute_result"
    },
    {
     "data": {
      "image/png": "[encoded data removed]",
      "text/plain": [
       "<Figure size 432x288 with 1 Axes>"
      ]
     },
     "metadata": {
      "needs_background": "light"
     },
     "output_type": "display_data"
    }
   ],
   "source": [
    "plt.plot(y[0:168])"
   ]
  },
  {
   "cell_type": "code",
   "execution_count": 77,
   "id": "b3c9745f",
   "metadata": {},
   "outputs": [
    {
     "data": {
      "text/plain": [
       "array([[-1.64292182, -2.59393156, -0.73747872],\n",
       "       [-2.16873578, -2.69224331, -0.73747872],\n",
       "       [-2.36493502, -2.72567772, -0.73747872],\n",
       "       ...,\n",
       "       [-1.08179199, -0.71561013, -0.73747872],\n",
       "       [-1.29761116, -0.88672193, -0.73747872],\n",
       "       [-1.58013806, -0.98381692, -0.73747872]])"
      ]
     },
     "execution_count": 77,
     "metadata": {},
     "output_type": "execute_result"
    }
   ],
   "source": [
    "X"
   ]
  },
  {
   "cell_type": "code",
   "execution_count": 78,
   "id": "3e9660cf",
   "metadata": {},
   "outputs": [
    {
     "data": {
      "text/plain": [
       "16.0"
      ]
     },
     "execution_count": 78,
     "metadata": {},
     "output_type": "execute_result"
    }
   ],
   "source": [
    "y.max()"
   ]
  },
  {
   "cell_type": "code",
   "execution_count": 79,
   "id": "c0c6a61e",
   "metadata": {},
   "outputs": [],
   "source": [
    "# Create train/test\n",
    "X_train, X_test, y_train, y_test = train_test_split(    \n",
    "    X, y, test_size=0.25, random_state=42)"
   ]
  },
  {
   "cell_type": "code",
   "execution_count": 80,
   "id": "appointed-jonathan",
   "metadata": {},
   "outputs": [
    {
     "name": "stdout",
     "output_type": "stream",
     "text": [
      "Epoch 1/1000\n",
      "206/206 - 0s - loss: 19.8045 - val_loss: 13.5452\n",
      "Epoch 2/1000\n",
      "206/206 - 0s - loss: 13.4753 - val_loss: 12.7244\n",
      "Epoch 3/1000\n",
      "206/206 - 0s - loss: 13.1317 - val_loss: 12.8713\n",
      "Epoch 4/1000\n",
      "206/206 - 0s - loss: 13.0705 - val_loss: 12.6681\n",
      "Epoch 5/1000\n",
      "206/206 - 0s - loss: 12.9512 - val_loss: 12.2226\n",
      "Epoch 6/1000\n",
      "206/206 - 0s - loss: 12.7879 - val_loss: 12.1501\n",
      "Epoch 7/1000\n",
      "206/206 - 0s - loss: 12.6993 - val_loss: 12.5728\n",
      "Epoch 8/1000\n",
      "206/206 - 0s - loss: 12.6728 - val_loss: 11.9717\n",
      "Epoch 9/1000\n",
      "206/206 - 0s - loss: 12.6323 - val_loss: 12.1797\n",
      "Epoch 10/1000\n",
      "206/206 - 0s - loss: 12.4900 - val_loss: 12.0194\n",
      "Epoch 11/1000\n",
      "206/206 - 0s - loss: 12.4656 - val_loss: 12.0552\n",
      "Epoch 12/1000\n",
      "206/206 - 0s - loss: 12.4654 - val_loss: 11.9987\n",
      "Epoch 13/1000\n",
      "206/206 - 0s - loss: 12.3643 - val_loss: 11.9648\n",
      "Epoch 14/1000\n",
      "206/206 - 0s - loss: 12.3603 - val_loss: 11.9400\n",
      "Epoch 15/1000\n",
      "206/206 - 0s - loss: 12.3329 - val_loss: 12.0628\n",
      "Epoch 16/1000\n",
      "206/206 - 0s - loss: 12.4867 - val_loss: 12.4171\n",
      "Epoch 17/1000\n",
      "206/206 - 0s - loss: 12.3195 - val_loss: 11.8178\n",
      "Epoch 18/1000\n",
      "206/206 - 0s - loss: 12.3035 - val_loss: 11.8209\n",
      "Epoch 19/1000\n",
      "206/206 - 0s - loss: 12.2808 - val_loss: 11.9703\n",
      "Epoch 20/1000\n",
      "206/206 - 0s - loss: 12.3142 - val_loss: 11.8895\n",
      "Epoch 21/1000\n",
      "206/206 - 0s - loss: 12.2482 - val_loss: 11.8539\n",
      "Epoch 22/1000\n",
      "206/206 - 0s - loss: 12.2014 - val_loss: 11.8816\n",
      "Restoring model weights from the end of the best epoch.\n",
      "Epoch 00022: early stopping\n"
     ]
    },
    {
     "data": {
      "text/plain": [
       "<tensorflow.python.keras.callbacks.History at 0x2bb23ab4430>"
      ]
     },
     "execution_count": 80,
     "metadata": {},
     "output_type": "execute_result"
    }
   ],
   "source": [
    "from tensorflow.keras.models import Sequential\n",
    "from tensorflow.keras.layers import Dense, Activation\n",
    "from tensorflow.keras.callbacks import EarlyStopping\n",
    "\n",
    "# Build the neural network\n",
    "model = Sequential()\n",
    "model.add(Dense(128, input_dim=X.shape[1], activation='relu')) # Hidden 1\n",
    "model.add(Dense(64, activation='relu')) # Hidden 2\n",
    "model.add(Dense(32, activation='relu')) # Hidden 2\n",
    "\n",
    "\n",
    "model.add(Dense(1)) # Output\n",
    "model.compile(loss='mean_squared_error', optimizer='adam')\n",
    "monitor = EarlyStopping(monitor='val_loss', min_delta=1e-4, \n",
    "                        patience=5, verbose=1, mode='auto', \n",
    "                        restore_best_weights=True)\n",
    "model.fit(X_train,y_train,validation_data=(X_test,y_test),\n",
    "          callbacks=[monitor],verbose=2,epochs=1000)"
   ]
  },
  {
   "cell_type": "code",
   "execution_count": 81,
   "id": "banner-glance",
   "metadata": {},
   "outputs": [
    {
     "name": "stdout",
     "output_type": "stream",
     "text": [
      "Model: \"sequential_3\"\n",
      "_________________________________________________________________\n",
      "Layer (type)                 Output Shape              Param #   \n",
      "=================================================================\n",
      "dense_12 (Dense)             (None, 128)               512       \n",
      "_________________________________________________________________\n",
      "dense_13 (Dense)             (None, 64)                8256      \n",
      "_________________________________________________________________\n",
      "dense_14 (Dense)             (None, 32)                2080      \n",
      "_________________________________________________________________\n",
      "dense_15 (Dense)             (None, 1)                 33        \n",
      "=================================================================\n",
      "Total params: 10,881\n",
      "Trainable params: 10,881\n",
      "Non-trainable params: 0\n",
      "_________________________________________________________________\n"
     ]
    }
   ],
   "source": [
    "model.summary()"
   ]
  },
  {
   "cell_type": "code",
   "execution_count": 82,
   "id": "ethical-commons",
   "metadata": {},
   "outputs": [
    {
     "name": "stdout",
     "output_type": "stream",
     "text": [
      "Final score (MSE): 11.81780665972606\n"
     ]
    }
   ],
   "source": [
    "from sklearn import metrics\n",
    "\n",
    "# Predict\n",
    "y_pred = model.predict(X_test)\n",
    "\n",
    "# Measure MSE error.  \n",
    "score = metrics.mean_squared_error(y_pred,y_test)\n",
    "print(\"Final score (MSE): {}\".format(score))"
   ]
  },
  {
   "cell_type": "code",
   "execution_count": 83,
   "id": "illegal-explorer",
   "metadata": {},
   "outputs": [
    {
     "name": "stdout",
     "output_type": "stream",
     "text": [
      "Final score (RMSE): 3.4377036899253053\n"
     ]
    }
   ],
   "source": [
    "import numpy as np\n",
    "\n",
    "# Measure RMSE error.  RMSE is common for regression.\n",
    "score = np.sqrt(metrics.mean_squared_error(y_pred,y_test))\n",
    "print(\"Final score (RMSE): {}\".format(score))"
   ]
  },
  {
   "cell_type": "code",
   "execution_count": 84,
   "id": "hollow-hanging",
   "metadata": {},
   "outputs": [],
   "source": [
    "# Regression chart.\n",
    "def chart_regression(pred, y, sort=True):\n",
    "    t = pd.DataFrame({'pred': pred, 'y': y.flatten()})\n",
    "    if sort:\n",
    "        t.sort_values(by=['y'], inplace=True)\n",
    "    plt.plot(t['y'].tolist(), label='expected')\n",
    "    plt.plot(t['pred'].tolist(), label='prediction')\n",
    "    plt.ylabel('output')\n",
    "    plt.legend()\n",
    "    plt.show()"
   ]
  },
  {
   "cell_type": "code",
   "execution_count": 85,
   "id": "built-ocean",
   "metadata": {},
   "outputs": [
    {
     "data": {
      "image/png": "[encoded data removed]",
      "text/plain": [
       "<Figure size 432x288 with 1 Axes>"
      ]
     },
     "metadata": {
      "needs_background": "light"
     },
     "output_type": "display_data"
    }
   ],
   "source": [
    "\n",
    "# Plot the chart\n",
    "chart_regression(y_pred.flatten(),y_test)"
   ]
  },
  {
   "cell_type": "code",
   "execution_count": 86,
   "id": "coated-elizabeth",
   "metadata": {},
   "outputs": [
    {
     "data": {
      "text/plain": [
       "array([[12.00000323],\n",
       "       [ 3.99999677],\n",
       "       [ 0.        ],\n",
       "       ...,\n",
       "       [ 0.        ],\n",
       "       [ 0.        ],\n",
       "       [16.        ]])"
      ]
     },
     "execution_count": 86,
     "metadata": {},
     "output_type": "execute_result"
    }
   ],
   "source": [
    "y_test"
   ]
  },
  {
   "cell_type": "code",
   "execution_count": 87,
   "id": "sensitive-interest",
   "metadata": {},
   "outputs": [
    {
     "data": {
      "text/plain": [
       "17.715408"
      ]
     },
     "execution_count": 87,
     "metadata": {},
     "output_type": "execute_result"
    }
   ],
   "source": [
    "y_pred.max()"
   ]
  },
  {
   "cell_type": "code",
   "execution_count": 88,
   "id": "seventh-carroll",
   "metadata": {},
   "outputs": [
    {
     "data": {
      "text/plain": [
       "array([0., 0., 0., ..., 0., 0., 0.])"
      ]
     },
     "execution_count": 88,
     "metadata": {},
     "output_type": "execute_result"
    }
   ],
   "source": [
    "y.flatten()"
   ]
  },
  {
   "cell_type": "code",
   "execution_count": 89,
   "id": "activated-natural",
   "metadata": {},
   "outputs": [
    {
     "data": {
      "text/plain": [
       "array([9.416794  , 3.3705945 , 0.44152406, ..., 2.4623744 , 2.945189  ,\n",
       "       8.608681  ], dtype=float32)"
      ]
     },
     "execution_count": 89,
     "metadata": {},
     "output_type": "execute_result"
    }
   ],
   "source": [
    "y_pred.flatten()"
   ]
  },
  {
   "cell_type": "code",
   "execution_count": 90,
   "id": "hourly-posting",
   "metadata": {},
   "outputs": [
    {
     "data": {
      "text/plain": [
       "[<matplotlib.lines.Line2D at 0x2bb23f013a0>]"
      ]
     },
     "execution_count": 90,
     "metadata": {},
     "output_type": "execute_result"
    },
    {
     "data": {
      "image/png": "[encoded data removed]",
      "text/plain": [
       "<Figure size 432x288 with 1 Axes>"
      ]
     },
     "metadata": {
      "needs_background": "light"
     },
     "output_type": "display_data"
    }
   ],
   "source": [
    "plt.plot(y_test)\n",
    "plt.plot(y_pred)"
   ]
  },
  {
   "cell_type": "code",
   "execution_count": 91,
   "id": "worldwide-galaxy",
   "metadata": {},
   "outputs": [
    {
     "data": {
      "text/plain": [
       "[<matplotlib.lines.Line2D at 0x2bb250d9250>]"
      ]
     },
     "execution_count": 91,
     "metadata": {},
     "output_type": "execute_result"
    },
    {
     "data": {
      "image/png": "[encoded data removed]",
      "text/plain": [
       "<Figure size 432x288 with 1 Axes>"
      ]
     },
     "metadata": {
      "needs_background": "light"
     },
     "output_type": "display_data"
    }
   ],
   "source": [
    "plt.plot(y_pred)"
   ]
  },
  {
   "cell_type": "code",
   "execution_count": null,
   "id": "protecting-lobby",
   "metadata": {},
   "outputs": [],
   "source": []
  },
  {
   "cell_type": "code",
   "execution_count": null,
   "id": "ec26c6c3",
   "metadata": {},
   "outputs": [],
   "source": []
  },
  {
   "cell_type": "code",
   "execution_count": null,
   "id": "617ff0ff",
   "metadata": {},
   "outputs": [],
   "source": []
  },
  {
   "cell_type": "code",
   "execution_count": null,
   "id": "4951c6e9",
   "metadata": {},
   "outputs": [],
   "source": []
  }
 ],
 "metadata": {
  "kernelspec": {
   "display_name": "Python 3",
   "language": "python",
   "name": "python3"
  },
  "language_info": {
   "codemirror_mode": {
    "name": "ipython",
    "version": 3
   },
   "file_extension": ".py",
   "mimetype": "text/x-python",
   "name": "python",
   "nbconvert_exporter": "python",
   "pygments_lexer": "ipython3",
   "version": "3.8.8"
  }
 },
 "nbformat": 4,
 "nbformat_minor": 5
}
