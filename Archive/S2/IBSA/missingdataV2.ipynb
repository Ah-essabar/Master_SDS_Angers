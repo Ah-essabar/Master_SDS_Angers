{
 "cells": [
  {
   "cell_type": "markdown",
   "id": "67ea5a62-939b-4608-acbc-149252663e5b",
   "metadata": {},
   "source": [
    "## read data from files netatmo"
   ]
  },
  {
   "cell_type": "code",
   "execution_count": 174,
   "id": "b9cf5b9a-5cd2-45c1-a0b3-d837ccd70323",
   "metadata": {},
   "outputs": [],
   "source": [
    "import numpy as np\n",
    "#import tensorflow as tf\n",
    "#from tensorflow import keras\n",
    "import pandas as pd\n",
    "import seaborn as sns\n",
    "from pylab import rcParams\n",
    "import matplotlib.pyplot as plt\n",
    "from matplotlib import rc\n",
    "from pandas.plotting import register_matplotlib_converters\n",
    "\n",
    "from sklearn.model_selection import cross_val_score\n",
    "\n",
    "%matplotlib inline\n",
    "%config InlineBackend.figure_format='retina'\n",
    "\n",
    "register_matplotlib_converters()\n",
    "sns.set(style='whitegrid', palette='muted', font_scale=1.5)\n",
    "\n",
    "rcParams['figure.figsize'] = 22, 10\n",
    "\n",
    "RANDOM_SEED = 42"
   ]
  },
  {
   "cell_type": "code",
   "execution_count": 175,
   "id": "687e0074-3c00-4171-8591-f2f16fba2b66",
   "metadata": {},
   "outputs": [],
   "source": [
    "# supprimer d'abord les deux lignes dans le fichier d'export Neatatmo\n",
    "index_col=\"time\"\n",
    "data=pd.read_csv('dataCompletAvrilto18Juin.csv', sep=\";\", encoding = \"ISO-8859-1\", index_col=index_col)\n",
    "\n"
   ]
  },
  {
   "cell_type": "code",
   "execution_count": 176,
   "id": "cc6d38a5-1657-48b3-a65e-e66b8fe8b2d4",
   "metadata": {},
   "outputs": [
    {
     "data": {
      "text/html": [
       "<div><div id=64d25d90-96ac-471e-91aa-baa8e7912301 style=\"display:none; background-color:#9D6CFF; color:white; width:200px; height:30px; padding-left:5px; border-radius:4px; flex-direction:row; justify-content:space-around; align-items:center;\" onmouseover=\"this.style.backgroundColor='#BA9BF8'\" onmouseout=\"this.style.backgroundColor='#9D6CFF'\" onclick=\"window.commands?.execute('create-mitosheet-from-dataframe-output');\">See Full Dataframe in Mito</div> <script> if (window.commands.hasCommand('create-mitosheet-from-dataframe-output')) document.getElementById('64d25d90-96ac-471e-91aa-baa8e7912301').style.display = 'flex' </script> <table border=\"1\" class=\"dataframe\">\n",
       "  <thead>\n",
       "    <tr style=\"text-align: right;\">\n",
       "      <th></th>\n",
       "      <th>Temperature</th>\n",
       "      <th>Humidity</th>\n",
       "      <th>CO2</th>\n",
       "      <th>Noise</th>\n",
       "      <th>Pressure</th>\n",
       "      <th>activity</th>\n",
       "    </tr>\n",
       "    <tr>\n",
       "      <th>time</th>\n",
       "      <th></th>\n",
       "      <th></th>\n",
       "      <th></th>\n",
       "      <th></th>\n",
       "      <th></th>\n",
       "      <th></th>\n",
       "    </tr>\n",
       "  </thead>\n",
       "  <tbody>\n",
       "    <tr>\n",
       "      <th>1617235589</th>\n",
       "      <td>19.9</td>\n",
       "      <td>56</td>\n",
       "      <td>647.0</td>\n",
       "      <td>32.0</td>\n",
       "      <td>1017.5</td>\n",
       "      <td>Present</td>\n",
       "    </tr>\n",
       "    <tr>\n",
       "      <th>1617235891</th>\n",
       "      <td>19.9</td>\n",
       "      <td>56</td>\n",
       "      <td>602.0</td>\n",
       "      <td>32.0</td>\n",
       "      <td>1017.5</td>\n",
       "      <td>Present</td>\n",
       "    </tr>\n",
       "    <tr>\n",
       "      <th>1617236194</th>\n",
       "      <td>19.9</td>\n",
       "      <td>56</td>\n",
       "      <td>609.0</td>\n",
       "      <td>32.0</td>\n",
       "      <td>1017.6</td>\n",
       "      <td>Present</td>\n",
       "    </tr>\n",
       "    <tr>\n",
       "      <th>1617236497</th>\n",
       "      <td>19.9</td>\n",
       "      <td>56</td>\n",
       "      <td>613.0</td>\n",
       "      <td>32.0</td>\n",
       "      <td>1017.5</td>\n",
       "      <td>Present</td>\n",
       "    </tr>\n",
       "    <tr>\n",
       "      <th>1617236799</th>\n",
       "      <td>19.8</td>\n",
       "      <td>56</td>\n",
       "      <td>624.0</td>\n",
       "      <td>32.0</td>\n",
       "      <td>1017.5</td>\n",
       "      <td>Present</td>\n",
       "    </tr>\n",
       "  </tbody>\n",
       "</table></div>"
      ],
      "text/plain": [
       "            Temperature  Humidity    CO2  Noise  Pressure activity\n",
       "time                                                              \n",
       "1617235589         19.9        56  647.0   32.0    1017.5  Present\n",
       "1617235891         19.9        56  602.0   32.0    1017.5  Present\n",
       "1617236194         19.9        56  609.0   32.0    1017.6  Present\n",
       "1617236497         19.9        56  613.0   32.0    1017.5  Present\n",
       "1617236799         19.8        56  624.0   32.0    1017.5  Present"
      ]
     },
     "execution_count": 176,
     "metadata": {},
     "output_type": "execute_result"
    }
   ],
   "source": [
    "data.head()"
   ]
  },
  {
   "cell_type": "code",
   "execution_count": 177,
   "id": "c9b5b498-322f-4a12-a93c-9ff047d91875",
   "metadata": {},
   "outputs": [
    {
     "name": "stdout",
     "output_type": "stream",
     "text": [
      "<class 'pandas.core.frame.DataFrame'>\n",
      "Int64Index: 22523 entries, 1617235589 to 1624060883\n",
      "Data columns (total 6 columns):\n",
      " #   Column       Non-Null Count  Dtype  \n",
      "---  ------       --------------  -----  \n",
      " 0   Temperature  22523 non-null  float64\n",
      " 1   Humidity     22523 non-null  int64  \n",
      " 2   CO2          22523 non-null  float64\n",
      " 3   Noise        22523 non-null  float64\n",
      " 4   Pressure     22523 non-null  float64\n",
      " 5   activity     22523 non-null  object \n",
      "dtypes: float64(4), int64(1), object(1)\n",
      "memory usage: 1.2+ MB\n"
     ]
    }
   ],
   "source": [
    "data.info()"
   ]
  },
  {
   "cell_type": "code",
   "execution_count": 178,
   "id": "7146ebc8-b0f2-4b25-9783-88f3dd8672b2",
   "metadata": {},
   "outputs": [
    {
     "data": {
      "text/plain": [
       "Temperature    0\n",
       "Humidity       0\n",
       "CO2            0\n",
       "Noise          0\n",
       "Pressure       0\n",
       "activity       0\n",
       "dtype: int64"
      ]
     },
     "execution_count": 178,
     "metadata": {},
     "output_type": "execute_result"
    }
   ],
   "source": [
    "import pandas as pd\n",
    "bear_family_df = pd.DataFrame(data)\n",
    "bear_family_df.isna().sum()"
   ]
  },
  {
   "cell_type": "code",
   "execution_count": null,
   "id": "5421701c-2817-4412-bcdb-6850e95777bc",
   "metadata": {},
   "outputs": [],
   "source": []
  },
  {
   "cell_type": "code",
   "execution_count": 179,
   "id": "4adaf714-73e1-4e71-9753-d9b3b279c8c0",
   "metadata": {},
   "outputs": [],
   "source": [
    "#data.to_csv('data.csv') "
   ]
  },
  {
   "cell_type": "markdown",
   "id": "9f611f06-8a30-41dd-8b1c-a58d9a632af5",
   "metadata": {},
   "source": [
    "## Missing data generation"
   ]
  },
  {
   "cell_type": "code",
   "execution_count": 136,
   "id": "26806b79-103f-4d9d-8ee6-c734c340bf00",
   "metadata": {},
   "outputs": [],
   "source": [
    "\n",
    "#!pip install wget \n",
    "import wget\n",
    "#wget.download('https://raw.githubusercontent.com/BorisMuzellec/MissingDataOT/master/utils.py')\n",
    "\n",
    "import numpy as np\n",
    "import pandas as pd\n",
    "from utils import *\n",
    "import torch\n",
    "import seaborn as sns"
   ]
  },
  {
   "cell_type": "code",
   "execution_count": 137,
   "id": "1e97bf8f-31d1-40a6-8032-c7d02ebb4eb4",
   "metadata": {},
   "outputs": [],
   "source": [
    "# Fix the seed ------------------------------------------------------\n",
    "np.random.seed(0)"
   ]
  },
  {
   "cell_type": "code",
   "execution_count": 138,
   "id": "6a926b94-eaaa-43f3-8441-195cdfe2e89e",
   "metadata": {},
   "outputs": [],
   "source": [
    "# Function produce_NA for generating missing values ------------------------------------------------------\n",
    "\n",
    "def produce_NA(X, p_miss, mecha=\"MCAR\", opt=None, p_obs=None, q=None):\n",
    "    \"\"\"\n",
    "    Generate missing values for specifics missing-data mechanism and proportion of missing values. \n",
    "    \n",
    "    Parameters\n",
    "    ----------\n",
    "    X : torch.DoubleTensor or np.ndarray, shape (n, d)\n",
    "        Data for which missing values will be simulated.\n",
    "        If a numpy array is provided, it will be converted to a pytorch tensor.\n",
    "    p_miss : float\n",
    "        Proportion of missing values to generate for variables which will have missing values.\n",
    "    mecha : str, \n",
    "            Indicates the missing-data mechanism to be used. \"MCAR\" by default, \"MAR\", \"MNAR\" or \"MNARsmask\"\n",
    "    opt: str, \n",
    "         For mecha = \"MNAR\", it indicates how the missing-data mechanism is generated: using a logistic regression (\"logistic\"), quantile censorship (\"quantile\") or logistic regression for generating a self-masked MNAR mechanism (\"selfmasked\").\n",
    "    p_obs : float\n",
    "            If mecha = \"MAR\", or mecha = \"MNAR\" with opt = \"logistic\" or \"quanti\", proportion of variables with *no* missing values that will be used for the logistic masking model.\n",
    "    q : float\n",
    "        If mecha = \"MNAR\" and opt = \"quanti\", quantile level at which the cuts should occur.\n",
    "    \n",
    "    Returns\n",
    "    ----------\n",
    "    A dictionnary containing:\n",
    "    'X_init': the initial data matrix.\n",
    "    'X_incomp': the data with the generated missing values.\n",
    "    'mask': a matrix indexing the generated missing values.s\n",
    "    \"\"\"\n",
    "    \n",
    "    to_torch = torch.is_tensor(X) ## output a pytorch tensor, or a numpy array\n",
    "    if not to_torch:\n",
    "        X = X.astype(np.float32)\n",
    "        X = torch.from_numpy(X)\n",
    "    \n",
    "    if mecha == \"MAR\":\n",
    "        mask = MAR_mask(X, p_miss, p_obs).double()\n",
    "    elif mecha == \"MNAR\" and opt == \"logistic\":\n",
    "        mask = MNAR_mask_logistic(X, p_miss, p_obs).double()\n",
    "    elif mecha == \"MNAR\" and opt == \"quantile\":\n",
    "        mask = MNAR_mask_quantiles(X, p_miss, q, 1-p_obs).double()\n",
    "    elif mecha == \"MNAR\" and opt == \"selfmasked\":\n",
    "        mask = MNAR_self_mask_logistic(X, p_miss).double()\n",
    "    else:\n",
    "        mask = (torch.rand(X.shape) < p_miss).double()\n",
    "    \n",
    "    X_nas = X.clone()\n",
    "    X_nas[mask.bool()] = np.nan\n",
    "    \n",
    "    return {'X_init': X.double(), 'X_incomp': X_nas.double(), 'mask': mask}"
   ]
  },
  {
   "cell_type": "code",
   "execution_count": 139,
   "id": "99a4b44a-ee14-4ccf-8541-f169481388d4",
   "metadata": {},
   "outputs": [],
   "source": [
    "X = data.copy()\n",
    "X = X.drop([\"activity\"], axis=1)\n",
    "X = X.values\n"
   ]
  },
  {
   "cell_type": "code",
   "execution_count": 140,
   "id": "497d1c55-e135-4ea9-b627-cc594fa998f0",
   "metadata": {},
   "outputs": [],
   "source": [
    "from sklearn.preprocessing import StandardScaler\n",
    "scaler = StandardScaler()\n",
    "datascaler=scaler.fit(X)\n",
    "X= datascaler.transform(X)"
   ]
  },
  {
   "cell_type": "code",
   "execution_count": 169,
   "id": "2b67472f-10b8-40fb-b352-dd946d3da937",
   "metadata": {},
   "outputs": [
    {
     "name": "stdout",
     "output_type": "stream",
     "text": [
      "Percentage of newly generated missing values:  5.040181148159658  %\n"
     ]
    }
   ],
   "source": [
    "# Minimal example for generating missing data ------------------------\n",
    "X_miss_mcar = produce_NA(X, p_miss=0.050, mecha=\"MCAR\")\n",
    "\n",
    "X_mcar = X_miss_mcar['X_incomp']\n",
    "R_mcar = X_miss_mcar['mask']\n",
    "\n",
    "print(\"Percentage of newly generated missing values: \", (R_mcar.sum()).numpy()/np.prod(R_mcar.size())*100, \" %\")"
   ]
  },
  {
   "cell_type": "code",
   "execution_count": 170,
   "id": "2061267f-1078-48cb-94bf-eed2b756f4f6",
   "metadata": {},
   "outputs": [],
   "source": [
    "df = X_mcar\n",
    "df = df.numpy()\n",
    "mask=R_mcar\n",
    "mask = mask.numpy()"
   ]
  },
  {
   "cell_type": "code",
   "execution_count": 171,
   "id": "ff3aedc0-e67d-4c51-a4bc-b155ae23bd0b",
   "metadata": {},
   "outputs": [],
   "source": [
    "df = pd.DataFrame(data=df, columns=['Temperature', 'Humidity', 'CO2', 'Noise','Pressure'])\n",
    "mask = pd.DataFrame(data=mask, columns=['Temperature', 'Humidity', 'CO2', 'Noise','Pressure'])"
   ]
  },
  {
   "cell_type": "code",
   "execution_count": 172,
   "id": "d9918cb2-c2bc-457e-b134-a9ae8ccf5b82",
   "metadata": {},
   "outputs": [],
   "source": [
    "df['time']= data.index\n",
    "df.set_index('time',inplace = True)\n",
    "mask['time']= data.index\n",
    "mask.set_index('time',inplace = True)\n"
   ]
  },
  {
   "cell_type": "code",
   "execution_count": 173,
   "id": "7a68cae5-3faf-4457-974e-a3450d3a04e7",
   "metadata": {},
   "outputs": [],
   "source": [
    "df.to_csv('MCAR5.csv')\n",
    "mask.to_csv('mask5.csv')"
   ]
  },
  {
   "cell_type": "code",
   "execution_count": 122,
   "id": "cb020514-b7c1-4d73-a2fc-6ee7e39b21e7",
   "metadata": {},
   "outputs": [],
   "source": [
    "#df.to_csv('MCAR25.csv')\n",
    "# supprimer d'abord les deux lignes dans le fichier d'export Neatatmo\n",
    "index_col=\"time\"\n",
    "df=pd.read_csv('MCAR40.csv', sep=\",\", encoding = \"ISO-8859-1\", index_col=index_col)\n",
    "mask=pd.read_csv('mask40.csv', sep=\",\", encoding = \"ISO-8859-1\", index_col=index_col)\n",
    "mask=mask.values\n"
   ]
  },
  {
   "cell_type": "code",
   "execution_count": 123,
   "id": "2273a398-dea3-4734-9219-5e0fac351056",
   "metadata": {},
   "outputs": [
    {
     "data": {
      "text/plain": [
       "array([[0., 0., 1., 0., 0.],\n",
       "       [1., 1., 0., 0., 0.],\n",
       "       [1., 1., 0., 1., 1.],\n",
       "       ...,\n",
       "       [0., 1., 0., 0., 0.],\n",
       "       [1., 1., 0., 0., 0.],\n",
       "       [1., 1., 0., 0., 0.]])"
      ]
     },
     "execution_count": 123,
     "metadata": {},
     "output_type": "execute_result"
    }
   ],
   "source": [
    "mask"
   ]
  },
  {
   "cell_type": "markdown",
   "id": "1b943a2d-34c3-4731-8932-3bb13bcde046",
   "metadata": {},
   "source": [
    "## Time Series Imputation Techniques"
   ]
  },
  {
   "cell_type": "code",
   "execution_count": 124,
   "id": "1d111f6a-e495-4837-8577-20289d323859",
   "metadata": {},
   "outputs": [],
   "source": [
    "### Forward Fill\n",
    "# Impute airquality DataFrame with ffill method\n",
    "columnNam= 'Noise'\n",
    "a, taille=100,500\n",
    "\n",
    "ffill_imputed = df.copy(deep=True)\n",
    "ffill_imputed.fillna(method='ffill',inplace=True)\n",
    "ffill_imputed.fillna(method='bfill',inplace=True)\n",
    "\n",
    "bfill_imputed = df.copy(deep=True)\n",
    "bfill_imputed.fillna(method='bfill',inplace=True)\n",
    "bfill_imputed.fillna(method='ffill',inplace=True)\n",
    "\n",
    "quadratic_imput=df.copy(deep=True)\n",
    "quadratic_imput.interpolate(method='quadratic', inplace=True)\n",
    "quadratic_imput.fillna(method='ffill',inplace=True)\n",
    "quadratic_imput.fillna(method='bfill',inplace=True)\n",
    "\n",
    "\n",
    "nearest_imput=df.copy(deep=True)\n",
    "nearest_imput=nearest_imput.interpolate(method='nearest', inplace=True)\n",
    "\n",
    "linear_imput=df.copy(deep=True)\n",
    "linear_imput.interpolate(method='linear', inplace=True)\n",
    "linear_imput.fillna(method='ffill',inplace=True)\n",
    "linear_imput.fillna(method='bfill',inplace=True)\n"
   ]
  },
  {
   "cell_type": "code",
   "execution_count": 125,
   "id": "79c2ab82-bf20-460d-aca7-935be5c0e9a1",
   "metadata": {},
   "outputs": [
    {
     "data": {
      "text/plain": [
       "0    0\n",
       "1    0\n",
       "2    0\n",
       "3    0\n",
       "4    0\n",
       "dtype: int64"
      ]
     },
     "execution_count": 125,
     "metadata": {},
     "output_type": "execute_result"
    }
   ],
   "source": [
    "import pandas as pd\n",
    "bear_family_df = pd.DataFrame(X)\n",
    "bear_family_df.isna().sum()"
   ]
  },
  {
   "cell_type": "code",
   "execution_count": 126,
   "id": "bfa4fa3f-0801-42f2-8c6e-84b9479fff8d",
   "metadata": {},
   "outputs": [
    {
     "data": {
      "text/plain": [
       "Index(['Temperature', 'Humidity', 'CO2', 'Noise', 'Pressure'], dtype='object')"
      ]
     },
     "execution_count": 126,
     "metadata": {},
     "output_type": "execute_result"
    }
   ],
   "source": [
    "#quadratic_imput\n",
    "df.columns\n"
   ]
  },
  {
   "cell_type": "code",
   "execution_count": 127,
   "id": "20915ca8-1352-4b61-8fb8-53d3fde39497",
   "metadata": {},
   "outputs": [
    {
     "ename": "FileNotFoundError",
     "evalue": "[Errno 2] No such file or directory: 'df40MCAR.csv'",
     "output_type": "error",
     "traceback": [
      "\u001b[1;31m---------------------------------------------------------------------------\u001b[0m",
      "\u001b[1;31mFileNotFoundError\u001b[0m                         Traceback (most recent call last)",
      "\u001b[1;32m<ipython-input-127-e42a2c4426e4>\u001b[0m in \u001b[0;36m<module>\u001b[1;34m\u001b[0m\n\u001b[1;32m----> 1\u001b[1;33m \u001b[0mXarima\u001b[0m\u001b[1;33m=\u001b[0m\u001b[0mpd\u001b[0m\u001b[1;33m.\u001b[0m\u001b[0mread_csv\u001b[0m\u001b[1;33m(\u001b[0m\u001b[1;34m'df40MCAR.csv'\u001b[0m\u001b[1;33m,\u001b[0m \u001b[0msep\u001b[0m\u001b[1;33m=\u001b[0m\u001b[1;34m\",\"\u001b[0m\u001b[1;33m,\u001b[0m \u001b[0mencoding\u001b[0m \u001b[1;33m=\u001b[0m \u001b[1;34m\"ISO-8859-1\"\u001b[0m\u001b[1;33m)\u001b[0m\u001b[1;33m\u001b[0m\u001b[1;33m\u001b[0m\u001b[0m\n\u001b[0m\u001b[0;32m      2\u001b[0m \u001b[0mXarimaimputed\u001b[0m\u001b[1;33m=\u001b[0m\u001b[0mpd\u001b[0m\u001b[1;33m.\u001b[0m\u001b[0mread_csv\u001b[0m\u001b[1;33m(\u001b[0m\u001b[1;34m'kalmanArimafalse2.csv'\u001b[0m\u001b[1;33m,\u001b[0m \u001b[0msep\u001b[0m\u001b[1;33m=\u001b[0m\u001b[1;34m\",\"\u001b[0m\u001b[1;33m,\u001b[0m \u001b[0mencoding\u001b[0m \u001b[1;33m=\u001b[0m \u001b[1;34m\"ISO-8859-1\"\u001b[0m\u001b[1;33m)\u001b[0m\u001b[1;33m\u001b[0m\u001b[1;33m\u001b[0m\u001b[0m\n",
      "\u001b[1;32m~\\anaconda3\\lib\\site-packages\\pandas\\io\\parsers.py\u001b[0m in \u001b[0;36mread_csv\u001b[1;34m(filepath_or_buffer, sep, delimiter, header, names, index_col, usecols, squeeze, prefix, mangle_dupe_cols, dtype, engine, converters, true_values, false_values, skipinitialspace, skiprows, skipfooter, nrows, na_values, keep_default_na, na_filter, verbose, skip_blank_lines, parse_dates, infer_datetime_format, keep_date_col, date_parser, dayfirst, cache_dates, iterator, chunksize, compression, thousands, decimal, lineterminator, quotechar, quoting, doublequote, escapechar, comment, encoding, dialect, error_bad_lines, warn_bad_lines, delim_whitespace, low_memory, memory_map, float_precision, storage_options)\u001b[0m\n\u001b[0;32m    608\u001b[0m     \u001b[0mkwds\u001b[0m\u001b[1;33m.\u001b[0m\u001b[0mupdate\u001b[0m\u001b[1;33m(\u001b[0m\u001b[0mkwds_defaults\u001b[0m\u001b[1;33m)\u001b[0m\u001b[1;33m\u001b[0m\u001b[1;33m\u001b[0m\u001b[0m\n\u001b[0;32m    609\u001b[0m \u001b[1;33m\u001b[0m\u001b[0m\n\u001b[1;32m--> 610\u001b[1;33m     \u001b[1;32mreturn\u001b[0m \u001b[0m_read\u001b[0m\u001b[1;33m(\u001b[0m\u001b[0mfilepath_or_buffer\u001b[0m\u001b[1;33m,\u001b[0m \u001b[0mkwds\u001b[0m\u001b[1;33m)\u001b[0m\u001b[1;33m\u001b[0m\u001b[1;33m\u001b[0m\u001b[0m\n\u001b[0m\u001b[0;32m    611\u001b[0m \u001b[1;33m\u001b[0m\u001b[0m\n\u001b[0;32m    612\u001b[0m \u001b[1;33m\u001b[0m\u001b[0m\n",
      "\u001b[1;32m~\\anaconda3\\lib\\site-packages\\pandas\\io\\parsers.py\u001b[0m in \u001b[0;36m_read\u001b[1;34m(filepath_or_buffer, kwds)\u001b[0m\n\u001b[0;32m    460\u001b[0m \u001b[1;33m\u001b[0m\u001b[0m\n\u001b[0;32m    461\u001b[0m     \u001b[1;31m# Create the parser.\u001b[0m\u001b[1;33m\u001b[0m\u001b[1;33m\u001b[0m\u001b[1;33m\u001b[0m\u001b[0m\n\u001b[1;32m--> 462\u001b[1;33m     \u001b[0mparser\u001b[0m \u001b[1;33m=\u001b[0m \u001b[0mTextFileReader\u001b[0m\u001b[1;33m(\u001b[0m\u001b[0mfilepath_or_buffer\u001b[0m\u001b[1;33m,\u001b[0m \u001b[1;33m**\u001b[0m\u001b[0mkwds\u001b[0m\u001b[1;33m)\u001b[0m\u001b[1;33m\u001b[0m\u001b[1;33m\u001b[0m\u001b[0m\n\u001b[0m\u001b[0;32m    463\u001b[0m \u001b[1;33m\u001b[0m\u001b[0m\n\u001b[0;32m    464\u001b[0m     \u001b[1;32mif\u001b[0m \u001b[0mchunksize\u001b[0m \u001b[1;32mor\u001b[0m \u001b[0miterator\u001b[0m\u001b[1;33m:\u001b[0m\u001b[1;33m\u001b[0m\u001b[1;33m\u001b[0m\u001b[0m\n",
      "\u001b[1;32m~\\anaconda3\\lib\\site-packages\\pandas\\io\\parsers.py\u001b[0m in \u001b[0;36m__init__\u001b[1;34m(self, f, engine, **kwds)\u001b[0m\n\u001b[0;32m    817\u001b[0m             \u001b[0mself\u001b[0m\u001b[1;33m.\u001b[0m\u001b[0moptions\u001b[0m\u001b[1;33m[\u001b[0m\u001b[1;34m\"has_index_names\"\u001b[0m\u001b[1;33m]\u001b[0m \u001b[1;33m=\u001b[0m \u001b[0mkwds\u001b[0m\u001b[1;33m[\u001b[0m\u001b[1;34m\"has_index_names\"\u001b[0m\u001b[1;33m]\u001b[0m\u001b[1;33m\u001b[0m\u001b[1;33m\u001b[0m\u001b[0m\n\u001b[0;32m    818\u001b[0m \u001b[1;33m\u001b[0m\u001b[0m\n\u001b[1;32m--> 819\u001b[1;33m         \u001b[0mself\u001b[0m\u001b[1;33m.\u001b[0m\u001b[0m_engine\u001b[0m \u001b[1;33m=\u001b[0m \u001b[0mself\u001b[0m\u001b[1;33m.\u001b[0m\u001b[0m_make_engine\u001b[0m\u001b[1;33m(\u001b[0m\u001b[0mself\u001b[0m\u001b[1;33m.\u001b[0m\u001b[0mengine\u001b[0m\u001b[1;33m)\u001b[0m\u001b[1;33m\u001b[0m\u001b[1;33m\u001b[0m\u001b[0m\n\u001b[0m\u001b[0;32m    820\u001b[0m \u001b[1;33m\u001b[0m\u001b[0m\n\u001b[0;32m    821\u001b[0m     \u001b[1;32mdef\u001b[0m \u001b[0mclose\u001b[0m\u001b[1;33m(\u001b[0m\u001b[0mself\u001b[0m\u001b[1;33m)\u001b[0m\u001b[1;33m:\u001b[0m\u001b[1;33m\u001b[0m\u001b[1;33m\u001b[0m\u001b[0m\n",
      "\u001b[1;32m~\\anaconda3\\lib\\site-packages\\pandas\\io\\parsers.py\u001b[0m in \u001b[0;36m_make_engine\u001b[1;34m(self, engine)\u001b[0m\n\u001b[0;32m   1048\u001b[0m             )\n\u001b[0;32m   1049\u001b[0m         \u001b[1;31m# error: Too many arguments for \"ParserBase\"\u001b[0m\u001b[1;33m\u001b[0m\u001b[1;33m\u001b[0m\u001b[1;33m\u001b[0m\u001b[0m\n\u001b[1;32m-> 1050\u001b[1;33m         \u001b[1;32mreturn\u001b[0m \u001b[0mmapping\u001b[0m\u001b[1;33m[\u001b[0m\u001b[0mengine\u001b[0m\u001b[1;33m]\u001b[0m\u001b[1;33m(\u001b[0m\u001b[0mself\u001b[0m\u001b[1;33m.\u001b[0m\u001b[0mf\u001b[0m\u001b[1;33m,\u001b[0m \u001b[1;33m**\u001b[0m\u001b[0mself\u001b[0m\u001b[1;33m.\u001b[0m\u001b[0moptions\u001b[0m\u001b[1;33m)\u001b[0m  \u001b[1;31m# type: ignore[call-arg]\u001b[0m\u001b[1;33m\u001b[0m\u001b[1;33m\u001b[0m\u001b[0m\n\u001b[0m\u001b[0;32m   1051\u001b[0m \u001b[1;33m\u001b[0m\u001b[0m\n\u001b[0;32m   1052\u001b[0m     \u001b[1;32mdef\u001b[0m \u001b[0m_failover_to_python\u001b[0m\u001b[1;33m(\u001b[0m\u001b[0mself\u001b[0m\u001b[1;33m)\u001b[0m\u001b[1;33m:\u001b[0m\u001b[1;33m\u001b[0m\u001b[1;33m\u001b[0m\u001b[0m\n",
      "\u001b[1;32m~\\anaconda3\\lib\\site-packages\\pandas\\io\\parsers.py\u001b[0m in \u001b[0;36m__init__\u001b[1;34m(self, src, **kwds)\u001b[0m\n\u001b[0;32m   1865\u001b[0m \u001b[1;33m\u001b[0m\u001b[0m\n\u001b[0;32m   1866\u001b[0m         \u001b[1;31m# open handles\u001b[0m\u001b[1;33m\u001b[0m\u001b[1;33m\u001b[0m\u001b[1;33m\u001b[0m\u001b[0m\n\u001b[1;32m-> 1867\u001b[1;33m         \u001b[0mself\u001b[0m\u001b[1;33m.\u001b[0m\u001b[0m_open_handles\u001b[0m\u001b[1;33m(\u001b[0m\u001b[0msrc\u001b[0m\u001b[1;33m,\u001b[0m \u001b[0mkwds\u001b[0m\u001b[1;33m)\u001b[0m\u001b[1;33m\u001b[0m\u001b[1;33m\u001b[0m\u001b[0m\n\u001b[0m\u001b[0;32m   1868\u001b[0m         \u001b[1;32massert\u001b[0m \u001b[0mself\u001b[0m\u001b[1;33m.\u001b[0m\u001b[0mhandles\u001b[0m \u001b[1;32mis\u001b[0m \u001b[1;32mnot\u001b[0m \u001b[1;32mNone\u001b[0m\u001b[1;33m\u001b[0m\u001b[1;33m\u001b[0m\u001b[0m\n\u001b[0;32m   1869\u001b[0m         \u001b[1;32mfor\u001b[0m \u001b[0mkey\u001b[0m \u001b[1;32min\u001b[0m \u001b[1;33m(\u001b[0m\u001b[1;34m\"storage_options\"\u001b[0m\u001b[1;33m,\u001b[0m \u001b[1;34m\"encoding\"\u001b[0m\u001b[1;33m,\u001b[0m \u001b[1;34m\"memory_map\"\u001b[0m\u001b[1;33m,\u001b[0m \u001b[1;34m\"compression\"\u001b[0m\u001b[1;33m)\u001b[0m\u001b[1;33m:\u001b[0m\u001b[1;33m\u001b[0m\u001b[1;33m\u001b[0m\u001b[0m\n",
      "\u001b[1;32m~\\anaconda3\\lib\\site-packages\\pandas\\io\\parsers.py\u001b[0m in \u001b[0;36m_open_handles\u001b[1;34m(self, src, kwds)\u001b[0m\n\u001b[0;32m   1360\u001b[0m         \u001b[0mLet\u001b[0m \u001b[0mthe\u001b[0m \u001b[0mreaders\u001b[0m \u001b[0mopen\u001b[0m \u001b[0mIOHanldes\u001b[0m \u001b[0mafter\u001b[0m \u001b[0mthey\u001b[0m \u001b[0mare\u001b[0m \u001b[0mdone\u001b[0m \u001b[1;32mwith\u001b[0m \u001b[0mtheir\u001b[0m \u001b[0mpotential\u001b[0m \u001b[0mraises\u001b[0m\u001b[1;33m.\u001b[0m\u001b[1;33m\u001b[0m\u001b[1;33m\u001b[0m\u001b[0m\n\u001b[0;32m   1361\u001b[0m         \"\"\"\n\u001b[1;32m-> 1362\u001b[1;33m         self.handles = get_handle(\n\u001b[0m\u001b[0;32m   1363\u001b[0m             \u001b[0msrc\u001b[0m\u001b[1;33m,\u001b[0m\u001b[1;33m\u001b[0m\u001b[1;33m\u001b[0m\u001b[0m\n\u001b[0;32m   1364\u001b[0m             \u001b[1;34m\"r\"\u001b[0m\u001b[1;33m,\u001b[0m\u001b[1;33m\u001b[0m\u001b[1;33m\u001b[0m\u001b[0m\n",
      "\u001b[1;32m~\\anaconda3\\lib\\site-packages\\pandas\\io\\common.py\u001b[0m in \u001b[0;36mget_handle\u001b[1;34m(path_or_buf, mode, encoding, compression, memory_map, is_text, errors, storage_options)\u001b[0m\n\u001b[0;32m    640\u001b[0m                 \u001b[0merrors\u001b[0m \u001b[1;33m=\u001b[0m \u001b[1;34m\"replace\"\u001b[0m\u001b[1;33m\u001b[0m\u001b[1;33m\u001b[0m\u001b[0m\n\u001b[0;32m    641\u001b[0m             \u001b[1;31m# Encoding\u001b[0m\u001b[1;33m\u001b[0m\u001b[1;33m\u001b[0m\u001b[1;33m\u001b[0m\u001b[0m\n\u001b[1;32m--> 642\u001b[1;33m             handle = open(\n\u001b[0m\u001b[0;32m    643\u001b[0m                 \u001b[0mhandle\u001b[0m\u001b[1;33m,\u001b[0m\u001b[1;33m\u001b[0m\u001b[1;33m\u001b[0m\u001b[0m\n\u001b[0;32m    644\u001b[0m                 \u001b[0mioargs\u001b[0m\u001b[1;33m.\u001b[0m\u001b[0mmode\u001b[0m\u001b[1;33m,\u001b[0m\u001b[1;33m\u001b[0m\u001b[1;33m\u001b[0m\u001b[0m\n",
      "\u001b[1;31mFileNotFoundError\u001b[0m: [Errno 2] No such file or directory: 'df40MCAR.csv'"
     ]
    }
   ],
   "source": [
    "Xarima=pd.read_csv('df40MCAR.csv', sep=\",\", encoding = \"ISO-8859-1\")\n",
    "Xarimaimputed=pd.read_csv('kalmanArimafalse2.csv', sep=\",\", encoding = \"ISO-8859-1\")"
   ]
  },
  {
   "cell_type": "code",
   "execution_count": 458,
   "id": "103dc72a-1864-40f8-9f91-bd79a03f93cf",
   "metadata": {},
   "outputs": [],
   "source": [
    "Xarimaimputed=Xarimaimputed.set_index('Timestamp')"
   ]
  },
  {
   "cell_type": "code",
   "execution_count": null,
   "id": "bdb1b2a2-3bc3-4cf2-89f7-5c51b4e0485d",
   "metadata": {},
   "outputs": [],
   "source": []
  },
  {
   "cell_type": "code",
   "execution_count": 459,
   "id": "1449e796-7dbc-4f10-a362-0805cfa4df64",
   "metadata": {},
   "outputs": [
    {
     "name": "stdout",
     "output_type": "stream",
     "text": [
      "kalmanArimafalse2   Temperature tensor(0.0150)\n",
      "kalmanArimafalse2   Humidity tensor(0.0240)\n",
      "kalmanArimafalse2   CO2 tensor(0.1017)\n",
      "kalmanArimafalse2   Noise tensor(0.3416)\n",
      "kalmanArimafalse2   Pressure tensor(0.0091)\n",
      "kalmanArimafalse2  all  tensor(0.1599)\n"
     ]
    }
   ],
   "source": [
    "Ximp= Xarimaimputed.values\n",
    "\n",
    "for i in range(5):\n",
    "    print(\"kalmanArimafalse2\", \"  \"+str(df.columns[i]), RMSE(Ximp[:,i], X[:,i], mask[:,i]))\n",
    "print(\"kalmanArimafalse2\", \" all \", RMSE(Ximp, X, mask))\n",
    "   "
   ]
  },
  {
   "cell_type": "code",
   "execution_count": 439,
   "id": "c7f974e1-4928-40a6-a83b-0ed55c8ecb36",
   "metadata": {},
   "outputs": [
    {
     "data": {
      "text/html": [
       "<div><div id=70542972-5abd-4653-bd52-ba5b489267f2 style=\"display:none; background-color:#9D6CFF; color:white; width:200px; height:30px; padding-left:5px; border-radius:4px; flex-direction:row; justify-content:space-around; align-items:center;\" onmouseover=\"this.style.backgroundColor='#BA9BF8'\" onmouseout=\"this.style.backgroundColor='#9D6CFF'\" onclick=\"window.commands?.execute('create-mitosheet-from-dataframe-output');\">See Full Dataframe in Mito</div> <script> if (window.commands.hasCommand('create-mitosheet-from-dataframe-output')) document.getElementById('70542972-5abd-4653-bd52-ba5b489267f2').style.display = 'flex' </script> <table border=\"1\" class=\"dataframe\">\n",
       "  <thead>\n",
       "    <tr style=\"text-align: right;\">\n",
       "      <th></th>\n",
       "      <th>Temperature</th>\n",
       "      <th>Humidity</th>\n",
       "      <th>CO2</th>\n",
       "      <th>Noise</th>\n",
       "      <th>Pressure</th>\n",
       "    </tr>\n",
       "    <tr>\n",
       "      <th>Timestamp</th>\n",
       "      <th></th>\n",
       "      <th></th>\n",
       "      <th></th>\n",
       "      <th></th>\n",
       "      <th></th>\n",
       "    </tr>\n",
       "  </thead>\n",
       "  <tbody>\n",
       "    <tr>\n",
       "      <th>1617228022</th>\n",
       "      <td>0.537645</td>\n",
       "      <td>-0.183868</td>\n",
       "      <td>NaN</td>\n",
       "      <td>-0.488016</td>\n",
       "      <td>-0.026767</td>\n",
       "    </tr>\n",
       "    <tr>\n",
       "      <th>1617228324</th>\n",
       "      <td>NaN</td>\n",
       "      <td>-0.183868</td>\n",
       "      <td>0.364470</td>\n",
       "      <td>-0.488016</td>\n",
       "      <td>-0.014863</td>\n",
       "    </tr>\n",
       "    <tr>\n",
       "      <th>1617228626</th>\n",
       "      <td>NaN</td>\n",
       "      <td>-0.183868</td>\n",
       "      <td>0.450638</td>\n",
       "      <td>NaN</td>\n",
       "      <td>NaN</td>\n",
       "    </tr>\n",
       "    <tr>\n",
       "      <th>1617228929</th>\n",
       "      <td>NaN</td>\n",
       "      <td>-0.183868</td>\n",
       "      <td>0.364470</td>\n",
       "      <td>NaN</td>\n",
       "      <td>-0.026767</td>\n",
       "    </tr>\n",
       "    <tr>\n",
       "      <th>1617229232</th>\n",
       "      <td>0.506075</td>\n",
       "      <td>NaN</td>\n",
       "      <td>0.364470</td>\n",
       "      <td>-0.488016</td>\n",
       "      <td>NaN</td>\n",
       "    </tr>\n",
       "    <tr>\n",
       "      <th>1617229535</th>\n",
       "      <td>0.506075</td>\n",
       "      <td>NaN</td>\n",
       "      <td>0.283371</td>\n",
       "      <td>-0.488016</td>\n",
       "      <td>NaN</td>\n",
       "    </tr>\n",
       "    <tr>\n",
       "      <th>1617229838</th>\n",
       "      <td>0.506075</td>\n",
       "      <td>-0.318494</td>\n",
       "      <td>0.475981</td>\n",
       "      <td>NaN</td>\n",
       "      <td>NaN</td>\n",
       "    </tr>\n",
       "    <tr>\n",
       "      <th>1617230140</th>\n",
       "      <td>0.506075</td>\n",
       "      <td>NaN</td>\n",
       "      <td>0.283371</td>\n",
       "      <td>-0.488016</td>\n",
       "      <td>-0.014863</td>\n",
       "    </tr>\n",
       "    <tr>\n",
       "      <th>1617230443</th>\n",
       "      <td>0.506075</td>\n",
       "      <td>-0.318494</td>\n",
       "      <td>0.328989</td>\n",
       "      <td>NaN</td>\n",
       "      <td>NaN</td>\n",
       "    </tr>\n",
       "    <tr>\n",
       "      <th>1617230746</th>\n",
       "      <td>0.506075</td>\n",
       "      <td>NaN</td>\n",
       "      <td>0.258028</td>\n",
       "      <td>-0.488016</td>\n",
       "      <td>-0.014863</td>\n",
       "    </tr>\n",
       "  </tbody>\n",
       "</table></div>"
      ],
      "text/plain": [
       "            Temperature  Humidity       CO2     Noise  Pressure\n",
       "Timestamp                                                      \n",
       "1617228022     0.537645 -0.183868       NaN -0.488016 -0.026767\n",
       "1617228324          NaN -0.183868  0.364470 -0.488016 -0.014863\n",
       "1617228626          NaN -0.183868  0.450638       NaN       NaN\n",
       "1617228929          NaN -0.183868  0.364470       NaN -0.026767\n",
       "1617229232     0.506075       NaN  0.364470 -0.488016       NaN\n",
       "1617229535     0.506075       NaN  0.283371 -0.488016       NaN\n",
       "1617229838     0.506075 -0.318494  0.475981       NaN       NaN\n",
       "1617230140     0.506075       NaN  0.283371 -0.488016 -0.014863\n",
       "1617230443     0.506075 -0.318494  0.328989       NaN       NaN\n",
       "1617230746     0.506075       NaN  0.258028 -0.488016 -0.014863"
      ]
     },
     "execution_count": 439,
     "metadata": {},
     "output_type": "execute_result"
    }
   ],
   "source": [
    "df.head(10)"
   ]
  },
  {
   "cell_type": "code",
   "execution_count": 440,
   "id": "d7450e4e-3fd0-4c6c-ae0a-47fa93abbda3",
   "metadata": {},
   "outputs": [
    {
     "data": {
      "text/html": [
       "<div><div id=8ce829f3-1e5c-4ea7-bb8a-fb2535d31881 style=\"display:none; background-color:#9D6CFF; color:white; width:200px; height:30px; padding-left:5px; border-radius:4px; flex-direction:row; justify-content:space-around; align-items:center;\" onmouseover=\"this.style.backgroundColor='#BA9BF8'\" onmouseout=\"this.style.backgroundColor='#9D6CFF'\" onclick=\"window.commands?.execute('create-mitosheet-from-dataframe-output');\">See Full Dataframe in Mito</div> <script> if (window.commands.hasCommand('create-mitosheet-from-dataframe-output')) document.getElementById('8ce829f3-1e5c-4ea7-bb8a-fb2535d31881').style.display = 'flex' </script> <table border=\"1\" class=\"dataframe\">\n",
       "  <thead>\n",
       "    <tr style=\"text-align: right;\">\n",
       "      <th></th>\n",
       "      <th>Timestamp</th>\n",
       "      <th>Temperature</th>\n",
       "      <th>Humidity</th>\n",
       "      <th>CO2</th>\n",
       "      <th>Noise</th>\n",
       "      <th>Pressure</th>\n",
       "    </tr>\n",
       "  </thead>\n",
       "  <tbody>\n",
       "    <tr>\n",
       "      <th>0</th>\n",
       "      <td>1617228022</td>\n",
       "      <td>0.537645</td>\n",
       "      <td>-0.183868</td>\n",
       "      <td>NaN</td>\n",
       "      <td>-0.488016</td>\n",
       "      <td>-0.026767</td>\n",
       "    </tr>\n",
       "    <tr>\n",
       "      <th>1</th>\n",
       "      <td>1617228324</td>\n",
       "      <td>NaN</td>\n",
       "      <td>-0.183868</td>\n",
       "      <td>0.364470</td>\n",
       "      <td>-0.488016</td>\n",
       "      <td>-0.014863</td>\n",
       "    </tr>\n",
       "    <tr>\n",
       "      <th>2</th>\n",
       "      <td>1617228626</td>\n",
       "      <td>NaN</td>\n",
       "      <td>-0.183868</td>\n",
       "      <td>0.450638</td>\n",
       "      <td>NaN</td>\n",
       "      <td>NaN</td>\n",
       "    </tr>\n",
       "    <tr>\n",
       "      <th>3</th>\n",
       "      <td>1617228929</td>\n",
       "      <td>NaN</td>\n",
       "      <td>-0.183868</td>\n",
       "      <td>0.364470</td>\n",
       "      <td>NaN</td>\n",
       "      <td>-0.026767</td>\n",
       "    </tr>\n",
       "    <tr>\n",
       "      <th>4</th>\n",
       "      <td>1617229232</td>\n",
       "      <td>0.506075</td>\n",
       "      <td>NaN</td>\n",
       "      <td>0.364470</td>\n",
       "      <td>-0.488016</td>\n",
       "      <td>NaN</td>\n",
       "    </tr>\n",
       "    <tr>\n",
       "      <th>5</th>\n",
       "      <td>1617229535</td>\n",
       "      <td>0.506075</td>\n",
       "      <td>NaN</td>\n",
       "      <td>0.283371</td>\n",
       "      <td>-0.488016</td>\n",
       "      <td>NaN</td>\n",
       "    </tr>\n",
       "    <tr>\n",
       "      <th>6</th>\n",
       "      <td>1617229838</td>\n",
       "      <td>0.506075</td>\n",
       "      <td>-0.318494</td>\n",
       "      <td>0.475981</td>\n",
       "      <td>NaN</td>\n",
       "      <td>NaN</td>\n",
       "    </tr>\n",
       "    <tr>\n",
       "      <th>7</th>\n",
       "      <td>1617230140</td>\n",
       "      <td>0.506075</td>\n",
       "      <td>NaN</td>\n",
       "      <td>0.283371</td>\n",
       "      <td>-0.488016</td>\n",
       "      <td>-0.014863</td>\n",
       "    </tr>\n",
       "    <tr>\n",
       "      <th>8</th>\n",
       "      <td>1617230443</td>\n",
       "      <td>0.506075</td>\n",
       "      <td>-0.318494</td>\n",
       "      <td>0.328989</td>\n",
       "      <td>NaN</td>\n",
       "      <td>NaN</td>\n",
       "    </tr>\n",
       "    <tr>\n",
       "      <th>9</th>\n",
       "      <td>1617230746</td>\n",
       "      <td>0.506075</td>\n",
       "      <td>NaN</td>\n",
       "      <td>0.258028</td>\n",
       "      <td>-0.488016</td>\n",
       "      <td>-0.014863</td>\n",
       "    </tr>\n",
       "  </tbody>\n",
       "</table></div>"
      ],
      "text/plain": [
       "    Timestamp  Temperature  Humidity       CO2     Noise  Pressure\n",
       "0  1617228022     0.537645 -0.183868       NaN -0.488016 -0.026767\n",
       "1  1617228324          NaN -0.183868  0.364470 -0.488016 -0.014863\n",
       "2  1617228626          NaN -0.183868  0.450638       NaN       NaN\n",
       "3  1617228929          NaN -0.183868  0.364470       NaN -0.026767\n",
       "4  1617229232     0.506075       NaN  0.364470 -0.488016       NaN\n",
       "5  1617229535     0.506075       NaN  0.283371 -0.488016       NaN\n",
       "6  1617229838     0.506075 -0.318494  0.475981       NaN       NaN\n",
       "7  1617230140     0.506075       NaN  0.283371 -0.488016 -0.014863\n",
       "8  1617230443     0.506075 -0.318494  0.328989       NaN       NaN\n",
       "9  1617230746     0.506075       NaN  0.258028 -0.488016 -0.014863"
      ]
     },
     "execution_count": 440,
     "metadata": {},
     "output_type": "execute_result"
    }
   ],
   "source": [
    "Xarima.head(10)"
   ]
  },
  {
   "cell_type": "code",
   "execution_count": 130,
   "id": "4340deee-48af-4f0a-88b6-9bf09263e352",
   "metadata": {},
   "outputs": [
    {
     "name": "stdout",
     "output_type": "stream",
     "text": [
      "KNN K=  4\n",
      "Back-fill   Temperature 0.03175095657160836\n",
      "Back-fill   Humidity 0.038948484264947694\n",
      "Back-fill   CO2 0.1614726307539026\n",
      "Back-fill   Noise 0.5508050010529817\n",
      "Back-fill   Pressure 0.015775567918436276\n",
      "Back-fill  all  0.25767197775981704\n",
      "Forward-fill   Temperature 0.03147886691560108\n",
      "Forward-fill   Humidity 0.039286124192342876\n",
      "Forward-fill   CO2 0.22012937135240931\n",
      "Forward-fill   Noise 0.5896686936529428\n",
      "Forward-fill   Pressure 0.015593867291991173\n",
      "Forward-fill  all  0.2823144627374127\n",
      "Linear Interpolation   Temperature 0.01805187027754394\n",
      "Linear Interpolation   Humidity 0.0257160349019101\n",
      "Linear Interpolation   CO2 0.09212900666330763\n",
      "Linear Interpolation   Noise 0.4342927178363557\n",
      "Linear Interpolation   Pressure 0.010008473200416047\n",
      "Linear Interpolation  all  0.19903791129778176\n",
      "Quadratic Interpolation   Temperature 0.02700093864410866\n",
      "Quadratic Interpolation   Humidity 0.031681410342384884\n",
      "Quadratic Interpolation   CO2 0.12764564830998495\n",
      "Quadratic Interpolation   Noise 0.6475332101821372\n",
      "Quadratic Interpolation   Pressure 0.012863538512852274\n",
      "Quadratic Interpolation  all  0.29572899552896165\n",
      "KNN   Temperature 0.9591422295728846\n",
      "KNN   Humidity 0.9486757362692424\n",
      "KNN   CO2 0.9785518782016456\n",
      "KNN   Noise 0.9804934120545541\n",
      "KNN   Pressure 1.0010266699366566\n",
      "KNN  all  0.9737635126658138\n"
     ]
    }
   ],
   "source": [
    "# Create a dictionary of interpolations\n",
    "interpolations = {'Back-fill':bfill_imputed, 'Forward-fill':ffill_imputed,\n",
    "                  'Linear Interpolation': linear_imput, 'Quadratic Interpolation': quadratic_imput, 'KNN': KNNimputed}\n",
    "#mask = R_mcar\n",
    "\n",
    "n_neighbors=4\n",
    "\n",
    "# Loop over axes and interpolations\n",
    "print(\"KNN K= \", n_neighbors)\n",
    "for df_key in  interpolations:\n",
    "    if df_key == 'KNN' :\n",
    "        Ximp = interpolations[df_key]\n",
    "    else :\n",
    "        Ximp = interpolations[df_key].values\n",
    "        \n",
    "    for i in range(5):\n",
    "        print(df_key, \"  \"+str(df.columns[i]), RMSE(Ximp[:,i], X[:,i], mask[:,i]))\n",
    "        \n",
    "    print(df_key, \" all \", RMSE(Ximp, X, mask))  \n"
   ]
  },
  {
   "cell_type": "code",
   "execution_count": null,
   "id": "35bc432a-cd8c-47aa-bd8d-be238664b1d9",
   "metadata": {},
   "outputs": [],
   "source": []
  },
  {
   "cell_type": "code",
   "execution_count": 100,
   "id": "5a74a991-0ff2-41ce-803e-72ce37fb5cc8",
   "metadata": {},
   "outputs": [
    {
     "data": {
      "text/plain": [
       "array([[0., 1., 1., 0., 0.],\n",
       "       [1., 0., 0., 1., 1.],\n",
       "       [0., 0., 0., 1., 0.],\n",
       "       ...,\n",
       "       [0., 0., 1., 1., 1.],\n",
       "       [0., 0., 0., 1., 0.],\n",
       "       [0., 0., 1., 1., 0.]])"
      ]
     },
     "execution_count": 100,
     "metadata": {},
     "output_type": "execute_result"
    }
   ],
   "source": []
  },
  {
   "cell_type": "code",
   "execution_count": 128,
   "id": "e057558c-9448-4091-a761-4f0be2a47cf2",
   "metadata": {},
   "outputs": [
    {
     "name": "stdout",
     "output_type": "stream",
     "text": [
      "k =  5\n",
      "KNN   Temperature 1.043004073563482\n",
      "KNN   Humidity 1.0305475858413577\n",
      "KNN   CO2 1.0855876141312244\n",
      "KNN   Noise 1.1008099671014584\n",
      "KNN   Pressure 1.1097210918848375\n",
      "KNN  all  1.0744014512964648\n",
      "k =  10\n",
      "KNN   Temperature 1.003171552814071\n",
      "KNN   Humidity 0.9874073571237283\n",
      "KNN   CO2 1.0351721888048317\n",
      "KNN   Noise 1.0469770223230095\n",
      "KNN   Pressure 1.0574624312960172\n",
      "KNN  all  1.0263920283869759\n",
      "k =  30\n",
      "KNN   Temperature 0.9591422295728846\n",
      "KNN   Humidity 0.9486757362692424\n",
      "KNN   CO2 0.9785518782016456\n",
      "KNN   Noise 0.9804934120545541\n",
      "KNN   Pressure 1.0010266699366566\n",
      "KNN  all  0.9737635126658138\n"
     ]
    }
   ],
   "source": [
    "import numpy as np\n",
    "from sklearn.impute import KNNImputer\n",
    "X1 = df.copy()\n",
    "for k in [5,10,30]:\n",
    "    imputer = KNNImputer(n_neighbors=k)\n",
    "    KNNimputed = imputer.fit_transform(X1)\n",
    "    Ximp= KNNimputed\n",
    "    print(\"k = \",k)\n",
    "    for i in range(5):\n",
    "        print(\"KNN\", \"  \"+str(df.columns[i]), RMSE(Ximp[:,i], X[:,i], mask[:,i]))\n",
    "    print(\"KNN\", \" all \", RMSE(Ximp, X,mask))"
   ]
  },
  {
   "cell_type": "code",
   "execution_count": null,
   "id": "cdde41ca-09f7-4472-8a70-dd76b68298cc",
   "metadata": {},
   "outputs": [],
   "source": [
    "from sklearn.experimental import enable_iterative_imputer\n",
    "from sklearn.impute import IterativeImputer\n",
    "# Setting the random_state argument for reproducibility\n",
    "imputer = IterativeImputer(random_state=42)\n",
    "imputed = imputer.fit_transform(df)\n",
    "df_imputed = pd.DataFrame(imputed, columns=df.columns)\n",
    "df_key=\"IterativeImputer\"\n",
    "round(df_imputed, 2)\n"
   ]
  },
  {
   "cell_type": "code",
   "execution_count": 362,
   "id": "25484b1e-4b41-4e3a-836b-09aad54a0d25",
   "metadata": {},
   "outputs": [
    {
     "name": "stdout",
     "output_type": "stream",
     "text": [
      "k =  1500\n"
     ]
    },
    {
     "ename": "IndexError",
     "evalue": "boolean index did not match indexed array along dimension 0; dimension is 96192 but corresponding boolean dimension is 94978",
     "output_type": "error",
     "traceback": [
      "\u001b[1;31m---------------------------------------------------------------------------\u001b[0m",
      "\u001b[1;31mIndexError\u001b[0m                                Traceback (most recent call last)",
      "\u001b[1;32m<ipython-input-362-7b9ca0dcd74e>\u001b[0m in \u001b[0;36m<module>\u001b[1;34m\u001b[0m\n\u001b[0;32m      2\u001b[0m \u001b[0mprint\u001b[0m\u001b[1;33m(\u001b[0m\u001b[1;34m\"k = \"\u001b[0m\u001b[1;33m,\u001b[0m\u001b[0mk\u001b[0m\u001b[1;33m)\u001b[0m\u001b[1;33m\u001b[0m\u001b[1;33m\u001b[0m\u001b[0m\n\u001b[0;32m      3\u001b[0m \u001b[1;32mfor\u001b[0m \u001b[0mi\u001b[0m \u001b[1;32min\u001b[0m \u001b[0mrange\u001b[0m\u001b[1;33m(\u001b[0m\u001b[1;36m5\u001b[0m\u001b[1;33m)\u001b[0m\u001b[1;33m:\u001b[0m\u001b[1;33m\u001b[0m\u001b[1;33m\u001b[0m\u001b[0m\n\u001b[1;32m----> 4\u001b[1;33m     \u001b[0mprint\u001b[0m\u001b[1;33m(\u001b[0m\u001b[0mdf_key\u001b[0m\u001b[1;33m,\u001b[0m \u001b[1;34m\"  \"\u001b[0m\u001b[1;33m+\u001b[0m\u001b[0mstr\u001b[0m\u001b[1;33m(\u001b[0m\u001b[0mdf\u001b[0m\u001b[1;33m.\u001b[0m\u001b[0mcolumns\u001b[0m\u001b[1;33m[\u001b[0m\u001b[0mi\u001b[0m\u001b[1;33m]\u001b[0m\u001b[1;33m)\u001b[0m\u001b[1;33m,\u001b[0m \u001b[0mRMSE\u001b[0m\u001b[1;33m(\u001b[0m\u001b[0mXimp\u001b[0m\u001b[1;33m[\u001b[0m\u001b[1;33m:\u001b[0m\u001b[1;33m,\u001b[0m\u001b[0mi\u001b[0m\u001b[1;33m]\u001b[0m\u001b[1;33m,\u001b[0m \u001b[0mX\u001b[0m\u001b[1;33m[\u001b[0m\u001b[1;33m:\u001b[0m\u001b[1;33m,\u001b[0m\u001b[0mi\u001b[0m\u001b[1;33m]\u001b[0m\u001b[1;33m,\u001b[0m \u001b[0mmask\u001b[0m\u001b[1;33m[\u001b[0m\u001b[1;33m:\u001b[0m\u001b[1;33m,\u001b[0m\u001b[0mi\u001b[0m\u001b[1;33m]\u001b[0m\u001b[1;33m)\u001b[0m\u001b[1;33m)\u001b[0m\u001b[1;33m\u001b[0m\u001b[1;33m\u001b[0m\u001b[0m\n\u001b[0m\u001b[0;32m      5\u001b[0m \u001b[0mprint\u001b[0m\u001b[1;33m(\u001b[0m\u001b[0mdf_key\u001b[0m\u001b[1;33m,\u001b[0m \u001b[1;34m\" all \"\u001b[0m\u001b[1;33m,\u001b[0m \u001b[0mRMSE\u001b[0m\u001b[1;33m(\u001b[0m\u001b[0mXimp\u001b[0m\u001b[1;33m,\u001b[0m \u001b[0mX\u001b[0m\u001b[1;33m,\u001b[0m \u001b[0mmask\u001b[0m\u001b[1;33m)\u001b[0m\u001b[1;33m)\u001b[0m\u001b[1;33m\u001b[0m\u001b[1;33m\u001b[0m\u001b[0m\n",
      "\u001b[1;32m~\\Documents\\SDSStage\\SDS-Stage\\S2\\utils.py\u001b[0m in \u001b[0;36mRMSE\u001b[1;34m(X, X_true, mask)\u001b[0m\n\u001b[0;32m    133\u001b[0m     \u001b[1;32mif\u001b[0m \u001b[0mtorch\u001b[0m\u001b[1;33m.\u001b[0m\u001b[0mis_tensor\u001b[0m\u001b[1;33m(\u001b[0m\u001b[0mmask\u001b[0m\u001b[1;33m)\u001b[0m\u001b[1;33m:\u001b[0m\u001b[1;33m\u001b[0m\u001b[1;33m\u001b[0m\u001b[0m\n\u001b[0;32m    134\u001b[0m         \u001b[0mmask_\u001b[0m \u001b[1;33m=\u001b[0m \u001b[0mmask\u001b[0m\u001b[1;33m.\u001b[0m\u001b[0mbool\u001b[0m\u001b[1;33m(\u001b[0m\u001b[1;33m)\u001b[0m\u001b[1;33m\u001b[0m\u001b[1;33m\u001b[0m\u001b[0m\n\u001b[1;32m--> 135\u001b[1;33m         \u001b[1;32mreturn\u001b[0m \u001b[1;33m(\u001b[0m\u001b[1;33m(\u001b[0m\u001b[1;33m(\u001b[0m\u001b[0mX\u001b[0m\u001b[1;33m[\u001b[0m\u001b[0mmask_\u001b[0m\u001b[1;33m]\u001b[0m \u001b[1;33m-\u001b[0m \u001b[0mX_true\u001b[0m\u001b[1;33m[\u001b[0m\u001b[0mmask_\u001b[0m\u001b[1;33m]\u001b[0m\u001b[1;33m)\u001b[0m \u001b[1;33m**\u001b[0m \u001b[1;36m2\u001b[0m\u001b[1;33m)\u001b[0m\u001b[1;33m.\u001b[0m\u001b[0msum\u001b[0m\u001b[1;33m(\u001b[0m\u001b[1;33m)\u001b[0m \u001b[1;33m/\u001b[0m \u001b[0mmask_\u001b[0m\u001b[1;33m.\u001b[0m\u001b[0msum\u001b[0m\u001b[1;33m(\u001b[0m\u001b[1;33m)\u001b[0m\u001b[1;33m)\u001b[0m\u001b[1;33m.\u001b[0m\u001b[0msqrt\u001b[0m\u001b[1;33m(\u001b[0m\u001b[1;33m)\u001b[0m\u001b[1;33m\u001b[0m\u001b[1;33m\u001b[0m\u001b[0m\n\u001b[0m\u001b[0;32m    136\u001b[0m     \u001b[1;32melse\u001b[0m\u001b[1;33m:\u001b[0m \u001b[1;31m# should be an ndarray\u001b[0m\u001b[1;33m\u001b[0m\u001b[1;33m\u001b[0m\u001b[0m\n\u001b[0;32m    137\u001b[0m         \u001b[0mmask_\u001b[0m \u001b[1;33m=\u001b[0m \u001b[0mmask\u001b[0m\u001b[1;33m.\u001b[0m\u001b[0mastype\u001b[0m\u001b[1;33m(\u001b[0m\u001b[0mbool\u001b[0m\u001b[1;33m)\u001b[0m\u001b[1;33m\u001b[0m\u001b[1;33m\u001b[0m\u001b[0m\n",
      "\u001b[1;31mIndexError\u001b[0m: boolean index did not match indexed array along dimension 0; dimension is 96192 but corresponding boolean dimension is 94978"
     ]
    }
   ],
   "source": [
    "Ximp= y_hat.values\n",
    "print(\"k = \",k)\n",
    "for i in range(5):\n",
    "    print(df_key, \"  \"+str(df.columns[i]), RMSE(Ximp[:,i], X[:,i], mask[:,i]))\n",
    "print(df_key, \" all \", RMSE(Ximp, X, mask))    "
   ]
  },
  {
   "cell_type": "code",
   "execution_count": 363,
   "id": "ed965e9c-51d7-473c-ac99-1cd44f559565",
   "metadata": {},
   "outputs": [
    {
     "data": {
      "text/plain": [
       "(96192, 5)"
      ]
     },
     "execution_count": 363,
     "metadata": {},
     "output_type": "execute_result"
    }
   ],
   "source": [
    "y.shape"
   ]
  },
  {
   "cell_type": "code",
   "execution_count": 365,
   "id": "1774feed-d7f8-4715-85ce-07e8591d0059",
   "metadata": {},
   "outputs": [
    {
     "data": {
      "text/plain": [
       "(94978, 6)"
      ]
     },
     "execution_count": 365,
     "metadata": {},
     "output_type": "execute_result"
    }
   ],
   "source": [
    "data.shape"
   ]
  },
  {
   "cell_type": "code",
   "execution_count": 396,
   "id": "79a97d04-d1ce-42fe-9a07-c131d757e0eb",
   "metadata": {},
   "outputs": [
    {
     "name": "stdout",
     "output_type": "stream",
     "text": [
      "(94978, 5)\n",
      "(94978, 5)\n",
      "(94978, 5)\n",
      "(47778, 5)\n"
     ]
    }
   ],
   "source": [
    "from sktime.transformations.series.impute import Imputer\n",
    "from sktime.datasets import load_airline\n",
    "y = df.copy()\n",
    "print(y.shape)\n",
    "import datetime\n",
    "\n",
    "# current date and time\n",
    "\n",
    "i=0\n",
    "a=[]\n",
    "\n",
    "for t in y.index:\n",
    "    a.append(datetime.datetime.fromtimestamp(t))\n",
    "    \n",
    "y.index=a\n",
    "print(y.shape)\n",
    "y = y.sort_index()\n",
    "print(y.shape)\n",
    "y=y.resample(\"604S\").mean()\n",
    "print(y.shape)\n",
    "transformer = Imputer(method=\"drift\")\n",
    "y_hat = transformer.fit_transform(y)"
   ]
  },
  {
   "cell_type": "code",
   "execution_count": 367,
   "id": "99227e12-f9ca-4557-9fd0-27b7c2fe8f6b",
   "metadata": {},
   "outputs": [
    {
     "data": {
      "text/plain": [
       "1214"
      ]
     },
     "execution_count": 367,
     "metadata": {},
     "output_type": "execute_result"
    }
   ],
   "source": [
    "96192-94978"
   ]
  },
  {
   "cell_type": "code",
   "execution_count": 343,
   "id": "0fc7928a-c103-4e29-9f76-06e417412443",
   "metadata": {},
   "outputs": [],
   "source": [
    "import datetime\n",
    "\n",
    "# current date and time\n",
    "\n",
    "i=0\n",
    "a=[]\n",
    "\n",
    "for t in y.index:\n",
    "    a.append(datetime.datetime.fromtimestamp(t))     \n"
   ]
  },
  {
   "cell_type": "code",
   "execution_count": 355,
   "id": "40d98e9b-876f-4369-9c85-de12a752b730",
   "metadata": {},
   "outputs": [],
   "source": [
    "y=y.resample(\"5T\").mean()"
   ]
  },
  {
   "cell_type": "code",
   "execution_count": 356,
   "id": "f9d251ed-48d1-4e44-9ef7-1deded44d93f",
   "metadata": {},
   "outputs": [
    {
     "data": {
      "text/plain": [
       "[<matplotlib.lines.Line2D at 0x231ae1f2070>]"
      ]
     },
     "execution_count": 356,
     "metadata": {},
     "output_type": "execute_result"
    },
    {
     "data": {
      "image/png": "[encoded data removed]",
      "text/plain": [
       "<Figure size 1584x720 with 1 Axes>"
      ]
     },
     "metadata": {
      "image/png": {
       "height": 583,
       "width": 1328
      }
     },
     "output_type": "display_data"
    }
   ],
   "source": [
    "plt.plot(y.index)"
   ]
  },
  {
   "cell_type": "code",
   "execution_count": null,
   "id": "da717368-2d99-4ea7-bd66-e5cb2cd41493",
   "metadata": {},
   "outputs": [],
   "source": [
    "#visualize data \n",
    "\n",
    "# Import missingno as msno\n",
    "import missingno as msno\n",
    "import matplotlib.pyplot as plt\n",
    "\n",
    "# Plot amount of missingness\n",
    "msno.bar(X) # you can see pandas-profilin count part\n",
    "\n",
    "plt.show()"
   ]
  },
  {
   "cell_type": "code",
   "execution_count": null,
   "id": "c9c616d9-a637-4d28-a23b-c57dcb947ce9",
   "metadata": {},
   "outputs": [],
   "source": [
    "dfX_fuul = pd.DataFrame(data=X_full,columns=[\"c1\", \"c2\",\"c3\", \"c4\",\"c5\", \"c6\",\"c7\", \"c8\"])"
   ]
  },
  {
   "cell_type": "code",
   "execution_count": null,
   "id": "96e384c4-7cc5-4d16-b158-d3ffbf62adb0",
   "metadata": {},
   "outputs": [],
   "source": [
    "dfX_fuul.info()"
   ]
  },
  {
   "cell_type": "code",
   "execution_count": null,
   "id": "cf1d68a9-b319-4158-a229-100b2ccae965",
   "metadata": {},
   "outputs": [],
   "source": []
  },
  {
   "cell_type": "code",
   "execution_count": null,
   "id": "2b2882c9-7105-45c3-b9f1-aea2b310d6a6",
   "metadata": {},
   "outputs": [],
   "source": [
    "X.loc[columnNam]"
   ]
  },
  {
   "cell_type": "code",
   "execution_count": null,
   "id": "87c17606-98b2-437c-84d2-409680c0a078",
   "metadata": {},
   "outputs": [],
   "source": [
    "columnNam"
   ]
  },
  {
   "cell_type": "code",
   "execution_count": null,
   "id": "3ccd6dc4-84e8-4ec8-8161-6825e033306c",
   "metadata": {},
   "outputs": [],
   "source": [
    "X[:,0]"
   ]
  },
  {
   "cell_type": "code",
   "execution_count": null,
   "id": "71e996ea-8d16-4a72-bd84-9002a294a78e",
   "metadata": {},
   "outputs": [],
   "source": [
    "df.Temperature"
   ]
  },
  {
   "cell_type": "code",
   "execution_count": null,
   "id": "17b6517a-ce14-48ff-8f41-eeff457d1346",
   "metadata": {},
   "outputs": [],
   "source": [
    "R_mcar"
   ]
  },
  {
   "cell_type": "code",
   "execution_count": null,
   "id": "7cc5bb39-9b86-4fba-ba9e-583da64ac2c0",
   "metadata": {},
   "outputs": [],
   "source": [
    "df.columns"
   ]
  },
  {
   "cell_type": "code",
   "execution_count": null,
   "id": "f9b40e81-410d-4aa8-b743-56da48c0f8ea",
   "metadata": {},
   "outputs": [],
   "source": [
    "# mask pour évaluer les performances (mse,rmse, nrmse..)\n",
    "m=R_mcar.numpy()\n",
    "mk=m==1\n",
    "\n",
    "maskPerf_Temperature = mk[:,0]\n",
    "maskPerf_Humidity = mk[:,1]\n",
    "maskPerf_CO2 = mk[:,2]\n",
    "maskPerf_Noise = mk[:,3]\n",
    "maskPerf_Pressure = mk[:,4]"
   ]
  },
  {
   "cell_type": "code",
   "execution_count": null,
   "id": "f7aa889a-1846-45b4-ae39-4cc821705114",
   "metadata": {},
   "outputs": [],
   "source": [
    "df"
   ]
  },
  {
   "cell_type": "code",
   "execution_count": null,
   "id": "a0b37a20-0575-4ba6-826d-866aca3329ce",
   "metadata": {},
   "outputs": [],
   "source": [
    "df.Temperature[maskPerf_Temperature]"
   ]
  },
  {
   "cell_type": "code",
   "execution_count": null,
   "id": "8acbfa0f-529c-4d3e-9873-3d3f577e3a33",
   "metadata": {},
   "outputs": [],
   "source": [
    "data.Temperature[maskPerf_Temperature]"
   ]
  },
  {
   "cell_type": "code",
   "execution_count": null,
   "id": "819d8939-7288-4ebf-89c4-bea1ecca60d4",
   "metadata": {},
   "outputs": [],
   "source": [
    "from sklearn.metrics import mean_squared_error\n",
    "\n",
    "y_true = X[maskmse][:,0]\n",
    "y_pred =X_imp[maskmse][:,3]\n",
    "mean_squared_error(y_true, y_pred)"
   ]
  },
  {
   "cell_type": "markdown",
   "id": "c90dab2b-b3ed-4e59-a130-c2b55ec8ca55",
   "metadata": {},
   "source": [
    "## Imputation des valeurs manquantes avec des variantes d’IterativeImputer\n",
    "# https://scikit-learn.org/stable/auto_examples/impute/plot_iterative_imputer_variants_comparison.html"
   ]
  },
  {
   "cell_type": "code",
   "execution_count": null,
   "id": "310c7e7d-0a79-4ed8-a59e-1d2094e96e9a",
   "metadata": {},
   "outputs": [],
   "source": [
    "import numpy as np\n",
    "import matplotlib.pyplot as plt\n",
    "import pandas as pd\n",
    "\n",
    "# To use this experimental feature, we need to explicitly ask for it:\n",
    "from sklearn.experimental import enable_iterative_imputer  # noqa\n",
    "from sklearn.datasets import fetch_california_housing\n",
    "from sklearn.impute import SimpleImputer\n",
    "from sklearn.impute import IterativeImputer\n",
    "from sklearn.linear_model import BayesianRidge\n",
    "from sklearn.tree import DecisionTreeRegressor\n",
    "from sklearn.ensemble import ExtraTreesRegressor\n",
    "from sklearn.neighbors import KNeighborsRegressor\n",
    "from sklearn.pipeline import make_pipeline\n",
    "from sklearn.model_selection import cross_val_score\n",
    "\n",
    "N_SPLITS = 5\n",
    "\n",
    "rng = np.random.RandomState(0)\n",
    "\n",
    "X_full, y_full = fetch_california_housing(return_X_y=True)\n",
    "# ~2k samples is enough for the purpose of the example.\n",
    "# Remove the following two lines for a slower run with different error bars.\n",
    "X_full = X_full[::10]\n",
    "y_full = y_full[::10]\n",
    "n_samples, n_features = X_full.shape\n",
    "\n",
    "# Estimate the score on the entire dataset, with no missing values\n",
    "br_estimator = BayesianRidge()\n",
    "score_full_data = pd.DataFrame(\n",
    "    cross_val_score(\n",
    "        br_estimator, X_full, y_full, scoring=\"neg_mean_squared_error\", cv=N_SPLITS\n",
    "    ),\n",
    "    columns=[\"Full Data\"],\n",
    ")\n",
    "\n",
    "# Add a single missing value to each row\n",
    "X_missing = X_full.copy()\n",
    "y_missing = y_full\n",
    "missing_samples = np.arange(n_samples)\n",
    "missing_features = rng.choice(n_features, n_samples, replace=True)\n",
    "X_missing[missing_samples, missing_features] = np.nan\n",
    "\n",
    "# Estimate the score after imputation (mean and median strategies)\n",
    "score_simple_imputer = pd.DataFrame()\n",
    "for strategy in (\"mean\", \"median\"):\n",
    "    estimator = make_pipeline(\n",
    "        SimpleImputer(missing_values=np.nan, strategy=strategy), br_estimator\n",
    "    )\n",
    "    score_simple_imputer[strategy] = cross_val_score(\n",
    "        estimator, X_missing, y_missing, scoring=\"neg_mean_squared_error\", cv=N_SPLITS\n",
    "    )\n",
    "\n",
    "# Estimate the score after iterative imputation of the missing values\n",
    "# with different estimators\n",
    "estimators = [\n",
    "    BayesianRidge(),\n",
    "    DecisionTreeRegressor(max_features=\"sqrt\", random_state=0),\n",
    "    ExtraTreesRegressor(n_estimators=10, random_state=0),\n",
    "    KNeighborsRegressor(n_neighbors=15),\n",
    "]\n",
    "score_iterative_imputer = pd.DataFrame()\n",
    "for impute_estimator in estimators:\n",
    "    estimator = make_pipeline(\n",
    "        IterativeImputer(random_state=0, estimator=impute_estimator), br_estimator\n",
    "    )\n",
    "    score_iterative_imputer[impute_estimator.__class__.__name__] = cross_val_score(\n",
    "        estimator, X_missing, y_missing, scoring=\"neg_mean_squared_error\", cv=N_SPLITS\n",
    "    )\n",
    "\n",
    "scores = pd.concat(\n",
    "    [score_full_data, score_simple_imputer, score_iterative_imputer],\n",
    "    keys=[\"Original\", \"SimpleImputer\", \"IterativeImputer\"],\n",
    "    axis=1,\n",
    ")\n",
    "\n",
    "# plot california housing results\n",
    "fig, ax = plt.subplots(figsize=(13, 6))\n",
    "means = -scores.mean()\n",
    "errors = scores.std()\n",
    "means.plot.barh(xerr=errors, ax=ax)\n",
    "ax.set_title(\"California Housing Regression with Different Imputation Methods\")\n",
    "ax.set_xlabel(\"MSE (smaller is better)\")\n",
    "ax.set_yticks(np.arange(means.shape[0]))\n",
    "ax.set_yticklabels([\" w/ \".join(label) for label in means.index.tolist()])\n",
    "plt.tight_layout(pad=1)\n",
    "plt.show()"
   ]
  },
  {
   "cell_type": "code",
   "execution_count": 460,
   "id": "e808c05a-f116-455b-8dba-0ded2697f061",
   "metadata": {},
   "outputs": [
    {
     "name": "stdout",
     "output_type": "stream",
     "text": [
      "Collecting impyute\n",
      "  Downloading impyute-0.0.8-py2.py3-none-any.whl (31 kB)\n",
      "Requirement already satisfied: scipy in c:\\users\\ahmed\\appdata\\roaming\\python\\python38\\site-packages (from impyute) (1.4.1)\n",
      "Requirement already satisfied: numpy in c:\\users\\ahmed\\appdata\\roaming\\python\\python38\\site-packages (from impyute) (1.18.5)\n",
      "Requirement already satisfied: scikit-learn in c:\\users\\ahmed\\anaconda3\\lib\\site-packages (from impyute) (0.24.1)\n",
      "Requirement already satisfied: joblib>=0.11 in c:\\users\\ahmed\\anaconda3\\lib\\site-packages (from scikit-learn->impyute) (1.0.1)\n",
      "Requirement already satisfied: threadpoolctl>=2.0.0 in c:\\users\\ahmed\\anaconda3\\lib\\site-packages (from scikit-learn->impyute) (2.1.0)\n",
      "Installing collected packages: impyute\n",
      "Successfully installed impyute-0.0.8\n"
     ]
    },
    {
     "name": "stderr",
     "output_type": "stream",
     "text": [
      "WARNING: Ignoring invalid distribution -ensorflow-gpu (c:\\users\\ahmed\\appdata\\roaming\\python\\python38\\site-packages)\n",
      "WARNING: Ignoring invalid distribution -ensorflow-gpu (c:\\users\\ahmed\\appdata\\roaming\\python\\python38\\site-packages)\n",
      "WARNING: Ignoring invalid distribution -ensorflow-gpu (c:\\users\\ahmed\\appdata\\roaming\\python\\python38\\site-packages)\n",
      "WARNING: Ignoring invalid distribution -ensorflow-gpu (c:\\users\\ahmed\\appdata\\roaming\\python\\python38\\site-packages)\n",
      "WARNING: Ignoring invalid distribution -ensorflow-gpu (c:\\users\\ahmed\\appdata\\roaming\\python\\python38\\site-packages)\n"
     ]
    }
   ],
   "source": [
    "!pip install impyute"
   ]
  },
  {
   "cell_type": "code",
   "execution_count": 463,
   "id": "db82c838-f4f0-494d-be9b-077b646c3a1c",
   "metadata": {},
   "outputs": [],
   "source": [
    "import impyute as impy\n",
    "df1=df.copy()"
   ]
  },
  {
   "cell_type": "code",
   "execution_count": null,
   "id": "097cd987-d556-4d45-bf32-8fbf4219bace",
   "metadata": {},
   "outputs": [],
   "source": [
    "df2=impy.mice(df1.values)"
   ]
  },
  {
   "cell_type": "code",
   "execution_count": null,
   "id": "3576ee4b-6756-47ba-b7fd-953e937da2fb",
   "metadata": {},
   "outputs": [],
   "source": []
  }
 ],
 "metadata": {
  "kernelspec": {
   "display_name": "Python 3",
   "language": "python",
   "name": "python3"
  },
  "language_info": {
   "codemirror_mode": {
    "name": "ipython",
    "version": 3
   },
   "file_extension": ".py",
   "mimetype": "text/x-python",
   "name": "python",
   "nbconvert_exporter": "python",
   "pygments_lexer": "ipython3",
   "version": "3.8.8"
  }
 },
 "nbformat": 4,
 "nbformat_minor": 5
}
